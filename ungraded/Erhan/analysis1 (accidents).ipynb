{
 "cells": [
  {
   "cell_type": "markdown",
   "metadata": {},
   "source": [
    "# Erhan Asad Javed"
   ]
  },
  {
   "cell_type": "markdown",
   "metadata": {},
   "source": [
    "## Research question/interests\n",
    "\n",
    "### Emergency response\n",
    "\n",
    "Faster emergency response times are critical in reducing fatalities and mitigating long-term injuries from road accidents. This research area focuses on identifying bottlenecks in emergency services to optimize resource allocation and improve outcomes. \n",
    "\n",
    "#### Key research questions\n",
    "- How does the emergency response time correlate with the number of fatalities? \n",
    "- Are urban accidents associated with faster response times than rural ones? \n",
    "- How does traffic volume at the time of an accident affect emergency response times?\n",
    "- What role does population density play in determining emergency response times?\n"
   ]
  },
  {
   "cell_type": "markdown",
   "metadata": {},
   "source": [
    "## EDA"
   ]
  },
  {
   "cell_type": "markdown",
   "metadata": {},
   "source": [
    "### Imports"
   ]
  },
  {
   "cell_type": "code",
   "execution_count": 2,
   "metadata": {},
   "outputs": [
    {
     "data": {
      "text/plain": [
       "RendererRegistry.enable('jupyter')"
      ]
     },
     "execution_count": 2,
     "metadata": {},
     "output_type": "execute_result"
    }
   ],
   "source": [
    "import os\n",
    "\n",
    "import altair as alt\n",
    "import pandas as pd\n",
    "from toolz.curried import pipe\n",
    "\n",
    "# Create a new data transformer that stores the files in a directory\n",
    "def json_dir(data, data_dir='altairdata'):\n",
    "    os.makedirs(data_dir, exist_ok=True)\n",
    "    return pipe(data, alt.to_json(filename=data_dir + '/{prefix}-{hash}.{extension}') )\n",
    "\n",
    "# Register and enable the new transformer\n",
    "alt.data_transformers.register('json_dir', json_dir)\n",
    "alt.data_transformers.enable('json_dir')\n",
    "\n",
    "# Handle large data sets (default shows only 5000)\n",
    "# See here: https://altair-viz.github.io/user_guide/data_transformers.html\n",
    "alt.data_transformers.disable_max_rows()\n",
    "\n",
    "alt.renderers.enable(\"jupyter\", offline=True)\n"
   ]
  },
  {
   "cell_type": "markdown",
   "metadata": {},
   "source": [
    "### Loading in the data"
   ]
  },
  {
   "cell_type": "code",
   "execution_count": 3,
   "metadata": {},
   "outputs": [
    {
     "data": {
      "text/html": [
       "<div>\n",
       "<style scoped>\n",
       "    .dataframe tbody tr th:only-of-type {\n",
       "        vertical-align: middle;\n",
       "    }\n",
       "\n",
       "    .dataframe tbody tr th {\n",
       "        vertical-align: top;\n",
       "    }\n",
       "\n",
       "    .dataframe thead th {\n",
       "        text-align: right;\n",
       "    }\n",
       "</style>\n",
       "<table border=\"1\" class=\"dataframe\">\n",
       "  <thead>\n",
       "    <tr style=\"text-align: right;\">\n",
       "      <th></th>\n",
       "      <th>Country</th>\n",
       "      <th>Year</th>\n",
       "      <th>Month</th>\n",
       "      <th>Day of Week</th>\n",
       "      <th>Time of Day</th>\n",
       "      <th>Urban/Rural</th>\n",
       "      <th>Road Type</th>\n",
       "      <th>Weather Conditions</th>\n",
       "      <th>Visibility Level</th>\n",
       "      <th>Number of Vehicles Involved</th>\n",
       "      <th>...</th>\n",
       "      <th>Number of Fatalities</th>\n",
       "      <th>Emergency Response Time</th>\n",
       "      <th>Traffic Volume</th>\n",
       "      <th>Road Condition</th>\n",
       "      <th>Accident Cause</th>\n",
       "      <th>Insurance Claims</th>\n",
       "      <th>Medical Cost</th>\n",
       "      <th>Economic Loss</th>\n",
       "      <th>Region</th>\n",
       "      <th>Population Density</th>\n",
       "    </tr>\n",
       "  </thead>\n",
       "  <tbody>\n",
       "    <tr>\n",
       "      <th>0</th>\n",
       "      <td>USA</td>\n",
       "      <td>2002</td>\n",
       "      <td>October</td>\n",
       "      <td>Tuesday</td>\n",
       "      <td>Evening</td>\n",
       "      <td>Rural</td>\n",
       "      <td>Street</td>\n",
       "      <td>Windy</td>\n",
       "      <td>220.414651</td>\n",
       "      <td>1</td>\n",
       "      <td>...</td>\n",
       "      <td>2</td>\n",
       "      <td>58.625720</td>\n",
       "      <td>7412.752760</td>\n",
       "      <td>Wet</td>\n",
       "      <td>Weather</td>\n",
       "      <td>4</td>\n",
       "      <td>40499.856982</td>\n",
       "      <td>22072.878502</td>\n",
       "      <td>Europe</td>\n",
       "      <td>3866.273014</td>\n",
       "    </tr>\n",
       "    <tr>\n",
       "      <th>1</th>\n",
       "      <td>UK</td>\n",
       "      <td>2014</td>\n",
       "      <td>December</td>\n",
       "      <td>Saturday</td>\n",
       "      <td>Evening</td>\n",
       "      <td>Urban</td>\n",
       "      <td>Street</td>\n",
       "      <td>Windy</td>\n",
       "      <td>168.311358</td>\n",
       "      <td>3</td>\n",
       "      <td>...</td>\n",
       "      <td>1</td>\n",
       "      <td>58.041380</td>\n",
       "      <td>4458.628820</td>\n",
       "      <td>Snow-covered</td>\n",
       "      <td>Mechanical Failure</td>\n",
       "      <td>3</td>\n",
       "      <td>6486.600073</td>\n",
       "      <td>9534.399441</td>\n",
       "      <td>North America</td>\n",
       "      <td>2333.916224</td>\n",
       "    </tr>\n",
       "    <tr>\n",
       "      <th>2</th>\n",
       "      <td>USA</td>\n",
       "      <td>2012</td>\n",
       "      <td>July</td>\n",
       "      <td>Sunday</td>\n",
       "      <td>Afternoon</td>\n",
       "      <td>Urban</td>\n",
       "      <td>Highway</td>\n",
       "      <td>Snowy</td>\n",
       "      <td>341.286506</td>\n",
       "      <td>4</td>\n",
       "      <td>...</td>\n",
       "      <td>4</td>\n",
       "      <td>42.374452</td>\n",
       "      <td>9856.915064</td>\n",
       "      <td>Wet</td>\n",
       "      <td>Speeding</td>\n",
       "      <td>4</td>\n",
       "      <td>29164.412982</td>\n",
       "      <td>58009.145124</td>\n",
       "      <td>South America</td>\n",
       "      <td>4408.889129</td>\n",
       "    </tr>\n",
       "    <tr>\n",
       "      <th>3</th>\n",
       "      <td>UK</td>\n",
       "      <td>2017</td>\n",
       "      <td>May</td>\n",
       "      <td>Saturday</td>\n",
       "      <td>Evening</td>\n",
       "      <td>Urban</td>\n",
       "      <td>Main Road</td>\n",
       "      <td>Clear</td>\n",
       "      <td>489.384536</td>\n",
       "      <td>2</td>\n",
       "      <td>...</td>\n",
       "      <td>3</td>\n",
       "      <td>48.554014</td>\n",
       "      <td>4958.646267</td>\n",
       "      <td>Icy</td>\n",
       "      <td>Distracted Driving</td>\n",
       "      <td>3</td>\n",
       "      <td>25797.212566</td>\n",
       "      <td>20907.151302</td>\n",
       "      <td>Australia</td>\n",
       "      <td>2810.822423</td>\n",
       "    </tr>\n",
       "    <tr>\n",
       "      <th>4</th>\n",
       "      <td>Canada</td>\n",
       "      <td>2002</td>\n",
       "      <td>July</td>\n",
       "      <td>Tuesday</td>\n",
       "      <td>Afternoon</td>\n",
       "      <td>Rural</td>\n",
       "      <td>Highway</td>\n",
       "      <td>Rainy</td>\n",
       "      <td>348.344850</td>\n",
       "      <td>1</td>\n",
       "      <td>...</td>\n",
       "      <td>4</td>\n",
       "      <td>18.318250</td>\n",
       "      <td>3843.191463</td>\n",
       "      <td>Icy</td>\n",
       "      <td>Distracted Driving</td>\n",
       "      <td>8</td>\n",
       "      <td>15605.293921</td>\n",
       "      <td>13584.060759</td>\n",
       "      <td>South America</td>\n",
       "      <td>3883.645634</td>\n",
       "    </tr>\n",
       "  </tbody>\n",
       "</table>\n",
       "<p>5 rows × 30 columns</p>\n",
       "</div>"
      ],
      "text/plain": [
       "  Country  Year     Month Day of Week Time of Day Urban/Rural  Road Type  \\\n",
       "0     USA  2002   October     Tuesday     Evening       Rural     Street   \n",
       "1      UK  2014  December    Saturday     Evening       Urban     Street   \n",
       "2     USA  2012      July      Sunday   Afternoon       Urban    Highway   \n",
       "3      UK  2017       May    Saturday     Evening       Urban  Main Road   \n",
       "4  Canada  2002      July     Tuesday   Afternoon       Rural    Highway   \n",
       "\n",
       "  Weather Conditions  Visibility Level  Number of Vehicles Involved  ...  \\\n",
       "0              Windy        220.414651                            1  ...   \n",
       "1              Windy        168.311358                            3  ...   \n",
       "2              Snowy        341.286506                            4  ...   \n",
       "3              Clear        489.384536                            2  ...   \n",
       "4              Rainy        348.344850                            1  ...   \n",
       "\n",
       "   Number of Fatalities Emergency Response Time Traffic Volume  \\\n",
       "0                     2               58.625720    7412.752760   \n",
       "1                     1               58.041380    4458.628820   \n",
       "2                     4               42.374452    9856.915064   \n",
       "3                     3               48.554014    4958.646267   \n",
       "4                     4               18.318250    3843.191463   \n",
       "\n",
       "   Road Condition      Accident Cause Insurance Claims  Medical Cost  \\\n",
       "0             Wet             Weather                4  40499.856982   \n",
       "1    Snow-covered  Mechanical Failure                3   6486.600073   \n",
       "2             Wet            Speeding                4  29164.412982   \n",
       "3             Icy  Distracted Driving                3  25797.212566   \n",
       "4             Icy  Distracted Driving                8  15605.293921   \n",
       "\n",
       "   Economic Loss         Region  Population Density  \n",
       "0   22072.878502         Europe         3866.273014  \n",
       "1    9534.399441  North America         2333.916224  \n",
       "2   58009.145124  South America         4408.889129  \n",
       "3   20907.151302      Australia         2810.822423  \n",
       "4   13584.060759  South America         3883.645634  \n",
       "\n",
       "[5 rows x 30 columns]"
      ]
     },
     "execution_count": 3,
     "metadata": {},
     "output_type": "execute_result"
    }
   ],
   "source": [
    "accidents = pd.read_csv('../../data/raw/road_accident_dataset.csv')\n",
    "accidents.head()"
   ]
  },
  {
   "cell_type": "code",
   "execution_count": 4,
   "metadata": {},
   "outputs": [
    {
     "name": "stdout",
     "output_type": "stream",
     "text": [
      "<class 'pandas.core.frame.DataFrame'>\n",
      "RangeIndex: 132000 entries, 0 to 131999\n",
      "Data columns (total 30 columns):\n",
      " #   Column                       Non-Null Count   Dtype  \n",
      "---  ------                       --------------   -----  \n",
      " 0   Country                      132000 non-null  object \n",
      " 1   Year                         132000 non-null  int64  \n",
      " 2   Month                        132000 non-null  object \n",
      " 3   Day of Week                  132000 non-null  object \n",
      " 4   Time of Day                  132000 non-null  object \n",
      " 5   Urban/Rural                  132000 non-null  object \n",
      " 6   Road Type                    132000 non-null  object \n",
      " 7   Weather Conditions           132000 non-null  object \n",
      " 8   Visibility Level             132000 non-null  float64\n",
      " 9   Number of Vehicles Involved  132000 non-null  int64  \n",
      " 10  Speed Limit                  132000 non-null  int64  \n",
      " 11  Driver Age Group             132000 non-null  object \n",
      " 12  Driver Gender                132000 non-null  object \n",
      " 13  Driver Alcohol Level         132000 non-null  float64\n",
      " 14  Driver Fatigue               132000 non-null  int64  \n",
      " 15  Vehicle Condition            132000 non-null  object \n",
      " 16  Pedestrians Involved         132000 non-null  int64  \n",
      " 17  Cyclists Involved            132000 non-null  int64  \n",
      " 18  Accident Severity            132000 non-null  object \n",
      " 19  Number of Injuries           132000 non-null  int64  \n",
      " 20  Number of Fatalities         132000 non-null  int64  \n",
      " 21  Emergency Response Time      132000 non-null  float64\n",
      " 22  Traffic Volume               132000 non-null  float64\n",
      " 23  Road Condition               132000 non-null  object \n",
      " 24  Accident Cause               132000 non-null  object \n",
      " 25  Insurance Claims             132000 non-null  int64  \n",
      " 26  Medical Cost                 132000 non-null  float64\n",
      " 27  Economic Loss                132000 non-null  float64\n",
      " 28  Region                       132000 non-null  object \n",
      " 29  Population Density           132000 non-null  float64\n",
      "dtypes: float64(7), int64(9), object(14)\n",
      "memory usage: 30.2+ MB\n"
     ]
    }
   ],
   "source": [
    "accidents.info()"
   ]
  },
  {
   "cell_type": "code",
   "execution_count": 5,
   "metadata": {},
   "outputs": [
    {
     "data": {
      "text/html": [
       "<div>\n",
       "<style scoped>\n",
       "    .dataframe tbody tr th:only-of-type {\n",
       "        vertical-align: middle;\n",
       "    }\n",
       "\n",
       "    .dataframe tbody tr th {\n",
       "        vertical-align: top;\n",
       "    }\n",
       "\n",
       "    .dataframe thead th {\n",
       "        text-align: right;\n",
       "    }\n",
       "</style>\n",
       "<table border=\"1\" class=\"dataframe\">\n",
       "  <thead>\n",
       "    <tr style=\"text-align: right;\">\n",
       "      <th></th>\n",
       "      <th>Year</th>\n",
       "      <th>Visibility Level</th>\n",
       "      <th>Number of Vehicles Involved</th>\n",
       "      <th>Speed Limit</th>\n",
       "      <th>Driver Alcohol Level</th>\n",
       "      <th>Driver Fatigue</th>\n",
       "      <th>Pedestrians Involved</th>\n",
       "      <th>Cyclists Involved</th>\n",
       "      <th>Number of Injuries</th>\n",
       "      <th>Number of Fatalities</th>\n",
       "      <th>Emergency Response Time</th>\n",
       "      <th>Traffic Volume</th>\n",
       "      <th>Insurance Claims</th>\n",
       "      <th>Medical Cost</th>\n",
       "      <th>Economic Loss</th>\n",
       "      <th>Population Density</th>\n",
       "    </tr>\n",
       "  </thead>\n",
       "  <tbody>\n",
       "    <tr>\n",
       "      <th>count</th>\n",
       "      <td>132000.000000</td>\n",
       "      <td>132000.000000</td>\n",
       "      <td>132000.000000</td>\n",
       "      <td>132000.000000</td>\n",
       "      <td>132000.000000</td>\n",
       "      <td>132000.000000</td>\n",
       "      <td>132000.000000</td>\n",
       "      <td>132000.000000</td>\n",
       "      <td>132000.000000</td>\n",
       "      <td>132000.000000</td>\n",
       "      <td>132000.000000</td>\n",
       "      <td>132000.000000</td>\n",
       "      <td>132000.000000</td>\n",
       "      <td>132000.000000</td>\n",
       "      <td>132000.000000</td>\n",
       "      <td>132000.000000</td>\n",
       "    </tr>\n",
       "    <tr>\n",
       "      <th>mean</th>\n",
       "      <td>2011.973348</td>\n",
       "      <td>275.038776</td>\n",
       "      <td>2.501227</td>\n",
       "      <td>74.544068</td>\n",
       "      <td>0.125232</td>\n",
       "      <td>0.500576</td>\n",
       "      <td>1.000773</td>\n",
       "      <td>0.998356</td>\n",
       "      <td>9.508205</td>\n",
       "      <td>1.995439</td>\n",
       "      <td>32.491746</td>\n",
       "      <td>5041.929098</td>\n",
       "      <td>4.495621</td>\n",
       "      <td>25198.454901</td>\n",
       "      <td>50437.505615</td>\n",
       "      <td>2506.476223</td>\n",
       "    </tr>\n",
       "    <tr>\n",
       "      <th>std</th>\n",
       "      <td>7.198624</td>\n",
       "      <td>129.923625</td>\n",
       "      <td>1.117272</td>\n",
       "      <td>26.001448</td>\n",
       "      <td>0.072225</td>\n",
       "      <td>0.500002</td>\n",
       "      <td>0.816304</td>\n",
       "      <td>0.817764</td>\n",
       "      <td>5.774366</td>\n",
       "      <td>1.412974</td>\n",
       "      <td>15.889537</td>\n",
       "      <td>2860.671611</td>\n",
       "      <td>2.867347</td>\n",
       "      <td>14274.771691</td>\n",
       "      <td>28584.290822</td>\n",
       "      <td>1440.646352</td>\n",
       "    </tr>\n",
       "    <tr>\n",
       "      <th>min</th>\n",
       "      <td>2000.000000</td>\n",
       "      <td>50.001928</td>\n",
       "      <td>1.000000</td>\n",
       "      <td>30.000000</td>\n",
       "      <td>0.000002</td>\n",
       "      <td>0.000000</td>\n",
       "      <td>0.000000</td>\n",
       "      <td>0.000000</td>\n",
       "      <td>0.000000</td>\n",
       "      <td>0.000000</td>\n",
       "      <td>5.000177</td>\n",
       "      <td>100.062626</td>\n",
       "      <td>0.000000</td>\n",
       "      <td>500.110090</td>\n",
       "      <td>1000.335085</td>\n",
       "      <td>10.002669</td>\n",
       "    </tr>\n",
       "    <tr>\n",
       "      <th>25%</th>\n",
       "      <td>2006.000000</td>\n",
       "      <td>162.338860</td>\n",
       "      <td>2.000000</td>\n",
       "      <td>52.000000</td>\n",
       "      <td>0.062630</td>\n",
       "      <td>0.000000</td>\n",
       "      <td>0.000000</td>\n",
       "      <td>0.000000</td>\n",
       "      <td>5.000000</td>\n",
       "      <td>1.000000</td>\n",
       "      <td>18.732879</td>\n",
       "      <td>2560.601299</td>\n",
       "      <td>2.000000</td>\n",
       "      <td>12836.933596</td>\n",
       "      <td>25692.817343</td>\n",
       "      <td>1258.158299</td>\n",
       "    </tr>\n",
       "    <tr>\n",
       "      <th>50%</th>\n",
       "      <td>2012.000000</td>\n",
       "      <td>274.672990</td>\n",
       "      <td>3.000000</td>\n",
       "      <td>74.000000</td>\n",
       "      <td>0.125468</td>\n",
       "      <td>1.000000</td>\n",
       "      <td>1.000000</td>\n",
       "      <td>1.000000</td>\n",
       "      <td>9.000000</td>\n",
       "      <td>2.000000</td>\n",
       "      <td>32.534944</td>\n",
       "      <td>5037.909855</td>\n",
       "      <td>4.000000</td>\n",
       "      <td>25188.202669</td>\n",
       "      <td>50395.499874</td>\n",
       "      <td>2506.203333</td>\n",
       "    </tr>\n",
       "    <tr>\n",
       "      <th>75%</th>\n",
       "      <td>2018.000000</td>\n",
       "      <td>388.014111</td>\n",
       "      <td>3.000000</td>\n",
       "      <td>97.000000</td>\n",
       "      <td>0.187876</td>\n",
       "      <td>1.000000</td>\n",
       "      <td>2.000000</td>\n",
       "      <td>2.000000</td>\n",
       "      <td>15.000000</td>\n",
       "      <td>3.000000</td>\n",
       "      <td>46.289527</td>\n",
       "      <td>7524.638162</td>\n",
       "      <td>7.000000</td>\n",
       "      <td>37529.024899</td>\n",
       "      <td>75186.626093</td>\n",
       "      <td>3756.652950</td>\n",
       "    </tr>\n",
       "    <tr>\n",
       "      <th>max</th>\n",
       "      <td>2024.000000</td>\n",
       "      <td>499.999646</td>\n",
       "      <td>4.000000</td>\n",
       "      <td>119.000000</td>\n",
       "      <td>0.249999</td>\n",
       "      <td>1.000000</td>\n",
       "      <td>2.000000</td>\n",
       "      <td>2.000000</td>\n",
       "      <td>19.000000</td>\n",
       "      <td>4.000000</td>\n",
       "      <td>59.999588</td>\n",
       "      <td>9999.997468</td>\n",
       "      <td>9.000000</td>\n",
       "      <td>49999.930130</td>\n",
       "      <td>99999.622968</td>\n",
       "      <td>4999.991745</td>\n",
       "    </tr>\n",
       "  </tbody>\n",
       "</table>\n",
       "</div>"
      ],
      "text/plain": [
       "                Year  Visibility Level  Number of Vehicles Involved  \\\n",
       "count  132000.000000     132000.000000                132000.000000   \n",
       "mean     2011.973348        275.038776                     2.501227   \n",
       "std         7.198624        129.923625                     1.117272   \n",
       "min      2000.000000         50.001928                     1.000000   \n",
       "25%      2006.000000        162.338860                     2.000000   \n",
       "50%      2012.000000        274.672990                     3.000000   \n",
       "75%      2018.000000        388.014111                     3.000000   \n",
       "max      2024.000000        499.999646                     4.000000   \n",
       "\n",
       "         Speed Limit  Driver Alcohol Level  Driver Fatigue  \\\n",
       "count  132000.000000         132000.000000   132000.000000   \n",
       "mean       74.544068              0.125232        0.500576   \n",
       "std        26.001448              0.072225        0.500002   \n",
       "min        30.000000              0.000002        0.000000   \n",
       "25%        52.000000              0.062630        0.000000   \n",
       "50%        74.000000              0.125468        1.000000   \n",
       "75%        97.000000              0.187876        1.000000   \n",
       "max       119.000000              0.249999        1.000000   \n",
       "\n",
       "       Pedestrians Involved  Cyclists Involved  Number of Injuries  \\\n",
       "count         132000.000000      132000.000000       132000.000000   \n",
       "mean               1.000773           0.998356            9.508205   \n",
       "std                0.816304           0.817764            5.774366   \n",
       "min                0.000000           0.000000            0.000000   \n",
       "25%                0.000000           0.000000            5.000000   \n",
       "50%                1.000000           1.000000            9.000000   \n",
       "75%                2.000000           2.000000           15.000000   \n",
       "max                2.000000           2.000000           19.000000   \n",
       "\n",
       "       Number of Fatalities  Emergency Response Time  Traffic Volume  \\\n",
       "count         132000.000000            132000.000000   132000.000000   \n",
       "mean               1.995439                32.491746     5041.929098   \n",
       "std                1.412974                15.889537     2860.671611   \n",
       "min                0.000000                 5.000177      100.062626   \n",
       "25%                1.000000                18.732879     2560.601299   \n",
       "50%                2.000000                32.534944     5037.909855   \n",
       "75%                3.000000                46.289527     7524.638162   \n",
       "max                4.000000                59.999588     9999.997468   \n",
       "\n",
       "       Insurance Claims   Medical Cost  Economic Loss  Population Density  \n",
       "count     132000.000000  132000.000000  132000.000000       132000.000000  \n",
       "mean           4.495621   25198.454901   50437.505615         2506.476223  \n",
       "std            2.867347   14274.771691   28584.290822         1440.646352  \n",
       "min            0.000000     500.110090    1000.335085           10.002669  \n",
       "25%            2.000000   12836.933596   25692.817343         1258.158299  \n",
       "50%            4.000000   25188.202669   50395.499874         2506.203333  \n",
       "75%            7.000000   37529.024899   75186.626093         3756.652950  \n",
       "max            9.000000   49999.930130   99999.622968         4999.991745  "
      ]
     },
     "execution_count": 5,
     "metadata": {},
     "output_type": "execute_result"
    }
   ],
   "source": [
    "accidents.describe()"
   ]
  },
  {
   "cell_type": "code",
   "execution_count": 6,
   "metadata": {},
   "outputs": [
    {
     "name": "stdout",
     "output_type": "stream",
     "text": [
      "The dataset has 132000 rows and 30 columns.\n"
     ]
    }
   ],
   "source": [
    "print(f\"The dataset has {accidents.shape[0]} rows and {accidents.shape[1]} columns.\")"
   ]
  },
  {
   "cell_type": "markdown",
   "metadata": {},
   "source": [
    "### The `Emergency Response Time` variable"
   ]
  },
  {
   "cell_type": "code",
   "execution_count": 7,
   "metadata": {},
   "outputs": [
    {
     "data": {
      "application/vnd.jupyter.widget-view+json": {
       "model_id": "2bbb15d372094beb9cb16f4941b7cece",
       "version_major": 2,
       "version_minor": 1
      },
      "text/plain": [
       "JupyterChart(spec={'config': {'view': {'continuousWidth': 300, 'continuousHeight': 300}}, 'hconcat': [{'mark':…"
      ]
     },
     "execution_count": 7,
     "metadata": {},
     "output_type": "execute_result"
    }
   ],
   "source": [
    "histogram = alt.Chart(accidents).mark_bar().encode(\n",
    "    alt.X('Emergency Response Time:Q', bin=alt.BinParams(maxbins=20), title='Emergency Response Time (minutes)'),\n",
    "    alt.Y('count()', title='Frequency'),\n",
    "    tooltip=['count()']\n",
    ").properties(\n",
    "    title='Distribution of Emergency Response Time',\n",
    "    #width=600,\n",
    "    #height=400\n",
    ")\n",
    "\n",
    "histogram_zoomed = alt.Chart(accidents).mark_bar().encode(\n",
    "    alt.X('Emergency Response Time:Q', bin=alt.BinParams(maxbins=20), title='Emergency Response Time (minutes)'),\n",
    "    alt.Y('count()', title='Frequency', scale=alt.Scale(zero=False)),\n",
    "    tooltip=['count()']\n",
    ").properties(\n",
    "    title='Distribution of Emergency Response Time (Zoomed)',\n",
    "    #width=600,\n",
    "    #height=400\n",
    ")\n",
    "\n",
    "boxplot = alt.Chart(accidents).mark_boxplot().encode(\n",
    "    alt.X(\"Emergency Response Time:Q\")\n",
    ").properties(\n",
    "    title='Boxplot of Emergency Response Time',\n",
    ")\n",
    "\n",
    "histogram | histogram_zoomed | boxplot"
   ]
  },
  {
   "cell_type": "markdown",
   "metadata": {},
   "source": [
    "We see here that the distribution of emergency response times are quite uniform, and the mean is at 32.53. The scale on the zoomed in version is worth noting, and thus not sufficient enough to establish a clear pattern except for unform.\n",
    "\n",
    "Let's look at if and how the variable is influenced by other attributes in the dataset."
   ]
  },
  {
   "cell_type": "code",
   "execution_count": 8,
   "metadata": {},
   "outputs": [
    {
     "data": {
      "application/vnd.jupyter.widget-view+json": {
       "model_id": "30c864a3256d4d30a76122ba15ce3f3b",
       "version_major": 2,
       "version_minor": 1
      },
      "text/plain": [
       "JupyterChart(spec={'config': {'view': {'continuousWidth': 300, 'continuousHeight': 300}}, 'hconcat': [{'mark':…"
      ]
     },
     "execution_count": 8,
     "metadata": {},
     "output_type": "execute_result"
    }
   ],
   "source": [
    "weather_bar_plot = alt.Chart(accidents).mark_bar().encode(\n",
    "    alt.X('average(Emergency Response Time):Q'),\n",
    "    alt.Y('Weather Conditions:N', sort='x'),\n",
    "    tooltip=['average(Emergency Response Time):Q']\n",
    ").properties(\n",
    "    title='Emergency Response Time vs. Weather Conditions',\n",
    "    #width=600,\n",
    "    #height=400\n",
    ")\n",
    "\n",
    "weather_bar_plot_zoomed = alt.Chart(accidents).mark_bar().encode(\n",
    "    alt.X('average(Emergency Response Time):Q', scale=alt.Scale(zero=False)),\n",
    "    alt.Y('Weather Conditions:N', sort='x'),\n",
    "    tooltip=['average(Emergency Response Time):Q']\n",
    ").properties(\n",
    "    title='Emergency Response Time vs. Weather Conditions (Zoomed)',\n",
    "    #width=600,\n",
    "    #height=400\n",
    ")\n",
    "\n",
    "weather_bar_plot | weather_bar_plot_zoomed"
   ]
  },
  {
   "cell_type": "markdown",
   "metadata": {},
   "source": [
    "Regardless of the weather condition, the average emergency response time appears to be very similar. The zoomed in verison indicates around a 0.2 increase in the emergency response time from foggy weather to clear weather, which may be shocking given that clear weather should allow for emergency services to reach quicker."
   ]
  },
  {
   "cell_type": "code",
   "execution_count": 9,
   "metadata": {},
   "outputs": [
    {
     "data": {
      "application/vnd.jupyter.widget-view+json": {
       "model_id": "70cb29af24af4093b2a8c1590d5d58f0",
       "version_major": 2,
       "version_minor": 1
      },
      "text/plain": [
       "JupyterChart(spec={'config': {'view': {'continuousWidth': 300, 'continuousHeight': 300}}, 'hconcat': [{'mark':…"
      ]
     },
     "execution_count": 9,
     "metadata": {},
     "output_type": "execute_result"
    }
   ],
   "source": [
    "fatality_bar_plot = alt.Chart(accidents).mark_bar().encode(\n",
    "    alt.X('average(Emergency Response Time):Q'),\n",
    "    alt.Y('Number of Fatalities:N', sort = 'x'),\n",
    "    tooltip=['average(Emergency Response Time):Q']\n",
    ").properties(\n",
    "    title='Emergency Response Time vs. Number of Fatalities',\n",
    "    #width=600,\n",
    "    #height=400\n",
    ")\n",
    "\n",
    "fatality_bar_plot_zoomed = alt.Chart(accidents).mark_bar().encode(\n",
    "    alt.X('average(Emergency Response Time):Q', scale=alt.Scale(zero=False)),\n",
    "    alt.Y('Number of Fatalities:N', sort = 'x'),\n",
    "    tooltip=['average(Emergency Response Time):Q']\n",
    ").properties(\n",
    "    title='Emergency Response Time vs. Number of Fatalities',\n",
    "    #width=600,\n",
    "    #height=400\n",
    ")\n",
    "\n",
    "fatality_bar_plot | fatality_bar_plot_zoomed"
   ]
  },
  {
   "cell_type": "markdown",
   "metadata": {},
   "source": [
    "Regardless of the number of fatalities, the average emergency response time appears to be very similar. The zoomed in version implies that the number of fatalities may be associated with a longer emergency response time, however by a very miniscule difference."
   ]
  },
  {
   "cell_type": "code",
   "execution_count": 10,
   "metadata": {},
   "outputs": [
    {
     "data": {
      "application/vnd.jupyter.widget-view+json": {
       "model_id": "bdcb7db9cf394c0382331079b1467d1c",
       "version_major": 2,
       "version_minor": 1
      },
      "text/plain": [
       "JupyterChart(spec={'config': {'view': {'continuousWidth': 300, 'continuousHeight': 300}}, 'hconcat': [{'mark':…"
      ]
     },
     "execution_count": 10,
     "metadata": {},
     "output_type": "execute_result"
    }
   ],
   "source": [
    "u_r_bar_plot = alt.Chart(accidents).mark_bar().encode(\n",
    "    alt.X('average(Emergency Response Time):Q'),\n",
    "    alt.Y('Urban/Rural:N', sort = 'x'),\n",
    "    tooltip = ['average(Emergency Response Time):Q']\n",
    ").properties(\n",
    "    title='Emergency Response Time vs. Urban/Rural',\n",
    "    #width=600,\n",
    "    #height=400\n",
    ")\n",
    "\n",
    "u_r_bar_plot_zoomed = alt.Chart(accidents).mark_bar().encode(\n",
    "    alt.X('average(Emergency Response Time):Q', scale=alt.Scale(zero=False)),\n",
    "    alt.Y('Urban/Rural:N', sort = 'x'),\n",
    "    tooltip = ['average(Emergency Response Time):Q']\n",
    ").properties(\n",
    "    title='Emergency Response Time vs. Urban/Rural (Zoomed)',\n",
    "    #width=600,\n",
    "    #height=400\n",
    ")\n",
    "\n",
    "u_r_bar_plot | u_r_bar_plot_zoomed"
   ]
  },
  {
   "cell_type": "markdown",
   "metadata": {},
   "source": [
    "Again, there seems to be almost no difference in emergency response times in rural and urban areas. Perhaps exploring the pattern of distributions within each type of suburb may be worthwhile is finding underlying patterns."
   ]
  },
  {
   "cell_type": "code",
   "execution_count": 11,
   "metadata": {},
   "outputs": [
    {
     "data": {
      "application/vnd.jupyter.widget-view+json": {
       "model_id": "ed627b124c85474d946e89a310a4d373",
       "version_major": 2,
       "version_minor": 1
      },
      "text/plain": [
       "JupyterChart(spec={'config': {'view': {'continuousWidth': 300, 'continuousHeight': 300}}, 'data': {'url': 'alt…"
      ]
     },
     "execution_count": 11,
     "metadata": {},
     "output_type": "execute_result"
    }
   ],
   "source": [
    "heatmap1 = alt.Chart(accidents).mark_rect().encode(\n",
    "    x=alt.X('Urban/Rural:N', title='Urban/Rural'),\n",
    "    y=alt.Y('Number of Fatalities:N', title='Number of Fatalities'),\n",
    "    color=alt.Color('average(Emergency Response Time):Q', scale=alt.Scale(scheme='blues')),\n",
    "    tooltip=['average(Emergency Response Time):Q']\n",
    ").properties(\n",
    "    title='Correlation Heatmap of Urban/Rural and Number of Fatalities',\n",
    "    width=500,\n",
    "    height=400\n",
    ")\n",
    "\n",
    "heatmap1"
   ]
  },
  {
   "cell_type": "markdown",
   "metadata": {},
   "source": [
    "The scale implies that the difference in emergency response times is quite small, and thus may not be enough to reach any conclusions. However, we do observe a patten of longer emergency response times being seen with a higher number of fatalities, especially in urban areas."
   ]
  },
  {
   "cell_type": "code",
   "execution_count": 12,
   "metadata": {},
   "outputs": [
    {
     "data": {
      "application/vnd.jupyter.widget-view+json": {
       "model_id": "00a7b4418b6e48eda25dd9daa162c595",
       "version_major": 2,
       "version_minor": 1
      },
      "text/plain": [
       "JupyterChart(spec={'config': {'view': {'continuousWidth': 300, 'continuousHeight': 300}}, 'hconcat': [{'mark':…"
      ]
     },
     "execution_count": 12,
     "metadata": {},
     "output_type": "execute_result"
    }
   ],
   "source": [
    "road_bar_plot = alt.Chart(accidents).mark_bar().encode(\n",
    "    alt.X('average(Emergency Response Time):Q'),\n",
    "    alt.Y('Road Condition:N', sort='x'),\n",
    "    tooltip=['average(Emergency Response Time):Q']\n",
    ").properties(\n",
    "    title='Emergency Response Time vs. Road Conditions',\n",
    "    #width=600,\n",
    "    #height=400\n",
    ")\n",
    "\n",
    "road_bar_plot_zoomed = alt.Chart(accidents).mark_bar().encode(\n",
    "    alt.X('average(Emergency Response Time):Q', scale=alt.Scale(zero=False)),\n",
    "    alt.Y('Road Condition:N', sort='x'),\n",
    "    tooltip=['average(Emergency Response Time):Q']\n",
    ").properties(\n",
    "    title='Emergency Response Time vs. Road Conditions (Zoomed)',\n",
    "    #width=600,\n",
    "    #height=400\n",
    ")\n",
    "\n",
    "road_bar_plot | road_bar_plot_zoomed"
   ]
  },
  {
   "cell_type": "markdown",
   "metadata": {},
   "source": [
    "There is no noticeable difference in emergency response times depending on different road conditions, however one may see that in the zoomed in version, icy road conditions lead to longer emergency response times, although by a very small extent."
   ]
  },
  {
   "cell_type": "code",
   "execution_count": 13,
   "metadata": {},
   "outputs": [
    {
     "data": {
      "application/vnd.jupyter.widget-view+json": {
       "model_id": "fd2acc31de9f4c1099cd9eef8094cb2f",
       "version_major": 2,
       "version_minor": 1
      },
      "text/plain": [
       "JupyterChart(spec={'config': {'view': {'continuousWidth': 300, 'continuousHeight': 300}}, 'data': {'url': 'alt…"
      ]
     },
     "execution_count": 13,
     "metadata": {},
     "output_type": "execute_result"
    }
   ],
   "source": [
    "heatmap = alt.Chart(accidents).mark_rect().encode(\n",
    "    x=alt.X('Road Condition:N', title='Road Conditions'),\n",
    "    y=alt.Y('Weather Conditions:N', title='Weather Conditions'),\n",
    "    color=alt.Color('average(Emergency Response Time):Q', scale=alt.Scale(scheme='blues')),\n",
    "    tooltip=['average(Emergency Response Time):Q']\n",
    ").properties(\n",
    "    title='Correlation Heatmap of Road and Weather Conditions',\n",
    "    width=500,\n",
    "    height=400\n",
    ")\n",
    "\n",
    "heatmap"
   ]
  },
  {
   "cell_type": "markdown",
   "metadata": {},
   "source": [
    "There is no clear pattern regarding how the average emergency response time is affected by both weather conditions and road conditions. One may see that there is a (small) increase in response time when it is clear weather and dry roads, as well as windy weather and icy roads. More analysis is required to further unravel why these conflicting observations are seen."
   ]
  },
  {
   "cell_type": "markdown",
   "metadata": {},
   "source": [
    "## Task Analysis"
   ]
  },
  {
   "cell_type": "markdown",
   "metadata": {},
   "source": [
    "### **1. How does emergency response time correlate with the number of fatalities, and how do urban/rural settings and traffic volume influence this relationship?**\n",
    "- **Retrieve Value**: Extract `Emergency Response Time`, `Number of Fatalities`, `Urban/Rural`, and `Traffic Volume`.\n",
    "- **Filter**: Filter data by `Urban/Rural` and group `Traffic Volume` into low, medium, and high.\n",
    "- **Compute Derived Value**: Calculate correlation coefficients between response time and fatalities.\n",
    "- **Correlate**: Analyze the relationship between response time and fatalities, stratified by urban/rural and traffic volume.\n",
    "- **Characterize Distribution**: Visualize the distribution of response times and fatalities across urban/rural areas and traffic volume groups.\n",
    "- **Find Anomalies**: Identify outliers in response times or fatalities.\n",
    "\n",
    "---\n",
    "\n",
    "### **2. How do weather conditions and road type interact with emergency response times and accident severity?**\n",
    "- **Retrieve Value**: Extract `Emergency Response Time`, `Accident Severity`, `Weather Conditions`, and `Road Type`.\n",
    "- **Filter**: Filter data by `Weather Conditions` and `Road Type`.\n",
    "- **Compute Derived Value**: Calculate average response times and median accident severity for each weather-road combination.\n",
    "- **Correlate**: Analyze the relationship between weather, road type, response times, and accident severity.\n",
    "- **Characterize Distribution**: Visualize the distribution of response times and severity across weather and road types.\n",
    "- **Cluster**: Group similar weather-road combinations based on response times and severity.\n",
    "\n",
    "---\n",
    "\n",
    "### **3. How do population density and driver demographics (age group, gender) influence emergency response times and accident outcomes?**\n",
    "- **Retrieve Value**: Extract `Emergency Response Time`, `Accident Severity`, `Population Density`, `Driver Age Group`, and `Driver Gender`.\n",
    "- **Filter**: Filter data by `Population Density` (low, medium, high) and `Driver Age Group`.\n",
    "- **Compute Derived Value**: Calculate average response times and accident severity for each population density and age group.\n",
    "- **Correlate**: Analyze the relationship between population density, driver demographics, response times, and accident severity.\n",
    "- **Characterize Distribution**: Visualize the distribution of response times and severity across population density and driver demographics.\n",
    "- **Find Extremum**: Identify the age group or population density with the highest response times or severity.\n",
    "\n",
    "---\n",
    "\n",
    "### **4. What is the combined impact of traffic volume, road conditions, and time of day on emergency response times and accident severity?**\n",
    "- **Retrieve Value**: Extract `Emergency Response Time`, `Accident Severity`, `Traffic Volume`, `Road Condition`, and `Time of Day`.\n",
    "- **Filter**: Filter data by `Time of Day` and `Road Condition`.\n",
    "- **Compute Derived Value**: Calculate average response times and severity for each time-road combination.\n",
    "- **Correlate**: Analyze the relationship between traffic volume, road conditions, time of day, response times, and severity.\n",
    "- **Characterize Distribution**: Visualize the distribution of response times and severity across traffic volume, road conditions, and time of day.\n",
    "- **Cluster**: Group similar time-road-traffic combinations based on response times and severity.\n",
    "\n",
    "---\n",
    "\n",
    "### **Summary of Low-Level Tasks**\n",
    "| **Research Question**                                                                 | **Low-Level Tasks**                                                                 |\n",
    "|--------------------------------------------------------------------------------------|------------------------------------------------------------------------------------|\n",
    "| How does emergency response time correlate with fatalities, considering urban/rural and traffic volume? | Retrieve Value, Filter, Compute Derived Value, Correlate, Characterize Distribution, Find Anomalies |\n",
    "| How do weather conditions and road type interact with response times and accident severity? | Retrieve Value, Filter, Compute Derived Value, Correlate, Characterize Distribution, Cluster |\n",
    "| How do population density and driver demographics influence response times and accident outcomes? | Retrieve Value, Filter, Compute Derived Value, Correlate, Characterize Distribution, Find Extremum |\n",
    "| What is the combined impact of traffic volume, road conditions, and time of day on response times and severity? | Retrieve Value, Filter, Compute Derived Value, Correlate, Characterize Distribution, Cluster |"
   ]
  }
 ],
 "metadata": {
  "kernelspec": {
   "display_name": "cpsc330",
   "language": "python",
   "name": "python3"
  },
  "language_info": {
   "codemirror_mode": {
    "name": "ipython",
    "version": 3
   },
   "file_extension": ".py",
   "mimetype": "text/x-python",
   "name": "python",
   "nbconvert_exporter": "python",
   "pygments_lexer": "ipython3",
   "version": "3.12.0"
  },
  "orig_nbformat": 4
 },
 "nbformat": 4,
 "nbformat_minor": 2
}
