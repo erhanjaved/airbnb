{
 "cells": [
  {
   "cell_type": "markdown",
   "metadata": {},
   "source": [
    "# Ayuho Negishi"
   ]
  },
  {
   "cell_type": "markdown",
   "metadata": {},
   "source": [
    "### Host Behaviour & Market Competitiveness: *How do different host strategies impact listing success and guest satisfaction?* \n",
    "\n",
    "Host behaviours shape listing success and guest satisfaction on Airbnb. This EDA explores how identity verification, superhost status, response time, acceptance rate, and pricing strategies influence market competitiveness and guest experiences.\n",
    "\n",
    "#### Key research questions\n",
    "- How does host identity verification influence the success of a listing (in terms of reviews and ratings)?\n",
    "- How do host responses (e.g. response time, acceptance rate) differ between superhosts and non-superhosts, and how does this impact listing success?\n",
    "- How do hosts with multiple listings strategically set their pricing, and how does this impact guest satisfaction?"
   ]
  },
  {
   "cell_type": "markdown",
   "metadata": {},
   "source": [
    "## EDA"
   ]
  },
  {
   "cell_type": "markdown",
   "metadata": {},
   "source": [
    "### Imports"
   ]
  },
  {
   "cell_type": "code",
   "execution_count": 1,
   "metadata": {},
   "outputs": [],
   "source": [
    "import sys\n",
    "import os\n",
    "\n",
    "sys.path.append(os.path.abspath(\"../../code\"))\n",
    "\n",
    "import altair as alt\n",
    "import pandas as pd\n",
    "\n",
    "from toolz.curried import pipe\n",
    "\n",
    "def json_dir(data, data_dir='altairdata'):\n",
    "    os.makedirs(data_dir, exist_ok=True)\n",
    "    return pipe(data, alt.to_json(filename=data_dir + '/{prefix}-{hash}.{extension}') )\n",
    "\n",
    "# Register and enable the new transformer\n",
    "alt.data_transformers.register('json_dir', json_dir)\n",
    "alt.data_transformers.enable('json_dir')\n",
    "\n",
    "# Handle large data sets (default shows only 5000)\n",
    "# See here: https://altair-viz.github.io/user_guide/data_transformers.html\n",
    "alt.data_transformers.disable_max_rows()\n",
    "\n",
    "alt.renderers.enable('jupyterlab')\n",
    "from cleaning_workflows import prepare_dataset"
   ]
  },
  {
   "cell_type": "code",
   "execution_count": 2,
   "metadata": {
    "tags": []
   },
   "outputs": [],
   "source": [
    "# alt.data_transformers.disable_max_rows()"
   ]
  },
  {
   "cell_type": "markdown",
   "metadata": {},
   "source": [
    "### Loading in the data"
   ]
  },
  {
   "cell_type": "code",
   "execution_count": 3,
   "metadata": {},
   "outputs": [],
   "source": [
    "df = pd.read_csv('../../data/raw/listings.csv', parse_dates=['first_review', 'last_review'])\n",
    "df_cleaned = prepare_dataset(df)"
   ]
  },
  {
   "cell_type": "code",
   "execution_count": 4,
   "metadata": {},
   "outputs": [
    {
     "name": "stdout",
     "output_type": "stream",
     "text": [
      "(37784, 57)\n",
      "Index(['name', 'description', 'neighborhood_overview', 'host_id', 'host_since',\n",
      "       'host_location', 'host_about', 'host_response_time',\n",
      "       'host_response_rate', 'host_acceptance_rate', 'host_is_superhost',\n",
      "       'host_neighbourhood', 'host_listings_count',\n",
      "       'host_total_listings_count', 'host_verifications',\n",
      "       'host_has_profile_pic', 'host_identity_verified',\n",
      "       'neighbourhood_cleansed', 'neighbourhood_group_cleansed', 'latitude',\n",
      "       'longitude', 'property_type', 'room_type', 'accommodates', 'bathrooms',\n",
      "       'bedrooms', 'beds', 'amenities', 'price', 'minimum_nights',\n",
      "       'maximum_nights', 'minimum_nights_avg_ntm', 'maximum_nights_avg_ntm',\n",
      "       'has_availability', 'availability_30', 'availability_60',\n",
      "       'availability_90', 'availability_365', 'calendar_last_scraped',\n",
      "       'number_of_reviews', 'number_of_reviews_ltm', 'number_of_reviews_l30d',\n",
      "       'first_review', 'last_review', 'review_scores_rating',\n",
      "       'review_scores_accuracy', 'review_scores_cleanliness',\n",
      "       'review_scores_checkin', 'review_scores_communication',\n",
      "       'review_scores_location', 'review_scores_value', 'instant_bookable',\n",
      "       'calculated_host_listings_count',\n",
      "       'calculated_host_listings_count_entire_homes',\n",
      "       'calculated_host_listings_count_private_rooms',\n",
      "       'calculated_host_listings_count_shared_rooms', 'reviews_per_month'],\n",
      "      dtype='object')\n"
     ]
    }
   ],
   "source": [
    "print(df_cleaned.shape)\n",
    "print(df_cleaned.columns)"
   ]
  },
  {
   "cell_type": "code",
   "execution_count": 5,
   "metadata": {},
   "outputs": [
    {
     "name": "stdout",
     "output_type": "stream",
     "text": [
      "<class 'pandas.core.frame.DataFrame'>\n",
      "RangeIndex: 37784 entries, 0 to 37783\n",
      "Data columns (total 57 columns):\n",
      " #   Column                                        Non-Null Count  Dtype         \n",
      "---  ------                                        --------------  -----         \n",
      " 0   name                                          37784 non-null  object        \n",
      " 1   description                                   37784 non-null  object        \n",
      " 2   neighborhood_overview                         37784 non-null  object        \n",
      " 3   host_id                                       37784 non-null  int64         \n",
      " 4   host_since                                    37784 non-null  datetime64[ns]\n",
      " 5   host_location                                 37784 non-null  object        \n",
      " 6   host_about                                    37784 non-null  object        \n",
      " 7   host_response_time                            37784 non-null  object        \n",
      " 8   host_response_rate                            37784 non-null  float64       \n",
      " 9   host_acceptance_rate                          37784 non-null  float64       \n",
      " 10  host_is_superhost                             37784 non-null  bool          \n",
      " 11  host_neighbourhood                            37784 non-null  object        \n",
      " 12  host_listings_count                           37784 non-null  float64       \n",
      " 13  host_total_listings_count                     37784 non-null  float64       \n",
      " 14  host_verifications                            37784 non-null  object        \n",
      " 15  host_has_profile_pic                          37784 non-null  bool          \n",
      " 16  host_identity_verified                        37784 non-null  bool          \n",
      " 17  neighbourhood_cleansed                        37784 non-null  object        \n",
      " 18  neighbourhood_group_cleansed                  37784 non-null  object        \n",
      " 19  latitude                                      37784 non-null  float64       \n",
      " 20  longitude                                     37784 non-null  float64       \n",
      " 21  property_type                                 37784 non-null  object        \n",
      " 22  room_type                                     37784 non-null  object        \n",
      " 23  accommodates                                  37784 non-null  int64         \n",
      " 24  bathrooms                                     37784 non-null  float64       \n",
      " 25  bedrooms                                      37784 non-null  float64       \n",
      " 26  beds                                          37784 non-null  float64       \n",
      " 27  amenities                                     37784 non-null  object        \n",
      " 28  price                                         37784 non-null  float64       \n",
      " 29  minimum_nights                                37784 non-null  int64         \n",
      " 30  maximum_nights                                37784 non-null  int64         \n",
      " 31  minimum_nights_avg_ntm                        37784 non-null  float64       \n",
      " 32  maximum_nights_avg_ntm                        37784 non-null  float64       \n",
      " 33  has_availability                              37784 non-null  bool          \n",
      " 34  availability_30                               37784 non-null  int64         \n",
      " 35  availability_60                               37784 non-null  int64         \n",
      " 36  availability_90                               37784 non-null  int64         \n",
      " 37  availability_365                              37784 non-null  int64         \n",
      " 38  calendar_last_scraped                         37784 non-null  datetime64[ns]\n",
      " 39  number_of_reviews                             37784 non-null  int64         \n",
      " 40  number_of_reviews_ltm                         37784 non-null  int64         \n",
      " 41  number_of_reviews_l30d                        37784 non-null  int64         \n",
      " 42  first_review                                  37784 non-null  datetime64[ns]\n",
      " 43  last_review                                   37784 non-null  datetime64[ns]\n",
      " 44  review_scores_rating                          37784 non-null  float64       \n",
      " 45  review_scores_accuracy                        37784 non-null  float64       \n",
      " 46  review_scores_cleanliness                     37784 non-null  float64       \n",
      " 47  review_scores_checkin                         37784 non-null  float64       \n",
      " 48  review_scores_communication                   37784 non-null  float64       \n",
      " 49  review_scores_location                        37784 non-null  float64       \n",
      " 50  review_scores_value                           37784 non-null  float64       \n",
      " 51  instant_bookable                              37784 non-null  bool          \n",
      " 52  calculated_host_listings_count                37784 non-null  int64         \n",
      " 53  calculated_host_listings_count_entire_homes   37784 non-null  int64         \n",
      " 54  calculated_host_listings_count_private_rooms  37784 non-null  int64         \n",
      " 55  calculated_host_listings_count_shared_rooms   37784 non-null  int64         \n",
      " 56  reviews_per_month                             37784 non-null  float64       \n",
      "dtypes: bool(5), datetime64[ns](4), float64(20), int64(15), object(13)\n",
      "memory usage: 15.2+ MB\n"
     ]
    }
   ],
   "source": [
    "df_cleaned.info()"
   ]
  },
  {
   "cell_type": "code",
   "execution_count": 6,
   "metadata": {},
   "outputs": [
    {
     "name": "stdout",
     "output_type": "stream",
     "text": [
      "['host_id', 'host_response_rate', 'host_acceptance_rate', 'host_listings_count', 'host_total_listings_count', 'latitude', 'longitude', 'accommodates', 'bathrooms', 'bedrooms', 'beds', 'price', 'minimum_nights', 'maximum_nights', 'minimum_nights_avg_ntm', 'maximum_nights_avg_ntm', 'availability_30', 'availability_60', 'availability_90', 'availability_365', 'number_of_reviews', 'number_of_reviews_ltm', 'number_of_reviews_l30d', 'review_scores_rating', 'review_scores_accuracy', 'review_scores_cleanliness', 'review_scores_checkin', 'review_scores_communication', 'review_scores_location', 'review_scores_value', 'calculated_host_listings_count', 'calculated_host_listings_count_entire_homes', 'calculated_host_listings_count_private_rooms', 'calculated_host_listings_count_shared_rooms', 'reviews_per_month']\n"
     ]
    }
   ],
   "source": [
    "numerical_cols = df_cleaned.select_dtypes(include=['number']).columns.tolist()\n",
    "print(numerical_cols)"
   ]
  },
  {
   "cell_type": "code",
   "execution_count": 7,
   "metadata": {},
   "outputs": [
    {
     "name": "stdout",
     "output_type": "stream",
     "text": [
      "Index(['name', 'description', 'neighborhood_overview', 'host_location',\n",
      "       'host_about', 'host_response_time', 'host_neighbourhood',\n",
      "       'host_verifications', 'neighbourhood_cleansed',\n",
      "       'neighbourhood_group_cleansed', 'property_type', 'room_type',\n",
      "       'amenities'],\n",
      "      dtype='object')\n"
     ]
    }
   ],
   "source": [
    "object_cols = df_cleaned.select_dtypes(include=['object']).columns\n",
    "print(object_cols)"
   ]
  },
  {
   "cell_type": "code",
   "execution_count": 8,
   "metadata": {},
   "outputs": [
    {
     "data": {
      "text/html": [
       "<div>\n",
       "<style scoped>\n",
       "    .dataframe tbody tr th:only-of-type {\n",
       "        vertical-align: middle;\n",
       "    }\n",
       "\n",
       "    .dataframe tbody tr th {\n",
       "        vertical-align: top;\n",
       "    }\n",
       "\n",
       "    .dataframe thead th {\n",
       "        text-align: right;\n",
       "    }\n",
       "</style>\n",
       "<table border=\"1\" class=\"dataframe\">\n",
       "  <thead>\n",
       "    <tr style=\"text-align: right;\">\n",
       "      <th></th>\n",
       "      <th>host_since</th>\n",
       "      <th>host_response_rate</th>\n",
       "      <th>host_acceptance_rate</th>\n",
       "      <th>host_listings_count</th>\n",
       "      <th>host_total_listings_count</th>\n",
       "      <th>accommodates</th>\n",
       "      <th>bathrooms</th>\n",
       "      <th>bedrooms</th>\n",
       "      <th>beds</th>\n",
       "      <th>price</th>\n",
       "      <th>...</th>\n",
       "      <th>review_scores_cleanliness</th>\n",
       "      <th>review_scores_checkin</th>\n",
       "      <th>review_scores_communication</th>\n",
       "      <th>review_scores_location</th>\n",
       "      <th>review_scores_value</th>\n",
       "      <th>calculated_host_listings_count</th>\n",
       "      <th>calculated_host_listings_count_entire_homes</th>\n",
       "      <th>calculated_host_listings_count_private_rooms</th>\n",
       "      <th>calculated_host_listings_count_shared_rooms</th>\n",
       "      <th>reviews_per_month</th>\n",
       "    </tr>\n",
       "  </thead>\n",
       "  <tbody>\n",
       "    <tr>\n",
       "      <th>count</th>\n",
       "      <td>37784</td>\n",
       "      <td>37784.000000</td>\n",
       "      <td>37784.000000</td>\n",
       "      <td>37784.000000</td>\n",
       "      <td>37784.000000</td>\n",
       "      <td>37784.000000</td>\n",
       "      <td>37784.000000</td>\n",
       "      <td>37784.000000</td>\n",
       "      <td>37784.000000</td>\n",
       "      <td>37784.000000</td>\n",
       "      <td>...</td>\n",
       "      <td>37784.000000</td>\n",
       "      <td>37784.000000</td>\n",
       "      <td>37784.000000</td>\n",
       "      <td>37784.000000</td>\n",
       "      <td>37784.000000</td>\n",
       "      <td>37784.000000</td>\n",
       "      <td>37784.000000</td>\n",
       "      <td>37784.000000</td>\n",
       "      <td>37784.000000</td>\n",
       "      <td>37784.000000</td>\n",
       "    </tr>\n",
       "    <tr>\n",
       "      <th>mean</th>\n",
       "      <td>2017-03-06 09:48:26.373067776</td>\n",
       "      <td>0.952508</td>\n",
       "      <td>0.812859</td>\n",
       "      <td>263.054864</td>\n",
       "      <td>351.429229</td>\n",
       "      <td>2.754896</td>\n",
       "      <td>1.119654</td>\n",
       "      <td>1.321723</td>\n",
       "      <td>1.383946</td>\n",
       "      <td>170.434126</td>\n",
       "      <td>...</td>\n",
       "      <td>4.704505</td>\n",
       "      <td>4.870094</td>\n",
       "      <td>4.867555</td>\n",
       "      <td>4.775639</td>\n",
       "      <td>4.676217</td>\n",
       "      <td>71.636354</td>\n",
       "      <td>45.435555</td>\n",
       "      <td>23.985232</td>\n",
       "      <td>0.005187</td>\n",
       "      <td>0.685365</td>\n",
       "    </tr>\n",
       "    <tr>\n",
       "      <th>min</th>\n",
       "      <td>2008-08-11 00:00:00</td>\n",
       "      <td>0.000000</td>\n",
       "      <td>0.000000</td>\n",
       "      <td>1.000000</td>\n",
       "      <td>1.000000</td>\n",
       "      <td>1.000000</td>\n",
       "      <td>0.000000</td>\n",
       "      <td>0.000000</td>\n",
       "      <td>0.000000</td>\n",
       "      <td>8.000000</td>\n",
       "      <td>...</td>\n",
       "      <td>0.000000</td>\n",
       "      <td>0.000000</td>\n",
       "      <td>0.000000</td>\n",
       "      <td>0.000000</td>\n",
       "      <td>0.000000</td>\n",
       "      <td>1.000000</td>\n",
       "      <td>0.000000</td>\n",
       "      <td>0.000000</td>\n",
       "      <td>0.000000</td>\n",
       "      <td>0.010000</td>\n",
       "    </tr>\n",
       "    <tr>\n",
       "      <th>25%</th>\n",
       "      <td>2014-07-07 00:00:00</td>\n",
       "      <td>1.000000</td>\n",
       "      <td>0.840000</td>\n",
       "      <td>1.000000</td>\n",
       "      <td>1.000000</td>\n",
       "      <td>2.000000</td>\n",
       "      <td>1.000000</td>\n",
       "      <td>1.000000</td>\n",
       "      <td>1.000000</td>\n",
       "      <td>113.750000</td>\n",
       "      <td>...</td>\n",
       "      <td>4.690000</td>\n",
       "      <td>4.890000</td>\n",
       "      <td>4.900000</td>\n",
       "      <td>4.750000</td>\n",
       "      <td>4.670000</td>\n",
       "      <td>1.000000</td>\n",
       "      <td>0.000000</td>\n",
       "      <td>0.000000</td>\n",
       "      <td>0.000000</td>\n",
       "      <td>0.160000</td>\n",
       "    </tr>\n",
       "    <tr>\n",
       "      <th>50%</th>\n",
       "      <td>2016-08-02 00:00:00</td>\n",
       "      <td>1.000000</td>\n",
       "      <td>0.880000</td>\n",
       "      <td>2.000000</td>\n",
       "      <td>3.000000</td>\n",
       "      <td>2.000000</td>\n",
       "      <td>1.000000</td>\n",
       "      <td>1.000000</td>\n",
       "      <td>1.000000</td>\n",
       "      <td>132.000000</td>\n",
       "      <td>...</td>\n",
       "      <td>4.810000</td>\n",
       "      <td>4.950000</td>\n",
       "      <td>4.960000</td>\n",
       "      <td>4.850000</td>\n",
       "      <td>4.760000</td>\n",
       "      <td>2.000000</td>\n",
       "      <td>1.000000</td>\n",
       "      <td>1.000000</td>\n",
       "      <td>0.000000</td>\n",
       "      <td>0.290000</td>\n",
       "    </tr>\n",
       "    <tr>\n",
       "      <th>75%</th>\n",
       "      <td>2019-10-29 00:00:00</td>\n",
       "      <td>1.000000</td>\n",
       "      <td>0.950000</td>\n",
       "      <td>10.000000</td>\n",
       "      <td>15.000000</td>\n",
       "      <td>4.000000</td>\n",
       "      <td>1.000000</td>\n",
       "      <td>1.000000</td>\n",
       "      <td>1.000000</td>\n",
       "      <td>156.000000</td>\n",
       "      <td>...</td>\n",
       "      <td>4.910000</td>\n",
       "      <td>5.000000</td>\n",
       "      <td>5.000000</td>\n",
       "      <td>4.950000</td>\n",
       "      <td>4.850000</td>\n",
       "      <td>9.000000</td>\n",
       "      <td>2.000000</td>\n",
       "      <td>2.000000</td>\n",
       "      <td>0.000000</td>\n",
       "      <td>0.550000</td>\n",
       "    </tr>\n",
       "    <tr>\n",
       "      <th>max</th>\n",
       "      <td>2024-12-27 00:00:00</td>\n",
       "      <td>1.000000</td>\n",
       "      <td>1.000000</td>\n",
       "      <td>5079.000000</td>\n",
       "      <td>9048.000000</td>\n",
       "      <td>16.000000</td>\n",
       "      <td>15.500000</td>\n",
       "      <td>16.000000</td>\n",
       "      <td>42.000000</td>\n",
       "      <td>20000.000000</td>\n",
       "      <td>...</td>\n",
       "      <td>5.000000</td>\n",
       "      <td>5.000000</td>\n",
       "      <td>5.000000</td>\n",
       "      <td>5.000000</td>\n",
       "      <td>5.000000</td>\n",
       "      <td>1154.000000</td>\n",
       "      <td>1154.000000</td>\n",
       "      <td>739.000000</td>\n",
       "      <td>4.000000</td>\n",
       "      <td>116.300000</td>\n",
       "    </tr>\n",
       "    <tr>\n",
       "      <th>std</th>\n",
       "      <td>NaN</td>\n",
       "      <td>0.173547</td>\n",
       "      <td>0.232501</td>\n",
       "      <td>1000.361076</td>\n",
       "      <td>1196.815995</td>\n",
       "      <td>1.903900</td>\n",
       "      <td>0.442243</td>\n",
       "      <td>0.869987</td>\n",
       "      <td>0.984719</td>\n",
       "      <td>277.145183</td>\n",
       "      <td>...</td>\n",
       "      <td>0.423313</td>\n",
       "      <td>0.317409</td>\n",
       "      <td>0.345344</td>\n",
       "      <td>0.331185</td>\n",
       "      <td>0.413567</td>\n",
       "      <td>224.585038</td>\n",
       "      <td>200.899492</td>\n",
       "      <td>109.136674</td>\n",
       "      <td>0.086848</td>\n",
       "      <td>1.584030</td>\n",
       "    </tr>\n",
       "  </tbody>\n",
       "</table>\n",
       "<p>8 rows × 36 columns</p>\n",
       "</div>"
      ],
      "text/plain": [
       "                          host_since  host_response_rate  \\\n",
       "count                          37784        37784.000000   \n",
       "mean   2017-03-06 09:48:26.373067776            0.952508   \n",
       "min              2008-08-11 00:00:00            0.000000   \n",
       "25%              2014-07-07 00:00:00            1.000000   \n",
       "50%              2016-08-02 00:00:00            1.000000   \n",
       "75%              2019-10-29 00:00:00            1.000000   \n",
       "max              2024-12-27 00:00:00            1.000000   \n",
       "std                              NaN            0.173547   \n",
       "\n",
       "       host_acceptance_rate  host_listings_count  host_total_listings_count  \\\n",
       "count          37784.000000         37784.000000               37784.000000   \n",
       "mean               0.812859           263.054864                 351.429229   \n",
       "min                0.000000             1.000000                   1.000000   \n",
       "25%                0.840000             1.000000                   1.000000   \n",
       "50%                0.880000             2.000000                   3.000000   \n",
       "75%                0.950000            10.000000                  15.000000   \n",
       "max                1.000000          5079.000000                9048.000000   \n",
       "std                0.232501          1000.361076                1196.815995   \n",
       "\n",
       "       accommodates     bathrooms      bedrooms          beds         price  \\\n",
       "count  37784.000000  37784.000000  37784.000000  37784.000000  37784.000000   \n",
       "mean       2.754896      1.119654      1.321723      1.383946    170.434126   \n",
       "min        1.000000      0.000000      0.000000      0.000000      8.000000   \n",
       "25%        2.000000      1.000000      1.000000      1.000000    113.750000   \n",
       "50%        2.000000      1.000000      1.000000      1.000000    132.000000   \n",
       "75%        4.000000      1.000000      1.000000      1.000000    156.000000   \n",
       "max       16.000000     15.500000     16.000000     42.000000  20000.000000   \n",
       "std        1.903900      0.442243      0.869987      0.984719    277.145183   \n",
       "\n",
       "       ...  review_scores_cleanliness  review_scores_checkin  \\\n",
       "count  ...               37784.000000           37784.000000   \n",
       "mean   ...                   4.704505               4.870094   \n",
       "min    ...                   0.000000               0.000000   \n",
       "25%    ...                   4.690000               4.890000   \n",
       "50%    ...                   4.810000               4.950000   \n",
       "75%    ...                   4.910000               5.000000   \n",
       "max    ...                   5.000000               5.000000   \n",
       "std    ...                   0.423313               0.317409   \n",
       "\n",
       "       review_scores_communication  review_scores_location  \\\n",
       "count                 37784.000000            37784.000000   \n",
       "mean                      4.867555                4.775639   \n",
       "min                       0.000000                0.000000   \n",
       "25%                       4.900000                4.750000   \n",
       "50%                       4.960000                4.850000   \n",
       "75%                       5.000000                4.950000   \n",
       "max                       5.000000                5.000000   \n",
       "std                       0.345344                0.331185   \n",
       "\n",
       "       review_scores_value  calculated_host_listings_count  \\\n",
       "count         37784.000000                    37784.000000   \n",
       "mean              4.676217                       71.636354   \n",
       "min               0.000000                        1.000000   \n",
       "25%               4.670000                        1.000000   \n",
       "50%               4.760000                        2.000000   \n",
       "75%               4.850000                        9.000000   \n",
       "max               5.000000                     1154.000000   \n",
       "std               0.413567                      224.585038   \n",
       "\n",
       "       calculated_host_listings_count_entire_homes  \\\n",
       "count                                 37784.000000   \n",
       "mean                                     45.435555   \n",
       "min                                       0.000000   \n",
       "25%                                       0.000000   \n",
       "50%                                       1.000000   \n",
       "75%                                       2.000000   \n",
       "max                                    1154.000000   \n",
       "std                                     200.899492   \n",
       "\n",
       "       calculated_host_listings_count_private_rooms  \\\n",
       "count                                  37784.000000   \n",
       "mean                                      23.985232   \n",
       "min                                        0.000000   \n",
       "25%                                        0.000000   \n",
       "50%                                        1.000000   \n",
       "75%                                        2.000000   \n",
       "max                                      739.000000   \n",
       "std                                      109.136674   \n",
       "\n",
       "      calculated_host_listings_count_shared_rooms  reviews_per_month  \n",
       "count                                37784.000000       37784.000000  \n",
       "mean                                     0.005187           0.685365  \n",
       "min                                      0.000000           0.010000  \n",
       "25%                                      0.000000           0.160000  \n",
       "50%                                      0.000000           0.290000  \n",
       "75%                                      0.000000           0.550000  \n",
       "max                                      4.000000         116.300000  \n",
       "std                                      0.086848           1.584030  \n",
       "\n",
       "[8 rows x 36 columns]"
      ]
     },
     "execution_count": 8,
     "metadata": {},
     "output_type": "execute_result"
    }
   ],
   "source": [
    "df_cleaned.describe().drop(columns=['latitude', 'longitude', 'host_id'])"
   ]
  },
  {
   "cell_type": "markdown",
   "metadata": {},
   "source": [
    "## Q1. How does host identity verification influence the success of a listing (in terms of reviews and ratings)?"
   ]
  },
  {
   "cell_type": "markdown",
   "metadata": {},
   "source": [
    "The box plot shows that verified hosts (host_identity_verified = t) have many extreme outliers in both the number of reviews (number_of_reviews) and the ratings (review_scores_rating). Notably, the extreme values for the number of reviews tend to be higher, whereas the extreme values for ratings tend to be lower. This suggests that while verified hosts are more active and receive a larger number of reviews, some of them may also experience lower ratings.\n",
    "\n",
    "From a market competitiveness perspective, this indicates that being verified is associated with a higher volume of guest feedback, but it does not guarantee consistently high ratings. In other words, although professional or commercial hosts who are verified might attract more guests, they may also face challenges in maintaining high guest satisfaction levels. Further analysis is needed to explore whether these lower ratings are due to factors like over-commercialization or other operational issues."
   ]
  },
  {
   "cell_type": "code",
   "execution_count": 9,
   "metadata": {},
   "outputs": [
    {
     "data": {
      "application/vnd.vegalite.v5+json": {
       "$schema": "https://vega.github.io/schema/vega-lite/v5.20.1.json",
       "config": {
        "view": {
         "continuousHeight": 300,
         "continuousWidth": 300
        }
       },
       "data": {
        "format": {
         "type": "json"
        },
        "url": "altairdata\\altair-data-38ae0a4f42aef2f35822a174ea81625f.json"
       },
       "hconcat": [
        {
         "encoding": {
          "color": {
           "field": "host_identity_verified",
           "type": "nominal"
          },
          "tooltip": [
           {
            "field": "host_identity_verified",
            "type": "nominal"
           },
           {
            "field": "number_of_reviews",
            "type": "quantitative"
           }
          ],
          "x": {
           "field": "host_identity_verified",
           "type": "nominal"
          },
          "y": {
           "field": "number_of_reviews",
           "type": "quantitative"
          }
         },
         "mark": {
          "type": "boxplot"
         },
         "title": "Reviews by Host Verification Status"
        },
        {
         "encoding": {
          "color": {
           "field": "host_identity_verified",
           "type": "nominal"
          },
          "tooltip": [
           {
            "field": "host_identity_verified",
            "type": "nominal"
           },
           {
            "field": "review_scores_rating",
            "type": "quantitative"
           }
          ],
          "x": {
           "field": "host_identity_verified",
           "type": "nominal"
          },
          "y": {
           "field": "review_scores_rating",
           "type": "quantitative"
          }
         },
         "mark": {
          "type": "boxplot"
         },
         "title": "Review Ratings by Host Verification Status"
        }
       ]
      },
      "image/png": "[encoded data removed]",
      "text/plain": [
       "<VegaLite 5 object>\n",
       "\n",
       "If you see this message, it means the renderer has not been properly enabled\n",
       "for the frontend that you are using. For more information, see\n",
       "https://altair-viz.github.io/user_guide/display_frontends.html#troubleshooting\n"
      ]
     },
     "execution_count": 9,
     "metadata": {},
     "output_type": "execute_result"
    }
   ],
   "source": [
    "df_identity = df_cleaned[[\"host_identity_verified\", \"number_of_reviews\", \"review_scores_rating\"]]\n",
    "\n",
    "identity_reviews = alt.Chart(df_identity).mark_boxplot().encode(\n",
    "    alt.X(\"host_identity_verified:N\"),\n",
    "    alt.Y(\"number_of_reviews:Q\"),\n",
    "    alt.Color(\"host_identity_verified:N\"),\n",
    "    tooltip=[\"host_identity_verified\", \"number_of_reviews\"]\n",
    ").properties(\n",
    "    title=\"Reviews by Host Verification Status\"\n",
    ")\n",
    "\n",
    "identity_rating = alt.Chart(df_identity).mark_boxplot().encode(\n",
    "    alt.X(\"host_identity_verified:N\"),\n",
    "    alt.Y(\"review_scores_rating:Q\"),\n",
    "    alt.Color(\"host_identity_verified:N\"),\n",
    "    tooltip=[\"host_identity_verified\", \"review_scores_rating\"]\n",
    ").properties(\n",
    "    title=\"Review Ratings by Host Verification Status\"\n",
    ")\n",
    "\n",
    "identity_reviews | identity_rating\n"
   ]
  },
  {
   "cell_type": "markdown",
   "metadata": {},
   "source": [
    "## Q2. How do host responses (e.g. response time, acceptance rate) differ between superhosts and non-superhosts, and how does this impact listing success?"
   ]
  },
  {
   "cell_type": "markdown",
   "metadata": {
    "tags": []
   },
   "source": [
    "The stacked bar chart shows the distribution of response times among superhosts and non-superhosts. We can see that superhosts have a higher proportion of faster response times (e.g., “within an hour” or “within a few hours”) compared to non-superhosts. This suggests that superhosts may prioritize prompt communication as part of their competitive strategy. On the other hand, a greater share of non-superhosts fall into slower categories or have “No response time,” which could reduce their competitiveness if guests prefer hosts who reply quickly.\n",
    "\n",
    "The box plot indicates that superhosts generally have higher acceptance rates, although there is some overlap. A higher acceptance rate means these hosts are more likely to accept booking requests, which can lead to more reviews and higher visibility in the Airbnb marketplace. However, some non-superhosts also exhibit relatively high acceptance rates, suggesting that being a superhost is not the only way to maintain a competitive edge.\n",
    "\n",
    "From a Host Behavior & Market Competitiveness standpoint, these findings imply that faster response times and higher acceptance rates may serve as strategic advantages. Hosts who respond quickly and accept more reservations could attract more guests, leading to better listing performance. While superhost status often aligns with these behaviors, non-superhosts can still compete by adopting similar strategies. In future analyses, examining how these behaviors relate to listing success metrics (e.g., number of reviews, average ratings, or booking frequency) would clarify the direct impact on market competitiveness."
   ]
  },
  {
   "cell_type": "code",
   "execution_count": 10,
   "metadata": {
    "tags": []
   },
   "outputs": [
    {
     "data": {
      "application/vnd.vegalite.v5+json": {
       "$schema": "https://vega.github.io/schema/vega-lite/v5.20.1.json",
       "config": {
        "view": {
         "continuousHeight": 300,
         "continuousWidth": 300
        }
       },
       "hconcat": [
        {
         "data": {
          "format": {
           "type": "json"
          },
          "url": "altairdata\\altair-data-cf05fae8a5c36cdd0ba137728cc43121.json"
         },
         "encoding": {
          "color": {
           "field": "host_is_superhost",
           "title": "Superhost Status",
           "type": "nominal"
          },
          "tooltip": [
           {
            "field": "host_response_time",
            "type": "nominal"
           },
           {
            "field": "proportion",
            "type": "quantitative"
           },
           {
            "field": "host_is_superhost",
            "type": "nominal"
           }
          ],
          "x": {
           "field": "host_response_time",
           "sort": [
            "within an hour",
            "within a few hours",
            "within a day",
            "a few days or more",
            "No response time"
           ],
           "title": "Host Response Time",
           "type": "ordinal"
          },
          "y": {
           "field": "proportion",
           "stack": "normalize",
           "title": "Proportion of Hosts",
           "type": "quantitative"
          }
         },
         "mark": {
          "type": "bar"
         },
         "title": "Normalized Proportion of Hosts by Response Time for Superhosts vs Non-Superhosts"
        },
        {
         "data": {
          "format": {
           "type": "json"
          },
          "url": "altairdata\\altair-data-db92f7dbaea4d1fae82965a4cd30aa6e.json"
         },
         "encoding": {
          "color": {
           "field": "host_is_superhost",
           "type": "nominal"
          },
          "x": {
           "field": "host_is_superhost",
           "type": "nominal"
          },
          "y": {
           "field": "host_acceptance_rate",
           "type": "quantitative"
          }
         },
         "mark": {
          "type": "boxplot"
         },
         "title": "Acceptance Rate Distribution for Superhosts vs Non-Superhosts"
        }
       ]
      },
      "image/png": "[encoded data removed]",
      "text/plain": [
       "<VegaLite 5 object>\n",
       "\n",
       "If you see this message, it means the renderer has not been properly enabled\n",
       "for the frontend that you are using. For more information, see\n",
       "https://altair-viz.github.io/user_guide/display_frontends.html#troubleshooting\n"
      ]
     },
     "execution_count": 10,
     "metadata": {},
     "output_type": "execute_result"
    }
   ],
   "source": [
    "response_time_order = [\"within an hour\", \"within a few hours\", \"within a day\", \"a few days or more\", \"No response time\"]\n",
    "\n",
    "df_host_responses = df_cleaned[[\"host_is_superhost\", \"host_response_time\", \"host_acceptance_rate\", \"number_of_reviews\", \"review_scores_rating\"]]\n",
    "df_host_responses.loc[:, \"host_response_time\"] = pd.Categorical(df_host_responses[\"host_response_time\"], categories=response_time_order, ordered=True)\n",
    "\n",
    "grouped_data = df_host_responses.groupby([\"host_is_superhost\", \"host_response_time\"]).size().reset_index(name=\"count\")\n",
    "total_counts = grouped_data.groupby(\"host_is_superhost\")[\"count\"].transform(\"sum\")\n",
    "grouped_data[\"proportion\"] = grouped_data[\"count\"] / total_counts\n",
    "\n",
    "normalized_chart = alt.Chart(grouped_data).mark_bar().encode(\n",
    "    alt.X(\"host_response_time:O\", sort=response_time_order, title=\"Host Response Time\"),\n",
    "    alt.Y(\"proportion:Q\", title=\"Proportion of Hosts\", stack=\"normalize\"),\n",
    "    alt.Color(\"host_is_superhost:N\", title=\"Superhost Status\"),\n",
    "    alt.Tooltip([\"host_response_time:N\", \"proportion:Q\", \"host_is_superhost:N\"])\n",
    ").properties(\n",
    "    title=\"Normalized Proportion of Hosts by Response Time for Superhosts vs Non-Superhosts\"\n",
    ")\n",
    "\n",
    "acceptance_rate_plot = alt.Chart(df_host_responses).mark_boxplot().encode(\n",
    "    alt.X(\"host_is_superhost:N\"),  \n",
    "    alt.Y(\"host_acceptance_rate:Q\"),  \n",
    "    alt.Color(\"host_is_superhost:N\")\n",
    ").properties(\n",
    "    title=\"Acceptance Rate Distribution for Superhosts vs Non-Superhosts\"\n",
    ")\n",
    "\n",
    "normalized_chart | acceptance_rate_plot\n"
   ]
  },
  {
   "cell_type": "markdown",
   "metadata": {},
   "source": [
    "## Q3. How do hosts with multiple listings strategically set their pricing, and how does this impact guest satisfaction?"
   ]
  },
  {
   "cell_type": "markdown",
   "metadata": {},
   "source": [
    "This plot illustrates how hosts with varying numbers of listings set their average price, and how those listings are rated by guests. Overall, it appears that hosts with multiple listings may keep their prices lower to remain competitive and attract more guests. On the other hand, hosts with fewer listings may set higher prices, possibly offering more unique experiences or specialized services. This finding highlights how host strategies influence pricing and gives insight into market competitiveness. \n",
    "\n",
    "However, from the colour scale (guest ratings), we observe that higher or lower pricing strategies do not uniformly guarantee higher guest satisfaction. While certain bins with many listings show slightly lower average ratings, others remain comparable to those of hosts with fewer listings. This suggests that pricing alone may not be the sole driver of guest satisfaction, and that other factors, such as property type, location, or host responsiveness could also influence how guests perceive their stay.\n"
   ]
  },
  {
   "cell_type": "code",
   "execution_count": 11,
   "metadata": {
    "tags": []
   },
   "outputs": [
    {
     "data": {
      "application/vnd.vegalite.v5+json": {
       "$schema": "https://vega.github.io/schema/vega-lite/v5.20.1.json",
       "config": {
        "view": {
         "continuousHeight": 300,
         "continuousWidth": 300
        }
       },
       "data": {
        "format": {
         "type": "json"
        },
        "url": "altairdata\\altair-data-1346c2f1775e051cda46b1b845d6a453.json"
       },
       "encoding": {
        "color": {
         "aggregate": "mean",
         "field": "review_scores_rating",
         "scale": {
          "scheme": "blues"
         },
         "type": "quantitative"
        },
        "tooltip": [
         {
          "field": "calculated_host_listings_count",
          "type": "quantitative"
         },
         {
          "aggregate": "mean",
          "field": "price",
          "type": "quantitative"
         },
         {
          "aggregate": "mean",
          "field": "review_scores_rating",
          "type": "quantitative"
         }
        ],
        "x": {
         "bin": {
          "maxbins": 20
         },
         "field": "calculated_host_listings_count",
         "type": "quantitative"
        },
        "y": {
         "aggregate": "mean",
         "field": "price",
         "type": "quantitative"
        }
       },
       "mark": {
        "type": "bar"
       },
       "title": "Average Price vs Listings Count (Colour by Guest Rating)"
      },
      "image/png": "[encoded data removed]",
      "text/plain": [
       "<VegaLite 5 object>\n",
       "\n",
       "If you see this message, it means the renderer has not been properly enabled\n",
       "for the frontend that you are using. For more information, see\n",
       "https://altair-viz.github.io/user_guide/display_frontends.html#troubleshooting\n"
      ]
     },
     "execution_count": 11,
     "metadata": {},
     "output_type": "execute_result"
    }
   ],
   "source": [
    "df_listings_price_reviews = df_cleaned[[\"calculated_host_listings_count\", \"price\", \"review_scores_rating\"]]\n",
    "\n",
    "bar_graph = alt.Chart(df_listings_price_reviews).mark_bar().encode(\n",
    "    alt.X(\"calculated_host_listings_count:Q\", bin=alt.BinParams(maxbins=20)),  \n",
    "    alt.Y(\"mean(price):Q\"),  \n",
    "    alt.Color(\"mean(review_scores_rating):Q\", scale=alt.Scale(scheme=\"blues\")), \n",
    "    alt.Tooltip([\"calculated_host_listings_count:Q\", \"mean(price):Q\", \"mean(review_scores_rating):Q\"])  \n",
    ").properties(\n",
    "    title=\"Average Price vs Listings Count (Colour by Guest Rating)\"\n",
    ")\n",
    "\n",
    "bar_graph\n"
   ]
  },
  {
   "cell_type": "markdown",
   "metadata": {},
   "source": [
    "# Task Analysis"
   ]
  },
  {
   "cell_type": "markdown",
   "metadata": {},
   "source": [
    "### Q1"
   ]
  },
  {
   "cell_type": "markdown",
   "metadata": {},
   "source": [
    "1. Retrieve Value: host_identity_verified, number_of_reviews, review_scores_rating.\n",
    "2. Filter: Separate data into two groups (verified hosts (\"t\") vs non-verified hosts (\"f\")) to compare their success.\n",
    "3. Characterize Distribution: Use boxplots and histograms to visualize the distribution of number_of_reviews and review_scores_rating.\n",
    "4. Correlate: Compare the average review count and rating for verified vs. non-verified hosts to see if verification improves success.\n",
    "5. Find Extremum: Identify the hosts with the highest or lowest reviews and ratings in both groups to check for unusual trends."
   ]
  },
  {
   "cell_type": "markdown",
   "metadata": {},
   "source": [
    "### Q2"
   ]
  },
  {
   "cell_type": "markdown",
   "metadata": {},
   "source": [
    "1. Retrieve Value (Extract Data): host_is_superhost, host_response_time, host_acceptance_rate, number_of_reviews, review_scores_rating. \n",
    "2. Filter: Split data into superhosts (host_is_superhost = 't') vs non-superhosts (host_is_superhost = 'f') to compare performance.\n",
    "3. Sort: Group host_response_time into categories to observe response speed trends.\n",
    "4. Characterize Distribution: Use stacked bar chart to show the proportion of response times for superhosts vs non-superhosts. Also, create boxplot to compare host_acceptance_rate to see if superhosts have higher booking acceptance.\n",
    "5. Correlate: Analyze how host_response_time and host_acceptance_rate influence number_of_reviews and review_scores_rating.\n",
    "6. Find Extremum: Identify superhosts with the highest or lowest acceptance rates and compare their success metrics."
   ]
  },
  {
   "cell_type": "markdown",
   "metadata": {},
   "source": [
    "### Q3"
   ]
  },
  {
   "cell_type": "markdown",
   "metadata": {},
   "source": [
    "1. Retrieve Value: Extract \"calculated_host_listings_count\", \"price\", \"review_scores_rating\".\n",
    "2. Filter: Group calculated_host_listings_count into bins (e.g. 1-5, 6-20, 21-100) and compare price and ratings across groups.\n",
    "3. Compute Derived Value: Create Price_Rating_Ratio = price / review_scores_rating to analyze if higher prices lead to lower ratings.\n",
    "4. Characterize Distribution: Use bar chart to show how the average price changes based on the number of listings a host owns. Also, use review_scores_rating as a colour scale to examine its relationship with pricing strategies.\n",
    "5. Correlate: Investigate how the number of listings affects pricing and whether pricing influences review_scores_rating.\n",
    "6. Find Extremum: \n",
    "- Identify hosts with the most listings and compare their pricing strategies.\n",
    "- Identify highest-priced vs lowest-priced listings and compare their guest satisfaction ratings."
   ]
  }
 ],
 "metadata": {
  "kernelspec": {
   "display_name": "Python 3 (ipykernel)",
   "language": "python",
   "name": "python3"
  },
  "language_info": {
   "codemirror_mode": {
    "name": "ipython",
    "version": 3
   },
   "file_extension": ".py",
   "mimetype": "text/x-python",
   "name": "python",
   "nbconvert_exporter": "python",
   "pygments_lexer": "ipython3",
   "version": "3.12.3"
  }
 },
 "nbformat": 4,
 "nbformat_minor": 4
}
