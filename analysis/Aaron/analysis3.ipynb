{
 "cells": [
  {
   "cell_type": "markdown",
   "metadata": {},
   "source": [
    "# Aaron Ma"
   ]
  },
  {
   "cell_type": "markdown",
   "metadata": {},
   "source": [
    "### Location\n",
    "How Does Location influence Listing Features and Host Decision-Making and Booking Preferences?\n",
    "\n",
    "#### Key research questions\n",
    "- What role does instant-bookability serve as an incentive booster for less popular neighbourhoods?\n",
    "- Is there a difference in host behavior (host identity verified, calculated host listings count) by location?\n",
    "- Is it 'easier' to be a superhost compared to typical hosts in terms of host behavior and pricing in certain locations?"
   ]
  },
  {
   "cell_type": "markdown",
   "metadata": {},
   "source": [
    "## EDA"
   ]
  },
  {
   "cell_type": "markdown",
   "metadata": {},
   "source": [
    "### Imports"
   ]
  },
  {
   "cell_type": "code",
   "execution_count": 1,
   "metadata": {},
   "outputs": [],
   "source": [
    "import sys\n",
    "import os\n",
    "\n",
    "sys.path.append(os.path.abspath(\"../../code\"))\n",
    "\n",
    "import altair as alt\n",
    "import pandas as pd\n",
    "\n",
    "from toolz.curried import pipe\n",
    "\n",
    "def json_dir(data, data_dir='altairdata'):\n",
    "    os.makedirs(data_dir, exist_ok=True)\n",
    "    return pipe(data, alt.to_json(filename=data_dir + '/{prefix}-{hash}.{extension}') )\n",
    "\n",
    "# Register and enable the new transformer\n",
    "alt.data_transformers.register('json_dir', json_dir)\n",
    "alt.data_transformers.enable('json_dir')\n",
    "\n",
    "# Handle large data sets (default shows only 5000)\n",
    "# See here: https://altair-viz.github.io/user_guide/data_transformers.html\n",
    "alt.data_transformers.disable_max_rows()\n",
    "\n",
    "alt.renderers.enable('jupyterlab')\n",
    "\n",
    "sys.path.append(os.path.abspath(\"../../code\"))\n",
    "from cleaning_workflows import prepare_dataset"
   ]
  },
  {
   "cell_type": "markdown",
   "metadata": {},
   "source": [
    "### Loading in the data"
   ]
  },
  {
   "cell_type": "code",
   "execution_count": 2,
   "metadata": {},
   "outputs": [
    {
     "data": {
      "text/html": [
       "<div>\n",
       "<style scoped>\n",
       "    .dataframe tbody tr th:only-of-type {\n",
       "        vertical-align: middle;\n",
       "    }\n",
       "\n",
       "    .dataframe tbody tr th {\n",
       "        vertical-align: top;\n",
       "    }\n",
       "\n",
       "    .dataframe thead th {\n",
       "        text-align: right;\n",
       "    }\n",
       "</style>\n",
       "<table border=\"1\" class=\"dataframe\">\n",
       "  <thead>\n",
       "    <tr style=\"text-align: right;\">\n",
       "      <th></th>\n",
       "      <th>id</th>\n",
       "      <th>listing_url</th>\n",
       "      <th>scrape_id</th>\n",
       "      <th>last_scraped</th>\n",
       "      <th>source</th>\n",
       "      <th>name</th>\n",
       "      <th>description</th>\n",
       "      <th>neighborhood_overview</th>\n",
       "      <th>picture_url</th>\n",
       "      <th>host_id</th>\n",
       "      <th>...</th>\n",
       "      <th>review_scores_communication</th>\n",
       "      <th>review_scores_location</th>\n",
       "      <th>review_scores_value</th>\n",
       "      <th>license</th>\n",
       "      <th>instant_bookable</th>\n",
       "      <th>calculated_host_listings_count</th>\n",
       "      <th>calculated_host_listings_count_entire_homes</th>\n",
       "      <th>calculated_host_listings_count_private_rooms</th>\n",
       "      <th>calculated_host_listings_count_shared_rooms</th>\n",
       "      <th>reviews_per_month</th>\n",
       "    </tr>\n",
       "  </thead>\n",
       "  <tbody>\n",
       "    <tr>\n",
       "      <th>0</th>\n",
       "      <td>39572</td>\n",
       "      <td>https://www.airbnb.com/rooms/39572</td>\n",
       "      <td>20250103033441</td>\n",
       "      <td>2025-01-03</td>\n",
       "      <td>city scrape</td>\n",
       "      <td>1 br in a 2 br apt (Midtown West)</td>\n",
       "      <td>NaN</td>\n",
       "      <td>NaN</td>\n",
       "      <td>https://a0.muscache.com/pictures/fd1bffd9-ccf8...</td>\n",
       "      <td>169927</td>\n",
       "      <td>...</td>\n",
       "      <td>5.00</td>\n",
       "      <td>4.98</td>\n",
       "      <td>4.86</td>\n",
       "      <td>NaN</td>\n",
       "      <td>f</td>\n",
       "      <td>2</td>\n",
       "      <td>1</td>\n",
       "      <td>1</td>\n",
       "      <td>0</td>\n",
       "      <td>0.25</td>\n",
       "    </tr>\n",
       "    <tr>\n",
       "      <th>1</th>\n",
       "      <td>39593</td>\n",
       "      <td>https://www.airbnb.com/rooms/39593</td>\n",
       "      <td>20250103033441</td>\n",
       "      <td>2025-01-03</td>\n",
       "      <td>city scrape</td>\n",
       "      <td>A lovely room w/ a Manhattan view</td>\n",
       "      <td>A private, furnished  large room to rent Jan/F...</td>\n",
       "      <td>Nate Silver called this super safe, clean, qui...</td>\n",
       "      <td>https://a0.muscache.com/pictures/0b9110f7-3b24...</td>\n",
       "      <td>110506</td>\n",
       "      <td>...</td>\n",
       "      <td>4.96</td>\n",
       "      <td>4.79</td>\n",
       "      <td>4.93</td>\n",
       "      <td>NaN</td>\n",
       "      <td>f</td>\n",
       "      <td>1</td>\n",
       "      <td>0</td>\n",
       "      <td>1</td>\n",
       "      <td>0</td>\n",
       "      <td>0.20</td>\n",
       "    </tr>\n",
       "    <tr>\n",
       "      <th>2</th>\n",
       "      <td>39704</td>\n",
       "      <td>https://www.airbnb.com/rooms/39704</td>\n",
       "      <td>20250103033441</td>\n",
       "      <td>2025-01-03</td>\n",
       "      <td>previous scrape</td>\n",
       "      <td>Private, Large &amp; Sunny 1BR w/W&amp;D</td>\n",
       "      <td>It's a No Brainer:&lt;br /&gt;•Terrific Space For Le...</td>\n",
       "      <td>The Neighborhood&lt;br /&gt;• Rich History &lt;br /&gt;• B...</td>\n",
       "      <td>https://a0.muscache.com/pictures/0bc4e8a4-c047...</td>\n",
       "      <td>170510</td>\n",
       "      <td>...</td>\n",
       "      <td>4.92</td>\n",
       "      <td>4.38</td>\n",
       "      <td>4.72</td>\n",
       "      <td>NaN</td>\n",
       "      <td>f</td>\n",
       "      <td>2</td>\n",
       "      <td>2</td>\n",
       "      <td>0</td>\n",
       "      <td>0</td>\n",
       "      <td>1.93</td>\n",
       "    </tr>\n",
       "    <tr>\n",
       "      <th>3</th>\n",
       "      <td>42300</td>\n",
       "      <td>https://www.airbnb.com/rooms/42300</td>\n",
       "      <td>20250103033441</td>\n",
       "      <td>2025-01-03</td>\n",
       "      <td>city scrape</td>\n",
       "      <td>Beautiful Lower East Side Loft</td>\n",
       "      <td>Architect-owned loft is a corner unit in a bea...</td>\n",
       "      <td>The apartment is in the border of Soho, LES an...</td>\n",
       "      <td>https://a0.muscache.com/pictures/0e285e13-ee14...</td>\n",
       "      <td>184755</td>\n",
       "      <td>...</td>\n",
       "      <td>4.87</td>\n",
       "      <td>4.57</td>\n",
       "      <td>4.62</td>\n",
       "      <td>NaN</td>\n",
       "      <td>f</td>\n",
       "      <td>1</td>\n",
       "      <td>1</td>\n",
       "      <td>0</td>\n",
       "      <td>0</td>\n",
       "      <td>0.40</td>\n",
       "    </tr>\n",
       "    <tr>\n",
       "      <th>4</th>\n",
       "      <td>42729</td>\n",
       "      <td>https://www.airbnb.com/rooms/42729</td>\n",
       "      <td>20250103033441</td>\n",
       "      <td>2025-01-03</td>\n",
       "      <td>city scrape</td>\n",
       "      <td>@HouseOnHenrySt - Private 2nd bedroom w/shared...</td>\n",
       "      <td>NaN</td>\n",
       "      <td>Lovely old Brooklyn neighborhood, with brick/b...</td>\n",
       "      <td>https://a0.muscache.com/pictures/925fe213-f5e1...</td>\n",
       "      <td>11481</td>\n",
       "      <td>...</td>\n",
       "      <td>4.73</td>\n",
       "      <td>4.58</td>\n",
       "      <td>4.64</td>\n",
       "      <td>NaN</td>\n",
       "      <td>f</td>\n",
       "      <td>4</td>\n",
       "      <td>1</td>\n",
       "      <td>3</td>\n",
       "      <td>0</td>\n",
       "      <td>1.26</td>\n",
       "    </tr>\n",
       "  </tbody>\n",
       "</table>\n",
       "<p>5 rows × 75 columns</p>\n",
       "</div>"
      ],
      "text/plain": [
       "      id                         listing_url       scrape_id last_scraped  \\\n",
       "0  39572  https://www.airbnb.com/rooms/39572  20250103033441   2025-01-03   \n",
       "1  39593  https://www.airbnb.com/rooms/39593  20250103033441   2025-01-03   \n",
       "2  39704  https://www.airbnb.com/rooms/39704  20250103033441   2025-01-03   \n",
       "3  42300  https://www.airbnb.com/rooms/42300  20250103033441   2025-01-03   \n",
       "4  42729  https://www.airbnb.com/rooms/42729  20250103033441   2025-01-03   \n",
       "\n",
       "            source                                               name  \\\n",
       "0      city scrape                  1 br in a 2 br apt (Midtown West)   \n",
       "1      city scrape                  A lovely room w/ a Manhattan view   \n",
       "2  previous scrape                   Private, Large & Sunny 1BR w/W&D   \n",
       "3      city scrape                     Beautiful Lower East Side Loft   \n",
       "4      city scrape  @HouseOnHenrySt - Private 2nd bedroom w/shared...   \n",
       "\n",
       "                                         description  \\\n",
       "0                                                NaN   \n",
       "1  A private, furnished  large room to rent Jan/F...   \n",
       "2  It's a No Brainer:<br />•Terrific Space For Le...   \n",
       "3  Architect-owned loft is a corner unit in a bea...   \n",
       "4                                                NaN   \n",
       "\n",
       "                               neighborhood_overview  \\\n",
       "0                                                NaN   \n",
       "1  Nate Silver called this super safe, clean, qui...   \n",
       "2  The Neighborhood<br />• Rich History <br />• B...   \n",
       "3  The apartment is in the border of Soho, LES an...   \n",
       "4  Lovely old Brooklyn neighborhood, with brick/b...   \n",
       "\n",
       "                                         picture_url  host_id  ...  \\\n",
       "0  https://a0.muscache.com/pictures/fd1bffd9-ccf8...   169927  ...   \n",
       "1  https://a0.muscache.com/pictures/0b9110f7-3b24...   110506  ...   \n",
       "2  https://a0.muscache.com/pictures/0bc4e8a4-c047...   170510  ...   \n",
       "3  https://a0.muscache.com/pictures/0e285e13-ee14...   184755  ...   \n",
       "4  https://a0.muscache.com/pictures/925fe213-f5e1...    11481  ...   \n",
       "\n",
       "  review_scores_communication review_scores_location review_scores_value  \\\n",
       "0                        5.00                   4.98                4.86   \n",
       "1                        4.96                   4.79                4.93   \n",
       "2                        4.92                   4.38                4.72   \n",
       "3                        4.87                   4.57                4.62   \n",
       "4                        4.73                   4.58                4.64   \n",
       "\n",
       "  license instant_bookable calculated_host_listings_count  \\\n",
       "0     NaN                f                              2   \n",
       "1     NaN                f                              1   \n",
       "2     NaN                f                              2   \n",
       "3     NaN                f                              1   \n",
       "4     NaN                f                              4   \n",
       "\n",
       "  calculated_host_listings_count_entire_homes  \\\n",
       "0                                           1   \n",
       "1                                           0   \n",
       "2                                           2   \n",
       "3                                           1   \n",
       "4                                           1   \n",
       "\n",
       "  calculated_host_listings_count_private_rooms  \\\n",
       "0                                            1   \n",
       "1                                            1   \n",
       "2                                            0   \n",
       "3                                            0   \n",
       "4                                            3   \n",
       "\n",
       "  calculated_host_listings_count_shared_rooms reviews_per_month  \n",
       "0                                           0              0.25  \n",
       "1                                           0              0.20  \n",
       "2                                           0              1.93  \n",
       "3                                           0              0.40  \n",
       "4                                           0              1.26  \n",
       "\n",
       "[5 rows x 75 columns]"
      ]
     },
     "execution_count": 2,
     "metadata": {},
     "output_type": "execute_result"
    }
   ],
   "source": [
    "data = pd.read_csv('../../data/raw/listings.csv', parse_dates=['first_review', 'last_review', 'host_since'])\n",
    "\n",
    "data.head()"
   ]
  },
  {
   "cell_type": "code",
   "execution_count": 3,
   "metadata": {},
   "outputs": [],
   "source": [
    "data = prepare_dataset(data)"
   ]
  },
  {
   "cell_type": "code",
   "execution_count": 4,
   "metadata": {},
   "outputs": [
    {
     "name": "stdout",
     "output_type": "stream",
     "text": [
      "(37784, 57)\n",
      "Index(['name', 'description', 'neighborhood_overview', 'host_id', 'host_since',\n",
      "       'host_location', 'host_about', 'host_response_time',\n",
      "       'host_response_rate', 'host_acceptance_rate', 'host_is_superhost',\n",
      "       'host_neighbourhood', 'host_listings_count',\n",
      "       'host_total_listings_count', 'host_verifications',\n",
      "       'host_has_profile_pic', 'host_identity_verified',\n",
      "       'neighbourhood_cleansed', 'neighbourhood_group_cleansed', 'latitude',\n",
      "       'longitude', 'property_type', 'room_type', 'accommodates', 'bathrooms',\n",
      "       'bedrooms', 'beds', 'amenities', 'price', 'minimum_nights',\n",
      "       'maximum_nights', 'minimum_nights_avg_ntm', 'maximum_nights_avg_ntm',\n",
      "       'has_availability', 'availability_30', 'availability_60',\n",
      "       'availability_90', 'availability_365', 'calendar_last_scraped',\n",
      "       'number_of_reviews', 'number_of_reviews_ltm', 'number_of_reviews_l30d',\n",
      "       'first_review', 'last_review', 'review_scores_rating',\n",
      "       'review_scores_accuracy', 'review_scores_cleanliness',\n",
      "       'review_scores_checkin', 'review_scores_communication',\n",
      "       'review_scores_location', 'review_scores_value', 'instant_bookable',\n",
      "       'calculated_host_listings_count',\n",
      "       'calculated_host_listings_count_entire_homes',\n",
      "       'calculated_host_listings_count_private_rooms',\n",
      "       'calculated_host_listings_count_shared_rooms', 'reviews_per_month'],\n",
      "      dtype='object')\n"
     ]
    }
   ],
   "source": [
    "print(data.shape)\n",
    "print(data.columns)"
   ]
  },
  {
   "cell_type": "code",
   "execution_count": 5,
   "metadata": {},
   "outputs": [
    {
     "name": "stdout",
     "output_type": "stream",
     "text": [
      "<class 'pandas.core.frame.DataFrame'>\n",
      "RangeIndex: 37784 entries, 0 to 37783\n",
      "Data columns (total 57 columns):\n",
      " #   Column                                        Non-Null Count  Dtype         \n",
      "---  ------                                        --------------  -----         \n",
      " 0   name                                          37784 non-null  object        \n",
      " 1   description                                   37784 non-null  object        \n",
      " 2   neighborhood_overview                         37784 non-null  object        \n",
      " 3   host_id                                       37784 non-null  int64         \n",
      " 4   host_since                                    37784 non-null  datetime64[ns]\n",
      " 5   host_location                                 37784 non-null  object        \n",
      " 6   host_about                                    37784 non-null  object        \n",
      " 7   host_response_time                            37784 non-null  object        \n",
      " 8   host_response_rate                            37784 non-null  float64       \n",
      " 9   host_acceptance_rate                          37784 non-null  float64       \n",
      " 10  host_is_superhost                             37784 non-null  bool          \n",
      " 11  host_neighbourhood                            37784 non-null  object        \n",
      " 12  host_listings_count                           37784 non-null  float64       \n",
      " 13  host_total_listings_count                     37784 non-null  float64       \n",
      " 14  host_verifications                            37784 non-null  object        \n",
      " 15  host_has_profile_pic                          37784 non-null  bool          \n",
      " 16  host_identity_verified                        37784 non-null  bool          \n",
      " 17  neighbourhood_cleansed                        37784 non-null  object        \n",
      " 18  neighbourhood_group_cleansed                  37784 non-null  object        \n",
      " 19  latitude                                      37784 non-null  float64       \n",
      " 20  longitude                                     37784 non-null  float64       \n",
      " 21  property_type                                 37784 non-null  object        \n",
      " 22  room_type                                     37784 non-null  object        \n",
      " 23  accommodates                                  37784 non-null  int64         \n",
      " 24  bathrooms                                     37784 non-null  float64       \n",
      " 25  bedrooms                                      37784 non-null  float64       \n",
      " 26  beds                                          37784 non-null  float64       \n",
      " 27  amenities                                     37784 non-null  object        \n",
      " 28  price                                         37784 non-null  float64       \n",
      " 29  minimum_nights                                37784 non-null  int64         \n",
      " 30  maximum_nights                                37784 non-null  int64         \n",
      " 31  minimum_nights_avg_ntm                        37784 non-null  float64       \n",
      " 32  maximum_nights_avg_ntm                        37784 non-null  float64       \n",
      " 33  has_availability                              37784 non-null  bool          \n",
      " 34  availability_30                               37784 non-null  int64         \n",
      " 35  availability_60                               37784 non-null  int64         \n",
      " 36  availability_90                               37784 non-null  int64         \n",
      " 37  availability_365                              37784 non-null  int64         \n",
      " 38  calendar_last_scraped                         37784 non-null  datetime64[ns]\n",
      " 39  number_of_reviews                             37784 non-null  int64         \n",
      " 40  number_of_reviews_ltm                         37784 non-null  int64         \n",
      " 41  number_of_reviews_l30d                        37784 non-null  int64         \n",
      " 42  first_review                                  37784 non-null  datetime64[ns]\n",
      " 43  last_review                                   37784 non-null  datetime64[ns]\n",
      " 44  review_scores_rating                          37784 non-null  float64       \n",
      " 45  review_scores_accuracy                        37784 non-null  float64       \n",
      " 46  review_scores_cleanliness                     37784 non-null  float64       \n",
      " 47  review_scores_checkin                         37784 non-null  float64       \n",
      " 48  review_scores_communication                   37784 non-null  float64       \n",
      " 49  review_scores_location                        37784 non-null  float64       \n",
      " 50  review_scores_value                           37784 non-null  float64       \n",
      " 51  instant_bookable                              37784 non-null  bool          \n",
      " 52  calculated_host_listings_count                37784 non-null  int64         \n",
      " 53  calculated_host_listings_count_entire_homes   37784 non-null  int64         \n",
      " 54  calculated_host_listings_count_private_rooms  37784 non-null  int64         \n",
      " 55  calculated_host_listings_count_shared_rooms   37784 non-null  int64         \n",
      " 56  reviews_per_month                             37784 non-null  float64       \n",
      "dtypes: bool(5), datetime64[ns](4), float64(20), int64(15), object(13)\n",
      "memory usage: 15.2+ MB\n"
     ]
    }
   ],
   "source": [
    "data.info()"
   ]
  },
  {
   "cell_type": "code",
   "execution_count": 6,
   "metadata": {},
   "outputs": [
    {
     "data": {
      "text/plain": [
       "name                                            0\n",
       "description                                     0\n",
       "neighborhood_overview                           0\n",
       "host_id                                         0\n",
       "host_since                                      0\n",
       "host_location                                   0\n",
       "host_about                                      0\n",
       "host_response_time                              0\n",
       "host_response_rate                              0\n",
       "host_acceptance_rate                            0\n",
       "host_is_superhost                               0\n",
       "host_neighbourhood                              0\n",
       "host_listings_count                             0\n",
       "host_total_listings_count                       0\n",
       "host_verifications                              0\n",
       "host_has_profile_pic                            0\n",
       "host_identity_verified                          0\n",
       "neighbourhood_cleansed                          0\n",
       "neighbourhood_group_cleansed                    0\n",
       "latitude                                        0\n",
       "longitude                                       0\n",
       "property_type                                   0\n",
       "room_type                                       0\n",
       "accommodates                                    0\n",
       "bathrooms                                       0\n",
       "bedrooms                                        0\n",
       "beds                                            0\n",
       "amenities                                       0\n",
       "price                                           0\n",
       "minimum_nights                                  0\n",
       "maximum_nights                                  0\n",
       "minimum_nights_avg_ntm                          0\n",
       "maximum_nights_avg_ntm                          0\n",
       "has_availability                                0\n",
       "availability_30                                 0\n",
       "availability_60                                 0\n",
       "availability_90                                 0\n",
       "availability_365                                0\n",
       "calendar_last_scraped                           0\n",
       "number_of_reviews                               0\n",
       "number_of_reviews_ltm                           0\n",
       "number_of_reviews_l30d                          0\n",
       "first_review                                    0\n",
       "last_review                                     0\n",
       "review_scores_rating                            0\n",
       "review_scores_accuracy                          0\n",
       "review_scores_cleanliness                       0\n",
       "review_scores_checkin                           0\n",
       "review_scores_communication                     0\n",
       "review_scores_location                          0\n",
       "review_scores_value                             0\n",
       "instant_bookable                                0\n",
       "calculated_host_listings_count                  0\n",
       "calculated_host_listings_count_entire_homes     0\n",
       "calculated_host_listings_count_private_rooms    0\n",
       "calculated_host_listings_count_shared_rooms     0\n",
       "reviews_per_month                               0\n",
       "dtype: int64"
      ]
     },
     "execution_count": 6,
     "metadata": {},
     "output_type": "execute_result"
    }
   ],
   "source": [
    "data.isna().sum()"
   ]
  },
  {
   "cell_type": "code",
   "execution_count": 7,
   "metadata": {},
   "outputs": [
    {
     "data": {
      "text/html": [
       "<div>\n",
       "<style scoped>\n",
       "    .dataframe tbody tr th:only-of-type {\n",
       "        vertical-align: middle;\n",
       "    }\n",
       "\n",
       "    .dataframe tbody tr th {\n",
       "        vertical-align: top;\n",
       "    }\n",
       "\n",
       "    .dataframe thead th {\n",
       "        text-align: right;\n",
       "    }\n",
       "</style>\n",
       "<table border=\"1\" class=\"dataframe\">\n",
       "  <thead>\n",
       "    <tr style=\"text-align: right;\">\n",
       "      <th></th>\n",
       "      <th>host_since</th>\n",
       "      <th>host_response_rate</th>\n",
       "      <th>host_acceptance_rate</th>\n",
       "      <th>host_listings_count</th>\n",
       "      <th>host_total_listings_count</th>\n",
       "      <th>accommodates</th>\n",
       "      <th>bathrooms</th>\n",
       "      <th>bedrooms</th>\n",
       "      <th>beds</th>\n",
       "      <th>price</th>\n",
       "      <th>...</th>\n",
       "      <th>review_scores_cleanliness</th>\n",
       "      <th>review_scores_checkin</th>\n",
       "      <th>review_scores_communication</th>\n",
       "      <th>review_scores_location</th>\n",
       "      <th>review_scores_value</th>\n",
       "      <th>calculated_host_listings_count</th>\n",
       "      <th>calculated_host_listings_count_entire_homes</th>\n",
       "      <th>calculated_host_listings_count_private_rooms</th>\n",
       "      <th>calculated_host_listings_count_shared_rooms</th>\n",
       "      <th>reviews_per_month</th>\n",
       "    </tr>\n",
       "  </thead>\n",
       "  <tbody>\n",
       "    <tr>\n",
       "      <th>count</th>\n",
       "      <td>37784</td>\n",
       "      <td>37784.000000</td>\n",
       "      <td>37784.000000</td>\n",
       "      <td>37784.000000</td>\n",
       "      <td>37784.000000</td>\n",
       "      <td>37784.000000</td>\n",
       "      <td>37784.000000</td>\n",
       "      <td>37784.000000</td>\n",
       "      <td>37784.000000</td>\n",
       "      <td>37784.000000</td>\n",
       "      <td>...</td>\n",
       "      <td>37784.000000</td>\n",
       "      <td>37784.000000</td>\n",
       "      <td>37784.000000</td>\n",
       "      <td>37784.000000</td>\n",
       "      <td>37784.000000</td>\n",
       "      <td>37784.000000</td>\n",
       "      <td>37784.000000</td>\n",
       "      <td>37784.000000</td>\n",
       "      <td>37784.000000</td>\n",
       "      <td>37784.000000</td>\n",
       "    </tr>\n",
       "    <tr>\n",
       "      <th>mean</th>\n",
       "      <td>2017-03-06 09:48:26.373067776</td>\n",
       "      <td>0.952508</td>\n",
       "      <td>0.812859</td>\n",
       "      <td>263.054864</td>\n",
       "      <td>351.429229</td>\n",
       "      <td>2.754896</td>\n",
       "      <td>1.119654</td>\n",
       "      <td>1.321723</td>\n",
       "      <td>1.383946</td>\n",
       "      <td>170.434126</td>\n",
       "      <td>...</td>\n",
       "      <td>4.704505</td>\n",
       "      <td>4.870094</td>\n",
       "      <td>4.867555</td>\n",
       "      <td>4.775639</td>\n",
       "      <td>4.676217</td>\n",
       "      <td>71.636354</td>\n",
       "      <td>45.435555</td>\n",
       "      <td>23.985232</td>\n",
       "      <td>0.005187</td>\n",
       "      <td>0.685365</td>\n",
       "    </tr>\n",
       "    <tr>\n",
       "      <th>min</th>\n",
       "      <td>2008-08-11 00:00:00</td>\n",
       "      <td>0.000000</td>\n",
       "      <td>0.000000</td>\n",
       "      <td>1.000000</td>\n",
       "      <td>1.000000</td>\n",
       "      <td>1.000000</td>\n",
       "      <td>0.000000</td>\n",
       "      <td>0.000000</td>\n",
       "      <td>0.000000</td>\n",
       "      <td>8.000000</td>\n",
       "      <td>...</td>\n",
       "      <td>0.000000</td>\n",
       "      <td>0.000000</td>\n",
       "      <td>0.000000</td>\n",
       "      <td>0.000000</td>\n",
       "      <td>0.000000</td>\n",
       "      <td>1.000000</td>\n",
       "      <td>0.000000</td>\n",
       "      <td>0.000000</td>\n",
       "      <td>0.000000</td>\n",
       "      <td>0.010000</td>\n",
       "    </tr>\n",
       "    <tr>\n",
       "      <th>25%</th>\n",
       "      <td>2014-07-07 00:00:00</td>\n",
       "      <td>1.000000</td>\n",
       "      <td>0.840000</td>\n",
       "      <td>1.000000</td>\n",
       "      <td>1.000000</td>\n",
       "      <td>2.000000</td>\n",
       "      <td>1.000000</td>\n",
       "      <td>1.000000</td>\n",
       "      <td>1.000000</td>\n",
       "      <td>113.750000</td>\n",
       "      <td>...</td>\n",
       "      <td>4.690000</td>\n",
       "      <td>4.890000</td>\n",
       "      <td>4.900000</td>\n",
       "      <td>4.750000</td>\n",
       "      <td>4.670000</td>\n",
       "      <td>1.000000</td>\n",
       "      <td>0.000000</td>\n",
       "      <td>0.000000</td>\n",
       "      <td>0.000000</td>\n",
       "      <td>0.160000</td>\n",
       "    </tr>\n",
       "    <tr>\n",
       "      <th>50%</th>\n",
       "      <td>2016-08-02 00:00:00</td>\n",
       "      <td>1.000000</td>\n",
       "      <td>0.880000</td>\n",
       "      <td>2.000000</td>\n",
       "      <td>3.000000</td>\n",
       "      <td>2.000000</td>\n",
       "      <td>1.000000</td>\n",
       "      <td>1.000000</td>\n",
       "      <td>1.000000</td>\n",
       "      <td>132.000000</td>\n",
       "      <td>...</td>\n",
       "      <td>4.810000</td>\n",
       "      <td>4.950000</td>\n",
       "      <td>4.960000</td>\n",
       "      <td>4.850000</td>\n",
       "      <td>4.760000</td>\n",
       "      <td>2.000000</td>\n",
       "      <td>1.000000</td>\n",
       "      <td>1.000000</td>\n",
       "      <td>0.000000</td>\n",
       "      <td>0.290000</td>\n",
       "    </tr>\n",
       "    <tr>\n",
       "      <th>75%</th>\n",
       "      <td>2019-10-29 00:00:00</td>\n",
       "      <td>1.000000</td>\n",
       "      <td>0.950000</td>\n",
       "      <td>10.000000</td>\n",
       "      <td>15.000000</td>\n",
       "      <td>4.000000</td>\n",
       "      <td>1.000000</td>\n",
       "      <td>1.000000</td>\n",
       "      <td>1.000000</td>\n",
       "      <td>156.000000</td>\n",
       "      <td>...</td>\n",
       "      <td>4.910000</td>\n",
       "      <td>5.000000</td>\n",
       "      <td>5.000000</td>\n",
       "      <td>4.950000</td>\n",
       "      <td>4.850000</td>\n",
       "      <td>9.000000</td>\n",
       "      <td>2.000000</td>\n",
       "      <td>2.000000</td>\n",
       "      <td>0.000000</td>\n",
       "      <td>0.550000</td>\n",
       "    </tr>\n",
       "    <tr>\n",
       "      <th>max</th>\n",
       "      <td>2024-12-27 00:00:00</td>\n",
       "      <td>1.000000</td>\n",
       "      <td>1.000000</td>\n",
       "      <td>5079.000000</td>\n",
       "      <td>9048.000000</td>\n",
       "      <td>16.000000</td>\n",
       "      <td>15.500000</td>\n",
       "      <td>16.000000</td>\n",
       "      <td>42.000000</td>\n",
       "      <td>20000.000000</td>\n",
       "      <td>...</td>\n",
       "      <td>5.000000</td>\n",
       "      <td>5.000000</td>\n",
       "      <td>5.000000</td>\n",
       "      <td>5.000000</td>\n",
       "      <td>5.000000</td>\n",
       "      <td>1154.000000</td>\n",
       "      <td>1154.000000</td>\n",
       "      <td>739.000000</td>\n",
       "      <td>4.000000</td>\n",
       "      <td>116.300000</td>\n",
       "    </tr>\n",
       "    <tr>\n",
       "      <th>std</th>\n",
       "      <td>NaN</td>\n",
       "      <td>0.173547</td>\n",
       "      <td>0.232501</td>\n",
       "      <td>1000.361076</td>\n",
       "      <td>1196.815995</td>\n",
       "      <td>1.903900</td>\n",
       "      <td>0.442243</td>\n",
       "      <td>0.869987</td>\n",
       "      <td>0.984719</td>\n",
       "      <td>277.145183</td>\n",
       "      <td>...</td>\n",
       "      <td>0.423313</td>\n",
       "      <td>0.317409</td>\n",
       "      <td>0.345344</td>\n",
       "      <td>0.331185</td>\n",
       "      <td>0.413567</td>\n",
       "      <td>224.585038</td>\n",
       "      <td>200.899492</td>\n",
       "      <td>109.136674</td>\n",
       "      <td>0.086848</td>\n",
       "      <td>1.584030</td>\n",
       "    </tr>\n",
       "  </tbody>\n",
       "</table>\n",
       "<p>8 rows × 36 columns</p>\n",
       "</div>"
      ],
      "text/plain": [
       "                          host_since  host_response_rate  \\\n",
       "count                          37784        37784.000000   \n",
       "mean   2017-03-06 09:48:26.373067776            0.952508   \n",
       "min              2008-08-11 00:00:00            0.000000   \n",
       "25%              2014-07-07 00:00:00            1.000000   \n",
       "50%              2016-08-02 00:00:00            1.000000   \n",
       "75%              2019-10-29 00:00:00            1.000000   \n",
       "max              2024-12-27 00:00:00            1.000000   \n",
       "std                              NaN            0.173547   \n",
       "\n",
       "       host_acceptance_rate  host_listings_count  host_total_listings_count  \\\n",
       "count          37784.000000         37784.000000               37784.000000   \n",
       "mean               0.812859           263.054864                 351.429229   \n",
       "min                0.000000             1.000000                   1.000000   \n",
       "25%                0.840000             1.000000                   1.000000   \n",
       "50%                0.880000             2.000000                   3.000000   \n",
       "75%                0.950000            10.000000                  15.000000   \n",
       "max                1.000000          5079.000000                9048.000000   \n",
       "std                0.232501          1000.361076                1196.815995   \n",
       "\n",
       "       accommodates     bathrooms      bedrooms          beds         price  \\\n",
       "count  37784.000000  37784.000000  37784.000000  37784.000000  37784.000000   \n",
       "mean       2.754896      1.119654      1.321723      1.383946    170.434126   \n",
       "min        1.000000      0.000000      0.000000      0.000000      8.000000   \n",
       "25%        2.000000      1.000000      1.000000      1.000000    113.750000   \n",
       "50%        2.000000      1.000000      1.000000      1.000000    132.000000   \n",
       "75%        4.000000      1.000000      1.000000      1.000000    156.000000   \n",
       "max       16.000000     15.500000     16.000000     42.000000  20000.000000   \n",
       "std        1.903900      0.442243      0.869987      0.984719    277.145183   \n",
       "\n",
       "       ...  review_scores_cleanliness  review_scores_checkin  \\\n",
       "count  ...               37784.000000           37784.000000   \n",
       "mean   ...                   4.704505               4.870094   \n",
       "min    ...                   0.000000               0.000000   \n",
       "25%    ...                   4.690000               4.890000   \n",
       "50%    ...                   4.810000               4.950000   \n",
       "75%    ...                   4.910000               5.000000   \n",
       "max    ...                   5.000000               5.000000   \n",
       "std    ...                   0.423313               0.317409   \n",
       "\n",
       "       review_scores_communication  review_scores_location  \\\n",
       "count                 37784.000000            37784.000000   \n",
       "mean                      4.867555                4.775639   \n",
       "min                       0.000000                0.000000   \n",
       "25%                       4.900000                4.750000   \n",
       "50%                       4.960000                4.850000   \n",
       "75%                       5.000000                4.950000   \n",
       "max                       5.000000                5.000000   \n",
       "std                       0.345344                0.331185   \n",
       "\n",
       "       review_scores_value  calculated_host_listings_count  \\\n",
       "count         37784.000000                    37784.000000   \n",
       "mean              4.676217                       71.636354   \n",
       "min               0.000000                        1.000000   \n",
       "25%               4.670000                        1.000000   \n",
       "50%               4.760000                        2.000000   \n",
       "75%               4.850000                        9.000000   \n",
       "max               5.000000                     1154.000000   \n",
       "std               0.413567                      224.585038   \n",
       "\n",
       "       calculated_host_listings_count_entire_homes  \\\n",
       "count                                 37784.000000   \n",
       "mean                                     45.435555   \n",
       "min                                       0.000000   \n",
       "25%                                       0.000000   \n",
       "50%                                       1.000000   \n",
       "75%                                       2.000000   \n",
       "max                                    1154.000000   \n",
       "std                                     200.899492   \n",
       "\n",
       "       calculated_host_listings_count_private_rooms  \\\n",
       "count                                  37784.000000   \n",
       "mean                                      23.985232   \n",
       "min                                        0.000000   \n",
       "25%                                        0.000000   \n",
       "50%                                        1.000000   \n",
       "75%                                        2.000000   \n",
       "max                                      739.000000   \n",
       "std                                      109.136674   \n",
       "\n",
       "      calculated_host_listings_count_shared_rooms  reviews_per_month  \n",
       "count                                37784.000000       37784.000000  \n",
       "mean                                     0.005187           0.685365  \n",
       "min                                      0.000000           0.010000  \n",
       "25%                                      0.000000           0.160000  \n",
       "50%                                      0.000000           0.290000  \n",
       "75%                                      0.000000           0.550000  \n",
       "max                                      4.000000         116.300000  \n",
       "std                                      0.086848           1.584030  \n",
       "\n",
       "[8 rows x 36 columns]"
      ]
     },
     "execution_count": 7,
     "metadata": {},
     "output_type": "execute_result"
    }
   ],
   "source": [
    "data.describe().drop(columns=['latitude', 'longitude', 'host_id'])"
   ]
  },
  {
   "cell_type": "code",
   "execution_count": 8,
   "metadata": {},
   "outputs": [
    {
     "data": {
      "application/vnd.vegalite.v5+json": {
       "$schema": "https://vega.github.io/schema/vega-lite/v5.20.1.json",
       "config": {
        "view": {
         "continuousHeight": 300,
         "continuousWidth": 300,
         "strokeWidth": 0
        }
       },
       "data": {
        "format": {
         "type": "json"
        },
        "url": "altairdata/altair-data-14d986522c35595a9b900b68239581dd.json"
       },
       "encoding": {
        "color": {
         "field": "Correlation",
         "type": "quantitative"
        },
        "tooltip": [
         {
          "field": "Feature1",
          "type": "nominal"
         },
         {
          "field": "Feature2",
          "type": "nominal"
         },
         {
          "field": "Correlation",
          "type": "quantitative"
         }
        ],
        "x": {
         "field": "Feature1",
         "type": "nominal"
        },
        "y": {
         "field": "Feature2",
         "type": "nominal"
        }
       },
       "height": 400,
       "mark": {
        "type": "rect"
       },
       "width": 400
      },
      "text/plain": [
       "<VegaLite 5 object>\n",
       "\n",
       "If you see this message, it means the renderer has not been properly enabled\n",
       "for the frontend that you are using. For more information, see\n",
       "https://altair-viz.github.io/user_guide/display_frontends.html#troubleshooting\n"
      ]
     },
     "metadata": {},
     "output_type": "display_data"
    }
   ],
   "source": [
    "# Filter out non-numeric columns\n",
    "numerical_df = data.select_dtypes(include=['int64', 'float64'])\n",
    "numerical_df = numerical_df.drop(columns=['host_id'])\n",
    "\n",
    "# Compute the correlation matrix\n",
    "correlation_matrix = numerical_df.corr()\n",
    "\n",
    "# Convert the correlation matrix into a long-form DataFrame\n",
    "corr_df = correlation_matrix.reset_index().melt(id_vars='index')\n",
    "corr_df.columns = ['Feature1', 'Feature2', 'Correlation']\n",
    "\n",
    "# Create the heatmap using Altair\n",
    "heatmap = alt.Chart(corr_df).mark_rect().encode(\n",
    "    x='Feature1:N',\n",
    "    y='Feature2:N',\n",
    "    color='Correlation:Q',\n",
    "    tooltip=['Feature1', 'Feature2', 'Correlation']\n",
    ").properties(\n",
    "    width=400,\n",
    "    height=400\n",
    ").configure_view(\n",
    "    strokeWidth=0  # Remove border around the chart\n",
    ")\n",
    "\n",
    "heatmap.show()"
   ]
  },
  {
   "cell_type": "code",
   "execution_count": 9,
   "metadata": {},
   "outputs": [
    {
     "data": {
      "application/vnd.vegalite.v5+json": {
       "$schema": "https://vega.github.io/schema/vega-lite/v5.20.1.json",
       "config": {
        "view": {
         "continuousHeight": 300,
         "continuousWidth": 300
        }
       },
       "data": {
        "format": {
         "type": "json"
        },
        "url": "altairdata/altair-data-2ac2a53ff79808e30db554c34bb0983e.json"
       },
       "encoding": {
        "x": {
         "bin": {
          "maxbins": 35
         },
         "field": "review_scores_rating",
         "scale": {
          "clamp": true,
          "domain": [
           2.5,
           5
          ]
         },
         "title": "Review Score Ratings (binned)",
         "type": "quantitative"
        },
        "y": {
         "aggregate": "count",
         "title": "Count of Review Score Ratings",
         "type": "quantitative"
        }
       },
       "mark": {
        "type": "bar"
       },
       "title": "Distribution of Review Score Ratings"
      },
      "text/plain": [
       "<VegaLite 5 object>\n",
       "\n",
       "If you see this message, it means the renderer has not been properly enabled\n",
       "for the frontend that you are using. For more information, see\n",
       "https://altair-viz.github.io/user_guide/display_frontends.html#troubleshooting\n"
      ]
     },
     "execution_count": 9,
     "metadata": {},
     "output_type": "execute_result"
    }
   ],
   "source": [
    "alt.Chart(data).mark_bar().encode(x = alt.X('review_scores_rating', title='Review Score Ratings (binned)', scale=alt.Scale(domain=(2.5, 5), clamp=True)).bin(maxbins=35),\n",
    "                                  y = alt.Y('count()', title='Count of Review Score Ratings')).properties(title='Distribution of Review Score Ratings')"
   ]
  },
  {
   "cell_type": "markdown",
   "metadata": {},
   "source": [
    "The distribution above shows a great skew towards the upper end of ratings scores from 4 to 5. There is a small amount of 3 to 3.2 ratings, however, these seem to be the exception/outlier and that the majority of AirBnbs are of good quality."
   ]
  },
  {
   "cell_type": "code",
   "execution_count": 10,
   "metadata": {},
   "outputs": [
    {
     "data": {
      "application/vnd.vegalite.v5+json": {
       "$schema": "https://vega.github.io/schema/vega-lite/v5.20.1.json",
       "config": {
        "view": {
         "continuousHeight": 300,
         "continuousWidth": 300
        }
       },
       "data": {
        "format": {
         "type": "json"
        },
        "url": "altairdata/altair-data-2ac2a53ff79808e30db554c34bb0983e.json"
       },
       "encoding": {
        "color": {
         "field": "room_type",
         "title": "AirBnb Room Type",
         "type": "nominal"
        },
        "x": {
         "aggregate": "average",
         "field": "price",
         "title": "Average of Price",
         "type": "quantitative"
        },
        "y": {
         "field": "neighbourhood_group_cleansed",
         "sort": "-x",
         "title": "Neighbourhood Group",
         "type": "nominal"
        }
       },
       "mark": {
        "type": "bar"
       },
       "title": "Average Price of AirBnb Rooms per Neighbourhood Group"
      },
      "text/plain": [
       "<VegaLite 5 object>\n",
       "\n",
       "If you see this message, it means the renderer has not been properly enabled\n",
       "for the frontend that you are using. For more information, see\n",
       "https://altair-viz.github.io/user_guide/display_frontends.html#troubleshooting\n"
      ]
     },
     "execution_count": 10,
     "metadata": {},
     "output_type": "execute_result"
    }
   ],
   "source": [
    "alt.Chart(data).mark_bar().encode(x=alt.X('average(price)', title='Average of Price'), \n",
    "                                  y=alt.Y('neighbourhood_group_cleansed', title='Neighbourhood Group', sort='-x'),\n",
    "                                  color = alt.Color('room_type', title='AirBnb Room Type')).properties(title='Average Price of AirBnb Rooms per Neighbourhood Group')"
   ]
  },
  {
   "cell_type": "markdown",
   "metadata": {},
   "source": [
    "The visualization above shows that most neighbourhood groups have even distributions of room types with the exception of Brooklyn having a large majority of Hotel rooms. Brooklyn can also be observed to have the most AirBnbs with the Bronx having the least. "
   ]
  },
  {
   "cell_type": "code",
   "execution_count": 11,
   "metadata": {},
   "outputs": [
    {
     "data": {
      "application/vnd.vegalite.v5+json": {
       "$schema": "https://vega.github.io/schema/vega-lite/v5.20.1.json",
       "config": {
        "view": {
         "continuousHeight": 300,
         "continuousWidth": 300
        }
       },
       "data": {
        "format": {
         "type": "json"
        },
        "url": "altairdata/altair-data-2ac2a53ff79808e30db554c34bb0983e.json"
       },
       "encoding": {
        "color": {
         "field": "neighbourhood_group_cleansed",
         "type": "nominal"
        },
        "order": {
         "field": "number_of_reviews",
         "sort": "descending",
         "type": "quantitative"
        },
        "size": {
         "field": "number_of_reviews",
         "scale": {
          "domain": [
           0,
           200
          ],
          "range": [
           20,
           1000
          ]
         },
         "type": "quantitative"
        },
        "x": {
         "field": "longitude",
         "scale": {
          "zero": false
         },
         "type": "quantitative"
        },
        "y": {
         "field": "latitude",
         "scale": {
          "zero": false
         },
         "type": "quantitative"
        }
       },
       "height": 400,
       "mark": {
        "opacity": 0.3,
        "stroke": "black",
        "strokeWidth": 0.3,
        "type": "circle"
       },
       "title": "Geospatial map of price and neighbourhood group",
       "width": 400
      },
      "text/plain": [
       "<VegaLite 5 object>\n",
       "\n",
       "If you see this message, it means the renderer has not been properly enabled\n",
       "for the frontend that you are using. For more information, see\n",
       "https://altair-viz.github.io/user_guide/display_frontends.html#troubleshooting\n"
      ]
     },
     "execution_count": 11,
     "metadata": {},
     "output_type": "execute_result"
    }
   ],
   "source": [
    "alt.Chart(data).mark_circle(opacity=0.3, stroke='black', strokeWidth=0.3).encode(x=alt.X('longitude', scale = alt.Scale(zero=False)), \n",
    "                                    y=alt.Y('latitude', scale = alt.Scale(zero=False)),\n",
    "                                    size = alt.Size('number_of_reviews', scale = alt.Scale(range=(20, 1000), domain=(0,200))),\n",
    "                                    color = alt.Color('neighbourhood_group_cleansed'),\n",
    "                                    order=alt.Order('number_of_reviews', sort='descending')).properties(height=400, \n",
    "                                                                                                     width =400, \n",
    "                                                                                                     title='Geospatial map of price and neighbourhood group')"
   ]
  },
  {
   "cell_type": "markdown",
   "metadata": {},
   "source": [
    "Looking at the visualization above, the highest number of reviews seem to be centralized around Manhattan, Queens, and Brooklyn. "
   ]
  },
  {
   "cell_type": "code",
   "execution_count": 12,
   "metadata": {},
   "outputs": [
    {
     "data": {
      "application/vnd.vegalite.v5+json": {
       "$schema": "https://vega.github.io/schema/vega-lite/v5.20.1.json",
       "config": {
        "view": {
         "continuousHeight": 300,
         "continuousWidth": 300
        }
       },
       "data": {
        "format": {
         "type": "json"
        },
        "url": "altairdata/altair-data-2ac2a53ff79808e30db554c34bb0983e.json"
       },
       "encoding": {
        "color": {
         "field": "host_is_superhost",
         "title": "Superhost Status",
         "type": "nominal"
        },
        "x": {
         "field": "host_total_listings_count",
         "scale": {
          "clamp": true,
          "domain": [
           1,
           6000
          ]
         },
         "title": "Host total listings",
         "type": "quantitative"
        },
        "y": {
         "aggregate": "average",
         "field": "reviews_per_month",
         "sort": "-x",
         "title": "Average Reviews per Month",
         "type": "quantitative"
        }
       },
       "mark": {
        "type": "bar"
       },
       "title": "Total Listings per Average Reviews per Month for Superhosts"
      },
      "text/plain": [
       "<VegaLite 5 object>\n",
       "\n",
       "If you see this message, it means the renderer has not been properly enabled\n",
       "for the frontend that you are using. For more information, see\n",
       "https://altair-viz.github.io/user_guide/display_frontends.html#troubleshooting\n"
      ]
     },
     "execution_count": 12,
     "metadata": {},
     "output_type": "execute_result"
    }
   ],
   "source": [
    "chart = alt.Chart(data).mark_bar().encode(x=alt.X('host_total_listings_count', title='Host total listings', scale = alt.Scale(domain=(1, 6000), clamp=True)), \n",
    "                                  y=alt.Y('average(reviews_per_month)', title='Average Reviews per Month', sort = '-x'), \n",
    "                                  color=alt.Color('host_is_superhost', title='Superhost Status')).properties(title='Total Listings per Average Reviews per Month for Superhosts')\n",
    "\n",
    "chart"
   ]
  },
  {
   "cell_type": "markdown",
   "metadata": {},
   "source": [
    "Looking at the visualization above, we can see that the majority of hosts have less than 500 listings tend to have the highest average reviews per month, ranging from 5 to 5.5 reviews per month. This may indicate that hosts who choose to focus on lower amounts of listings tend to be able to get more reviews for a variety of reasons, greater focus in advertising listings, higher turnover.etc"
   ]
  },
  {
   "cell_type": "code",
   "execution_count": 13,
   "metadata": {},
   "outputs": [
    {
     "data": {
      "application/vnd.vegalite.v5+json": {
       "$schema": "https://vega.github.io/schema/vega-lite/v5.20.1.json",
       "config": {
        "view": {
         "continuousHeight": 300,
         "continuousWidth": 300
        }
       },
       "data": {
        "format": {
         "type": "json"
        },
        "url": "altairdata/altair-data-2ac2a53ff79808e30db554c34bb0983e.json"
       },
       "encoding": {
        "color": {
         "field": "host_response_time",
         "type": "nominal"
        },
        "x": {
         "field": "price",
         "scale": {
          "clamp": true,
          "domain": [
           0,
           5000
          ]
         },
         "type": "quantitative"
        },
        "y": {
         "aggregate": "average",
         "field": "review_scores_rating",
         "type": "quantitative"
        }
       },
       "height": 200,
       "mark": {
        "type": "circle"
       },
       "title": "Average reviews per month per type of AirBnB property and neighbourhood",
       "transform": [
        {
         "filter": "(datum.host_response_time !== 'No response time')"
        }
       ],
       "width": 400
      },
      "text/plain": [
       "<VegaLite 5 object>\n",
       "\n",
       "If you see this message, it means the renderer has not been properly enabled\n",
       "for the frontend that you are using. For more information, see\n",
       "https://altair-viz.github.io/user_guide/display_frontends.html#troubleshooting\n"
      ]
     },
     "execution_count": 13,
     "metadata": {},
     "output_type": "execute_result"
    }
   ],
   "source": [
    "alt.Chart(data).mark_circle().transform_filter(alt.datum.host_response_time != 'No response time'\n",
    "                                               ).encode(x=alt.X('price', \n",
    "                                                                scale = alt.Scale(domain=(0,5000), clamp=True)), \n",
    "                                                                y=alt.Y('average(review_scores_rating)'), \n",
    "                                                                color=alt.Color('host_response_time')\n",
    "                                                                ).properties(title='Average reviews per month per type of AirBnB property and neighbourhood', \n",
    "                                                                             height=200, \n",
    "                                                                             width=400)"
   ]
  },
  {
   "cell_type": "markdown",
   "metadata": {},
   "source": [
    "Outliers past the price of $8000 were removed. We can see that at high prices, hosts who have fast response times tend to have higher average review score ratings. However, having high response times at all prices is proven to be present at high review score ratings. Another thing that can be observed is the number of slower response times is much more prevalent at lower price levels. This may be an indicator that at lower price levels, host response time is not as impactful of a factor for getting AirBnb users to rent their property. However, at higher price levels, the smaller set of points, and fast response time dominance seem to suggest that it is a requirement to have at higher price levels perhaps even attract users."
   ]
  },
  {
   "cell_type": "code",
   "execution_count": 14,
   "metadata": {},
   "outputs": [
    {
     "data": {
      "application/vnd.vegalite.v5+json": {
       "$schema": "https://vega.github.io/schema/vega-lite/v5.20.1.json",
       "config": {
        "view": {
         "continuousHeight": 300,
         "continuousWidth": 300
        }
       },
       "data": {
        "format": {
         "type": "json"
        },
        "url": "altairdata/altair-data-9e6733a32eed0f35ac32913e0d98e042.json"
       },
       "encoding": {
        "color": {
         "field": "neighbourhood_group_cleansed",
         "type": "nominal"
        },
        "x": {
         "field": "host_acceptance_rate",
         "type": "quantitative"
        },
        "y": {
         "field": "neighbourhood_cleansed",
         "sort": "-x",
         "type": "nominal"
        }
       },
       "mark": {
        "type": "bar"
       }
      },
      "text/plain": [
       "<VegaLite 5 object>\n",
       "\n",
       "If you see this message, it means the renderer has not been properly enabled\n",
       "for the frontend that you are using. For more information, see\n",
       "https://altair-viz.github.io/user_guide/display_frontends.html#troubleshooting\n"
      ]
     },
     "execution_count": 14,
     "metadata": {},
     "output_type": "execute_result"
    }
   ],
   "source": [
    "top_neighbourhoods = (data.groupby([\"neighbourhood_cleansed\", \"neighbourhood_group_cleansed\"])['host_acceptance_rate']\n",
    "                      .mean()\n",
    "                      .nlargest(10)\n",
    "                      .reset_index())\n",
    "\n",
    "alt.Chart(top_neighbourhoods).mark_bar().encode(x= 'host_acceptance_rate',\n",
    "                                   y= alt.Y('neighbourhood_cleansed', sort='-x'),\n",
    "                                   color = 'neighbourhood_group_cleansed')"
   ]
  },
  {
   "cell_type": "markdown",
   "metadata": {},
   "source": [
    "The above visualization shows that Staten island has the most neighbourhoods that have hosts that accept over 90% AirBnb users. Moreover, Staten Island is the single neighbourhood group that has 3 neighbourhoods that accepts 100% of users. In addition, it demonstrates that outside the most popular neighbourhood groups such as Manhattan and Brooklyn, Staten Island is the least competitive area to host AirBnbs according to users."
   ]
  },
  {
   "cell_type": "markdown",
   "metadata": {},
   "source": [
    "## Task Analysis"
   ]
  },
  {
   "cell_type": "markdown",
   "metadata": {},
   "source": [
    "### **1. What role does instant-bookability serve as an incentive booster for less popular neighbourhoods?**\n",
    "- **Retrieve Value**: Extract `neighbourhood_cleansed`, `instant_bookable`, `number_of_reviews`, and `price`\n",
    "- **Filter**: Filter for less popular neighborhoods using count of listings per neighbourhood\n",
    "- **Label**: Add tags for less popular and more popular neighbourhoods\n",
    "- **Calculate**: Use `number_of_reviews` to infer average booking rates\n",
    "- **Analyze**: Compare average booking rates with instant_bookable groups\n",
    "- **Visualize**: Visualize different groups\n",
    "\n",
    "---\n",
    "\n",
    "### **2. Is there a difference in host behavior (host identity verified, calculated host listings count) by location?**\n",
    "- **Retrieve Value**: Extract `host_identity_verified`, `calculated_host_listings_count`, `neighbourhood_cleansed`,  and `neighbourhood_group_cleansed`\n",
    "- **Group**: Group by `neighbourhood_group_cleansed` and `neighbourhood_cleansed`\n",
    "- **Aggregate**: Calculate average for `calculated_host_listings_count` and count/mode for `host_identity_verified`\n",
    "- **Analyze**: Analyze relationships between groups\n",
    "- **Visualize**: Visualize different groups and juxtapose differences between `neighbourhood_group_cleansed`\n",
    "\n",
    "---\n",
    "\n",
    "### **3. Is it 'easier' to be a superhost compared to typical hosts in terms of host behavior and pricing in certain locations?**\n",
    "- **Retrieve Value**: Extract `host_is_superhost`, `neighbourhood_group_cleansed`, `calculated_host_listings_count`, `host_identity_verified`, `host_has_profile_pic`, `host_response_time`, `host_response_rate`, and, `price`\n",
    "- **Group**: Group by `host_is_superhost` and `neighbourhood_group_cleansed`\n",
    "- **Aggregate**: Caculate averages of `price`, `host_response_rate`, `host_response_time`, `calculated_host_listings_count`. Calculate counts of `host_has_profile_pic`, and `host_identity_verified`\n",
    "- **Analyze**: Analyze relationships between groups\n",
    "- **Visualize**: Visualize different groups and facet by feature\n",
    "\n",
    "---"
   ]
  },
  {
   "cell_type": "markdown",
   "metadata": {},
   "source": []
  }
 ],
 "metadata": {
  "kernelspec": {
   "display_name": "base",
   "language": "python",
   "name": "python3"
  },
  "language_info": {
   "codemirror_mode": {
    "name": "ipython",
    "version": 3
   },
   "file_extension": ".py",
   "mimetype": "text/x-python",
   "name": "python",
   "nbconvert_exporter": "python",
   "pygments_lexer": "ipython3",
   "version": "3.12.2"
  }
 },
 "nbformat": 4,
 "nbformat_minor": 4
}
