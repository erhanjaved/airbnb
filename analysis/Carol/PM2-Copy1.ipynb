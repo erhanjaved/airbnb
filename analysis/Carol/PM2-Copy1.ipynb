{
 "cells": [
  {
   "cell_type": "markdown",
   "id": "62cec52b-4f82-4314-98a7-a5511b1ab2d7",
   "metadata": {},
   "source": [
    "# Group AECA - Airbnb in NYC: Market Trends & Impact"
   ]
  },
  {
   "cell_type": "markdown",
   "id": "5b9d5502-26c8-4d14-a6d8-652e9b33f59e",
   "metadata": {},
   "source": [
    "## 1. Introduction \n",
    "\n",
    "### 1.1 Dataset Description\n",
    "The Inside Airbnb dataset is a comprehensive collection of Airbnb listings in many major cities around the world. For our project, we will focus on the New York City dataset, which includes 377,784 records with each row representing an individual listing. The dataset features 75 columns that cover essential details like listing name, host identity verification, neighbourhood, room type, price per night, and availability. It also includes review metrics like the number of reviews, last review date, and ratings to provide insights into customer experiences. This dataset is useful for analyzing Airbnb market dynamics, host behaviours, pricing strategies, and customer preferences in New York City. "
   ]
  },
  {
   "cell_type": "markdown",
   "id": "615446bf-078f-460b-86e4-4c870f6ec6ea",
   "metadata": {},
   "source": [
    "### 1.2 Data Source\n",
    "The dataset is publicly available on [Inside Airbnb](https://insideairbnb.com/get-the-data/) under a Creative Commons Attribution 4.0 International License. The data is scraped from publicly available information on the Airbnb site. Afterwards, it is analyzed, cleansed, and aggregated by the collaborators of the project. The dataset is updated quarterly and includes information for the last twelve months. The version that we are using for our project was last updated on March 1, 2025. \n"
   ]
  },
  {
   "cell_type": "markdown",
   "id": "e72357b7-8c0a-488d-97cf-ea209bc90c11",
   "metadata": {},
   "source": [
    "### 1.3 Team Members \n",
    "\n",
    "**Carol Zhang**: I am a fifth-year Commerce student with a minor in Data Science. I am interested in this dataset because Airbnb is a major player in the travel industry. Through my travels on exchange, I came to realize how important guest satisfaction is and how other reviews heavily influenced my decision-making when choosing accommodation. I want to better understand the factors that lead to positive guest experiences and make wiser choices the next time I travel.\n",
    "  \n",
    "**Ayuho Negishi**: I am a fifth-year Psychology student minoring in Data Science. My academic background has made me very interested in understanding human behaviour. I am especially curious how host strategies on Airbnb, like being a verified host, having multiple listings, or offering instant booking, influence guest satisfaction, booking frequency, and pricing. I want to find patterns in how these host behaviours affect the success of listings and the overall competitiveness in the Airbnb market.\n",
    "\n",
    "**Erhan Asad Javed**: I'm a fourth-year Mathematics student with a minor in Data Science. This dataset is particularly interesting to me because it allows me to apply my practical skills in data cleaning, organization, and visualization to explore patterns in short-term rentals and urban housing dynamics. My goal is to uncover underlying trends in Airbnb pricing, host behaviour, guest satisfaction, and location-based factors affecting listings in New York City. Through this analysis, I aim to provide insights that can help travellers make informed decisions, hosts optimize their strategies, and policymakers better understand Airbnb’s impact on the housing market.\n",
    "\n",
    "**Aaron Ma**: I’m a 3rd year Computer Science student. This dataset is particularly interesting to me because of the prevalence of AirBnB in a very common activity, travel. As someone who heavily relies on public reviews, I would like to see how hosts can leverage their tools such as being verified and having high response time, to gain an advantage against others in such a competitive space. I would like to better understand how Airbnb hosts garner advantages over one another through means that are not as obvious such as price. "
   ]
  },
  {
   "cell_type": "markdown",
   "id": "1b6231d0-c94c-49c4-ae6e-10b89703aa78",
   "metadata": {},
   "source": [
    "### 1.4 Intended Audience \n",
    "The intended audience for this project is Airbnb hosts and short-term rental operators. By analyzing location, pricing strategies, host behaviour, and guest satisfaction factors, this project aims to provide hosts with valuable insights into how they can optimize their listings for better performance. Hosts will learn how elements such as neighbourhood, room type, cancellation policies, and review ratings influence pricing and booking frequency. This information will help them refine their strategies, improve guest experiences, and increase bookings to stay competitive in a dynamic market.\n"
   ]
  },
  {
   "cell_type": "markdown",
   "id": "3226834d-a3a5-440d-a0fd-d28d55483f7b",
   "metadata": {},
   "source": [
    "## 2. About the Data \n",
    "\n",
    "### 2.1 Data Abstraction \n",
    "\n",
    "| Attribute Name                     | Attribute Type             | Data Semantics                                                 | Cardinality                                   |\n",
    "|-------------------------------------|----------------------------|---------------------------------------------------------------|----------------------------------------------|\n",
    "| id                                  | Nominal                    | Unique identifier for each listing                            | 37784                                        |\n",
    "| listing_url                         | Nominal                    | URL for listing on Airbnb                                     | 37784                                        |\n",
    "| scrape_id                           | Nominal                    | Unique identifier for data collection/scrape session          | 1                                            |\n",
    "| last_scraped                        | Temporal                   | Date of last data collection/scrape session                   | 1 [2025-03-01]                               |\n",
    "| source                              | Nominal                    | Where the data was sourced from                                | 2                                            |\n",
    "| name                                | Nominal                    | Name of the listing                                           | 36057                                        |\n",
    "| description                         | Nominal                    | Description of the listing                                    | 31144                                        |\n",
    "| neighborhood_overview               | Nominal                    | Description of the neighbourhood                              | 15119                                        |\n",
    "| picture_url                         | Nominal                    | URL link to pictures of the property                           | 36983                                        |\n",
    "| host id                             | Nominal                    | Unique identifier for each host                               | 22323                                        |\n",
    "| host_url                            | Nominal                    | URL link to the host’s profile                                | 22323                                        |\n",
    "| host_name                           | Nominal                    | Name of the host                                              | 8495                                         |\n",
    "| host_since                          | Temporal                   | Date when the host started listing on Airbnb                   | 5095 [2008-08-11, 2024-12-27]                |\n",
    "| host_location                       | Nominal                    | Location of the host                                          | 987                                          |\n",
    "| host_about                          | Nominal                    | Host bios                                                      | 11679                                        |\n",
    "| host_response_time                  | Ordinal                    | Time taken by the host to respond                             | 4                                            |\n",
    "| host_response_rate                  | Quantitative (Continuous)  | The response rate of the host                                  | 59 [0.0, 1.0]                                |\n",
    "| host_acceptance_rate                | Quantitative (Continuous)  | Acceptance rate of booking requests by the host                | 100 [0.0, 1.0]                               |\n",
    "| host_is_superhost                   | Binary (Boolean)           | Whether the host is a Superhost                               | 2                                            |\n",
    "| host_neighbourhood                  | Nominal                    | Neighbourhood of the host's primary location                   | 521                                          |\n",
    "| host_thumbnail_url                  | Nominal                    | URL link to the host’s thumbnail                               | 21723                                        |\n",
    "| host_picture_url                    | Nominal                    | URL link to the host’s profile picture                         | 21723                                        |\n",
    "| host_listings_count                 | Quantitative (Discrete)    | Number of listings the host has on Airbnb                      | 121 [1.0, 5079.0]                            |\n",
    "| host_total_listings_count           | Quantitative (Discrete)    | Total number of listings the host has (including other platforms) | 145 [1.0, 9048.0]                            |\n",
    "| host_verifications                  | Nominal                    | Types of verification that the host has gone through          | 7                                            |\n",
    "| host_has_profile_pic                | Binary (Boolean)           | Whether the host has a profile pic                             | 2                                            |\n",
    "| host_identity_verified              | Binary (Boolean)           | Whether the host's identity is verified                        | 2                                            |\n",
    "| neighbourhood                        | Nominal                    | Unclear, no semantic meaning                                   | 1                                            |\n",
    "| neighbourhood_cleansed              | Nominal                    | Cleaned version of the specific neighbourhood location         | 223                                          |\n",
    "| neighbourhood_group_cleansed        | Nominal                    | Cleaned version of the neighbourhood group/area               | 5                                            |\n",
    "| latitude                            | Quantitative (Continuous)  | Latitude of the listing                                        | 23085 [40.5003663, 40.91139]                 |\n",
    "| longitude                           | Quantitative (Continuous)  | Longitude of the listing                                       | 20843 [-74.251907, -73.71365]                |\n",
    "| property_type                       | Nominal                    | Type of the property                                          | 69                                           |\n",
    "| room_type                           | Nominal                    | Type of the room                                              | 4                                            |\n",
    "| accommodates                        | Quantitative (Discrete)    | Number of people that the listing can accommodate              | 16 [1, 16]                                   |\n",
    "| bathrooms                           | Quantitative (Discrete)    | Number of bathrooms in the listing                             | 17 [0, 15.5]                                 |\n",
    "| bathrooms_text                      | Nominal                    | Description of the bathroom type e.g. shared or private bathroom | 31                                           |\n",
    "| bedrooms                            | Quantitative (Discrete)    | Number of bedrooms in the listing                              | 14 [0, 16]                                   |\n",
    "| beds                                | Quantitative (Discrete)    | Number of beds in the listing                                  | 19 [0, 42]                                   |\n",
    "| amenities                           | Nominal                    | List of amenities offered by the listing                       | 30453                                        |\n",
    "| price                               | Quantitative (Continuous)  | Price per night for the listing                                | 897 [8.0, 20000.0]                           |\n",
    "| minimum_nights                      | Quantitative (Discrete)    | Minimum number of nights required to book                     | 121 [1, 1250]                                |\n",
    "| maximum_nights                      | Quantitative (Discrete)    | Maximum number of nights available for booking                | 255 [1, 2147483647]                          |\n",
    "| minimum_minimum_nights              | Quantitative (Discrete)    | Minimum value for minimum nights                               | 118 [1.0, 1250]                              |\n",
    "| maximum_minimum_nights              | Quantitative (Discrete)    | Maximum value for minimum nights                               | 140 [1.0, 1250.0]                            |\n",
    "| minimum_maximum_nights              | Quantitative (Discrete)    | Minimum value for maximum nights                               | 241 [1.0, 2147483647.0]                      |\n",
    "| maximum_maximum_nights              | Quantitative (Discrete)    | Maximum value for maximum nights                               | 240 [1.0, 2147483647.0]                      |\n",
    "| minimum_nights_avg_ntm              | Quantitative (Continuous)  | Average minimum number of nights required per month           | 429 [1.0, 1250.0]                            |\n",
    "| maximum_nights_avg_ntm              | Quantitative (Continuous)  | Average maximum number of nights available per month          | 989 [1.0, 2147483647.0]                      |\n",
    "| calendar_updated                    | Nominal                    | Unclear, no semantic meaning                                   | 0                                            |\n",
    "| has_availability                    | Binary (Boolean)           | Whether the listing has availability                          | 2                                            |\n",
    "| availability_30                     | Quantitative (Discrete)    | Availability over the next 30 days                             | 31 [0, 30]                                   |\n",
    "| availability_60                     | Quantitative (Discrete)    | Availability over the next 60 days                             | 61 [0, 60]                                   |\n",
    "| availability_90                     | Quantitative (Discrete)    | Availability over the next 90 days                             | 91 [0, 90]                                   |\n",
    "| availability_365                    | Quantitative (Discrete)    | Availability over the next 365 days                            | 366 [0, 365]                                 |\n",
    "| calendar_last_scraped               | Temporal                   | Date when the availability information was last scraped from the calendar | 1 [2025-03-01]                               |\n",
    "| number_of_reviews                   | Quantitative (Discrete)    | Number of reviews for the listing                              | 492 [0, 2485]                                |\n",
    "| number_of_reviews_ltm               | Quantitative (Discrete)    | Number of reviews in the last twelve months                   | 175 [0, 1779]                                |\n",
    "| number_of_reviews_l30d              | Quantitative (Discrete)    | Number of reviews in the last 30 days                          | 34 [0, 137]                                  |\n",
    "| first_review                         | Temporal                   | Date of the first review for the listing                       | 4284 [2009-05-25, 2025-01-02]                |\n",
    "| last_review                          | Temporal                   | Date of the most recent review                                | 3204 [2011-05-12, 2025-01-02]               |\n",
    "| review_scores_rating                | Quantitative (Continuous)  | Average rating score from reviews                              | 163 [0.0, 5.0]                               |\n",
    "| review_scores_accuracy              | Quantitative (Continuous)  | Accuracy rating from reviews                                   | 152 [0.0, 5.0]                               |\n",
    "| review_scores_cleanliness           | Quantitative (Continuous)  | Cleanliness rating from reviews                                | 180 [0.0, 5.0]                               |\n",
    "| review_scores_checkin               | Quantitative (Continuous)  | Check-in process rating from reviews                           | 133 [0.0, 5.0]                               |\n",
    "| review_scores_communication         | Quantitative (Continuous)  | Communication rating from reviews                              | 144 [0.0, 5.0]                               |\n",
    "| review_scores_location              | Quantitative (Continuous)  | Location rating from reviews                                   | 149 [0.0, 5.0]                               |\n",
    "| review_scores_value                 | Quantitative (Continuous)  | Value for money rating from reviews                            | 166 [0.0, 5.0]                               |\n",
    "| license                             | Nominal                    | Property license if available                                  | 1970                                         |\n",
    "| instant_bookable                    | Binary (boolean)           | Whether the listing can be booked instantly                   | 2                                            |\n",
    "| calculated_host_listings_count      | Quantitative (Discrete)    | Number of listings listed by the host                          | 73 [1.0, 1154.0]                             |\n",
    "| calculated_host_listings_count_entire_homes | Quantitative (Discrete) | Number of entire home listings by the host                     | 53 [0.0, 1154.0]                             |\n",
    "| calculated_host_listings_count_private_rooms | Quantitative (Discrete) | Number of private room listings hosted by the host             | 42 [0.0, 739.0]                              |\n",
    "| calculated_host_listings_count_shared_rooms | Quantitative (Discrete) | Number of shared room listings hosted by the host              | 5 [0.0, 4.0]                                 |\n",
    "| reviews_per_month                   | Quantitative (Discrete)    | Average number of reviews per month for the listing            | 801 [0.01, 116.3]                            |\n"
   ]
  },
  {
   "cell_type": "markdown",
   "id": "9d8db3b7-419e-4a6e-9ff1-d266d7f69dc5",
   "metadata": {},
   "source": [
    "### 2.2 Exploratory Data Analysis"
   ]
  },
  {
   "cell_type": "markdown",
   "id": "96bd1abc",
   "metadata": {},
   "source": [
    "#### General \n",
    "**Dataset Cleaning Workflow:**\n",
    "1. Drop unncessary columns\n",
    "2. Fill NA values with desired fill values\n",
    "3. Convert datetime columns to pandas datetime format\n",
    "4. Convert percentage columns to [0,1] scale\n",
    "5. Clean price column to remove special characters and symbols\n",
    "6. Impute missing numerical values with median\n",
    "7. Impute missing categorical values with the mode\n",
    "8. Convert binary valued columns to boolean\n",
    "\n",
    "The cleaning workflows can be seen in directory: `code/cleaning_workflows.py`"
   ]
  },
  {
   "cell_type": "code",
   "execution_count": 1,
   "id": "95620a52-5fe7-4f11-acfd-cb9b5ad136a5",
   "metadata": {},
   "outputs": [],
   "source": [
    "import os\n",
    "import ast\n",
    "import altair as alt\n",
    "import pandas as pd\n",
    "from toolz.curried import pipe\n",
    "import numpy as np\n",
    "import sys\n",
    "\n",
    "# # Create a new data transformer that stores the files in a directory\n",
    "# def json_dir(data, data_dir='altairdata'):\n",
    "#     os.makedirs(data_dir, exist_ok=True)\n",
    "#     return pipe(data, alt.to_json(filename=data_dir + '/{prefix}-{hash}.{extension}') )\n",
    "\n",
    "# # Register and enable the new transformer\n",
    "# alt.data_transformers.register('json_dir', json_dir)\n",
    "# alt.data_transformers.enable('json_dir')\n",
    "\n",
    "# Handle large data sets (default shows only 5000)\n",
    "# See here: https://altair-viz.github.io/user_guide/data_transformers.html\n",
    "alt.data_transformers.disable_max_rows()\n",
    "\n",
    "alt.renderers.enable('jupyterlab')\n",
    "\n",
    "sys.path.append(os.path.abspath(\"../../code\"))\n",
    "from cleaning_workflows import prepare_dataset"
   ]
  },
  {
   "cell_type": "code",
   "execution_count": 3,
   "id": "67edcd59-3256-484b-b2b3-02e88d616b5e",
   "metadata": {},
   "outputs": [],
   "source": [
    "df = pd.read_csv('../../data/raw/listings.csv', parse_dates=['first_review', 'last_review'])\n",
    "df_cleaned = prepare_dataset(df)"
   ]
  },
  {
   "cell_type": "code",
   "execution_count": 4,
   "id": "c39c0731-c138-4850-a158-1c1138a4eff3",
   "metadata": {},
   "outputs": [
    {
     "data": {
      "text/html": [
       "<div>\n",
       "<style scoped>\n",
       "    .dataframe tbody tr th:only-of-type {\n",
       "        vertical-align: middle;\n",
       "    }\n",
       "\n",
       "    .dataframe tbody tr th {\n",
       "        vertical-align: top;\n",
       "    }\n",
       "\n",
       "    .dataframe thead th {\n",
       "        text-align: right;\n",
       "    }\n",
       "</style>\n",
       "<table border=\"1\" class=\"dataframe\">\n",
       "  <thead>\n",
       "    <tr style=\"text-align: right;\">\n",
       "      <th></th>\n",
       "      <th>name</th>\n",
       "      <th>description</th>\n",
       "      <th>neighborhood_overview</th>\n",
       "      <th>host_id</th>\n",
       "      <th>host_since</th>\n",
       "      <th>host_location</th>\n",
       "      <th>host_about</th>\n",
       "      <th>host_response_time</th>\n",
       "      <th>host_response_rate</th>\n",
       "      <th>host_acceptance_rate</th>\n",
       "      <th>...</th>\n",
       "      <th>review_scores_checkin</th>\n",
       "      <th>review_scores_communication</th>\n",
       "      <th>review_scores_location</th>\n",
       "      <th>review_scores_value</th>\n",
       "      <th>instant_bookable</th>\n",
       "      <th>calculated_host_listings_count</th>\n",
       "      <th>calculated_host_listings_count_entire_homes</th>\n",
       "      <th>calculated_host_listings_count_private_rooms</th>\n",
       "      <th>calculated_host_listings_count_shared_rooms</th>\n",
       "      <th>reviews_per_month</th>\n",
       "    </tr>\n",
       "  </thead>\n",
       "  <tbody>\n",
       "    <tr>\n",
       "      <th>0</th>\n",
       "      <td>1 br in a 2 br apt (Midtown West)</td>\n",
       "      <td>No description available</td>\n",
       "      <td>No overview available</td>\n",
       "      <td>169927</td>\n",
       "      <td>2010-07-17</td>\n",
       "      <td>Saint-Aubin-sur-Scie, France</td>\n",
       "      <td>Facebook Likes:\\r\\nNew York French Geek, David...</td>\n",
       "      <td>within a day</td>\n",
       "      <td>1.00</td>\n",
       "      <td>0.88</td>\n",
       "      <td>...</td>\n",
       "      <td>4.98</td>\n",
       "      <td>5.00</td>\n",
       "      <td>4.98</td>\n",
       "      <td>4.86</td>\n",
       "      <td>False</td>\n",
       "      <td>2</td>\n",
       "      <td>1</td>\n",
       "      <td>1</td>\n",
       "      <td>0</td>\n",
       "      <td>0.25</td>\n",
       "    </tr>\n",
       "    <tr>\n",
       "      <th>1</th>\n",
       "      <td>A lovely room w/ a Manhattan view</td>\n",
       "      <td>A private, furnished  large room to rent Jan/F...</td>\n",
       "      <td>Nate Silver called this super safe, clean, qui...</td>\n",
       "      <td>110506</td>\n",
       "      <td>2010-04-18</td>\n",
       "      <td>New York, NY</td>\n",
       "      <td>I grew up in South Korea, moved to Montreal, C...</td>\n",
       "      <td>within a few hours</td>\n",
       "      <td>1.00</td>\n",
       "      <td>0.60</td>\n",
       "      <td>...</td>\n",
       "      <td>4.96</td>\n",
       "      <td>4.96</td>\n",
       "      <td>4.79</td>\n",
       "      <td>4.93</td>\n",
       "      <td>False</td>\n",
       "      <td>1</td>\n",
       "      <td>0</td>\n",
       "      <td>1</td>\n",
       "      <td>0</td>\n",
       "      <td>0.20</td>\n",
       "    </tr>\n",
       "    <tr>\n",
       "      <th>2</th>\n",
       "      <td>Private, Large &amp; Sunny 1BR w/W&amp;D</td>\n",
       "      <td>It's a No Brainer:&lt;br /&gt;•Terrific Space For Le...</td>\n",
       "      <td>The Neighborhood&lt;br /&gt;• Rich History &lt;br /&gt;• B...</td>\n",
       "      <td>170510</td>\n",
       "      <td>2010-07-18</td>\n",
       "      <td>New York, United States</td>\n",
       "      <td>I am a self employed licensed real estate brok...</td>\n",
       "      <td>No response time</td>\n",
       "      <td>1.00</td>\n",
       "      <td>0.88</td>\n",
       "      <td>...</td>\n",
       "      <td>4.89</td>\n",
       "      <td>4.92</td>\n",
       "      <td>4.38</td>\n",
       "      <td>4.72</td>\n",
       "      <td>False</td>\n",
       "      <td>2</td>\n",
       "      <td>2</td>\n",
       "      <td>0</td>\n",
       "      <td>0</td>\n",
       "      <td>1.93</td>\n",
       "    </tr>\n",
       "    <tr>\n",
       "      <th>3</th>\n",
       "      <td>Beautiful Lower East Side Loft</td>\n",
       "      <td>Architect-owned loft is a corner unit in a bea...</td>\n",
       "      <td>The apartment is in the border of Soho, LES an...</td>\n",
       "      <td>184755</td>\n",
       "      <td>2010-07-29</td>\n",
       "      <td>New York, NY</td>\n",
       "      <td>I am an architect living in NYC and have my ow...</td>\n",
       "      <td>within a day</td>\n",
       "      <td>1.00</td>\n",
       "      <td>1.00</td>\n",
       "      <td>...</td>\n",
       "      <td>4.85</td>\n",
       "      <td>4.87</td>\n",
       "      <td>4.57</td>\n",
       "      <td>4.62</td>\n",
       "      <td>False</td>\n",
       "      <td>1</td>\n",
       "      <td>1</td>\n",
       "      <td>0</td>\n",
       "      <td>0</td>\n",
       "      <td>0.40</td>\n",
       "    </tr>\n",
       "    <tr>\n",
       "      <th>4</th>\n",
       "      <td>@HouseOnHenrySt - Private 2nd bedroom w/shared...</td>\n",
       "      <td>No description available</td>\n",
       "      <td>Lovely old Brooklyn neighborhood, with brick/b...</td>\n",
       "      <td>11481</td>\n",
       "      <td>2009-03-26</td>\n",
       "      <td>New York, NY</td>\n",
       "      <td>I have been a host with Airbnb since its intro...</td>\n",
       "      <td>within a day</td>\n",
       "      <td>0.67</td>\n",
       "      <td>0.33</td>\n",
       "      <td>...</td>\n",
       "      <td>4.71</td>\n",
       "      <td>4.73</td>\n",
       "      <td>4.58</td>\n",
       "      <td>4.64</td>\n",
       "      <td>False</td>\n",
       "      <td>4</td>\n",
       "      <td>1</td>\n",
       "      <td>3</td>\n",
       "      <td>0</td>\n",
       "      <td>1.26</td>\n",
       "    </tr>\n",
       "  </tbody>\n",
       "</table>\n",
       "<p>5 rows × 57 columns</p>\n",
       "</div>"
      ],
      "text/plain": [
       "                                                name  \\\n",
       "0                  1 br in a 2 br apt (Midtown West)   \n",
       "1                  A lovely room w/ a Manhattan view   \n",
       "2                   Private, Large & Sunny 1BR w/W&D   \n",
       "3                     Beautiful Lower East Side Loft   \n",
       "4  @HouseOnHenrySt - Private 2nd bedroom w/shared...   \n",
       "\n",
       "                                         description  \\\n",
       "0                           No description available   \n",
       "1  A private, furnished  large room to rent Jan/F...   \n",
       "2  It's a No Brainer:<br />•Terrific Space For Le...   \n",
       "3  Architect-owned loft is a corner unit in a bea...   \n",
       "4                           No description available   \n",
       "\n",
       "                               neighborhood_overview  host_id host_since  \\\n",
       "0                              No overview available   169927 2010-07-17   \n",
       "1  Nate Silver called this super safe, clean, qui...   110506 2010-04-18   \n",
       "2  The Neighborhood<br />• Rich History <br />• B...   170510 2010-07-18   \n",
       "3  The apartment is in the border of Soho, LES an...   184755 2010-07-29   \n",
       "4  Lovely old Brooklyn neighborhood, with brick/b...    11481 2009-03-26   \n",
       "\n",
       "                  host_location  \\\n",
       "0  Saint-Aubin-sur-Scie, France   \n",
       "1                  New York, NY   \n",
       "2       New York, United States   \n",
       "3                  New York, NY   \n",
       "4                  New York, NY   \n",
       "\n",
       "                                          host_about  host_response_time  \\\n",
       "0  Facebook Likes:\\r\\nNew York French Geek, David...        within a day   \n",
       "1  I grew up in South Korea, moved to Montreal, C...  within a few hours   \n",
       "2  I am a self employed licensed real estate brok...    No response time   \n",
       "3  I am an architect living in NYC and have my ow...        within a day   \n",
       "4  I have been a host with Airbnb since its intro...        within a day   \n",
       "\n",
       "   host_response_rate  host_acceptance_rate  ...  review_scores_checkin  \\\n",
       "0                1.00                  0.88  ...                   4.98   \n",
       "1                1.00                  0.60  ...                   4.96   \n",
       "2                1.00                  0.88  ...                   4.89   \n",
       "3                1.00                  1.00  ...                   4.85   \n",
       "4                0.67                  0.33  ...                   4.71   \n",
       "\n",
       "  review_scores_communication  review_scores_location  review_scores_value  \\\n",
       "0                        5.00                    4.98                 4.86   \n",
       "1                        4.96                    4.79                 4.93   \n",
       "2                        4.92                    4.38                 4.72   \n",
       "3                        4.87                    4.57                 4.62   \n",
       "4                        4.73                    4.58                 4.64   \n",
       "\n",
       "  instant_bookable  calculated_host_listings_count  \\\n",
       "0            False                               2   \n",
       "1            False                               1   \n",
       "2            False                               2   \n",
       "3            False                               1   \n",
       "4            False                               4   \n",
       "\n",
       "   calculated_host_listings_count_entire_homes  \\\n",
       "0                                            1   \n",
       "1                                            0   \n",
       "2                                            2   \n",
       "3                                            1   \n",
       "4                                            1   \n",
       "\n",
       "  calculated_host_listings_count_private_rooms  \\\n",
       "0                                            1   \n",
       "1                                            1   \n",
       "2                                            0   \n",
       "3                                            0   \n",
       "4                                            3   \n",
       "\n",
       "  calculated_host_listings_count_shared_rooms  reviews_per_month  \n",
       "0                                           0               0.25  \n",
       "1                                           0               0.20  \n",
       "2                                           0               1.93  \n",
       "3                                           0               0.40  \n",
       "4                                           0               1.26  \n",
       "\n",
       "[5 rows x 57 columns]"
      ]
     },
     "execution_count": 4,
     "metadata": {},
     "output_type": "execute_result"
    }
   ],
   "source": [
    "df_cleaned.head()"
   ]
  },
  {
   "cell_type": "code",
   "execution_count": 5,
   "id": "5bb05825-e5cb-4433-ae5f-6c71482b9f22",
   "metadata": {},
   "outputs": [
    {
     "data": {
      "text/plain": [
       "(37784, 57)"
      ]
     },
     "execution_count": 5,
     "metadata": {},
     "output_type": "execute_result"
    }
   ],
   "source": [
    "df_cleaned.shape"
   ]
  },
  {
   "cell_type": "code",
   "execution_count": 6,
   "id": "44b84a18-9978-4b65-9ef0-e7a814ba03a4",
   "metadata": {},
   "outputs": [
    {
     "name": "stdout",
     "output_type": "stream",
     "text": [
      "<class 'pandas.core.frame.DataFrame'>\n",
      "RangeIndex: 37784 entries, 0 to 37783\n",
      "Data columns (total 57 columns):\n",
      " #   Column                                        Non-Null Count  Dtype         \n",
      "---  ------                                        --------------  -----         \n",
      " 0   name                                          37784 non-null  object        \n",
      " 1   description                                   37784 non-null  object        \n",
      " 2   neighborhood_overview                         37784 non-null  object        \n",
      " 3   host_id                                       37784 non-null  int64         \n",
      " 4   host_since                                    37784 non-null  datetime64[ns]\n",
      " 5   host_location                                 37784 non-null  object        \n",
      " 6   host_about                                    37784 non-null  object        \n",
      " 7   host_response_time                            37784 non-null  object        \n",
      " 8   host_response_rate                            37784 non-null  float64       \n",
      " 9   host_acceptance_rate                          37784 non-null  float64       \n",
      " 10  host_is_superhost                             37784 non-null  bool          \n",
      " 11  host_neighbourhood                            37784 non-null  object        \n",
      " 12  host_listings_count                           37784 non-null  float64       \n",
      " 13  host_total_listings_count                     37784 non-null  float64       \n",
      " 14  host_verifications                            37784 non-null  object        \n",
      " 15  host_has_profile_pic                          37784 non-null  bool          \n",
      " 16  host_identity_verified                        37784 non-null  bool          \n",
      " 17  neighbourhood_cleansed                        37784 non-null  object        \n",
      " 18  neighbourhood_group_cleansed                  37784 non-null  object        \n",
      " 19  latitude                                      37784 non-null  float64       \n",
      " 20  longitude                                     37784 non-null  float64       \n",
      " 21  property_type                                 37784 non-null  object        \n",
      " 22  room_type                                     37784 non-null  object        \n",
      " 23  accommodates                                  37784 non-null  int64         \n",
      " 24  bathrooms                                     37784 non-null  float64       \n",
      " 25  bedrooms                                      37784 non-null  float64       \n",
      " 26  beds                                          37784 non-null  float64       \n",
      " 27  amenities                                     37784 non-null  object        \n",
      " 28  price                                         37784 non-null  float64       \n",
      " 29  minimum_nights                                37784 non-null  int64         \n",
      " 30  maximum_nights                                37784 non-null  int64         \n",
      " 31  minimum_nights_avg_ntm                        37784 non-null  float64       \n",
      " 32  maximum_nights_avg_ntm                        37784 non-null  float64       \n",
      " 33  has_availability                              37784 non-null  bool          \n",
      " 34  availability_30                               37784 non-null  int64         \n",
      " 35  availability_60                               37784 non-null  int64         \n",
      " 36  availability_90                               37784 non-null  int64         \n",
      " 37  availability_365                              37784 non-null  int64         \n",
      " 38  calendar_last_scraped                         37784 non-null  datetime64[ns]\n",
      " 39  number_of_reviews                             37784 non-null  int64         \n",
      " 40  number_of_reviews_ltm                         37784 non-null  int64         \n",
      " 41  number_of_reviews_l30d                        37784 non-null  int64         \n",
      " 42  first_review                                  37784 non-null  datetime64[ns]\n",
      " 43  last_review                                   37784 non-null  datetime64[ns]\n",
      " 44  review_scores_rating                          37784 non-null  float64       \n",
      " 45  review_scores_accuracy                        37784 non-null  float64       \n",
      " 46  review_scores_cleanliness                     37784 non-null  float64       \n",
      " 47  review_scores_checkin                         37784 non-null  float64       \n",
      " 48  review_scores_communication                   37784 non-null  float64       \n",
      " 49  review_scores_location                        37784 non-null  float64       \n",
      " 50  review_scores_value                           37784 non-null  float64       \n",
      " 51  instant_bookable                              37784 non-null  bool          \n",
      " 52  calculated_host_listings_count                37784 non-null  int64         \n",
      " 53  calculated_host_listings_count_entire_homes   37784 non-null  int64         \n",
      " 54  calculated_host_listings_count_private_rooms  37784 non-null  int64         \n",
      " 55  calculated_host_listings_count_shared_rooms   37784 non-null  int64         \n",
      " 56  reviews_per_month                             37784 non-null  float64       \n",
      "dtypes: bool(5), datetime64[ns](4), float64(20), int64(15), object(13)\n",
      "memory usage: 15.2+ MB\n"
     ]
    }
   ],
   "source": [
    "df_cleaned.info()"
   ]
  },
  {
   "cell_type": "markdown",
   "id": "1a82b72e-0238-496c-b205-359fbfad17f8",
   "metadata": {},
   "source": [
    "**Comments** \n",
    "- There are 377,784 observations and 56 columns after cleaning \n",
    "- There are no missing values in the dataset after imputation "
   ]
  },
  {
   "cell_type": "code",
   "execution_count": 10,
   "id": "9deb1728-d07e-4ccf-857e-f79f72aee104",
   "metadata": {},
   "outputs": [
    {
     "data": {
      "text/html": [
       "<div>\n",
       "<style scoped>\n",
       "    .dataframe tbody tr th:only-of-type {\n",
       "        vertical-align: middle;\n",
       "    }\n",
       "\n",
       "    .dataframe tbody tr th {\n",
       "        vertical-align: top;\n",
       "    }\n",
       "\n",
       "    .dataframe thead th {\n",
       "        text-align: right;\n",
       "    }\n",
       "</style>\n",
       "<table border=\"1\" class=\"dataframe\">\n",
       "  <thead>\n",
       "    <tr style=\"text-align: right;\">\n",
       "      <th></th>\n",
       "      <th>host_since</th>\n",
       "      <th>host_response_rate</th>\n",
       "      <th>host_acceptance_rate</th>\n",
       "      <th>host_listings_count</th>\n",
       "      <th>host_total_listings_count</th>\n",
       "      <th>accommodates</th>\n",
       "      <th>bathrooms</th>\n",
       "      <th>bedrooms</th>\n",
       "      <th>beds</th>\n",
       "      <th>price</th>\n",
       "      <th>minimum_nights</th>\n",
       "      <th>maximum_nights</th>\n",
       "      <th>minimum_nights_avg_ntm</th>\n",
       "      <th>maximum_nights_avg_ntm</th>\n",
       "      <th>availability_30</th>\n",
       "      <th>availability_60</th>\n",
       "      <th>availability_90</th>\n",
       "      <th>availability_365</th>\n",
       "      <th>calendar_last_scraped</th>\n",
       "      <th>number_of_reviews</th>\n",
       "      <th>number_of_reviews_ltm</th>\n",
       "      <th>number_of_reviews_l30d</th>\n",
       "      <th>first_review</th>\n",
       "      <th>last_review</th>\n",
       "      <th>review_scores_rating</th>\n",
       "      <th>review_scores_accuracy</th>\n",
       "      <th>review_scores_cleanliness</th>\n",
       "      <th>review_scores_checkin</th>\n",
       "      <th>review_scores_communication</th>\n",
       "      <th>review_scores_location</th>\n",
       "      <th>review_scores_value</th>\n",
       "      <th>calculated_host_listings_count</th>\n",
       "      <th>calculated_host_listings_count_entire_homes</th>\n",
       "      <th>calculated_host_listings_count_private_rooms</th>\n",
       "      <th>calculated_host_listings_count_shared_rooms</th>\n",
       "      <th>reviews_per_month</th>\n",
       "    </tr>\n",
       "  </thead>\n",
       "  <tbody>\n",
       "    <tr>\n",
       "      <th>count</th>\n",
       "      <td>37784</td>\n",
       "      <td>37784.000000</td>\n",
       "      <td>37784.000000</td>\n",
       "      <td>37784.000000</td>\n",
       "      <td>37784.000000</td>\n",
       "      <td>37784.000000</td>\n",
       "      <td>37784.000000</td>\n",
       "      <td>37784.000000</td>\n",
       "      <td>37784.000000</td>\n",
       "      <td>37784.000000</td>\n",
       "      <td>37784.000000</td>\n",
       "      <td>3.778400e+04</td>\n",
       "      <td>37784.000000</td>\n",
       "      <td>3.778400e+04</td>\n",
       "      <td>37784.000000</td>\n",
       "      <td>37784.000000</td>\n",
       "      <td>37784.000000</td>\n",
       "      <td>37784.000000</td>\n",
       "      <td>37784</td>\n",
       "      <td>37784.000000</td>\n",
       "      <td>37784.000000</td>\n",
       "      <td>37784.000000</td>\n",
       "      <td>37784</td>\n",
       "      <td>37784</td>\n",
       "      <td>37784.000000</td>\n",
       "      <td>37784.000000</td>\n",
       "      <td>37784.000000</td>\n",
       "      <td>37784.000000</td>\n",
       "      <td>37784.000000</td>\n",
       "      <td>37784.000000</td>\n",
       "      <td>37784.000000</td>\n",
       "      <td>37784.000000</td>\n",
       "      <td>37784.000000</td>\n",
       "      <td>37784.000000</td>\n",
       "      <td>37784.000000</td>\n",
       "      <td>37784.000000</td>\n",
       "    </tr>\n",
       "    <tr>\n",
       "      <th>mean</th>\n",
       "      <td>2017-03-06 09:48:26.373067776</td>\n",
       "      <td>0.952508</td>\n",
       "      <td>0.812859</td>\n",
       "      <td>263.054864</td>\n",
       "      <td>351.429229</td>\n",
       "      <td>2.754896</td>\n",
       "      <td>1.119654</td>\n",
       "      <td>1.321723</td>\n",
       "      <td>1.383946</td>\n",
       "      <td>170.434126</td>\n",
       "      <td>28.882172</td>\n",
       "      <td>5.793950e+04</td>\n",
       "      <td>29.497840</td>\n",
       "      <td>8.501277e+05</td>\n",
       "      <td>12.314075</td>\n",
       "      <td>27.011275</td>\n",
       "      <td>42.416552</td>\n",
       "      <td>163.400963</td>\n",
       "      <td>2025-01-03 00:00:00</td>\n",
       "      <td>25.658639</td>\n",
       "      <td>3.731447</td>\n",
       "      <td>0.294357</td>\n",
       "      <td>2021-02-19 02:42:05.259369216</td>\n",
       "      <td>2023-05-11 06:14:56.379419904</td>\n",
       "      <td>4.763849</td>\n",
       "      <td>4.805924</td>\n",
       "      <td>4.704505</td>\n",
       "      <td>4.870094</td>\n",
       "      <td>4.867555</td>\n",
       "      <td>4.775639</td>\n",
       "      <td>4.676217</td>\n",
       "      <td>71.636354</td>\n",
       "      <td>45.435555</td>\n",
       "      <td>23.985232</td>\n",
       "      <td>0.005187</td>\n",
       "      <td>0.685365</td>\n",
       "    </tr>\n",
       "    <tr>\n",
       "      <th>min</th>\n",
       "      <td>2008-08-11 00:00:00</td>\n",
       "      <td>0.000000</td>\n",
       "      <td>0.000000</td>\n",
       "      <td>1.000000</td>\n",
       "      <td>1.000000</td>\n",
       "      <td>1.000000</td>\n",
       "      <td>0.000000</td>\n",
       "      <td>0.000000</td>\n",
       "      <td>0.000000</td>\n",
       "      <td>8.000000</td>\n",
       "      <td>1.000000</td>\n",
       "      <td>1.000000e+00</td>\n",
       "      <td>1.000000</td>\n",
       "      <td>1.000000e+00</td>\n",
       "      <td>0.000000</td>\n",
       "      <td>0.000000</td>\n",
       "      <td>0.000000</td>\n",
       "      <td>0.000000</td>\n",
       "      <td>2025-01-03 00:00:00</td>\n",
       "      <td>0.000000</td>\n",
       "      <td>0.000000</td>\n",
       "      <td>0.000000</td>\n",
       "      <td>2009-05-25 00:00:00</td>\n",
       "      <td>2011-05-12 00:00:00</td>\n",
       "      <td>0.000000</td>\n",
       "      <td>0.000000</td>\n",
       "      <td>0.000000</td>\n",
       "      <td>0.000000</td>\n",
       "      <td>0.000000</td>\n",
       "      <td>0.000000</td>\n",
       "      <td>0.000000</td>\n",
       "      <td>1.000000</td>\n",
       "      <td>0.000000</td>\n",
       "      <td>0.000000</td>\n",
       "      <td>0.000000</td>\n",
       "      <td>0.010000</td>\n",
       "    </tr>\n",
       "    <tr>\n",
       "      <th>25%</th>\n",
       "      <td>2014-07-07 00:00:00</td>\n",
       "      <td>1.000000</td>\n",
       "      <td>0.840000</td>\n",
       "      <td>1.000000</td>\n",
       "      <td>1.000000</td>\n",
       "      <td>2.000000</td>\n",
       "      <td>1.000000</td>\n",
       "      <td>1.000000</td>\n",
       "      <td>1.000000</td>\n",
       "      <td>113.750000</td>\n",
       "      <td>30.000000</td>\n",
       "      <td>1.500000e+02</td>\n",
       "      <td>30.000000</td>\n",
       "      <td>3.650000e+02</td>\n",
       "      <td>0.000000</td>\n",
       "      <td>0.000000</td>\n",
       "      <td>0.000000</td>\n",
       "      <td>0.000000</td>\n",
       "      <td>2025-01-03 00:00:00</td>\n",
       "      <td>0.000000</td>\n",
       "      <td>0.000000</td>\n",
       "      <td>0.000000</td>\n",
       "      <td>2019-01-21 00:00:00</td>\n",
       "      <td>2023-03-19 00:00:00</td>\n",
       "      <td>4.750000</td>\n",
       "      <td>4.817500</td>\n",
       "      <td>4.690000</td>\n",
       "      <td>4.890000</td>\n",
       "      <td>4.900000</td>\n",
       "      <td>4.750000</td>\n",
       "      <td>4.670000</td>\n",
       "      <td>1.000000</td>\n",
       "      <td>0.000000</td>\n",
       "      <td>0.000000</td>\n",
       "      <td>0.000000</td>\n",
       "      <td>0.160000</td>\n",
       "    </tr>\n",
       "    <tr>\n",
       "      <th>50%</th>\n",
       "      <td>2016-08-02 00:00:00</td>\n",
       "      <td>1.000000</td>\n",
       "      <td>0.880000</td>\n",
       "      <td>2.000000</td>\n",
       "      <td>3.000000</td>\n",
       "      <td>2.000000</td>\n",
       "      <td>1.000000</td>\n",
       "      <td>1.000000</td>\n",
       "      <td>1.000000</td>\n",
       "      <td>132.000000</td>\n",
       "      <td>30.000000</td>\n",
       "      <td>3.650000e+02</td>\n",
       "      <td>30.000000</td>\n",
       "      <td>5.676500e+02</td>\n",
       "      <td>2.000000</td>\n",
       "      <td>23.000000</td>\n",
       "      <td>41.000000</td>\n",
       "      <td>155.000000</td>\n",
       "      <td>2025-01-03 00:00:00</td>\n",
       "      <td>3.000000</td>\n",
       "      <td>0.000000</td>\n",
       "      <td>0.000000</td>\n",
       "      <td>2022-12-11 00:00:00</td>\n",
       "      <td>2024-10-11 00:00:00</td>\n",
       "      <td>4.850000</td>\n",
       "      <td>4.900000</td>\n",
       "      <td>4.810000</td>\n",
       "      <td>4.950000</td>\n",
       "      <td>4.960000</td>\n",
       "      <td>4.850000</td>\n",
       "      <td>4.760000</td>\n",
       "      <td>2.000000</td>\n",
       "      <td>1.000000</td>\n",
       "      <td>1.000000</td>\n",
       "      <td>0.000000</td>\n",
       "      <td>0.290000</td>\n",
       "    </tr>\n",
       "    <tr>\n",
       "      <th>75%</th>\n",
       "      <td>2019-10-29 00:00:00</td>\n",
       "      <td>1.000000</td>\n",
       "      <td>0.950000</td>\n",
       "      <td>10.000000</td>\n",
       "      <td>15.000000</td>\n",
       "      <td>4.000000</td>\n",
       "      <td>1.000000</td>\n",
       "      <td>1.000000</td>\n",
       "      <td>1.000000</td>\n",
       "      <td>156.000000</td>\n",
       "      <td>30.000000</td>\n",
       "      <td>1.125000e+03</td>\n",
       "      <td>30.000000</td>\n",
       "      <td>1.125000e+03</td>\n",
       "      <td>29.000000</td>\n",
       "      <td>58.000000</td>\n",
       "      <td>88.000000</td>\n",
       "      <td>329.000000</td>\n",
       "      <td>2025-01-03 00:00:00</td>\n",
       "      <td>22.000000</td>\n",
       "      <td>1.000000</td>\n",
       "      <td>0.000000</td>\n",
       "      <td>2023-01-01 00:00:00</td>\n",
       "      <td>2024-12-15 00:00:00</td>\n",
       "      <td>4.940000</td>\n",
       "      <td>4.970000</td>\n",
       "      <td>4.910000</td>\n",
       "      <td>5.000000</td>\n",
       "      <td>5.000000</td>\n",
       "      <td>4.950000</td>\n",
       "      <td>4.850000</td>\n",
       "      <td>9.000000</td>\n",
       "      <td>2.000000</td>\n",
       "      <td>2.000000</td>\n",
       "      <td>0.000000</td>\n",
       "      <td>0.550000</td>\n",
       "    </tr>\n",
       "    <tr>\n",
       "      <th>max</th>\n",
       "      <td>2024-12-27 00:00:00</td>\n",
       "      <td>1.000000</td>\n",
       "      <td>1.000000</td>\n",
       "      <td>5079.000000</td>\n",
       "      <td>9048.000000</td>\n",
       "      <td>16.000000</td>\n",
       "      <td>15.500000</td>\n",
       "      <td>16.000000</td>\n",
       "      <td>42.000000</td>\n",
       "      <td>20000.000000</td>\n",
       "      <td>1250.000000</td>\n",
       "      <td>2.147484e+09</td>\n",
       "      <td>1250.000000</td>\n",
       "      <td>2.147484e+09</td>\n",
       "      <td>30.000000</td>\n",
       "      <td>60.000000</td>\n",
       "      <td>90.000000</td>\n",
       "      <td>365.000000</td>\n",
       "      <td>2025-01-03 00:00:00</td>\n",
       "      <td>2485.000000</td>\n",
       "      <td>1779.000000</td>\n",
       "      <td>137.000000</td>\n",
       "      <td>2025-01-02 00:00:00</td>\n",
       "      <td>2025-01-02 00:00:00</td>\n",
       "      <td>5.000000</td>\n",
       "      <td>5.000000</td>\n",
       "      <td>5.000000</td>\n",
       "      <td>5.000000</td>\n",
       "      <td>5.000000</td>\n",
       "      <td>5.000000</td>\n",
       "      <td>5.000000</td>\n",
       "      <td>1154.000000</td>\n",
       "      <td>1154.000000</td>\n",
       "      <td>739.000000</td>\n",
       "      <td>4.000000</td>\n",
       "      <td>116.300000</td>\n",
       "    </tr>\n",
       "    <tr>\n",
       "      <th>std</th>\n",
       "      <td>NaN</td>\n",
       "      <td>0.173547</td>\n",
       "      <td>0.232501</td>\n",
       "      <td>1000.361076</td>\n",
       "      <td>1196.815995</td>\n",
       "      <td>1.903900</td>\n",
       "      <td>0.442243</td>\n",
       "      <td>0.869987</td>\n",
       "      <td>0.984719</td>\n",
       "      <td>277.145183</td>\n",
       "      <td>29.905150</td>\n",
       "      <td>1.104828e+07</td>\n",
       "      <td>30.858242</td>\n",
       "      <td>4.252198e+07</td>\n",
       "      <td>13.408262</td>\n",
       "      <td>26.656382</td>\n",
       "      <td>39.790892</td>\n",
       "      <td>148.521232</td>\n",
       "      <td>NaN</td>\n",
       "      <td>62.619846</td>\n",
       "      <td>18.798642</td>\n",
       "      <td>1.485928</td>\n",
       "      <td>NaN</td>\n",
       "      <td>NaN</td>\n",
       "      <td>0.376341</td>\n",
       "      <td>0.371005</td>\n",
       "      <td>0.423313</td>\n",
       "      <td>0.317409</td>\n",
       "      <td>0.345344</td>\n",
       "      <td>0.331185</td>\n",
       "      <td>0.413567</td>\n",
       "      <td>224.585038</td>\n",
       "      <td>200.899492</td>\n",
       "      <td>109.136674</td>\n",
       "      <td>0.086848</td>\n",
       "      <td>1.584030</td>\n",
       "    </tr>\n",
       "  </tbody>\n",
       "</table>\n",
       "</div>"
      ],
      "text/plain": [
       "                          host_since  host_response_rate  \\\n",
       "count                          37784        37784.000000   \n",
       "mean   2017-03-06 09:48:26.373067776            0.952508   \n",
       "min              2008-08-11 00:00:00            0.000000   \n",
       "25%              2014-07-07 00:00:00            1.000000   \n",
       "50%              2016-08-02 00:00:00            1.000000   \n",
       "75%              2019-10-29 00:00:00            1.000000   \n",
       "max              2024-12-27 00:00:00            1.000000   \n",
       "std                              NaN            0.173547   \n",
       "\n",
       "       host_acceptance_rate  host_listings_count  host_total_listings_count  \\\n",
       "count          37784.000000         37784.000000               37784.000000   \n",
       "mean               0.812859           263.054864                 351.429229   \n",
       "min                0.000000             1.000000                   1.000000   \n",
       "25%                0.840000             1.000000                   1.000000   \n",
       "50%                0.880000             2.000000                   3.000000   \n",
       "75%                0.950000            10.000000                  15.000000   \n",
       "max                1.000000          5079.000000                9048.000000   \n",
       "std                0.232501          1000.361076                1196.815995   \n",
       "\n",
       "       accommodates     bathrooms      bedrooms          beds         price  \\\n",
       "count  37784.000000  37784.000000  37784.000000  37784.000000  37784.000000   \n",
       "mean       2.754896      1.119654      1.321723      1.383946    170.434126   \n",
       "min        1.000000      0.000000      0.000000      0.000000      8.000000   \n",
       "25%        2.000000      1.000000      1.000000      1.000000    113.750000   \n",
       "50%        2.000000      1.000000      1.000000      1.000000    132.000000   \n",
       "75%        4.000000      1.000000      1.000000      1.000000    156.000000   \n",
       "max       16.000000     15.500000     16.000000     42.000000  20000.000000   \n",
       "std        1.903900      0.442243      0.869987      0.984719    277.145183   \n",
       "\n",
       "       minimum_nights  maximum_nights  minimum_nights_avg_ntm  \\\n",
       "count    37784.000000    3.778400e+04            37784.000000   \n",
       "mean        28.882172    5.793950e+04               29.497840   \n",
       "min          1.000000    1.000000e+00                1.000000   \n",
       "25%         30.000000    1.500000e+02               30.000000   \n",
       "50%         30.000000    3.650000e+02               30.000000   \n",
       "75%         30.000000    1.125000e+03               30.000000   \n",
       "max       1250.000000    2.147484e+09             1250.000000   \n",
       "std         29.905150    1.104828e+07               30.858242   \n",
       "\n",
       "       maximum_nights_avg_ntm  availability_30  availability_60  \\\n",
       "count            3.778400e+04     37784.000000     37784.000000   \n",
       "mean             8.501277e+05        12.314075        27.011275   \n",
       "min              1.000000e+00         0.000000         0.000000   \n",
       "25%              3.650000e+02         0.000000         0.000000   \n",
       "50%              5.676500e+02         2.000000        23.000000   \n",
       "75%              1.125000e+03        29.000000        58.000000   \n",
       "max              2.147484e+09        30.000000        60.000000   \n",
       "std              4.252198e+07        13.408262        26.656382   \n",
       "\n",
       "       availability_90  availability_365 calendar_last_scraped  \\\n",
       "count     37784.000000      37784.000000                 37784   \n",
       "mean         42.416552        163.400963   2025-01-03 00:00:00   \n",
       "min           0.000000          0.000000   2025-01-03 00:00:00   \n",
       "25%           0.000000          0.000000   2025-01-03 00:00:00   \n",
       "50%          41.000000        155.000000   2025-01-03 00:00:00   \n",
       "75%          88.000000        329.000000   2025-01-03 00:00:00   \n",
       "max          90.000000        365.000000   2025-01-03 00:00:00   \n",
       "std          39.790892        148.521232                   NaN   \n",
       "\n",
       "       number_of_reviews  number_of_reviews_ltm  number_of_reviews_l30d  \\\n",
       "count       37784.000000           37784.000000            37784.000000   \n",
       "mean           25.658639               3.731447                0.294357   \n",
       "min             0.000000               0.000000                0.000000   \n",
       "25%             0.000000               0.000000                0.000000   \n",
       "50%             3.000000               0.000000                0.000000   \n",
       "75%            22.000000               1.000000                0.000000   \n",
       "max          2485.000000            1779.000000              137.000000   \n",
       "std            62.619846              18.798642                1.485928   \n",
       "\n",
       "                        first_review                    last_review  \\\n",
       "count                          37784                          37784   \n",
       "mean   2021-02-19 02:42:05.259369216  2023-05-11 06:14:56.379419904   \n",
       "min              2009-05-25 00:00:00            2011-05-12 00:00:00   \n",
       "25%              2019-01-21 00:00:00            2023-03-19 00:00:00   \n",
       "50%              2022-12-11 00:00:00            2024-10-11 00:00:00   \n",
       "75%              2023-01-01 00:00:00            2024-12-15 00:00:00   \n",
       "max              2025-01-02 00:00:00            2025-01-02 00:00:00   \n",
       "std                              NaN                            NaN   \n",
       "\n",
       "       review_scores_rating  review_scores_accuracy  \\\n",
       "count          37784.000000            37784.000000   \n",
       "mean               4.763849                4.805924   \n",
       "min                0.000000                0.000000   \n",
       "25%                4.750000                4.817500   \n",
       "50%                4.850000                4.900000   \n",
       "75%                4.940000                4.970000   \n",
       "max                5.000000                5.000000   \n",
       "std                0.376341                0.371005   \n",
       "\n",
       "       review_scores_cleanliness  review_scores_checkin  \\\n",
       "count               37784.000000           37784.000000   \n",
       "mean                    4.704505               4.870094   \n",
       "min                     0.000000               0.000000   \n",
       "25%                     4.690000               4.890000   \n",
       "50%                     4.810000               4.950000   \n",
       "75%                     4.910000               5.000000   \n",
       "max                     5.000000               5.000000   \n",
       "std                     0.423313               0.317409   \n",
       "\n",
       "       review_scores_communication  review_scores_location  \\\n",
       "count                 37784.000000            37784.000000   \n",
       "mean                      4.867555                4.775639   \n",
       "min                       0.000000                0.000000   \n",
       "25%                       4.900000                4.750000   \n",
       "50%                       4.960000                4.850000   \n",
       "75%                       5.000000                4.950000   \n",
       "max                       5.000000                5.000000   \n",
       "std                       0.345344                0.331185   \n",
       "\n",
       "       review_scores_value  calculated_host_listings_count  \\\n",
       "count         37784.000000                    37784.000000   \n",
       "mean              4.676217                       71.636354   \n",
       "min               0.000000                        1.000000   \n",
       "25%               4.670000                        1.000000   \n",
       "50%               4.760000                        2.000000   \n",
       "75%               4.850000                        9.000000   \n",
       "max               5.000000                     1154.000000   \n",
       "std               0.413567                      224.585038   \n",
       "\n",
       "       calculated_host_listings_count_entire_homes  \\\n",
       "count                                 37784.000000   \n",
       "mean                                     45.435555   \n",
       "min                                       0.000000   \n",
       "25%                                       0.000000   \n",
       "50%                                       1.000000   \n",
       "75%                                       2.000000   \n",
       "max                                    1154.000000   \n",
       "std                                     200.899492   \n",
       "\n",
       "       calculated_host_listings_count_private_rooms  \\\n",
       "count                                  37784.000000   \n",
       "mean                                      23.985232   \n",
       "min                                        0.000000   \n",
       "25%                                        0.000000   \n",
       "50%                                        1.000000   \n",
       "75%                                        2.000000   \n",
       "max                                      739.000000   \n",
       "std                                      109.136674   \n",
       "\n",
       "       calculated_host_listings_count_shared_rooms  reviews_per_month  \n",
       "count                                 37784.000000       37784.000000  \n",
       "mean                                      0.005187           0.685365  \n",
       "min                                       0.000000           0.010000  \n",
       "25%                                       0.000000           0.160000  \n",
       "50%                                       0.000000           0.290000  \n",
       "75%                                       0.000000           0.550000  \n",
       "max                                       4.000000         116.300000  \n",
       "std                                       0.086848           1.584030  "
      ]
     },
     "execution_count": 10,
     "metadata": {},
     "output_type": "execute_result"
    }
   ],
   "source": [
    "exclude_columns = ['latitude', 'longitude', 'host_id']\n",
    "df_numerical = df_cleaned.drop(columns=exclude_columns)\n",
    "\n",
    "pd.set_option('display.max_columns', None)\n",
    "df_numerical.describe()"
   ]
  },
  {
   "cell_type": "code",
   "execution_count": 11,
   "id": "cf811c24-e553-4f56-b80d-c82c69a401b5",
   "metadata": {},
   "outputs": [
    {
     "data": {
      "text/html": [
       "<div>\n",
       "<style scoped>\n",
       "    .dataframe tbody tr th:only-of-type {\n",
       "        vertical-align: middle;\n",
       "    }\n",
       "\n",
       "    .dataframe tbody tr th {\n",
       "        vertical-align: top;\n",
       "    }\n",
       "\n",
       "    .dataframe thead th {\n",
       "        text-align: right;\n",
       "    }\n",
       "</style>\n",
       "<table border=\"1\" class=\"dataframe\">\n",
       "  <thead>\n",
       "    <tr style=\"text-align: right;\">\n",
       "      <th></th>\n",
       "      <th>name</th>\n",
       "      <th>description</th>\n",
       "      <th>neighborhood_overview</th>\n",
       "      <th>host_location</th>\n",
       "      <th>host_about</th>\n",
       "      <th>host_response_time</th>\n",
       "      <th>host_neighbourhood</th>\n",
       "      <th>host_verifications</th>\n",
       "      <th>neighbourhood_cleansed</th>\n",
       "      <th>neighbourhood_group_cleansed</th>\n",
       "      <th>property_type</th>\n",
       "      <th>room_type</th>\n",
       "      <th>amenities</th>\n",
       "    </tr>\n",
       "  </thead>\n",
       "  <tbody>\n",
       "    <tr>\n",
       "      <th>count</th>\n",
       "      <td>37784</td>\n",
       "      <td>37784</td>\n",
       "      <td>37784</td>\n",
       "      <td>37784</td>\n",
       "      <td>37784</td>\n",
       "      <td>37784</td>\n",
       "      <td>37784</td>\n",
       "      <td>37784</td>\n",
       "      <td>37784</td>\n",
       "      <td>37784</td>\n",
       "      <td>37784</td>\n",
       "      <td>37784</td>\n",
       "      <td>37784</td>\n",
       "    </tr>\n",
       "    <tr>\n",
       "      <th>unique</th>\n",
       "      <td>36058</td>\n",
       "      <td>31140</td>\n",
       "      <td>15117</td>\n",
       "      <td>988</td>\n",
       "      <td>11654</td>\n",
       "      <td>5</td>\n",
       "      <td>521</td>\n",
       "      <td>7</td>\n",
       "      <td>223</td>\n",
       "      <td>5</td>\n",
       "      <td>69</td>\n",
       "      <td>4</td>\n",
       "      <td>30453</td>\n",
       "    </tr>\n",
       "    <tr>\n",
       "      <th>top</th>\n",
       "      <td>Water View King Bed Hotel Room</td>\n",
       "      <td>No description available</td>\n",
       "      <td>No overview available</td>\n",
       "      <td>New York, NY</td>\n",
       "      <td>We’re Blueground, a global proptech company wi...</td>\n",
       "      <td>No response time</td>\n",
       "      <td>Bedford-Stuyvesant</td>\n",
       "      <td>['email', 'phone']</td>\n",
       "      <td>Bedford-Stuyvesant</td>\n",
       "      <td>Manhattan</td>\n",
       "      <td>Entire rental unit</td>\n",
       "      <td>Entire home/apt</td>\n",
       "      <td>[\"Wifi\", \"TV\", \"Smoke alarm\", \"Carbon monoxide...</td>\n",
       "    </tr>\n",
       "    <tr>\n",
       "      <th>freq</th>\n",
       "      <td>30</td>\n",
       "      <td>973</td>\n",
       "      <td>17177</td>\n",
       "      <td>22469</td>\n",
       "      <td>17326</td>\n",
       "      <td>15585</td>\n",
       "      <td>9498</td>\n",
       "      <td>29303</td>\n",
       "      <td>2678</td>\n",
       "      <td>16819</td>\n",
       "      <td>15887</td>\n",
       "      <td>20160</td>\n",
       "      <td>237</td>\n",
       "    </tr>\n",
       "  </tbody>\n",
       "</table>\n",
       "</div>"
      ],
      "text/plain": [
       "                                  name               description  \\\n",
       "count                            37784                     37784   \n",
       "unique                           36058                     31140   \n",
       "top     Water View King Bed Hotel Room  No description available   \n",
       "freq                                30                       973   \n",
       "\n",
       "        neighborhood_overview host_location  \\\n",
       "count                   37784         37784   \n",
       "unique                  15117           988   \n",
       "top     No overview available  New York, NY   \n",
       "freq                    17177         22469   \n",
       "\n",
       "                                               host_about host_response_time  \\\n",
       "count                                               37784              37784   \n",
       "unique                                              11654                  5   \n",
       "top     We’re Blueground, a global proptech company wi...   No response time   \n",
       "freq                                                17326              15585   \n",
       "\n",
       "        host_neighbourhood  host_verifications neighbourhood_cleansed  \\\n",
       "count                37784               37784                  37784   \n",
       "unique                 521                   7                    223   \n",
       "top     Bedford-Stuyvesant  ['email', 'phone']     Bedford-Stuyvesant   \n",
       "freq                  9498               29303                   2678   \n",
       "\n",
       "       neighbourhood_group_cleansed       property_type        room_type  \\\n",
       "count                         37784               37784            37784   \n",
       "unique                            5                  69                4   \n",
       "top                       Manhattan  Entire rental unit  Entire home/apt   \n",
       "freq                          16819               15887            20160   \n",
       "\n",
       "                                                amenities  \n",
       "count                                               37784  \n",
       "unique                                              30453  \n",
       "top     [\"Wifi\", \"TV\", \"Smoke alarm\", \"Carbon monoxide...  \n",
       "freq                                                  237  "
      ]
     },
     "execution_count": 11,
     "metadata": {},
     "output_type": "execute_result"
    }
   ],
   "source": [
    "df_cleaned.describe(include=['object'])"
   ]
  },
  {
   "cell_type": "code",
   "execution_count": 14,
   "id": "93ac447b-dbc7-4f47-9cb9-4ee662f3ed97",
   "metadata": {},
   "outputs": [
    {
     "data": {
      "application/vnd.vegalite.v5+json": {
       "$schema": "https://vega.github.io/schema/vega-lite/v5.20.1.json",
       "config": {
        "view": {
         "continuousHeight": 300,
         "continuousWidth": 300
        }
       },
       "data": {
        "name": "data-e84caa112f9e584ec50f01f5a09a14b8"
       },
       "datasets": {
        "data-e84caa112f9e584ec50f01f5a09a14b8": [
         {
          "correlation": 1,
          "index": "host_id",
          "variable": "host_id"
         },
         {
          "correlation": -0.07935034959683542,
          "index": "host_response_rate",
          "variable": "host_id"
         },
         {
          "correlation": 0.0766879681253581,
          "index": "host_acceptance_rate",
          "variable": "host_id"
         },
         {
          "correlation": 0.04639171682560786,
          "index": "host_listings_count",
          "variable": "host_id"
         },
         {
          "correlation": 0.07197702039737608,
          "index": "host_total_listings_count",
          "variable": "host_id"
         },
         {
          "correlation": 0.02493349711241542,
          "index": "latitude",
          "variable": "host_id"
         },
         {
          "correlation": 0.09594968484293502,
          "index": "longitude",
          "variable": "host_id"
         },
         {
          "correlation": 0.08416345097519244,
          "index": "accommodates",
          "variable": "host_id"
         },
         {
          "correlation": 0.03904430391178299,
          "index": "bathrooms",
          "variable": "host_id"
         },
         {
          "correlation": 0.0007795679051159398,
          "index": "bedrooms",
          "variable": "host_id"
         },
         {
          "correlation": 0.08354395476565633,
          "index": "beds",
          "variable": "host_id"
         },
         {
          "correlation": 0.04980060176573925,
          "index": "price",
          "variable": "host_id"
         },
         {
          "correlation": -0.11668222209371255,
          "index": "minimum_nights",
          "variable": "host_id"
         },
         {
          "correlation": -0.004252513407370773,
          "index": "maximum_nights",
          "variable": "host_id"
         },
         {
          "correlation": -0.12425599057890159,
          "index": "minimum_nights_avg_ntm",
          "variable": "host_id"
         },
         {
          "correlation": 0.008760753246422866,
          "index": "maximum_nights_avg_ntm",
          "variable": "host_id"
         },
         {
          "correlation": 0.283253184491808,
          "index": "availability_30",
          "variable": "host_id"
         },
         {
          "correlation": 0.29937292526116377,
          "index": "availability_60",
          "variable": "host_id"
         },
         {
          "correlation": 0.30661566972129806,
          "index": "availability_90",
          "variable": "host_id"
         },
         {
          "correlation": 0.26245921525749094,
          "index": "availability_365",
          "variable": "host_id"
         },
         {
          "correlation": -0.06870525268073191,
          "index": "number_of_reviews",
          "variable": "host_id"
         },
         {
          "correlation": 0.10786168801969694,
          "index": "number_of_reviews_ltm",
          "variable": "host_id"
         },
         {
          "correlation": 0.11737405591829043,
          "index": "number_of_reviews_l30d",
          "variable": "host_id"
         },
         {
          "correlation": -0.07016469721354797,
          "index": "review_scores_rating",
          "variable": "host_id"
         },
         {
          "correlation": -0.08031872108882636,
          "index": "review_scores_accuracy",
          "variable": "host_id"
         },
         {
          "correlation": 0.0012195552564712561,
          "index": "review_scores_cleanliness",
          "variable": "host_id"
         },
         {
          "correlation": -0.06010621777856737,
          "index": "review_scores_checkin",
          "variable": "host_id"
         },
         {
          "correlation": -0.07240676470995958,
          "index": "review_scores_communication",
          "variable": "host_id"
         },
         {
          "correlation": -0.05683894548652479,
          "index": "review_scores_location",
          "variable": "host_id"
         },
         {
          "correlation": -0.09203770715770353,
          "index": "review_scores_value",
          "variable": "host_id"
         },
         {
          "correlation": -0.06439604602218629,
          "index": "calculated_host_listings_count",
          "variable": "host_id"
         },
         {
          "correlation": -0.04106721586952844,
          "index": "calculated_host_listings_count_entire_homes",
          "variable": "host_id"
         },
         {
          "correlation": -0.08923213907476883,
          "index": "calculated_host_listings_count_private_rooms",
          "variable": "host_id"
         },
         {
          "correlation": 0.007287852364086798,
          "index": "calculated_host_listings_count_shared_rooms",
          "variable": "host_id"
         },
         {
          "correlation": 0.15133921024479197,
          "index": "reviews_per_month",
          "variable": "host_id"
         },
         {
          "correlation": -0.07935034959683542,
          "index": "host_id",
          "variable": "host_response_rate"
         },
         {
          "correlation": 1,
          "index": "host_response_rate",
          "variable": "host_response_rate"
         },
         {
          "correlation": 0.29228258258856926,
          "index": "host_acceptance_rate",
          "variable": "host_response_rate"
         },
         {
          "correlation": 0.05332384821489052,
          "index": "host_listings_count",
          "variable": "host_response_rate"
         },
         {
          "correlation": 0.04992073630483016,
          "index": "host_total_listings_count",
          "variable": "host_response_rate"
         },
         {
          "correlation": -0.02019229640395494,
          "index": "latitude",
          "variable": "host_response_rate"
         },
         {
          "correlation": -0.013866308639224178,
          "index": "longitude",
          "variable": "host_response_rate"
         },
         {
          "correlation": 0.006420464582458092,
          "index": "accommodates",
          "variable": "host_response_rate"
         },
         {
          "correlation": -0.009908224078524595,
          "index": "bathrooms",
          "variable": "host_response_rate"
         },
         {
          "correlation": 0.0070446094812232525,
          "index": "bedrooms",
          "variable": "host_response_rate"
         },
         {
          "correlation": -0.027356558232383497,
          "index": "beds",
          "variable": "host_response_rate"
         },
         {
          "correlation": 0.011070645886557385,
          "index": "price",
          "variable": "host_response_rate"
         },
         {
          "correlation": -0.0217772791718354,
          "index": "minimum_nights",
          "variable": "host_response_rate"
         },
         {
          "correlation": 0.0014240504772536481,
          "index": "maximum_nights",
          "variable": "host_response_rate"
         },
         {
          "correlation": -0.01706354444310839,
          "index": "minimum_nights_avg_ntm",
          "variable": "host_response_rate"
         },
         {
          "correlation": -0.009677149309117837,
          "index": "maximum_nights_avg_ntm",
          "variable": "host_response_rate"
         },
         {
          "correlation": -0.17139177461210778,
          "index": "availability_30",
          "variable": "host_response_rate"
         },
         {
          "correlation": -0.17726568325164618,
          "index": "availability_60",
          "variable": "host_response_rate"
         },
         {
          "correlation": -0.18074395178317307,
          "index": "availability_90",
          "variable": "host_response_rate"
         },
         {
          "correlation": -0.15502736388742383,
          "index": "availability_365",
          "variable": "host_response_rate"
         },
         {
          "correlation": 0.019667345823557645,
          "index": "number_of_reviews",
          "variable": "host_response_rate"
         },
         {
          "correlation": 0.037437835484886654,
          "index": "number_of_reviews_ltm",
          "variable": "host_response_rate"
         },
         {
          "correlation": 0.0413582549529483,
          "index": "number_of_reviews_l30d",
          "variable": "host_response_rate"
         },
         {
          "correlation": 0.026476775612220272,
          "index": "review_scores_rating",
          "variable": "host_response_rate"
         },
         {
          "correlation": 0.025773280909111795,
          "index": "review_scores_accuracy",
          "variable": "host_response_rate"
         },
         {
          "correlation": 0.022587919999196255,
          "index": "review_scores_cleanliness",
          "variable": "host_response_rate"
         },
         {
          "correlation": 0.01829304989768819,
          "index": "review_scores_checkin",
          "variable": "host_response_rate"
         },
         {
          "correlation": 0.041651896458346584,
          "index": "review_scores_communication",
          "variable": "host_response_rate"
         },
         {
          "correlation": 0.006135498992275946,
          "index": "review_scores_location",
          "variable": "host_response_rate"
         },
         {
          "correlation": 0.02786228941325669,
          "index": "review_scores_value",
          "variable": "host_response_rate"
         },
         {
          "correlation": 0.040174490622729785,
          "index": "calculated_host_listings_count",
          "variable": "host_response_rate"
         },
         {
          "correlation": 0.039982171532729545,
          "index": "calculated_host_listings_count_entire_homes",
          "variable": "host_response_rate"
         },
         {
          "correlation": 0.008848829741372605,
          "index": "calculated_host_listings_count_private_rooms",
          "variable": "host_response_rate"
         },
         {
          "correlation": 0.001261683024201093,
          "index": "calculated_host_listings_count_shared_rooms",
          "variable": "host_response_rate"
         },
         {
          "correlation": 0.029942292928020538,
          "index": "reviews_per_month",
          "variable": "host_response_rate"
         },
         {
          "correlation": 0.0766879681253581,
          "index": "host_id",
          "variable": "host_acceptance_rate"
         },
         {
          "correlation": 0.29228258258856926,
          "index": "host_response_rate",
          "variable": "host_acceptance_rate"
         },
         {
          "correlation": 1,
          "index": "host_acceptance_rate",
          "variable": "host_acceptance_rate"
         },
         {
          "correlation": 0.029788750987335955,
          "index": "host_listings_count",
          "variable": "host_acceptance_rate"
         },
         {
          "correlation": 0.006023233428613293,
          "index": "host_total_listings_count",
          "variable": "host_acceptance_rate"
         },
         {
          "correlation": 0.03541399324156867,
          "index": "latitude",
          "variable": "host_acceptance_rate"
         },
         {
          "correlation": 0.011082411157255804,
          "index": "longitude",
          "variable": "host_acceptance_rate"
         },
         {
          "correlation": 0.05658686254926373,
          "index": "accommodates",
          "variable": "host_acceptance_rate"
         },
         {
          "correlation": -0.07933725510507487,
          "index": "bathrooms",
          "variable": "host_acceptance_rate"
         },
         {
          "correlation": -0.08428145253080555,
          "index": "bedrooms",
          "variable": "host_acceptance_rate"
         },
         {
          "correlation": 0.010474725235038524,
          "index": "beds",
          "variable": "host_acceptance_rate"
         },
         {
          "correlation": 0.011129772607148095,
          "index": "price",
          "variable": "host_acceptance_rate"
         },
         {
          "correlation": -0.072183847771215,
          "index": "minimum_nights",
          "variable": "host_acceptance_rate"
         },
         {
          "correlation": 0.0015030300401516303,
          "index": "maximum_nights",
          "variable": "host_acceptance_rate"
         },
         {
          "correlation": -0.08010737295989048,
          "index": "minimum_nights_avg_ntm",
          "variable": "host_acceptance_rate"
         },
         {
          "correlation": 0.015155975690300107,
          "index": "maximum_nights_avg_ntm",
          "variable": "host_acceptance_rate"
         },
         {
          "correlation": -0.17851710908112137,
          "index": "availability_30",
          "variable": "host_acceptance_rate"
         },
         {
          "correlation": -0.18114552958261937,
          "index": "availability_60",
          "variable": "host_acceptance_rate"
         },
         {
          "correlation": -0.18401821637599425,
          "index": "availability_90",
          "variable": "host_acceptance_rate"
         },
         {
          "correlation": -0.18167448150998508,
          "index": "availability_365",
          "variable": "host_acceptance_rate"
         },
         {
          "correlation": 0.08577535647442103,
          "index": "number_of_reviews",
          "variable": "host_acceptance_rate"
         },
         {
          "correlation": 0.11524114336923043,
          "index": "number_of_reviews_ltm",
          "variable": "host_acceptance_rate"
         },
         {
          "correlation": 0.1156244734268893,
          "index": "number_of_reviews_l30d",
          "variable": "host_acceptance_rate"
         },
         {
          "correlation": -0.016685310316631733,
          "index": "review_scores_rating",
          "variable": "host_acceptance_rate"
         },
         {
          "correlation": -0.008332939095120489,
          "index": "review_scores_accuracy",
          "variable": "host_acceptance_rate"
         },
         {
          "correlation": 0.002089883117215897,
          "index": "review_scores_cleanliness",
          "variable": "host_acceptance_rate"
         },
         {
          "correlation": -0.008722645632975822,
          "index": "review_scores_checkin",
          "variable": "host_acceptance_rate"
         },
         {
          "correlation": 0.0034870962496998162,
          "index": "review_scores_communication",
          "variable": "host_acceptance_rate"
         },
         {
          "correlation": -0.023804103621510912,
          "index": "review_scores_location",
          "variable": "host_acceptance_rate"
         },
         {
          "correlation": -0.002463340895276094,
          "index": "review_scores_value",
          "variable": "host_acceptance_rate"
         },
         {
          "correlation": -0.06565472296357105,
          "index": "calculated_host_listings_count",
          "variable": "host_acceptance_rate"
         },
         {
          "correlation": 0.098976367995869,
          "index": "calculated_host_listings_count_entire_homes",
          "variable": "host_acceptance_rate"
         },
         {
          "correlation": -0.32294224322933485,
          "index": "calculated_host_listings_count_private_rooms",
          "variable": "host_acceptance_rate"
         },
         {
          "correlation": -0.0010882946357155274,
          "index": "calculated_host_listings_count_shared_rooms",
          "variable": "host_acceptance_rate"
         },
         {
          "correlation": 0.12435197365469694,
          "index": "reviews_per_month",
          "variable": "host_acceptance_rate"
         },
         {
          "correlation": 0.04639171682560786,
          "index": "host_id",
          "variable": "host_listings_count"
         },
         {
          "correlation": 0.05332384821489052,
          "index": "host_response_rate",
          "variable": "host_listings_count"
         },
         {
          "correlation": 0.029788750987335955,
          "index": "host_acceptance_rate",
          "variable": "host_listings_count"
         },
         {
          "correlation": 1,
          "index": "host_listings_count",
          "variable": "host_listings_count"
         },
         {
          "correlation": 0.9541106376620774,
          "index": "host_total_listings_count",
          "variable": "host_listings_count"
         },
         {
          "correlation": 0.06784025940562438,
          "index": "latitude",
          "variable": "host_listings_count"
         },
         {
          "correlation": -0.15321848030052015,
          "index": "longitude",
          "variable": "host_listings_count"
         },
         {
          "correlation": -0.007540081415709592,
          "index": "accommodates",
          "variable": "host_listings_count"
         },
         {
          "correlation": 0.03573321434662295,
          "index": "bathrooms",
          "variable": "host_listings_count"
         },
         {
          "correlation": 0.0006219418081947238,
          "index": "bedrooms",
          "variable": "host_listings_count"
         },
         {
          "correlation": -0.013303123188325081,
          "index": "beds",
          "variable": "host_listings_count"
         },
         {
          "correlation": 0.1118998061364591,
          "index": "price",
          "variable": "host_listings_count"
         },
         {
          "correlation": -0.008446188780670152,
          "index": "minimum_nights",
          "variable": "host_listings_count"
         },
         {
          "correlation": -0.0013522471374575115,
          "index": "maximum_nights",
          "variable": "host_listings_count"
         },
         {
          "correlation": 0.027771643026530346,
          "index": "minimum_nights_avg_ntm",
          "variable": "host_listings_count"
         },
         {
          "correlation": -0.003016966680522789,
          "index": "maximum_nights_avg_ntm",
          "variable": "host_listings_count"
         },
         {
          "correlation": -0.02146062362314457,
          "index": "availability_30",
          "variable": "host_listings_count"
         },
         {
          "correlation": -0.0075675203432860275,
          "index": "availability_60",
          "variable": "host_listings_count"
         },
         {
          "correlation": 0.013681816198732842,
          "index": "availability_90",
          "variable": "host_listings_count"
         },
         {
          "correlation": 0.1956893352248523,
          "index": "availability_365",
          "variable": "host_listings_count"
         },
         {
          "correlation": -0.104243746975043,
          "index": "number_of_reviews",
          "variable": "host_listings_count"
         },
         {
          "correlation": -0.048507907506627305,
          "index": "number_of_reviews_ltm",
          "variable": "host_listings_count"
         },
         {
          "correlation": -0.049643719608048066,
          "index": "number_of_reviews_l30d",
          "variable": "host_listings_count"
         },
         {
          "correlation": 0.011635052542675337,
          "index": "review_scores_rating",
          "variable": "host_listings_count"
         },
         {
          "correlation": 0.01870591042568791,
          "index": "review_scores_accuracy",
          "variable": "host_listings_count"
         },
         {
          "correlation": 0.034150607050259435,
          "index": "review_scores_cleanliness",
          "variable": "host_listings_count"
         },
         {
          "correlation": 0.020778599383341013,
          "index": "review_scores_checkin",
          "variable": "host_listings_count"
         },
         {
          "correlation": 0.00588148089450159,
          "index": "review_scores_communication",
          "variable": "host_listings_count"
         },
         {
          "correlation": 0.032549000080849884,
          "index": "review_scores_location",
          "variable": "host_listings_count"
         },
         {
          "correlation": -0.01323789240805589,
          "index": "review_scores_value",
          "variable": "host_listings_count"
         },
         {
          "correlation": 0.8610331867729746,
          "index": "calculated_host_listings_count",
          "variable": "host_listings_count"
         },
         {
          "correlation": 0.9040290491078938,
          "index": "calculated_host_listings_count_entire_homes",
          "variable": "host_listings_count"
         },
         {
          "correlation": 0.061169123907016426,
          "index": "calculated_host_listings_count_private_rooms",
          "variable": "host_listings_count"
         },
         {
          "correlation": -0.015537725622844301,
          "index": "calculated_host_listings_count_shared_rooms",
          "variable": "host_listings_count"
         },
         {
          "correlation": -0.0661395331430392,
          "index": "reviews_per_month",
          "variable": "host_listings_count"
         },
         {
          "correlation": 0.07197702039737608,
          "index": "host_id",
          "variable": "host_total_listings_count"
         },
         {
          "correlation": 0.04992073630483016,
          "index": "host_response_rate",
          "variable": "host_total_listings_count"
         },
         {
          "correlation": 0.006023233428613293,
          "index": "host_acceptance_rate",
          "variable": "host_total_listings_count"
         },
         {
          "correlation": 0.9541106376620774,
          "index": "host_listings_count",
          "variable": "host_total_listings_count"
         },
         {
          "correlation": 1,
          "index": "host_total_listings_count",
          "variable": "host_total_listings_count"
         },
         {
          "correlation": 0.07466820051853447,
          "index": "latitude",
          "variable": "host_total_listings_count"
         },
         {
          "correlation": -0.16012739605105342,
          "index": "longitude",
          "variable": "host_total_listings_count"
         },
         {
          "correlation": 0.01299196239623358,
          "index": "accommodates",
          "variable": "host_total_listings_count"
         },
         {
          "correlation": 0.036810757540184355,
          "index": "bathrooms",
          "variable": "host_total_listings_count"
         },
         {
          "correlation": 0.03348034578491333,
          "index": "bedrooms",
          "variable": "host_total_listings_count"
         },
         {
          "correlation": -0.00510506369071604,
          "index": "beds",
          "variable": "host_total_listings_count"
         },
         {
          "correlation": 0.11486518748400307,
          "index": "price",
          "variable": "host_total_listings_count"
         },
         {
          "correlation": -0.03117460491748519,
          "index": "minimum_nights",
          "variable": "host_total_listings_count"
         },
         {
          "correlation": -0.0015125756666809625,
          "index": "maximum_nights",
          "variable": "host_total_listings_count"
         },
         {
          "correlation": 0.003474908396619411,
          "index": "minimum_nights_avg_ntm",
          "variable": "host_total_listings_count"
         },
         {
          "correlation": -0.0034178609281018783,
          "index": "maximum_nights_avg_ntm",
          "variable": "host_total_listings_count"
         },
         {
          "correlation": 0.01706972311294244,
          "index": "availability_30",
          "variable": "host_total_listings_count"
         },
         {
          "correlation": 0.031232851132618276,
          "index": "availability_60",
          "variable": "host_total_listings_count"
         },
         {
          "correlation": 0.050894792134741,
          "index": "availability_90",
          "variable": "host_total_listings_count"
         },
         {
          "correlation": 0.22492528455902197,
          "index": "availability_365",
          "variable": "host_total_listings_count"
         },
         {
          "correlation": -0.11339517926113825,
          "index": "number_of_reviews",
          "variable": "host_total_listings_count"
         },
         {
          "correlation": -0.04992670503692421,
          "index": "number_of_reviews_ltm",
          "variable": "host_total_listings_count"
         },
         {
          "correlation": -0.052014021164422414,
          "index": "number_of_reviews_l30d",
          "variable": "host_total_listings_count"
         },
         {
          "correlation": 0.00671592920171607,
          "index": "review_scores_rating",
          "variable": "host_total_listings_count"
         },
         {
          "correlation": 0.011525533514567575,
          "index": "review_scores_accuracy",
          "variable": "host_total_listings_count"
         },
         {
          "correlation": 0.030930022209017836,
          "index": "review_scores_cleanliness",
          "variable": "host_total_listings_count"
         },
         {
          "correlation": 0.015572128843467786,
          "index": "review_scores_checkin",
          "variable": "host_total_listings_count"
         },
         {
          "correlation": 0.0012771679776400337,
          "index": "review_scores_communication",
          "variable": "host_total_listings_count"
         },
         {
          "correlation": 0.03231136676604898,
          "index": "review_scores_location",
          "variable": "host_total_listings_count"
         },
         {
          "correlation": -0.02037190915506867,
          "index": "review_scores_value",
          "variable": "host_total_listings_count"
         },
         {
          "correlation": 0.8157036397944556,
          "index": "calculated_host_listings_count",
          "variable": "host_total_listings_count"
         },
         {
          "correlation": 0.7893089639667756,
          "index": "calculated_host_listings_count_entire_homes",
          "variable": "host_total_listings_count"
         },
         {
          "correlation": 0.14639803064447965,
          "index": "calculated_host_listings_count_private_rooms",
          "variable": "host_total_listings_count"
         },
         {
          "correlation": -0.017337740137428222,
          "index": "calculated_host_listings_count_shared_rooms",
          "variable": "host_total_listings_count"
         },
         {
          "correlation": -0.07030340894925434,
          "index": "reviews_per_month",
          "variable": "host_total_listings_count"
         },
         {
          "correlation": 0.02493349711241542,
          "index": "host_id",
          "variable": "latitude"
         },
         {
          "correlation": -0.02019229640395494,
          "index": "host_response_rate",
          "variable": "latitude"
         },
         {
          "correlation": 0.03541399324156867,
          "index": "host_acceptance_rate",
          "variable": "latitude"
         },
         {
          "correlation": 0.06784025940562438,
          "index": "host_listings_count",
          "variable": "latitude"
         },
         {
          "correlation": 0.07466820051853447,
          "index": "host_total_listings_count",
          "variable": "latitude"
         },
         {
          "correlation": 1,
          "index": "latitude",
          "variable": "latitude"
         },
         {
          "correlation": 0.04070316280372705,
          "index": "longitude",
          "variable": "latitude"
         },
         {
          "correlation": -0.019699227027641444,
          "index": "accommodates",
          "variable": "latitude"
         },
         {
          "correlation": -0.043518626235764385,
          "index": "bathrooms",
          "variable": "latitude"
         },
         {
          "correlation": -0.08546604259338873,
          "index": "bedrooms",
          "variable": "latitude"
         },
         {
          "correlation": -0.051820168018674784,
          "index": "beds",
          "variable": "latitude"
         },
         {
          "correlation": 0.015644895669940567,
          "index": "price",
          "variable": "latitude"
         },
         {
          "correlation": 0.016248581951603076,
          "index": "minimum_nights",
          "variable": "latitude"
         },
         {
          "correlation": 0.005720237503657499,
          "index": "maximum_nights",
          "variable": "latitude"
         },
         {
          "correlation": 0.009859184684528424,
          "index": "minimum_nights_avg_ntm",
          "variable": "latitude"
         },
         {
          "correlation": 0.007714700600830669,
          "index": "maximum_nights_avg_ntm",
          "variable": "latitude"
         },
         {
          "correlation": -0.04063098163782472,
          "index": "availability_30",
          "variable": "latitude"
         },
         {
          "correlation": -0.038832845941099536,
          "index": "availability_60",
          "variable": "latitude"
         },
         {
          "correlation": -0.039091971625228435,
          "index": "availability_90",
          "variable": "latitude"
         },
         {
          "correlation": -0.010758772433847923,
          "index": "availability_365",
          "variable": "latitude"
         },
         {
          "correlation": -0.05587828640515266,
          "index": "number_of_reviews",
          "variable": "latitude"
         },
         {
          "correlation": -0.02738273148368576,
          "index": "number_of_reviews_ltm",
          "variable": "latitude"
         },
         {
          "correlation": -0.034512061980254645,
          "index": "number_of_reviews_l30d",
          "variable": "latitude"
         },
         {
          "correlation": -0.04370797525665507,
          "index": "review_scores_rating",
          "variable": "latitude"
         },
         {
          "correlation": -0.03820256536269984,
          "index": "review_scores_accuracy",
          "variable": "latitude"
         },
         {
          "correlation": -0.04027990591121541,
          "index": "review_scores_cleanliness",
          "variable": "latitude"
         },
         {
          "correlation": -0.03481103798342482,
          "index": "review_scores_checkin",
          "variable": "latitude"
         },
         {
          "correlation": -0.03481136105349672,
          "index": "review_scores_communication",
          "variable": "latitude"
         },
         {
          "correlation": 0.013073495385245337,
          "index": "review_scores_location",
          "variable": "latitude"
         },
         {
          "correlation": -0.053531231357498606,
          "index": "review_scores_value",
          "variable": "latitude"
         },
         {
          "correlation": 0.03161858218410371,
          "index": "calculated_host_listings_count",
          "variable": "latitude"
         },
         {
          "correlation": 0.06500889237645707,
          "index": "calculated_host_listings_count_entire_homes",
          "variable": "latitude"
         },
         {
          "correlation": -0.06567957431200104,
          "index": "calculated_host_listings_count_private_rooms",
          "variable": "latitude"
         },
         {
          "correlation": -0.003870804437206858,
          "index": "calculated_host_listings_count_shared_rooms",
          "variable": "latitude"
         },
         {
          "correlation": -0.044392149895387166,
          "index": "reviews_per_month",
          "variable": "latitude"
         },
         {
          "correlation": 0.09594968484293502,
          "index": "host_id",
          "variable": "longitude"
         },
         {
          "correlation": -0.013866308639224178,
          "index": "host_response_rate",
          "variable": "longitude"
         },
         {
          "correlation": 0.011082411157255804,
          "index": "host_acceptance_rate",
          "variable": "longitude"
         },
         {
          "correlation": -0.15321848030052015,
          "index": "host_listings_count",
          "variable": "longitude"
         },
         {
          "correlation": -0.16012739605105342,
          "index": "host_total_listings_count",
          "variable": "longitude"
         },
         {
          "correlation": 0.04070316280372705,
          "index": "latitude",
          "variable": "longitude"
         },
         {
          "correlation": 1,
          "index": "longitude",
          "variable": "longitude"
         },
         {
          "correlation": -0.016110884949920492,
          "index": "accommodates",
          "variable": "longitude"
         },
         {
          "correlation": 0.008993166118040135,
          "index": "bathrooms",
          "variable": "longitude"
         },
         {
          "correlation": 0.04509952152665242,
          "index": "bedrooms",
          "variable": "longitude"
         },
         {
          "correlation": 0.03693181337161221,
          "index": "beds",
          "variable": "longitude"
         },
         {
          "correlation": -0.09072414949268758,
          "index": "price",
          "variable": "longitude"
         },
         {
          "correlation": 0.0006584426657594136,
          "index": "minimum_nights",
          "variable": "longitude"
         },
         {
          "correlation": -0.0029336257661126564,
          "index": "maximum_nights",
          "variable": "longitude"
         },
         {
          "correlation": -0.004935641761742436,
          "index": "minimum_nights_avg_ntm",
          "variable": "longitude"
         },
         {
          "correlation": -0.012149401824690804,
          "index": "maximum_nights_avg_ntm",
          "variable": "longitude"
         },
         {
          "correlation": 0.11926272729799112,
          "index": "availability_30",
          "variable": "longitude"
         },
         {
          "correlation": 0.12495372641773862,
          "index": "availability_60",
          "variable": "longitude"
         },
         {
          "correlation": 0.12048492363559651,
          "index": "availability_90",
          "variable": "longitude"
         },
         {
          "correlation": 0.05892377846457337,
          "index": "availability_365",
          "variable": "longitude"
         },
         {
          "correlation": 0.04816435808843514,
          "index": "number_of_reviews",
          "variable": "longitude"
         },
         {
          "correlation": 0.015119869925087128,
          "index": "number_of_reviews_ltm",
          "variable": "longitude"
         },
         {
          "correlation": 0.022162167585271664,
          "index": "number_of_reviews_l30d",
          "variable": "longitude"
         },
         {
          "correlation": -0.0028568403903974186,
          "index": "review_scores_rating",
          "variable": "longitude"
         },
         {
          "correlation": -0.004643905017092913,
          "index": "review_scores_accuracy",
          "variable": "longitude"
         },
         {
          "correlation": 0.014268437015426218,
          "index": "review_scores_cleanliness",
          "variable": "longitude"
         },
         {
          "correlation": 0.0002560593605804476,
          "index": "review_scores_checkin",
          "variable": "longitude"
         },
         {
          "correlation": 0.0019604493173803494,
          "index": "review_scores_communication",
          "variable": "longitude"
         },
         {
          "correlation": -0.12817281434371885,
          "index": "review_scores_location",
          "variable": "longitude"
         },
         {
          "correlation": 0.02340588262287112,
          "index": "review_scores_value",
          "variable": "longitude"
         },
         {
          "correlation": -0.11299055209767382,
          "index": "calculated_host_listings_count",
          "variable": "longitude"
         },
         {
          "correlation": -0.14583026983969374,
          "index": "calculated_host_listings_count_entire_homes",
          "variable": "longitude"
         },
         {
          "correlation": 0.04840523540057539,
          "index": "calculated_host_listings_count_private_rooms",
          "variable": "longitude"
         },
         {
          "correlation": 0.020086327913203143,
          "index": "calculated_host_listings_count_shared_rooms",
          "variable": "longitude"
         },
         {
          "correlation": 0.0491777872750602,
          "index": "reviews_per_month",
          "variable": "longitude"
         },
         {
          "correlation": 0.08416345097519244,
          "index": "host_id",
          "variable": "accommodates"
         },
         {
          "correlation": 0.006420464582458092,
          "index": "host_response_rate",
          "variable": "accommodates"
         },
         {
          "correlation": 0.05658686254926373,
          "index": "host_acceptance_rate",
          "variable": "accommodates"
         },
         {
          "correlation": -0.007540081415709592,
          "index": "host_listings_count",
          "variable": "accommodates"
         },
         {
          "correlation": 0.01299196239623358,
          "index": "host_total_listings_count",
          "variable": "accommodates"
         },
         {
          "correlation": -0.019699227027641444,
          "index": "latitude",
          "variable": "accommodates"
         },
         {
          "correlation": -0.016110884949920492,
          "index": "longitude",
          "variable": "accommodates"
         },
         {
          "correlation": 1,
          "index": "accommodates",
          "variable": "accommodates"
         },
         {
          "correlation": 0.30896782547246954,
          "index": "bathrooms",
          "variable": "accommodates"
         },
         {
          "correlation": 0.5256171827445865,
          "index": "bedrooms",
          "variable": "accommodates"
         },
         {
          "correlation": 0.5908978011427556,
          "index": "beds",
          "variable": "accommodates"
         },
         {
          "correlation": 0.2657765811085283,
          "index": "price",
          "variable": "accommodates"
         },
         {
          "correlation": -0.05382097724001193,
          "index": "minimum_nights",
          "variable": "accommodates"
         },
         {
          "correlation": -0.004734627797832496,
          "index": "maximum_nights",
          "variable": "accommodates"
         },
         {
          "correlation": -0.061741277538730745,
          "index": "minimum_nights_avg_ntm",
          "variable": "accommodates"
         },
         {
          "correlation": -0.003025426584072176,
          "index": "maximum_nights_avg_ntm",
          "variable": "accommodates"
         },
         {
          "correlation": 0.05901009761194988,
          "index": "availability_30",
          "variable": "accommodates"
         },
         {
          "correlation": 0.06089998140886663,
          "index": "availability_60",
          "variable": "accommodates"
         },
         {
          "correlation": 0.06536484812607159,
          "index": "availability_90",
          "variable": "accommodates"
         },
         {
          "correlation": 0.08595531443259727,
          "index": "availability_365",
          "variable": "accommodates"
         },
         {
          "correlation": 0.02997287610790745,
          "index": "number_of_reviews",
          "variable": "accommodates"
         },
         {
          "correlation": 0.01968742561924826,
          "index": "number_of_reviews_ltm",
          "variable": "accommodates"
         },
         {
          "correlation": 0.025409645279107627,
          "index": "number_of_reviews_l30d",
          "variable": "accommodates"
         },
         {
          "correlation": -0.0009329540843444537,
          "index": "review_scores_rating",
          "variable": "accommodates"
         },
         {
          "correlation": -0.00901672507854724,
          "index": "review_scores_accuracy",
          "variable": "accommodates"
         },
         {
          "correlation": 0.021551028509254003,
          "index": "review_scores_cleanliness",
          "variable": "accommodates"
         },
         {
          "correlation": -0.011313318299217097,
          "index": "review_scores_checkin",
          "variable": "accommodates"
         },
         {
          "correlation": 0.001966196754937615,
          "index": "review_scores_communication",
          "variable": "accommodates"
         },
         {
          "correlation": -0.011347598408376788,
          "index": "review_scores_location",
          "variable": "accommodates"
         },
         {
          "correlation": -0.012335834891794569,
          "index": "review_scores_value",
          "variable": "accommodates"
         },
         {
          "correlation": -0.0815480790819476,
          "index": "calculated_host_listings_count",
          "variable": "accommodates"
         },
         {
          "correlation": -0.012528503002233621,
          "index": "calculated_host_listings_count_entire_homes",
          "variable": "accommodates"
         },
         {
          "correlation": -0.16976143763198315,
          "index": "calculated_host_listings_count_private_rooms",
          "variable": "accommodates"
         },
         {
          "correlation": -0.030566076337181284,
          "index": "calculated_host_listings_count_shared_rooms",
          "variable": "accommodates"
         },
         {
          "correlation": 0.0456150392760775,
          "index": "reviews_per_month",
          "variable": "accommodates"
         },
         {
          "correlation": 0.03904430391178299,
          "index": "host_id",
          "variable": "bathrooms"
         },
         {
          "correlation": -0.009908224078524595,
          "index": "host_response_rate",
          "variable": "bathrooms"
         },
         {
          "correlation": -0.07933725510507487,
          "index": "host_acceptance_rate",
          "variable": "bathrooms"
         },
         {
          "correlation": 0.03573321434662295,
          "index": "host_listings_count",
          "variable": "bathrooms"
         },
         {
          "correlation": 0.036810757540184355,
          "index": "host_total_listings_count",
          "variable": "bathrooms"
         },
         {
          "correlation": -0.043518626235764385,
          "index": "latitude",
          "variable": "bathrooms"
         },
         {
          "correlation": 0.008993166118040135,
          "index": "longitude",
          "variable": "bathrooms"
         },
         {
          "correlation": 0.30896782547246954,
          "index": "accommodates",
          "variable": "bathrooms"
         },
         {
          "correlation": 1,
          "index": "bathrooms",
          "variable": "bathrooms"
         },
         {
          "correlation": 0.3918311920107689,
          "index": "bedrooms",
          "variable": "bathrooms"
         },
         {
          "correlation": 0.4312456625804867,
          "index": "beds",
          "variable": "bathrooms"
         },
         {
          "correlation": 0.2535184335861486,
          "index": "price",
          "variable": "bathrooms"
         },
         {
          "correlation": -0.008667928598588278,
          "index": "minimum_nights",
          "variable": "bathrooms"
         },
         {
          "correlation": -0.0014066602442893382,
          "index": "maximum_nights",
          "variable": "bathrooms"
         },
         {
          "correlation": -0.0024480055290080466,
          "index": "minimum_nights_avg_ntm",
          "variable": "bathrooms"
         },
         {
          "correlation": -0.0038945164275122944,
          "index": "maximum_nights_avg_ntm",
          "variable": "bathrooms"
         },
         {
          "correlation": 0.14365636709673618,
          "index": "availability_30",
          "variable": "bathrooms"
         },
         {
          "correlation": 0.15670909533367222,
          "index": "availability_60",
          "variable": "bathrooms"
         },
         {
          "correlation": 0.1627322169803281,
          "index": "availability_90",
          "variable": "bathrooms"
         },
         {
          "correlation": 0.1773636868912107,
          "index": "availability_365",
          "variable": "bathrooms"
         },
         {
          "correlation": -0.018016006513499647,
          "index": "number_of_reviews",
          "variable": "bathrooms"
         },
         {
          "correlation": 0.004094495753072625,
          "index": "number_of_reviews_ltm",
          "variable": "bathrooms"
         },
         {
          "correlation": 0.006734540797538749,
          "index": "number_of_reviews_l30d",
          "variable": "bathrooms"
         },
         {
          "correlation": 0.018870531218318144,
          "index": "review_scores_rating",
          "variable": "bathrooms"
         },
         {
          "correlation": 0.005366654668232651,
          "index": "review_scores_accuracy",
          "variable": "bathrooms"
         },
         {
          "correlation": 0.023929248390425817,
          "index": "review_scores_cleanliness",
          "variable": "bathrooms"
         },
         {
          "correlation": 0.011649081095174901,
          "index": "review_scores_checkin",
          "variable": "bathrooms"
         },
         {
          "correlation": 0.007173604703738654,
          "index": "review_scores_communication",
          "variable": "bathrooms"
         },
         {
          "correlation": -0.0022354802324925866,
          "index": "review_scores_location",
          "variable": "bathrooms"
         },
         {
          "correlation": 0.008520637350825309,
          "index": "review_scores_value",
          "variable": "bathrooms"
         },
         {
          "correlation": 0.06558955419630619,
          "index": "calculated_host_listings_count",
          "variable": "bathrooms"
         },
         {
          "correlation": 0.027133033621093934,
          "index": "calculated_host_listings_count_entire_homes",
          "variable": "bathrooms"
         },
         {
          "correlation": 0.07743767909198654,
          "index": "calculated_host_listings_count_private_rooms",
          "variable": "bathrooms"
         },
         {
          "correlation": -0.009958957882929784,
          "index": "calculated_host_listings_count_shared_rooms",
          "variable": "bathrooms"
         },
         {
          "correlation": 0.004022129281633122,
          "index": "reviews_per_month",
          "variable": "bathrooms"
         },
         {
          "correlation": 0.0007795679051159398,
          "index": "host_id",
          "variable": "bedrooms"
         },
         {
          "correlation": 0.0070446094812232525,
          "index": "host_response_rate",
          "variable": "bedrooms"
         },
         {
          "correlation": -0.08428145253080555,
          "index": "host_acceptance_rate",
          "variable": "bedrooms"
         },
         {
          "correlation": 0.0006219418081947238,
          "index": "host_listings_count",
          "variable": "bedrooms"
         },
         {
          "correlation": 0.03348034578491333,
          "index": "host_total_listings_count",
          "variable": "bedrooms"
         },
         {
          "correlation": -0.08546604259338873,
          "index": "latitude",
          "variable": "bedrooms"
         },
         {
          "correlation": 0.04509952152665242,
          "index": "longitude",
          "variable": "bedrooms"
         },
         {
          "correlation": 0.5256171827445865,
          "index": "accommodates",
          "variable": "bedrooms"
         },
         {
          "correlation": 0.3918311920107689,
          "index": "bathrooms",
          "variable": "bedrooms"
         },
         {
          "correlation": 1,
          "index": "bedrooms",
          "variable": "bedrooms"
         },
         {
          "correlation": 0.49649465063109216,
          "index": "beds",
          "variable": "bedrooms"
         },
         {
          "correlation": 0.16878720564325825,
          "index": "price",
          "variable": "bedrooms"
         },
         {
          "correlation": 0.0023482225680794837,
          "index": "minimum_nights",
          "variable": "bedrooms"
         },
         {
          "correlation": -0.0018664692511062698,
          "index": "maximum_nights",
          "variable": "bedrooms"
         },
         {
          "correlation": -0.001818482764461034,
          "index": "minimum_nights_avg_ntm",
          "variable": "bedrooms"
         },
         {
          "correlation": -0.005844436028063056,
          "index": "maximum_nights_avg_ntm",
          "variable": "bedrooms"
         },
         {
          "correlation": 0.05656427547446002,
          "index": "availability_30",
          "variable": "bedrooms"
         },
         {
          "correlation": 0.05491911204349028,
          "index": "availability_60",
          "variable": "bedrooms"
         },
         {
          "correlation": 0.05596013701126193,
          "index": "availability_90",
          "variable": "bedrooms"
         },
         {
          "correlation": 0.08804417955332076,
          "index": "availability_365",
          "variable": "bedrooms"
         },
         {
          "correlation": -0.034918767188087015,
          "index": "number_of_reviews",
          "variable": "bedrooms"
         },
         {
          "correlation": -0.024180065342967266,
          "index": "number_of_reviews_ltm",
          "variable": "bedrooms"
         },
         {
          "correlation": -0.01578936645925422,
          "index": "number_of_reviews_l30d",
          "variable": "bedrooms"
         },
         {
          "correlation": 0.03412971576523287,
          "index": "review_scores_rating",
          "variable": "bedrooms"
         },
         {
          "correlation": 0.02058117140441328,
          "index": "review_scores_accuracy",
          "variable": "bedrooms"
         },
         {
          "correlation": 0.031547126642591336,
          "index": "review_scores_cleanliness",
          "variable": "bedrooms"
         },
         {
          "correlation": 0.01992928130381334,
          "index": "review_scores_checkin",
          "variable": "bedrooms"
         },
         {
          "correlation": 0.029415333746725496,
          "index": "review_scores_communication",
          "variable": "bedrooms"
         },
         {
          "correlation": -0.007377417875887166,
          "index": "review_scores_location",
          "variable": "bedrooms"
         },
         {
          "correlation": 0.03288162841542015,
          "index": "review_scores_value",
          "variable": "bedrooms"
         },
         {
          "correlation": 0.08862165412553237,
          "index": "calculated_host_listings_count",
          "variable": "bedrooms"
         },
         {
          "correlation": -0.027853355644003562,
          "index": "calculated_host_listings_count_entire_homes",
          "variable": "bedrooms"
         },
         {
          "correlation": 0.2276182927332447,
          "index": "calculated_host_listings_count_private_rooms",
          "variable": "bedrooms"
         },
         {
          "correlation": -0.015783346805935957,
          "index": "calculated_host_listings_count_shared_rooms",
          "variable": "bedrooms"
         },
         {
          "correlation": -0.013394017948532025,
          "index": "reviews_per_month",
          "variable": "bedrooms"
         },
         {
          "correlation": 0.08354395476565633,
          "index": "host_id",
          "variable": "beds"
         },
         {
          "correlation": -0.027356558232383497,
          "index": "host_response_rate",
          "variable": "beds"
         },
         {
          "correlation": 0.010474725235038524,
          "index": "host_acceptance_rate",
          "variable": "beds"
         },
         {
          "correlation": -0.013303123188325081,
          "index": "host_listings_count",
          "variable": "beds"
         },
         {
          "correlation": -0.00510506369071604,
          "index": "host_total_listings_count",
          "variable": "beds"
         },
         {
          "correlation": -0.051820168018674784,
          "index": "latitude",
          "variable": "beds"
         },
         {
          "correlation": 0.03693181337161221,
          "index": "longitude",
          "variable": "beds"
         },
         {
          "correlation": 0.5908978011427556,
          "index": "accommodates",
          "variable": "beds"
         },
         {
          "correlation": 0.4312456625804867,
          "index": "bathrooms",
          "variable": "beds"
         },
         {
          "correlation": 0.49649465063109216,
          "index": "bedrooms",
          "variable": "beds"
         },
         {
          "correlation": 1,
          "index": "beds",
          "variable": "beds"
         },
         {
          "correlation": 0.261972538777434,
          "index": "price",
          "variable": "beds"
         },
         {
          "correlation": -0.05510377233561211,
          "index": "minimum_nights",
          "variable": "beds"
         },
         {
          "correlation": -0.002027291411035418,
          "index": "maximum_nights",
          "variable": "beds"
         },
         {
          "correlation": -0.057992974022298596,
          "index": "minimum_nights_avg_ntm",
          "variable": "beds"
         },
         {
          "correlation": -0.005087297113874775,
          "index": "maximum_nights_avg_ntm",
          "variable": "beds"
         },
         {
          "correlation": 0.17540632525128116,
          "index": "availability_30",
          "variable": "beds"
         },
         {
          "correlation": 0.1923186548107488,
          "index": "availability_60",
          "variable": "beds"
         },
         {
          "correlation": 0.2039427063891985,
          "index": "availability_90",
          "variable": "beds"
         },
         {
          "correlation": 0.22259729388341762,
          "index": "availability_365",
          "variable": "beds"
         },
         {
          "correlation": 0.09906343858129421,
          "index": "number_of_reviews",
          "variable": "beds"
         },
         {
          "correlation": 0.05551334886881404,
          "index": "number_of_reviews_ltm",
          "variable": "beds"
         },
         {
          "correlation": 0.06214640322295908,
          "index": "number_of_reviews_l30d",
          "variable": "beds"
         },
         {
          "correlation": 0.011673093762811499,
          "index": "review_scores_rating",
          "variable": "beds"
         },
         {
          "correlation": -0.0021968867134390152,
          "index": "review_scores_accuracy",
          "variable": "beds"
         },
         {
          "correlation": 0.03572429458288495,
          "index": "review_scores_cleanliness",
          "variable": "beds"
         },
         {
          "correlation": 0.004044177516308762,
          "index": "review_scores_checkin",
          "variable": "beds"
         },
         {
          "correlation": 0.006431976453443704,
          "index": "review_scores_communication",
          "variable": "beds"
         },
         {
          "correlation": -0.025384032117954616,
          "index": "review_scores_location",
          "variable": "beds"
         },
         {
          "correlation": -0.005532361156705021,
          "index": "review_scores_value",
          "variable": "beds"
         },
         {
          "correlation": -0.036926264725471857,
          "index": "calculated_host_listings_count",
          "variable": "beds"
         },
         {
          "correlation": -0.010374823320849252,
          "index": "calculated_host_listings_count_entire_homes",
          "variable": "beds"
         },
         {
          "correlation": -0.06643856066087818,
          "index": "calculated_host_listings_count_private_rooms",
          "variable": "beds"
         },
         {
          "correlation": -0.0025542254124343747,
          "index": "calculated_host_listings_count_shared_rooms",
          "variable": "beds"
         },
         {
          "correlation": 0.093656327569071,
          "index": "reviews_per_month",
          "variable": "beds"
         },
         {
          "correlation": 0.04980060176573925,
          "index": "host_id",
          "variable": "price"
         },
         {
          "correlation": 0.011070645886557385,
          "index": "host_response_rate",
          "variable": "price"
         },
         {
          "correlation": 0.011129772607148095,
          "index": "host_acceptance_rate",
          "variable": "price"
         },
         {
          "correlation": 0.1118998061364591,
          "index": "host_listings_count",
          "variable": "price"
         },
         {
          "correlation": 0.11486518748400307,
          "index": "host_total_listings_count",
          "variable": "price"
         },
         {
          "correlation": 0.015644895669940567,
          "index": "latitude",
          "variable": "price"
         },
         {
          "correlation": -0.09072414949268758,
          "index": "longitude",
          "variable": "price"
         },
         {
          "correlation": 0.2657765811085283,
          "index": "accommodates",
          "variable": "price"
         },
         {
          "correlation": 0.2535184335861486,
          "index": "bathrooms",
          "variable": "price"
         },
         {
          "correlation": 0.16878720564325825,
          "index": "bedrooms",
          "variable": "price"
         },
         {
          "correlation": 0.261972538777434,
          "index": "beds",
          "variable": "price"
         },
         {
          "correlation": 1,
          "index": "price",
          "variable": "price"
         },
         {
          "correlation": -0.03902607678807169,
          "index": "minimum_nights",
          "variable": "price"
         },
         {
          "correlation": -0.0007203516242859451,
          "index": "maximum_nights",
          "variable": "price"
         },
         {
          "correlation": -0.03806525730070289,
          "index": "minimum_nights_avg_ntm",
          "variable": "price"
         },
         {
          "correlation": -0.0010451668297178818,
          "index": "maximum_nights_avg_ntm",
          "variable": "price"
         },
         {
          "correlation": 0.0961535174712519,
          "index": "availability_30",
          "variable": "price"
         },
         {
          "correlation": 0.09526459334405345,
          "index": "availability_60",
          "variable": "price"
         },
         {
          "correlation": 0.09760839507595923,
          "index": "availability_90",
          "variable": "price"
         },
         {
          "correlation": 0.09393530900474495,
          "index": "availability_365",
          "variable": "price"
         },
         {
          "correlation": -0.019447730358325196,
          "index": "number_of_reviews",
          "variable": "price"
         },
         {
          "correlation": 0.00500397667033463,
          "index": "number_of_reviews_ltm",
          "variable": "price"
         },
         {
          "correlation": 0.00945278966664229,
          "index": "number_of_reviews_l30d",
          "variable": "price"
         },
         {
          "correlation": 0.03187333603961659,
          "index": "review_scores_rating",
          "variable": "price"
         },
         {
          "correlation": 0.025409557519207832,
          "index": "review_scores_accuracy",
          "variable": "price"
         },
         {
          "correlation": 0.04065944130907047,
          "index": "review_scores_cleanliness",
          "variable": "price"
         },
         {
          "correlation": 0.022596906310400455,
          "index": "review_scores_checkin",
          "variable": "price"
         },
         {
          "correlation": 0.02509514889065463,
          "index": "review_scores_communication",
          "variable": "price"
         },
         {
          "correlation": 0.04118708020438583,
          "index": "review_scores_location",
          "variable": "price"
         },
         {
          "correlation": 0.014554222435122128,
          "index": "review_scores_value",
          "variable": "price"
         },
         {
          "correlation": 0.043363867870388546,
          "index": "calculated_host_listings_count",
          "variable": "price"
         },
         {
          "correlation": 0.07737319235371914,
          "index": "calculated_host_listings_count_entire_homes",
          "variable": "price"
         },
         {
          "correlation": -0.06608062178784221,
          "index": "calculated_host_listings_count_private_rooms",
          "variable": "price"
         },
         {
          "correlation": -0.00835155999379774,
          "index": "calculated_host_listings_count_shared_rooms",
          "variable": "price"
         },
         {
          "correlation": 0.002367227448512565,
          "index": "reviews_per_month",
          "variable": "price"
         },
         {
          "correlation": -0.11668222209371255,
          "index": "host_id",
          "variable": "minimum_nights"
         },
         {
          "correlation": -0.0217772791718354,
          "index": "host_response_rate",
          "variable": "minimum_nights"
         },
         {
          "correlation": -0.072183847771215,
          "index": "host_acceptance_rate",
          "variable": "minimum_nights"
         },
         {
          "correlation": -0.008446188780670152,
          "index": "host_listings_count",
          "variable": "minimum_nights"
         },
         {
          "correlation": -0.03117460491748519,
          "index": "host_total_listings_count",
          "variable": "minimum_nights"
         },
         {
          "correlation": 0.016248581951603076,
          "index": "latitude",
          "variable": "minimum_nights"
         },
         {
          "correlation": 0.0006584426657594136,
          "index": "longitude",
          "variable": "minimum_nights"
         },
         {
          "correlation": -0.05382097724001193,
          "index": "accommodates",
          "variable": "minimum_nights"
         },
         {
          "correlation": -0.008667928598588278,
          "index": "bathrooms",
          "variable": "minimum_nights"
         },
         {
          "correlation": 0.0023482225680794837,
          "index": "bedrooms",
          "variable": "minimum_nights"
         },
         {
          "correlation": -0.05510377233561211,
          "index": "beds",
          "variable": "minimum_nights"
         },
         {
          "correlation": -0.03902607678807169,
          "index": "price",
          "variable": "minimum_nights"
         },
         {
          "correlation": 1,
          "index": "minimum_nights",
          "variable": "minimum_nights"
         },
         {
          "correlation": 0.00019660006007166878,
          "index": "maximum_nights",
          "variable": "minimum_nights"
         },
         {
          "correlation": 0.959045489823916,
          "index": "minimum_nights_avg_ntm",
          "variable": "minimum_nights"
         },
         {
          "correlation": -0.010859693016076439,
          "index": "maximum_nights_avg_ntm",
          "variable": "minimum_nights"
         },
         {
          "correlation": -0.04759531082909404,
          "index": "availability_30",
          "variable": "minimum_nights"
         },
         {
          "correlation": -0.053333357225742145,
          "index": "availability_60",
          "variable": "minimum_nights"
         },
         {
          "correlation": -0.053268029292720336,
          "index": "availability_90",
          "variable": "minimum_nights"
         },
         {
          "correlation": -0.017191488437812374,
          "index": "availability_365",
          "variable": "minimum_nights"
         },
         {
          "correlation": -0.0998455776828703,
          "index": "number_of_reviews",
          "variable": "minimum_nights"
         },
         {
          "correlation": -0.15404243009070018,
          "index": "number_of_reviews_ltm",
          "variable": "minimum_nights"
         },
         {
          "correlation": -0.15705237731199354,
          "index": "number_of_reviews_l30d",
          "variable": "minimum_nights"
         },
         {
          "correlation": 0.01402696835886226,
          "index": "review_scores_rating",
          "variable": "minimum_nights"
         },
         {
          "correlation": 0.021296890729833318,
          "index": "review_scores_accuracy",
          "variable": "minimum_nights"
         },
         {
          "correlation": -0.02315980284657244,
          "index": "review_scores_cleanliness",
          "variable": "minimum_nights"
         },
         {
          "correlation": 0.01906144477864428,
          "index": "review_scores_checkin",
          "variable": "minimum_nights"
         },
         {
          "correlation": 0.016591325799657622,
          "index": "review_scores_communication",
          "variable": "minimum_nights"
         },
         {
          "correlation": 0.01948418540195768,
          "index": "review_scores_location",
          "variable": "minimum_nights"
         },
         {
          "correlation": 0.02364673821074604,
          "index": "review_scores_value",
          "variable": "minimum_nights"
         },
         {
          "correlation": 0.020766578933086203,
          "index": "calculated_host_listings_count",
          "variable": "minimum_nights"
         },
         {
          "correlation": 0.015351405022956774,
          "index": "calculated_host_listings_count_entire_homes",
          "variable": "minimum_nights"
         },
         {
          "correlation": 0.03308056787600186,
          "index": "calculated_host_listings_count_private_rooms",
          "variable": "minimum_nights"
         },
         {
          "correlation": 0.0017537286240747578,
          "index": "calculated_host_listings_count_shared_rooms",
          "variable": "minimum_nights"
         },
         {
          "correlation": -0.15641041330434197,
          "index": "reviews_per_month",
          "variable": "minimum_nights"
         },
         {
          "correlation": -0.004252513407370773,
          "index": "host_id",
          "variable": "maximum_nights"
         },
         {
          "correlation": 0.0014240504772536481,
          "index": "host_response_rate",
          "variable": "maximum_nights"
         },
         {
          "correlation": 0.0015030300401516303,
          "index": "host_acceptance_rate",
          "variable": "maximum_nights"
         },
         {
          "correlation": -0.0013522471374575115,
          "index": "host_listings_count",
          "variable": "maximum_nights"
         },
         {
          "correlation": -0.0015125756666809625,
          "index": "host_total_listings_count",
          "variable": "maximum_nights"
         },
         {
          "correlation": 0.005720237503657499,
          "index": "latitude",
          "variable": "maximum_nights"
         },
         {
          "correlation": -0.0029336257661126564,
          "index": "longitude",
          "variable": "maximum_nights"
         },
         {
          "correlation": -0.004734627797832496,
          "index": "accommodates",
          "variable": "maximum_nights"
         },
         {
          "correlation": -0.0014066602442893382,
          "index": "bathrooms",
          "variable": "maximum_nights"
         },
         {
          "correlation": -0.0018664692511062698,
          "index": "bedrooms",
          "variable": "maximum_nights"
         },
         {
          "correlation": -0.002027291411035418,
          "index": "beds",
          "variable": "maximum_nights"
         },
         {
          "correlation": -0.0007203516242859451,
          "index": "price",
          "variable": "maximum_nights"
         },
         {
          "correlation": 0.00019660006007166878,
          "index": "minimum_nights",
          "variable": "maximum_nights"
         },
         {
          "correlation": 1,
          "index": "maximum_nights",
          "variable": "maximum_nights"
         },
         {
          "correlation": 8.720889475000658e-05,
          "index": "minimum_nights_avg_ntm",
          "variable": "maximum_nights"
         },
         {
          "correlation": 0.25972868380396047,
          "index": "maximum_nights_avg_ntm",
          "variable": "maximum_nights"
         },
         {
          "correlation": -0.004779590683794153,
          "index": "availability_30",
          "variable": "maximum_nights"
         },
         {
          "correlation": -0.005273281964067417,
          "index": "availability_60",
          "variable": "maximum_nights"
         },
         {
          "correlation": -0.005547111211002131,
          "index": "availability_90",
          "variable": "maximum_nights"
         },
         {
          "correlation": -0.005720914095740667,
          "index": "availability_365",
          "variable": "maximum_nights"
         },
         {
          "correlation": -0.0018834208446311179,
          "index": "number_of_reviews",
          "variable": "maximum_nights"
         },
         {
          "correlation": -0.0010347418336860712,
          "index": "number_of_reviews_ltm",
          "variable": "maximum_nights"
         },
         {
          "correlation": -0.0010330306142674029,
          "index": "number_of_reviews_l30d",
          "variable": "maximum_nights"
         },
         {
          "correlation": -0.014923552769797154,
          "index": "review_scores_rating",
          "variable": "maximum_nights"
         },
         {
          "correlation": -0.015726183267305984,
          "index": "review_scores_accuracy",
          "variable": "maximum_nights"
         },
         {
          "correlation": -0.012540768789316186,
          "index": "review_scores_cleanliness",
          "variable": "maximum_nights"
         },
         {
          "correlation": -0.019582442974287316,
          "index": "review_scores_checkin",
          "variable": "maximum_nights"
         },
         {
          "correlation": -0.017821294523775205,
          "index": "review_scores_communication",
          "variable": "maximum_nights"
         },
         {
          "correlation": -0.006888993127496681,
          "index": "review_scores_location",
          "variable": "maximum_nights"
         },
         {
          "correlation": -0.012479178235825165,
          "index": "review_scores_value",
          "variable": "maximum_nights"
         },
         {
          "correlation": -0.0016260902944008075,
          "index": "calculated_host_listings_count",
          "variable": "maximum_nights"
         },
         {
          "correlation": -0.0011403640394843516,
          "index": "calculated_host_listings_count_entire_homes",
          "variable": "maximum_nights"
         },
         {
          "correlation": -0.0011426040479923629,
          "index": "calculated_host_listings_count_private_rooms",
          "variable": "maximum_nights"
         },
         {
          "correlation": -0.0003102436988380775,
          "index": "calculated_host_listings_count_shared_rooms",
          "variable": "maximum_nights"
         },
         {
          "correlation": -0.0021537494158519427,
          "index": "reviews_per_month",
          "variable": "maximum_nights"
         },
         {
          "correlation": -0.12425599057890159,
          "index": "host_id",
          "variable": "minimum_nights_avg_ntm"
         },
         {
          "correlation": -0.01706354444310839,
          "index": "host_response_rate",
          "variable": "minimum_nights_avg_ntm"
         },
         {
          "correlation": -0.08010737295989048,
          "index": "host_acceptance_rate",
          "variable": "minimum_nights_avg_ntm"
         },
         {
          "correlation": 0.027771643026530346,
          "index": "host_listings_count",
          "variable": "minimum_nights_avg_ntm"
         },
         {
          "correlation": 0.003474908396619411,
          "index": "host_total_listings_count",
          "variable": "minimum_nights_avg_ntm"
         },
         {
          "correlation": 0.009859184684528424,
          "index": "latitude",
          "variable": "minimum_nights_avg_ntm"
         },
         {
          "correlation": -0.004935641761742436,
          "index": "longitude",
          "variable": "minimum_nights_avg_ntm"
         },
         {
          "correlation": -0.061741277538730745,
          "index": "accommodates",
          "variable": "minimum_nights_avg_ntm"
         },
         {
          "correlation": -0.0024480055290080466,
          "index": "bathrooms",
          "variable": "minimum_nights_avg_ntm"
         },
         {
          "correlation": -0.001818482764461034,
          "index": "bedrooms",
          "variable": "minimum_nights_avg_ntm"
         },
         {
          "correlation": -0.057992974022298596,
          "index": "beds",
          "variable": "minimum_nights_avg_ntm"
         },
         {
          "correlation": -0.03806525730070289,
          "index": "price",
          "variable": "minimum_nights_avg_ntm"
         },
         {
          "correlation": 0.959045489823916,
          "index": "minimum_nights",
          "variable": "minimum_nights_avg_ntm"
         },
         {
          "correlation": 8.720889475000658e-05,
          "index": "maximum_nights",
          "variable": "minimum_nights_avg_ntm"
         },
         {
          "correlation": 1,
          "index": "minimum_nights_avg_ntm",
          "variable": "minimum_nights_avg_ntm"
         },
         {
          "correlation": -0.01697352630649547,
          "index": "maximum_nights_avg_ntm",
          "variable": "minimum_nights_avg_ntm"
         },
         {
          "correlation": -0.04260016514869888,
          "index": "availability_30",
          "variable": "minimum_nights_avg_ntm"
         },
         {
          "correlation": -0.04650936678070969,
          "index": "availability_60",
          "variable": "minimum_nights_avg_ntm"
         },
         {
          "correlation": -0.04513766492528703,
          "index": "availability_90",
          "variable": "minimum_nights_avg_ntm"
         },
         {
          "correlation": 0.00037033986279164425,
          "index": "availability_365",
          "variable": "minimum_nights_avg_ntm"
         },
         {
          "correlation": -0.10296927157884415,
          "index": "number_of_reviews",
          "variable": "minimum_nights_avg_ntm"
         },
         {
          "correlation": -0.1508117071228392,
          "index": "number_of_reviews_ltm",
          "variable": "minimum_nights_avg_ntm"
         },
         {
          "correlation": -0.15298113618580086,
          "index": "number_of_reviews_l30d",
          "variable": "minimum_nights_avg_ntm"
         },
         {
          "correlation": 0.013910986207305517,
          "index": "review_scores_rating",
          "variable": "minimum_nights_avg_ntm"
         },
         {
          "correlation": 0.02023045366053284,
          "index": "review_scores_accuracy",
          "variable": "minimum_nights_avg_ntm"
         },
         {
          "correlation": -0.021823910207996886,
          "index": "review_scores_cleanliness",
          "variable": "minimum_nights_avg_ntm"
         },
         {
          "correlation": 0.01961296303189142,
          "index": "review_scores_checkin",
          "variable": "minimum_nights_avg_ntm"
         },
         {
          "correlation": 0.014481158207561021,
          "index": "review_scores_communication",
          "variable": "minimum_nights_avg_ntm"
         },
         {
          "correlation": 0.016985331742231616,
          "index": "review_scores_location",
          "variable": "minimum_nights_avg_ntm"
         },
         {
          "correlation": 0.019776819486712404,
          "index": "review_scores_value",
          "variable": "minimum_nights_avg_ntm"
         },
         {
          "correlation": 0.06869801950838904,
          "index": "calculated_host_listings_count",
          "variable": "minimum_nights_avg_ntm"
         },
         {
          "correlation": 0.052553149685092726,
          "index": "calculated_host_listings_count_entire_homes",
          "variable": "minimum_nights_avg_ntm"
         },
         {
          "correlation": 0.06282457216658514,
          "index": "calculated_host_listings_count_private_rooms",
          "variable": "minimum_nights_avg_ntm"
         },
         {
          "correlation": 0.0005927761351320599,
          "index": "calculated_host_listings_count_shared_rooms",
          "variable": "minimum_nights_avg_ntm"
         },
         {
          "correlation": -0.15376855298811232,
          "index": "reviews_per_month",
          "variable": "minimum_nights_avg_ntm"
         },
         {
          "correlation": 0.008760753246422866,
          "index": "host_id",
          "variable": "maximum_nights_avg_ntm"
         },
         {
          "correlation": -0.009677149309117837,
          "index": "host_response_rate",
          "variable": "maximum_nights_avg_ntm"
         },
         {
          "correlation": 0.015155975690300107,
          "index": "host_acceptance_rate",
          "variable": "maximum_nights_avg_ntm"
         },
         {
          "correlation": -0.003016966680522789,
          "index": "host_listings_count",
          "variable": "maximum_nights_avg_ntm"
         },
         {
          "correlation": -0.0034178609281018783,
          "index": "host_total_listings_count",
          "variable": "maximum_nights_avg_ntm"
         },
         {
          "correlation": 0.007714700600830669,
          "index": "latitude",
          "variable": "maximum_nights_avg_ntm"
         },
         {
          "correlation": -0.012149401824690804,
          "index": "longitude",
          "variable": "maximum_nights_avg_ntm"
         },
         {
          "correlation": -0.003025426584072176,
          "index": "accommodates",
          "variable": "maximum_nights_avg_ntm"
         },
         {
          "correlation": -0.0038945164275122944,
          "index": "bathrooms",
          "variable": "maximum_nights_avg_ntm"
         },
         {
          "correlation": -0.005844436028063056,
          "index": "bedrooms",
          "variable": "maximum_nights_avg_ntm"
         },
         {
          "correlation": -0.005087297113874775,
          "index": "beds",
          "variable": "maximum_nights_avg_ntm"
         },
         {
          "correlation": -0.0010451668297178818,
          "index": "price",
          "variable": "maximum_nights_avg_ntm"
         },
         {
          "correlation": -0.010859693016076439,
          "index": "minimum_nights",
          "variable": "maximum_nights_avg_ntm"
         },
         {
          "correlation": 0.25972868380396047,
          "index": "maximum_nights",
          "variable": "maximum_nights_avg_ntm"
         },
         {
          "correlation": -0.01697352630649547,
          "index": "minimum_nights_avg_ntm",
          "variable": "maximum_nights_avg_ntm"
         },
         {
          "correlation": 1,
          "index": "maximum_nights_avg_ntm",
          "variable": "maximum_nights_avg_ntm"
         },
         {
          "correlation": 0.008654487313907916,
          "index": "availability_30",
          "variable": "maximum_nights_avg_ntm"
         },
         {
          "correlation": 0.009213241412135885,
          "index": "availability_60",
          "variable": "maximum_nights_avg_ntm"
         },
         {
          "correlation": 0.008164561681861433,
          "index": "availability_90",
          "variable": "maximum_nights_avg_ntm"
         },
         {
          "correlation": 0.002907917253723366,
          "index": "availability_365",
          "variable": "maximum_nights_avg_ntm"
         },
         {
          "correlation": 0.009737305158870477,
          "index": "number_of_reviews",
          "variable": "maximum_nights_avg_ntm"
         },
         {
          "correlation": 0.013609805147820475,
          "index": "number_of_reviews_ltm",
          "variable": "maximum_nights_avg_ntm"
         },
         {
          "correlation": 0.004068454468450631,
          "index": "number_of_reviews_l30d",
          "variable": "maximum_nights_avg_ntm"
         },
         {
          "correlation": -0.01998998196964409,
          "index": "review_scores_rating",
          "variable": "maximum_nights_avg_ntm"
         },
         {
          "correlation": -0.019455106582005454,
          "index": "review_scores_accuracy",
          "variable": "maximum_nights_avg_ntm"
         },
         {
          "correlation": -0.011216336497541368,
          "index": "review_scores_cleanliness",
          "variable": "maximum_nights_avg_ntm"
         },
         {
          "correlation": -0.016238438286962607,
          "index": "review_scores_checkin",
          "variable": "maximum_nights_avg_ntm"
         },
         {
          "correlation": -0.025964964807430144,
          "index": "review_scores_communication",
          "variable": "maximum_nights_avg_ntm"
         },
         {
          "correlation": -0.0019384607283874115,
          "index": "review_scores_location",
          "variable": "maximum_nights_avg_ntm"
         },
         {
          "correlation": -0.019884892767062044,
          "index": "review_scores_value",
          "variable": "maximum_nights_avg_ntm"
         },
         {
          "correlation": -0.005678588367003197,
          "index": "calculated_host_listings_count",
          "variable": "maximum_nights_avg_ntm"
         },
         {
          "correlation": -0.004509737444441057,
          "index": "calculated_host_listings_count_entire_homes",
          "variable": "maximum_nights_avg_ntm"
         },
         {
          "correlation": -0.002978343761811584,
          "index": "calculated_host_listings_count_private_rooms",
          "variable": "maximum_nights_avg_ntm"
         },
         {
          "correlation": -0.0011932066265026326,
          "index": "calculated_host_listings_count_shared_rooms",
          "variable": "maximum_nights_avg_ntm"
         },
         {
          "correlation": 0.01467387317047883,
          "index": "reviews_per_month",
          "variable": "maximum_nights_avg_ntm"
         },
         {
          "correlation": 0.283253184491808,
          "index": "host_id",
          "variable": "availability_30"
         },
         {
          "correlation": -0.17139177461210778,
          "index": "host_response_rate",
          "variable": "availability_30"
         },
         {
          "correlation": -0.17851710908112137,
          "index": "host_acceptance_rate",
          "variable": "availability_30"
         },
         {
          "correlation": -0.02146062362314457,
          "index": "host_listings_count",
          "variable": "availability_30"
         },
         {
          "correlation": 0.01706972311294244,
          "index": "host_total_listings_count",
          "variable": "availability_30"
         },
         {
          "correlation": -0.04063098163782472,
          "index": "latitude",
          "variable": "availability_30"
         },
         {
          "correlation": 0.11926272729799112,
          "index": "longitude",
          "variable": "availability_30"
         },
         {
          "correlation": 0.05901009761194988,
          "index": "accommodates",
          "variable": "availability_30"
         },
         {
          "correlation": 0.14365636709673618,
          "index": "bathrooms",
          "variable": "availability_30"
         },
         {
          "correlation": 0.05656427547446002,
          "index": "bedrooms",
          "variable": "availability_30"
         },
         {
          "correlation": 0.17540632525128116,
          "index": "beds",
          "variable": "availability_30"
         },
         {
          "correlation": 0.0961535174712519,
          "index": "price",
          "variable": "availability_30"
         },
         {
          "correlation": -0.04759531082909404,
          "index": "minimum_nights",
          "variable": "availability_30"
         },
         {
          "correlation": -0.004779590683794153,
          "index": "maximum_nights",
          "variable": "availability_30"
         },
         {
          "correlation": -0.04260016514869888,
          "index": "minimum_nights_avg_ntm",
          "variable": "availability_30"
         },
         {
          "correlation": 0.008654487313907916,
          "index": "maximum_nights_avg_ntm",
          "variable": "availability_30"
         },
         {
          "correlation": 1,
          "index": "availability_30",
          "variable": "availability_30"
         },
         {
          "correlation": 0.9575967803159245,
          "index": "availability_60",
          "variable": "availability_30"
         },
         {
          "correlation": 0.9141197492432025,
          "index": "availability_90",
          "variable": "availability_30"
         },
         {
          "correlation": 0.6587047526149288,
          "index": "availability_365",
          "variable": "availability_30"
         },
         {
          "correlation": 0.08322439271743182,
          "index": "number_of_reviews",
          "variable": "availability_30"
         },
         {
          "correlation": 0.07796208931026535,
          "index": "number_of_reviews_ltm",
          "variable": "availability_30"
         },
         {
          "correlation": 0.07706242907662544,
          "index": "number_of_reviews_l30d",
          "variable": "availability_30"
         },
         {
          "correlation": -0.03819931282172744,
          "index": "review_scores_rating",
          "variable": "availability_30"
         },
         {
          "correlation": -0.05623625203150975,
          "index": "review_scores_accuracy",
          "variable": "availability_30"
         },
         {
          "correlation": 0.021152430744297093,
          "index": "review_scores_cleanliness",
          "variable": "availability_30"
         },
         {
          "correlation": -0.039143113222550936,
          "index": "review_scores_checkin",
          "variable": "availability_30"
         },
         {
          "correlation": -0.05281809621011577,
          "index": "review_scores_communication",
          "variable": "availability_30"
         },
         {
          "correlation": -0.058341253885242375,
          "index": "review_scores_location",
          "variable": "availability_30"
         },
         {
          "correlation": -0.0692849055171944,
          "index": "review_scores_value",
          "variable": "availability_30"
         },
         {
          "correlation": -0.02450424981687166,
          "index": "calculated_host_listings_count",
          "variable": "availability_30"
         },
         {
          "correlation": -0.09529832741825833,
          "index": "calculated_host_listings_count_entire_homes",
          "variable": "availability_30"
         },
         {
          "correlation": 0.11385160158164812,
          "index": "calculated_host_listings_count_private_rooms",
          "variable": "availability_30"
         },
         {
          "correlation": 0.00469208969106122,
          "index": "calculated_host_listings_count_shared_rooms",
          "variable": "availability_30"
         },
         {
          "correlation": 0.12325504390325752,
          "index": "reviews_per_month",
          "variable": "availability_30"
         },
         {
          "correlation": 0.29937292526116377,
          "index": "host_id",
          "variable": "availability_60"
         },
         {
          "correlation": -0.17726568325164618,
          "index": "host_response_rate",
          "variable": "availability_60"
         },
         {
          "correlation": -0.18114552958261937,
          "index": "host_acceptance_rate",
          "variable": "availability_60"
         },
         {
          "correlation": -0.0075675203432860275,
          "index": "host_listings_count",
          "variable": "availability_60"
         },
         {
          "correlation": 0.031232851132618276,
          "index": "host_total_listings_count",
          "variable": "availability_60"
         },
         {
          "correlation": -0.038832845941099536,
          "index": "latitude",
          "variable": "availability_60"
         },
         {
          "correlation": 0.12495372641773862,
          "index": "longitude",
          "variable": "availability_60"
         },
         {
          "correlation": 0.06089998140886663,
          "index": "accommodates",
          "variable": "availability_60"
         },
         {
          "correlation": 0.15670909533367222,
          "index": "bathrooms",
          "variable": "availability_60"
         },
         {
          "correlation": 0.05491911204349028,
          "index": "bedrooms",
          "variable": "availability_60"
         },
         {
          "correlation": 0.1923186548107488,
          "index": "beds",
          "variable": "availability_60"
         },
         {
          "correlation": 0.09526459334405345,
          "index": "price",
          "variable": "availability_60"
         },
         {
          "correlation": -0.053333357225742145,
          "index": "minimum_nights",
          "variable": "availability_60"
         },
         {
          "correlation": -0.005273281964067417,
          "index": "maximum_nights",
          "variable": "availability_60"
         },
         {
          "correlation": -0.04650936678070969,
          "index": "minimum_nights_avg_ntm",
          "variable": "availability_60"
         },
         {
          "correlation": 0.009213241412135885,
          "index": "maximum_nights_avg_ntm",
          "variable": "availability_60"
         },
         {
          "correlation": 0.9575967803159245,
          "index": "availability_30",
          "variable": "availability_60"
         },
         {
          "correlation": 1,
          "index": "availability_60",
          "variable": "availability_60"
         },
         {
          "correlation": 0.9819728824585874,
          "index": "availability_90",
          "variable": "availability_60"
         },
         {
          "correlation": 0.7247392953812536,
          "index": "availability_365",
          "variable": "availability_60"
         },
         {
          "correlation": 0.08992495058737186,
          "index": "number_of_reviews",
          "variable": "availability_60"
         },
         {
          "correlation": 0.08576099367311017,
          "index": "number_of_reviews_ltm",
          "variable": "availability_60"
         },
         {
          "correlation": 0.08529110005488687,
          "index": "number_of_reviews_l30d",
          "variable": "availability_60"
         },
         {
          "correlation": -0.0409582891162881,
          "index": "review_scores_rating",
          "variable": "availability_60"
         },
         {
          "correlation": -0.06088747610240471,
          "index": "review_scores_accuracy",
          "variable": "availability_60"
         },
         {
          "correlation": 0.02317078591044463,
          "index": "review_scores_cleanliness",
          "variable": "availability_60"
         },
         {
          "correlation": -0.04024331308696769,
          "index": "review_scores_checkin",
          "variable": "availability_60"
         },
         {
          "correlation": -0.05840435685057414,
          "index": "review_scores_communication",
          "variable": "availability_60"
         },
         {
          "correlation": -0.06251226225630671,
          "index": "review_scores_location",
          "variable": "availability_60"
         },
         {
          "correlation": -0.07761578960344097,
          "index": "review_scores_value",
          "variable": "availability_60"
         },
         {
          "correlation": -0.007791500643526792,
          "index": "calculated_host_listings_count",
          "variable": "availability_60"
         },
         {
          "correlation": -0.07723522220897952,
          "index": "calculated_host_listings_count_entire_homes",
          "variable": "availability_60"
         },
         {
          "correlation": 0.11503140124793643,
          "index": "calculated_host_listings_count_private_rooms",
          "variable": "availability_60"
         },
         {
          "correlation": 0.00394181075093896,
          "index": "calculated_host_listings_count_shared_rooms",
          "variable": "availability_60"
         },
         {
          "correlation": 0.13316188107273078,
          "index": "reviews_per_month",
          "variable": "availability_60"
         },
         {
          "correlation": 0.30661566972129806,
          "index": "host_id",
          "variable": "availability_90"
         },
         {
          "correlation": -0.18074395178317307,
          "index": "host_response_rate",
          "variable": "availability_90"
         },
         {
          "correlation": -0.18401821637599425,
          "index": "host_acceptance_rate",
          "variable": "availability_90"
         },
         {
          "correlation": 0.013681816198732842,
          "index": "host_listings_count",
          "variable": "availability_90"
         },
         {
          "correlation": 0.050894792134741,
          "index": "host_total_listings_count",
          "variable": "availability_90"
         },
         {
          "correlation": -0.039091971625228435,
          "index": "latitude",
          "variable": "availability_90"
         },
         {
          "correlation": 0.12048492363559651,
          "index": "longitude",
          "variable": "availability_90"
         },
         {
          "correlation": 0.06536484812607159,
          "index": "accommodates",
          "variable": "availability_90"
         },
         {
          "correlation": 0.1627322169803281,
          "index": "bathrooms",
          "variable": "availability_90"
         },
         {
          "correlation": 0.05596013701126193,
          "index": "bedrooms",
          "variable": "availability_90"
         },
         {
          "correlation": 0.2039427063891985,
          "index": "beds",
          "variable": "availability_90"
         },
         {
          "correlation": 0.09760839507595923,
          "index": "price",
          "variable": "availability_90"
         },
         {
          "correlation": -0.053268029292720336,
          "index": "minimum_nights",
          "variable": "availability_90"
         },
         {
          "correlation": -0.005547111211002131,
          "index": "maximum_nights",
          "variable": "availability_90"
         },
         {
          "correlation": -0.04513766492528703,
          "index": "minimum_nights_avg_ntm",
          "variable": "availability_90"
         },
         {
          "correlation": 0.008164561681861433,
          "index": "maximum_nights_avg_ntm",
          "variable": "availability_90"
         },
         {
          "correlation": 0.9141197492432025,
          "index": "availability_30",
          "variable": "availability_90"
         },
         {
          "correlation": 0.9819728824585874,
          "index": "availability_60",
          "variable": "availability_90"
         },
         {
          "correlation": 1,
          "index": "availability_90",
          "variable": "availability_90"
         },
         {
          "correlation": 0.7714316128867644,
          "index": "availability_365",
          "variable": "availability_90"
         },
         {
          "correlation": 0.09110830449498633,
          "index": "number_of_reviews",
          "variable": "availability_90"
         },
         {
          "correlation": 0.08501281951675739,
          "index": "number_of_reviews_ltm",
          "variable": "availability_90"
         },
         {
          "correlation": 0.08496573434594322,
          "index": "number_of_reviews_l30d",
          "variable": "availability_90"
         },
         {
          "correlation": -0.0407183802698521,
          "index": "review_scores_rating",
          "variable": "availability_90"
         },
         {
          "correlation": -0.06259868065638481,
          "index": "review_scores_accuracy",
          "variable": "availability_90"
         },
         {
          "correlation": 0.0247551480145491,
          "index": "review_scores_cleanliness",
          "variable": "availability_90"
         },
         {
          "correlation": -0.040239587102887685,
          "index": "review_scores_checkin",
          "variable": "availability_90"
         },
         {
          "correlation": -0.05926478341429639,
          "index": "review_scores_communication",
          "variable": "availability_90"
         },
         {
          "correlation": -0.06343037494781345,
          "index": "review_scores_location",
          "variable": "availability_90"
         },
         {
          "correlation": -0.08169568391034586,
          "index": "review_scores_value",
          "variable": "availability_90"
         },
         {
          "correlation": 0.012582337741472356,
          "index": "calculated_host_listings_count",
          "variable": "availability_90"
         },
         {
          "correlation": -0.049512799084887225,
          "index": "calculated_host_listings_count_entire_homes",
          "variable": "availability_90"
         },
         {
          "correlation": 0.10595948453078945,
          "index": "calculated_host_listings_count_private_rooms",
          "variable": "availability_90"
         },
         {
          "correlation": 0.002859442273537896,
          "index": "calculated_host_listings_count_shared_rooms",
          "variable": "availability_90"
         },
         {
          "correlation": 0.13430065819042306,
          "index": "reviews_per_month",
          "variable": "availability_90"
         },
         {
          "correlation": 0.26245921525749094,
          "index": "host_id",
          "variable": "availability_365"
         },
         {
          "correlation": -0.15502736388742383,
          "index": "host_response_rate",
          "variable": "availability_365"
         },
         {
          "correlation": -0.18167448150998508,
          "index": "host_acceptance_rate",
          "variable": "availability_365"
         },
         {
          "correlation": 0.1956893352248523,
          "index": "host_listings_count",
          "variable": "availability_365"
         },
         {
          "correlation": 0.22492528455902197,
          "index": "host_total_listings_count",
          "variable": "availability_365"
         },
         {
          "correlation": -0.010758772433847923,
          "index": "latitude",
          "variable": "availability_365"
         },
         {
          "correlation": 0.05892377846457337,
          "index": "longitude",
          "variable": "availability_365"
         },
         {
          "correlation": 0.08595531443259727,
          "index": "accommodates",
          "variable": "availability_365"
         },
         {
          "correlation": 0.1773636868912107,
          "index": "bathrooms",
          "variable": "availability_365"
         },
         {
          "correlation": 0.08804417955332076,
          "index": "bedrooms",
          "variable": "availability_365"
         },
         {
          "correlation": 0.22259729388341762,
          "index": "beds",
          "variable": "availability_365"
         },
         {
          "correlation": 0.09393530900474495,
          "index": "price",
          "variable": "availability_365"
         },
         {
          "correlation": -0.017191488437812374,
          "index": "minimum_nights",
          "variable": "availability_365"
         },
         {
          "correlation": -0.005720914095740667,
          "index": "maximum_nights",
          "variable": "availability_365"
         },
         {
          "correlation": 0.00037033986279164425,
          "index": "minimum_nights_avg_ntm",
          "variable": "availability_365"
         },
         {
          "correlation": 0.002907917253723366,
          "index": "maximum_nights_avg_ntm",
          "variable": "availability_365"
         },
         {
          "correlation": 0.6587047526149288,
          "index": "availability_30",
          "variable": "availability_365"
         },
         {
          "correlation": 0.7247392953812536,
          "index": "availability_60",
          "variable": "availability_365"
         },
         {
          "correlation": 0.7714316128867644,
          "index": "availability_90",
          "variable": "availability_365"
         },
         {
          "correlation": 1,
          "index": "availability_365",
          "variable": "availability_365"
         },
         {
          "correlation": 0.05827260664321584,
          "index": "number_of_reviews",
          "variable": "availability_365"
         },
         {
          "correlation": 0.055169896963730494,
          "index": "number_of_reviews_ltm",
          "variable": "availability_365"
         },
         {
          "correlation": 0.05313375897896264,
          "index": "number_of_reviews_l30d",
          "variable": "availability_365"
         },
         {
          "correlation": -0.04351416179108924,
          "index": "review_scores_rating",
          "variable": "availability_365"
         },
         {
          "correlation": -0.06536897628400187,
          "index": "review_scores_accuracy",
          "variable": "availability_365"
         },
         {
          "correlation": 0.02046324350378324,
          "index": "review_scores_cleanliness",
          "variable": "availability_365"
         },
         {
          "correlation": -0.03950708838613357,
          "index": "review_scores_checkin",
          "variable": "availability_365"
         },
         {
          "correlation": -0.06315843768540255,
          "index": "review_scores_communication",
          "variable": "availability_365"
         },
         {
          "correlation": -0.05493384355655216,
          "index": "review_scores_location",
          "variable": "availability_365"
         },
         {
          "correlation": -0.10158872380631509,
          "index": "review_scores_value",
          "variable": "availability_365"
         },
         {
          "correlation": 0.21400007602563265,
          "index": "calculated_host_listings_count",
          "variable": "availability_365"
         },
         {
          "correlation": 0.1550389774076746,
          "index": "calculated_host_listings_count_entire_homes",
          "variable": "availability_365"
         },
         {
          "correlation": 0.1412568461237679,
          "index": "calculated_host_listings_count_private_rooms",
          "variable": "availability_365"
         },
         {
          "correlation": -0.009659442813864159,
          "index": "calculated_host_listings_count_shared_rooms",
          "variable": "availability_365"
         },
         {
          "correlation": 0.0914748143487165,
          "index": "reviews_per_month",
          "variable": "availability_365"
         },
         {
          "correlation": -0.06870525268073191,
          "index": "host_id",
          "variable": "number_of_reviews"
         },
         {
          "correlation": 0.019667345823557645,
          "index": "host_response_rate",
          "variable": "number_of_reviews"
         },
         {
          "correlation": 0.08577535647442103,
          "index": "host_acceptance_rate",
          "variable": "number_of_reviews"
         },
         {
          "correlation": -0.104243746975043,
          "index": "host_listings_count",
          "variable": "number_of_reviews"
         },
         {
          "correlation": -0.11339517926113825,
          "index": "host_total_listings_count",
          "variable": "number_of_reviews"
         },
         {
          "correlation": -0.05587828640515266,
          "index": "latitude",
          "variable": "number_of_reviews"
         },
         {
          "correlation": 0.04816435808843514,
          "index": "longitude",
          "variable": "number_of_reviews"
         },
         {
          "correlation": 0.02997287610790745,
          "index": "accommodates",
          "variable": "number_of_reviews"
         },
         {
          "correlation": -0.018016006513499647,
          "index": "bathrooms",
          "variable": "number_of_reviews"
         },
         {
          "correlation": -0.034918767188087015,
          "index": "bedrooms",
          "variable": "number_of_reviews"
         },
         {
          "correlation": 0.09906343858129421,
          "index": "beds",
          "variable": "number_of_reviews"
         },
         {
          "correlation": -0.019447730358325196,
          "index": "price",
          "variable": "number_of_reviews"
         },
         {
          "correlation": -0.0998455776828703,
          "index": "minimum_nights",
          "variable": "number_of_reviews"
         },
         {
          "correlation": -0.0018834208446311179,
          "index": "maximum_nights",
          "variable": "number_of_reviews"
         },
         {
          "correlation": -0.10296927157884415,
          "index": "minimum_nights_avg_ntm",
          "variable": "number_of_reviews"
         },
         {
          "correlation": 0.009737305158870477,
          "index": "maximum_nights_avg_ntm",
          "variable": "number_of_reviews"
         },
         {
          "correlation": 0.08322439271743182,
          "index": "availability_30",
          "variable": "number_of_reviews"
         },
         {
          "correlation": 0.08992495058737186,
          "index": "availability_60",
          "variable": "number_of_reviews"
         },
         {
          "correlation": 0.09110830449498633,
          "index": "availability_90",
          "variable": "number_of_reviews"
         },
         {
          "correlation": 0.05827260664321584,
          "index": "availability_365",
          "variable": "number_of_reviews"
         },
         {
          "correlation": 1,
          "index": "number_of_reviews",
          "variable": "number_of_reviews"
         },
         {
          "correlation": 0.5493506717011871,
          "index": "number_of_reviews_ltm",
          "variable": "number_of_reviews"
         },
         {
          "correlation": 0.4438231441634966,
          "index": "number_of_reviews_l30d",
          "variable": "number_of_reviews"
         },
         {
          "correlation": 0.00925318408306352,
          "index": "review_scores_rating",
          "variable": "number_of_reviews"
         },
         {
          "correlation": 0.014294688078624697,
          "index": "review_scores_accuracy",
          "variable": "number_of_reviews"
         },
         {
          "correlation": 0.04230665938962778,
          "index": "review_scores_cleanliness",
          "variable": "number_of_reviews"
         },
         {
          "correlation": 0.006438504316726477,
          "index": "review_scores_checkin",
          "variable": "number_of_reviews"
         },
         {
          "correlation": 0.0036256469868289564,
          "index": "review_scores_communication",
          "variable": "number_of_reviews"
         },
         {
          "correlation": -0.028029789415756907,
          "index": "review_scores_location",
          "variable": "number_of_reviews"
         },
         {
          "correlation": 0.03924376623571447,
          "index": "review_scores_value",
          "variable": "number_of_reviews"
         },
         {
          "correlation": -0.11969080157565068,
          "index": "calculated_host_listings_count",
          "variable": "number_of_reviews"
         },
         {
          "correlation": -0.0864150829417613,
          "index": "calculated_host_listings_count_entire_homes",
          "variable": "number_of_reviews"
         },
         {
          "correlation": -0.07933336868036461,
          "index": "calculated_host_listings_count_private_rooms",
          "variable": "number_of_reviews"
         },
         {
          "correlation": 0.0011724092272897097,
          "index": "calculated_host_listings_count_shared_rooms",
          "variable": "number_of_reviews"
         },
         {
          "correlation": 0.6732927419615321,
          "index": "reviews_per_month",
          "variable": "number_of_reviews"
         },
         {
          "correlation": 0.10786168801969694,
          "index": "host_id",
          "variable": "number_of_reviews_ltm"
         },
         {
          "correlation": 0.037437835484886654,
          "index": "host_response_rate",
          "variable": "number_of_reviews_ltm"
         },
         {
          "correlation": 0.11524114336923043,
          "index": "host_acceptance_rate",
          "variable": "number_of_reviews_ltm"
         },
         {
          "correlation": -0.048507907506627305,
          "index": "host_listings_count",
          "variable": "number_of_reviews_ltm"
         },
         {
          "correlation": -0.04992670503692421,
          "index": "host_total_listings_count",
          "variable": "number_of_reviews_ltm"
         },
         {
          "correlation": -0.02738273148368576,
          "index": "latitude",
          "variable": "number_of_reviews_ltm"
         },
         {
          "correlation": 0.015119869925087128,
          "index": "longitude",
          "variable": "number_of_reviews_ltm"
         },
         {
          "correlation": 0.01968742561924826,
          "index": "accommodates",
          "variable": "number_of_reviews_ltm"
         },
         {
          "correlation": 0.004094495753072625,
          "index": "bathrooms",
          "variable": "number_of_reviews_ltm"
         },
         {
          "correlation": -0.024180065342967266,
          "index": "bedrooms",
          "variable": "number_of_reviews_ltm"
         },
         {
          "correlation": 0.05551334886881404,
          "index": "beds",
          "variable": "number_of_reviews_ltm"
         },
         {
          "correlation": 0.00500397667033463,
          "index": "price",
          "variable": "number_of_reviews_ltm"
         },
         {
          "correlation": -0.15404243009070018,
          "index": "minimum_nights",
          "variable": "number_of_reviews_ltm"
         },
         {
          "correlation": -0.0010347418336860712,
          "index": "maximum_nights",
          "variable": "number_of_reviews_ltm"
         },
         {
          "correlation": -0.1508117071228392,
          "index": "minimum_nights_avg_ntm",
          "variable": "number_of_reviews_ltm"
         },
         {
          "correlation": 0.013609805147820475,
          "index": "maximum_nights_avg_ntm",
          "variable": "number_of_reviews_ltm"
         },
         {
          "correlation": 0.07796208931026535,
          "index": "availability_30",
          "variable": "number_of_reviews_ltm"
         },
         {
          "correlation": 0.08576099367311017,
          "index": "availability_60",
          "variable": "number_of_reviews_ltm"
         },
         {
          "correlation": 0.08501281951675739,
          "index": "availability_90",
          "variable": "number_of_reviews_ltm"
         },
         {
          "correlation": 0.055169896963730494,
          "index": "availability_365",
          "variable": "number_of_reviews_ltm"
         },
         {
          "correlation": 0.5493506717011871,
          "index": "number_of_reviews",
          "variable": "number_of_reviews_ltm"
         },
         {
          "correlation": 1,
          "index": "number_of_reviews_ltm",
          "variable": "number_of_reviews_ltm"
         },
         {
          "correlation": 0.87206025906439,
          "index": "number_of_reviews_l30d",
          "variable": "number_of_reviews_ltm"
         },
         {
          "correlation": -0.00390824758828859,
          "index": "review_scores_rating",
          "variable": "number_of_reviews_ltm"
         },
         {
          "correlation": -0.01298419802263447,
          "index": "review_scores_accuracy",
          "variable": "number_of_reviews_ltm"
         },
         {
          "correlation": 0.02169545702472463,
          "index": "review_scores_cleanliness",
          "variable": "number_of_reviews_ltm"
         },
         {
          "correlation": -0.013114869367702998,
          "index": "review_scores_checkin",
          "variable": "number_of_reviews_ltm"
         },
         {
          "correlation": -0.015528923655827835,
          "index": "review_scores_communication",
          "variable": "number_of_reviews_ltm"
         },
         {
          "correlation": -0.014350789475605015,
          "index": "review_scores_location",
          "variable": "number_of_reviews_ltm"
         },
         {
          "correlation": -0.009467514556046178,
          "index": "review_scores_value",
          "variable": "number_of_reviews_ltm"
         },
         {
          "correlation": -0.054028889104626346,
          "index": "calculated_host_listings_count",
          "variable": "number_of_reviews_ltm"
         },
         {
          "correlation": -0.03919277955440996,
          "index": "calculated_host_listings_count_entire_homes",
          "variable": "number_of_reviews_ltm"
         },
         {
          "correlation": -0.035783791109488226,
          "index": "calculated_host_listings_count_private_rooms",
          "variable": "number_of_reviews_ltm"
         },
         {
          "correlation": 0.003641628723393766,
          "index": "calculated_host_listings_count_shared_rooms",
          "variable": "number_of_reviews_ltm"
         },
         {
          "correlation": 0.8729844240828769,
          "index": "reviews_per_month",
          "variable": "number_of_reviews_ltm"
         },
         {
          "correlation": 0.11737405591829043,
          "index": "host_id",
          "variable": "number_of_reviews_l30d"
         },
         {
          "correlation": 0.0413582549529483,
          "index": "host_response_rate",
          "variable": "number_of_reviews_l30d"
         },
         {
          "correlation": 0.1156244734268893,
          "index": "host_acceptance_rate",
          "variable": "number_of_reviews_l30d"
         },
         {
          "correlation": -0.049643719608048066,
          "index": "host_listings_count",
          "variable": "number_of_reviews_l30d"
         },
         {
          "correlation": -0.052014021164422414,
          "index": "host_total_listings_count",
          "variable": "number_of_reviews_l30d"
         },
         {
          "correlation": -0.034512061980254645,
          "index": "latitude",
          "variable": "number_of_reviews_l30d"
         },
         {
          "correlation": 0.022162167585271664,
          "index": "longitude",
          "variable": "number_of_reviews_l30d"
         },
         {
          "correlation": 0.025409645279107627,
          "index": "accommodates",
          "variable": "number_of_reviews_l30d"
         },
         {
          "correlation": 0.006734540797538749,
          "index": "bathrooms",
          "variable": "number_of_reviews_l30d"
         },
         {
          "correlation": -0.01578936645925422,
          "index": "bedrooms",
          "variable": "number_of_reviews_l30d"
         },
         {
          "correlation": 0.06214640322295908,
          "index": "beds",
          "variable": "number_of_reviews_l30d"
         },
         {
          "correlation": 0.00945278966664229,
          "index": "price",
          "variable": "number_of_reviews_l30d"
         },
         {
          "correlation": -0.15705237731199354,
          "index": "minimum_nights",
          "variable": "number_of_reviews_l30d"
         },
         {
          "correlation": -0.0010330306142674029,
          "index": "maximum_nights",
          "variable": "number_of_reviews_l30d"
         },
         {
          "correlation": -0.15298113618580086,
          "index": "minimum_nights_avg_ntm",
          "variable": "number_of_reviews_l30d"
         },
         {
          "correlation": 0.004068454468450631,
          "index": "maximum_nights_avg_ntm",
          "variable": "number_of_reviews_l30d"
         },
         {
          "correlation": 0.07706242907662544,
          "index": "availability_30",
          "variable": "number_of_reviews_l30d"
         },
         {
          "correlation": 0.08529110005488687,
          "index": "availability_60",
          "variable": "number_of_reviews_l30d"
         },
         {
          "correlation": 0.08496573434594322,
          "index": "availability_90",
          "variable": "number_of_reviews_l30d"
         },
         {
          "correlation": 0.05313375897896264,
          "index": "availability_365",
          "variable": "number_of_reviews_l30d"
         },
         {
          "correlation": 0.4438231441634966,
          "index": "number_of_reviews",
          "variable": "number_of_reviews_l30d"
         },
         {
          "correlation": 0.87206025906439,
          "index": "number_of_reviews_ltm",
          "variable": "number_of_reviews_l30d"
         },
         {
          "correlation": 1,
          "index": "number_of_reviews_l30d",
          "variable": "number_of_reviews_l30d"
         },
         {
          "correlation": 0.007178560113661255,
          "index": "review_scores_rating",
          "variable": "number_of_reviews_l30d"
         },
         {
          "correlation": -0.003934513320574085,
          "index": "review_scores_accuracy",
          "variable": "number_of_reviews_l30d"
         },
         {
          "correlation": 0.03038772394728353,
          "index": "review_scores_cleanliness",
          "variable": "number_of_reviews_l30d"
         },
         {
          "correlation": -0.0055678783349843546,
          "index": "review_scores_checkin",
          "variable": "number_of_reviews_l30d"
         },
         {
          "correlation": -0.005246615177792245,
          "index": "review_scores_communication",
          "variable": "number_of_reviews_l30d"
         },
         {
          "correlation": -0.007876961204934174,
          "index": "review_scores_location",
          "variable": "number_of_reviews_l30d"
         },
         {
          "correlation": 0.0012873004391129336,
          "index": "review_scores_value",
          "variable": "number_of_reviews_l30d"
         },
         {
          "correlation": -0.05567410035993829,
          "index": "calculated_host_listings_count",
          "variable": "number_of_reviews_l30d"
         },
         {
          "correlation": -0.039945542819427964,
          "index": "calculated_host_listings_count_entire_homes",
          "variable": "number_of_reviews_l30d"
         },
         {
          "correlation": -0.03738645327562434,
          "index": "calculated_host_listings_count_private_rooms",
          "variable": "number_of_reviews_l30d"
         },
         {
          "correlation": 0.002934006639458555,
          "index": "calculated_host_listings_count_shared_rooms",
          "variable": "number_of_reviews_l30d"
         },
         {
          "correlation": 0.8021725097341647,
          "index": "reviews_per_month",
          "variable": "number_of_reviews_l30d"
         },
         {
          "correlation": -0.07016469721354797,
          "index": "host_id",
          "variable": "review_scores_rating"
         },
         {
          "correlation": 0.026476775612220272,
          "index": "host_response_rate",
          "variable": "review_scores_rating"
         },
         {
          "correlation": -0.016685310316631733,
          "index": "host_acceptance_rate",
          "variable": "review_scores_rating"
         },
         {
          "correlation": 0.011635052542675337,
          "index": "host_listings_count",
          "variable": "review_scores_rating"
         },
         {
          "correlation": 0.00671592920171607,
          "index": "host_total_listings_count",
          "variable": "review_scores_rating"
         },
         {
          "correlation": -0.04370797525665507,
          "index": "latitude",
          "variable": "review_scores_rating"
         },
         {
          "correlation": -0.0028568403903974186,
          "index": "longitude",
          "variable": "review_scores_rating"
         },
         {
          "correlation": -0.0009329540843444537,
          "index": "accommodates",
          "variable": "review_scores_rating"
         },
         {
          "correlation": 0.018870531218318144,
          "index": "bathrooms",
          "variable": "review_scores_rating"
         },
         {
          "correlation": 0.03412971576523287,
          "index": "bedrooms",
          "variable": "review_scores_rating"
         },
         {
          "correlation": 0.011673093762811499,
          "index": "beds",
          "variable": "review_scores_rating"
         },
         {
          "correlation": 0.03187333603961659,
          "index": "price",
          "variable": "review_scores_rating"
         },
         {
          "correlation": 0.01402696835886226,
          "index": "minimum_nights",
          "variable": "review_scores_rating"
         },
         {
          "correlation": -0.014923552769797154,
          "index": "maximum_nights",
          "variable": "review_scores_rating"
         },
         {
          "correlation": 0.013910986207305517,
          "index": "minimum_nights_avg_ntm",
          "variable": "review_scores_rating"
         },
         {
          "correlation": -0.01998998196964409,
          "index": "maximum_nights_avg_ntm",
          "variable": "review_scores_rating"
         },
         {
          "correlation": -0.03819931282172744,
          "index": "availability_30",
          "variable": "review_scores_rating"
         },
         {
          "correlation": -0.0409582891162881,
          "index": "availability_60",
          "variable": "review_scores_rating"
         },
         {
          "correlation": -0.0407183802698521,
          "index": "availability_90",
          "variable": "review_scores_rating"
         },
         {
          "correlation": -0.04351416179108924,
          "index": "availability_365",
          "variable": "review_scores_rating"
         },
         {
          "correlation": 0.00925318408306352,
          "index": "number_of_reviews",
          "variable": "review_scores_rating"
         },
         {
          "correlation": -0.00390824758828859,
          "index": "number_of_reviews_ltm",
          "variable": "review_scores_rating"
         },
         {
          "correlation": 0.007178560113661255,
          "index": "number_of_reviews_l30d",
          "variable": "review_scores_rating"
         },
         {
          "correlation": 1,
          "index": "review_scores_rating",
          "variable": "review_scores_rating"
         },
         {
          "correlation": 0.8065056276913668,
          "index": "review_scores_accuracy",
          "variable": "review_scores_rating"
         },
         {
          "correlation": 0.7290345909371164,
          "index": "review_scores_cleanliness",
          "variable": "review_scores_rating"
         },
         {
          "correlation": 0.6713791111522129,
          "index": "review_scores_checkin",
          "variable": "review_scores_rating"
         },
         {
          "correlation": 0.7382544452073089,
          "index": "review_scores_communication",
          "variable": "review_scores_rating"
         },
         {
          "correlation": 0.5704847210274916,
          "index": "review_scores_location",
          "variable": "review_scores_rating"
         },
         {
          "correlation": 0.8082334753760759,
          "index": "review_scores_value",
          "variable": "review_scores_rating"
         },
         {
          "correlation": -0.001997486279269739,
          "index": "calculated_host_listings_count",
          "variable": "review_scores_rating"
         },
         {
          "correlation": 0.003337263285233785,
          "index": "calculated_host_listings_count_entire_homes",
          "variable": "review_scores_rating"
         },
         {
          "correlation": -0.008483618584329625,
          "index": "calculated_host_listings_count_private_rooms",
          "variable": "review_scores_rating"
         },
         {
          "correlation": 0.007430152941860643,
          "index": "calculated_host_listings_count_shared_rooms",
          "variable": "review_scores_rating"
         },
         {
          "correlation": 0.0072991829449022185,
          "index": "reviews_per_month",
          "variable": "review_scores_rating"
         },
         {
          "correlation": -0.08031872108882636,
          "index": "host_id",
          "variable": "review_scores_accuracy"
         },
         {
          "correlation": 0.025773280909111795,
          "index": "host_response_rate",
          "variable": "review_scores_accuracy"
         },
         {
          "correlation": -0.008332939095120489,
          "index": "host_acceptance_rate",
          "variable": "review_scores_accuracy"
         },
         {
          "correlation": 0.01870591042568791,
          "index": "host_listings_count",
          "variable": "review_scores_accuracy"
         },
         {
          "correlation": 0.011525533514567575,
          "index": "host_total_listings_count",
          "variable": "review_scores_accuracy"
         },
         {
          "correlation": -0.03820256536269984,
          "index": "latitude",
          "variable": "review_scores_accuracy"
         },
         {
          "correlation": -0.004643905017092913,
          "index": "longitude",
          "variable": "review_scores_accuracy"
         },
         {
          "correlation": -0.00901672507854724,
          "index": "accommodates",
          "variable": "review_scores_accuracy"
         },
         {
          "correlation": 0.005366654668232651,
          "index": "bathrooms",
          "variable": "review_scores_accuracy"
         },
         {
          "correlation": 0.02058117140441328,
          "index": "bedrooms",
          "variable": "review_scores_accuracy"
         },
         {
          "correlation": -0.0021968867134390152,
          "index": "beds",
          "variable": "review_scores_accuracy"
         },
         {
          "correlation": 0.025409557519207832,
          "index": "price",
          "variable": "review_scores_accuracy"
         },
         {
          "correlation": 0.021296890729833318,
          "index": "minimum_nights",
          "variable": "review_scores_accuracy"
         },
         {
          "correlation": -0.015726183267305984,
          "index": "maximum_nights",
          "variable": "review_scores_accuracy"
         },
         {
          "correlation": 0.02023045366053284,
          "index": "minimum_nights_avg_ntm",
          "variable": "review_scores_accuracy"
         },
         {
          "correlation": -0.019455106582005454,
          "index": "maximum_nights_avg_ntm",
          "variable": "review_scores_accuracy"
         },
         {
          "correlation": -0.05623625203150975,
          "index": "availability_30",
          "variable": "review_scores_accuracy"
         },
         {
          "correlation": -0.06088747610240471,
          "index": "availability_60",
          "variable": "review_scores_accuracy"
         },
         {
          "correlation": -0.06259868065638481,
          "index": "availability_90",
          "variable": "review_scores_accuracy"
         },
         {
          "correlation": -0.06536897628400187,
          "index": "availability_365",
          "variable": "review_scores_accuracy"
         },
         {
          "correlation": 0.014294688078624697,
          "index": "number_of_reviews",
          "variable": "review_scores_accuracy"
         },
         {
          "correlation": -0.01298419802263447,
          "index": "number_of_reviews_ltm",
          "variable": "review_scores_accuracy"
         },
         {
          "correlation": -0.003934513320574085,
          "index": "number_of_reviews_l30d",
          "variable": "review_scores_accuracy"
         },
         {
          "correlation": 0.8065056276913668,
          "index": "review_scores_rating",
          "variable": "review_scores_accuracy"
         },
         {
          "correlation": 1,
          "index": "review_scores_accuracy",
          "variable": "review_scores_accuracy"
         },
         {
          "correlation": 0.6858619179586338,
          "index": "review_scores_cleanliness",
          "variable": "review_scores_accuracy"
         },
         {
          "correlation": 0.6723289983461713,
          "index": "review_scores_checkin",
          "variable": "review_scores_accuracy"
         },
         {
          "correlation": 0.712661537492557,
          "index": "review_scores_communication",
          "variable": "review_scores_accuracy"
         },
         {
          "correlation": 0.5411259506199413,
          "index": "review_scores_location",
          "variable": "review_scores_accuracy"
         },
         {
          "correlation": 0.772550148931232,
          "index": "review_scores_value",
          "variable": "review_scores_accuracy"
         },
         {
          "correlation": 0.0026427057887446303,
          "index": "calculated_host_listings_count",
          "variable": "review_scores_accuracy"
         },
         {
          "correlation": 0.011549258837828886,
          "index": "calculated_host_listings_count_entire_homes",
          "variable": "review_scores_accuracy"
         },
         {
          "correlation": -0.013196875018324587,
          "index": "calculated_host_listings_count_private_rooms",
          "variable": "review_scores_accuracy"
         },
         {
          "correlation": 0.005502618636569898,
          "index": "calculated_host_listings_count_shared_rooms",
          "variable": "review_scores_accuracy"
         },
         {
          "correlation": -0.0020571734609127357,
          "index": "reviews_per_month",
          "variable": "review_scores_accuracy"
         },
         {
          "correlation": 0.0012195552564712561,
          "index": "host_id",
          "variable": "review_scores_cleanliness"
         },
         {
          "correlation": 0.022587919999196255,
          "index": "host_response_rate",
          "variable": "review_scores_cleanliness"
         },
         {
          "correlation": 0.002089883117215897,
          "index": "host_acceptance_rate",
          "variable": "review_scores_cleanliness"
         },
         {
          "correlation": 0.034150607050259435,
          "index": "host_listings_count",
          "variable": "review_scores_cleanliness"
         },
         {
          "correlation": 0.030930022209017836,
          "index": "host_total_listings_count",
          "variable": "review_scores_cleanliness"
         },
         {
          "correlation": -0.04027990591121541,
          "index": "latitude",
          "variable": "review_scores_cleanliness"
         },
         {
          "correlation": 0.014268437015426218,
          "index": "longitude",
          "variable": "review_scores_cleanliness"
         },
         {
          "correlation": 0.021551028509254003,
          "index": "accommodates",
          "variable": "review_scores_cleanliness"
         },
         {
          "correlation": 0.023929248390425817,
          "index": "bathrooms",
          "variable": "review_scores_cleanliness"
         },
         {
          "correlation": 0.031547126642591336,
          "index": "bedrooms",
          "variable": "review_scores_cleanliness"
         },
         {
          "correlation": 0.03572429458288495,
          "index": "beds",
          "variable": "review_scores_cleanliness"
         },
         {
          "correlation": 0.04065944130907047,
          "index": "price",
          "variable": "review_scores_cleanliness"
         },
         {
          "correlation": -0.02315980284657244,
          "index": "minimum_nights",
          "variable": "review_scores_cleanliness"
         },
         {
          "correlation": -0.012540768789316186,
          "index": "maximum_nights",
          "variable": "review_scores_cleanliness"
         },
         {
          "correlation": -0.021823910207996886,
          "index": "minimum_nights_avg_ntm",
          "variable": "review_scores_cleanliness"
         },
         {
          "correlation": -0.011216336497541368,
          "index": "maximum_nights_avg_ntm",
          "variable": "review_scores_cleanliness"
         },
         {
          "correlation": 0.021152430744297093,
          "index": "availability_30",
          "variable": "review_scores_cleanliness"
         },
         {
          "correlation": 0.02317078591044463,
          "index": "availability_60",
          "variable": "review_scores_cleanliness"
         },
         {
          "correlation": 0.0247551480145491,
          "index": "availability_90",
          "variable": "review_scores_cleanliness"
         },
         {
          "correlation": 0.02046324350378324,
          "index": "availability_365",
          "variable": "review_scores_cleanliness"
         },
         {
          "correlation": 0.04230665938962778,
          "index": "number_of_reviews",
          "variable": "review_scores_cleanliness"
         },
         {
          "correlation": 0.02169545702472463,
          "index": "number_of_reviews_ltm",
          "variable": "review_scores_cleanliness"
         },
         {
          "correlation": 0.03038772394728353,
          "index": "number_of_reviews_l30d",
          "variable": "review_scores_cleanliness"
         },
         {
          "correlation": 0.7290345909371164,
          "index": "review_scores_rating",
          "variable": "review_scores_cleanliness"
         },
         {
          "correlation": 0.6858619179586338,
          "index": "review_scores_accuracy",
          "variable": "review_scores_cleanliness"
         },
         {
          "correlation": 1,
          "index": "review_scores_cleanliness",
          "variable": "review_scores_cleanliness"
         },
         {
          "correlation": 0.5592803641589694,
          "index": "review_scores_checkin",
          "variable": "review_scores_cleanliness"
         },
         {
          "correlation": 0.5612638209390338,
          "index": "review_scores_communication",
          "variable": "review_scores_cleanliness"
         },
         {
          "correlation": 0.4543502769846027,
          "index": "review_scores_location",
          "variable": "review_scores_cleanliness"
         },
         {
          "correlation": 0.6554439532959176,
          "index": "review_scores_value",
          "variable": "review_scores_cleanliness"
         },
         {
          "correlation": 0.015160194834039107,
          "index": "calculated_host_listings_count",
          "variable": "review_scores_cleanliness"
         },
         {
          "correlation": 0.027270464062791936,
          "index": "calculated_host_listings_count_entire_homes",
          "variable": "review_scores_cleanliness"
         },
         {
          "correlation": -0.02034259931448083,
          "index": "calculated_host_listings_count_private_rooms",
          "variable": "review_scores_cleanliness"
         },
         {
          "correlation": 0.0065490547435883605,
          "index": "calculated_host_listings_count_shared_rooms",
          "variable": "review_scores_cleanliness"
         },
         {
          "correlation": 0.04938597701335022,
          "index": "reviews_per_month",
          "variable": "review_scores_cleanliness"
         },
         {
          "correlation": -0.06010621777856737,
          "index": "host_id",
          "variable": "review_scores_checkin"
         },
         {
          "correlation": 0.01829304989768819,
          "index": "host_response_rate",
          "variable": "review_scores_checkin"
         },
         {
          "correlation": -0.008722645632975822,
          "index": "host_acceptance_rate",
          "variable": "review_scores_checkin"
         },
         {
          "correlation": 0.020778599383341013,
          "index": "host_listings_count",
          "variable": "review_scores_checkin"
         },
         {
          "correlation": 0.015572128843467786,
          "index": "host_total_listings_count",
          "variable": "review_scores_checkin"
         },
         {
          "correlation": -0.03481103798342482,
          "index": "latitude",
          "variable": "review_scores_checkin"
         },
         {
          "correlation": 0.0002560593605804476,
          "index": "longitude",
          "variable": "review_scores_checkin"
         },
         {
          "correlation": -0.011313318299217097,
          "index": "accommodates",
          "variable": "review_scores_checkin"
         },
         {
          "correlation": 0.011649081095174901,
          "index": "bathrooms",
          "variable": "review_scores_checkin"
         },
         {
          "correlation": 0.01992928130381334,
          "index": "bedrooms",
          "variable": "review_scores_checkin"
         },
         {
          "correlation": 0.004044177516308762,
          "index": "beds",
          "variable": "review_scores_checkin"
         },
         {
          "correlation": 0.022596906310400455,
          "index": "price",
          "variable": "review_scores_checkin"
         },
         {
          "correlation": 0.01906144477864428,
          "index": "minimum_nights",
          "variable": "review_scores_checkin"
         },
         {
          "correlation": -0.019582442974287316,
          "index": "maximum_nights",
          "variable": "review_scores_checkin"
         },
         {
          "correlation": 0.01961296303189142,
          "index": "minimum_nights_avg_ntm",
          "variable": "review_scores_checkin"
         },
         {
          "correlation": -0.016238438286962607,
          "index": "maximum_nights_avg_ntm",
          "variable": "review_scores_checkin"
         },
         {
          "correlation": -0.039143113222550936,
          "index": "availability_30",
          "variable": "review_scores_checkin"
         },
         {
          "correlation": -0.04024331308696769,
          "index": "availability_60",
          "variable": "review_scores_checkin"
         },
         {
          "correlation": -0.040239587102887685,
          "index": "availability_90",
          "variable": "review_scores_checkin"
         },
         {
          "correlation": -0.03950708838613357,
          "index": "availability_365",
          "variable": "review_scores_checkin"
         },
         {
          "correlation": 0.006438504316726477,
          "index": "number_of_reviews",
          "variable": "review_scores_checkin"
         },
         {
          "correlation": -0.013114869367702998,
          "index": "number_of_reviews_ltm",
          "variable": "review_scores_checkin"
         },
         {
          "correlation": -0.0055678783349843546,
          "index": "number_of_reviews_l30d",
          "variable": "review_scores_checkin"
         },
         {
          "correlation": 0.6713791111522129,
          "index": "review_scores_rating",
          "variable": "review_scores_checkin"
         },
         {
          "correlation": 0.6723289983461713,
          "index": "review_scores_accuracy",
          "variable": "review_scores_checkin"
         },
         {
          "correlation": 0.5592803641589694,
          "index": "review_scores_cleanliness",
          "variable": "review_scores_checkin"
         },
         {
          "correlation": 1,
          "index": "review_scores_checkin",
          "variable": "review_scores_checkin"
         },
         {
          "correlation": 0.6845555154298021,
          "index": "review_scores_communication",
          "variable": "review_scores_checkin"
         },
         {
          "correlation": 0.5118608274044045,
          "index": "review_scores_location",
          "variable": "review_scores_checkin"
         },
         {
          "correlation": 0.6194242021973715,
          "index": "review_scores_value",
          "variable": "review_scores_checkin"
         },
         {
          "correlation": 0.009167945345386558,
          "index": "calculated_host_listings_count",
          "variable": "review_scores_checkin"
         },
         {
          "correlation": 0.012942300308935954,
          "index": "calculated_host_listings_count_entire_homes",
          "variable": "review_scores_checkin"
         },
         {
          "correlation": -0.0036360293350133927,
          "index": "calculated_host_listings_count_private_rooms",
          "variable": "review_scores_checkin"
         },
         {
          "correlation": 0.00250732063370391,
          "index": "calculated_host_listings_count_shared_rooms",
          "variable": "review_scores_checkin"
         },
         {
          "correlation": -0.005012305510108291,
          "index": "reviews_per_month",
          "variable": "review_scores_checkin"
         },
         {
          "correlation": -0.07240676470995958,
          "index": "host_id",
          "variable": "review_scores_communication"
         },
         {
          "correlation": 0.041651896458346584,
          "index": "host_response_rate",
          "variable": "review_scores_communication"
         },
         {
          "correlation": 0.0034870962496998162,
          "index": "host_acceptance_rate",
          "variable": "review_scores_communication"
         },
         {
          "correlation": 0.00588148089450159,
          "index": "host_listings_count",
          "variable": "review_scores_communication"
         },
         {
          "correlation": 0.0012771679776400337,
          "index": "host_total_listings_count",
          "variable": "review_scores_communication"
         },
         {
          "correlation": -0.03481136105349672,
          "index": "latitude",
          "variable": "review_scores_communication"
         },
         {
          "correlation": 0.0019604493173803494,
          "index": "longitude",
          "variable": "review_scores_communication"
         },
         {
          "correlation": 0.001966196754937615,
          "index": "accommodates",
          "variable": "review_scores_communication"
         },
         {
          "correlation": 0.007173604703738654,
          "index": "bathrooms",
          "variable": "review_scores_communication"
         },
         {
          "correlation": 0.029415333746725496,
          "index": "bedrooms",
          "variable": "review_scores_communication"
         },
         {
          "correlation": 0.006431976453443704,
          "index": "beds",
          "variable": "review_scores_communication"
         },
         {
          "correlation": 0.02509514889065463,
          "index": "price",
          "variable": "review_scores_communication"
         },
         {
          "correlation": 0.016591325799657622,
          "index": "minimum_nights",
          "variable": "review_scores_communication"
         },
         {
          "correlation": -0.017821294523775205,
          "index": "maximum_nights",
          "variable": "review_scores_communication"
         },
         {
          "correlation": 0.014481158207561021,
          "index": "minimum_nights_avg_ntm",
          "variable": "review_scores_communication"
         },
         {
          "correlation": -0.025964964807430144,
          "index": "maximum_nights_avg_ntm",
          "variable": "review_scores_communication"
         },
         {
          "correlation": -0.05281809621011577,
          "index": "availability_30",
          "variable": "review_scores_communication"
         },
         {
          "correlation": -0.05840435685057414,
          "index": "availability_60",
          "variable": "review_scores_communication"
         },
         {
          "correlation": -0.05926478341429639,
          "index": "availability_90",
          "variable": "review_scores_communication"
         },
         {
          "correlation": -0.06315843768540255,
          "index": "availability_365",
          "variable": "review_scores_communication"
         },
         {
          "correlation": 0.0036256469868289564,
          "index": "number_of_reviews",
          "variable": "review_scores_communication"
         },
         {
          "correlation": -0.015528923655827835,
          "index": "number_of_reviews_ltm",
          "variable": "review_scores_communication"
         },
         {
          "correlation": -0.005246615177792245,
          "index": "number_of_reviews_l30d",
          "variable": "review_scores_communication"
         },
         {
          "correlation": 0.7382544452073089,
          "index": "review_scores_rating",
          "variable": "review_scores_communication"
         },
         {
          "correlation": 0.712661537492557,
          "index": "review_scores_accuracy",
          "variable": "review_scores_communication"
         },
         {
          "correlation": 0.5612638209390338,
          "index": "review_scores_cleanliness",
          "variable": "review_scores_communication"
         },
         {
          "correlation": 0.6845555154298021,
          "index": "review_scores_checkin",
          "variable": "review_scores_communication"
         },
         {
          "correlation": 1,
          "index": "review_scores_communication",
          "variable": "review_scores_communication"
         },
         {
          "correlation": 0.5108923004954897,
          "index": "review_scores_location",
          "variable": "review_scores_communication"
         },
         {
          "correlation": 0.6933740254737819,
          "index": "review_scores_value",
          "variable": "review_scores_communication"
         },
         {
          "correlation": -0.01756349768806491,
          "index": "calculated_host_listings_count",
          "variable": "review_scores_communication"
         },
         {
          "correlation": -0.005414756914670331,
          "index": "calculated_host_listings_count_entire_homes",
          "variable": "review_scores_communication"
         },
         {
          "correlation": -0.025030531886109583,
          "index": "calculated_host_listings_count_private_rooms",
          "variable": "review_scores_communication"
         },
         {
          "correlation": 0.008047302816235188,
          "index": "calculated_host_listings_count_shared_rooms",
          "variable": "review_scores_communication"
         },
         {
          "correlation": -0.0054662433375505595,
          "index": "reviews_per_month",
          "variable": "review_scores_communication"
         },
         {
          "correlation": -0.05683894548652479,
          "index": "host_id",
          "variable": "review_scores_location"
         },
         {
          "correlation": 0.006135498992275946,
          "index": "host_response_rate",
          "variable": "review_scores_location"
         },
         {
          "correlation": -0.023804103621510912,
          "index": "host_acceptance_rate",
          "variable": "review_scores_location"
         },
         {
          "correlation": 0.032549000080849884,
          "index": "host_listings_count",
          "variable": "review_scores_location"
         },
         {
          "correlation": 0.03231136676604898,
          "index": "host_total_listings_count",
          "variable": "review_scores_location"
         },
         {
          "correlation": 0.013073495385245337,
          "index": "latitude",
          "variable": "review_scores_location"
         },
         {
          "correlation": -0.12817281434371885,
          "index": "longitude",
          "variable": "review_scores_location"
         },
         {
          "correlation": -0.011347598408376788,
          "index": "accommodates",
          "variable": "review_scores_location"
         },
         {
          "correlation": -0.0022354802324925866,
          "index": "bathrooms",
          "variable": "review_scores_location"
         },
         {
          "correlation": -0.007377417875887166,
          "index": "bedrooms",
          "variable": "review_scores_location"
         },
         {
          "correlation": -0.025384032117954616,
          "index": "beds",
          "variable": "review_scores_location"
         },
         {
          "correlation": 0.04118708020438583,
          "index": "price",
          "variable": "review_scores_location"
         },
         {
          "correlation": 0.01948418540195768,
          "index": "minimum_nights",
          "variable": "review_scores_location"
         },
         {
          "correlation": -0.006888993127496681,
          "index": "maximum_nights",
          "variable": "review_scores_location"
         },
         {
          "correlation": 0.016985331742231616,
          "index": "minimum_nights_avg_ntm",
          "variable": "review_scores_location"
         },
         {
          "correlation": -0.0019384607283874115,
          "index": "maximum_nights_avg_ntm",
          "variable": "review_scores_location"
         },
         {
          "correlation": -0.058341253885242375,
          "index": "availability_30",
          "variable": "review_scores_location"
         },
         {
          "correlation": -0.06251226225630671,
          "index": "availability_60",
          "variable": "review_scores_location"
         },
         {
          "correlation": -0.06343037494781345,
          "index": "availability_90",
          "variable": "review_scores_location"
         },
         {
          "correlation": -0.05493384355655216,
          "index": "availability_365",
          "variable": "review_scores_location"
         },
         {
          "correlation": -0.028029789415756907,
          "index": "number_of_reviews",
          "variable": "review_scores_location"
         },
         {
          "correlation": -0.014350789475605015,
          "index": "number_of_reviews_ltm",
          "variable": "review_scores_location"
         },
         {
          "correlation": -0.007876961204934174,
          "index": "number_of_reviews_l30d",
          "variable": "review_scores_location"
         },
         {
          "correlation": 0.5704847210274916,
          "index": "review_scores_rating",
          "variable": "review_scores_location"
         },
         {
          "correlation": 0.5411259506199413,
          "index": "review_scores_accuracy",
          "variable": "review_scores_location"
         },
         {
          "correlation": 0.4543502769846027,
          "index": "review_scores_cleanliness",
          "variable": "review_scores_location"
         },
         {
          "correlation": 0.5118608274044045,
          "index": "review_scores_checkin",
          "variable": "review_scores_location"
         },
         {
          "correlation": 0.5108923004954897,
          "index": "review_scores_communication",
          "variable": "review_scores_location"
         },
         {
          "correlation": 1,
          "index": "review_scores_location",
          "variable": "review_scores_location"
         },
         {
          "correlation": 0.5648627177567318,
          "index": "review_scores_value",
          "variable": "review_scores_location"
         },
         {
          "correlation": 0.02416663462131851,
          "index": "calculated_host_listings_count",
          "variable": "review_scores_location"
         },
         {
          "correlation": 0.026947554057953176,
          "index": "calculated_host_listings_count_entire_homes",
          "variable": "review_scores_location"
         },
         {
          "correlation": -0.0020751659452514777,
          "index": "calculated_host_listings_count_private_rooms",
          "variable": "review_scores_location"
         },
         {
          "correlation": -0.00118272727077386,
          "index": "calculated_host_listings_count_shared_rooms",
          "variable": "review_scores_location"
         },
         {
          "correlation": -0.019235993418025926,
          "index": "reviews_per_month",
          "variable": "review_scores_location"
         },
         {
          "correlation": -0.09203770715770353,
          "index": "host_id",
          "variable": "review_scores_value"
         },
         {
          "correlation": 0.02786228941325669,
          "index": "host_response_rate",
          "variable": "review_scores_value"
         },
         {
          "correlation": -0.002463340895276094,
          "index": "host_acceptance_rate",
          "variable": "review_scores_value"
         },
         {
          "correlation": -0.01323789240805589,
          "index": "host_listings_count",
          "variable": "review_scores_value"
         },
         {
          "correlation": -0.02037190915506867,
          "index": "host_total_listings_count",
          "variable": "review_scores_value"
         },
         {
          "correlation": -0.053531231357498606,
          "index": "latitude",
          "variable": "review_scores_value"
         },
         {
          "correlation": 0.02340588262287112,
          "index": "longitude",
          "variable": "review_scores_value"
         },
         {
          "correlation": -0.012335834891794569,
          "index": "accommodates",
          "variable": "review_scores_value"
         },
         {
          "correlation": 0.008520637350825309,
          "index": "bathrooms",
          "variable": "review_scores_value"
         },
         {
          "correlation": 0.03288162841542015,
          "index": "bedrooms",
          "variable": "review_scores_value"
         },
         {
          "correlation": -0.005532361156705021,
          "index": "beds",
          "variable": "review_scores_value"
         },
         {
          "correlation": 0.014554222435122128,
          "index": "price",
          "variable": "review_scores_value"
         },
         {
          "correlation": 0.02364673821074604,
          "index": "minimum_nights",
          "variable": "review_scores_value"
         },
         {
          "correlation": -0.012479178235825165,
          "index": "maximum_nights",
          "variable": "review_scores_value"
         },
         {
          "correlation": 0.019776819486712404,
          "index": "minimum_nights_avg_ntm",
          "variable": "review_scores_value"
         },
         {
          "correlation": -0.019884892767062044,
          "index": "maximum_nights_avg_ntm",
          "variable": "review_scores_value"
         },
         {
          "correlation": -0.0692849055171944,
          "index": "availability_30",
          "variable": "review_scores_value"
         },
         {
          "correlation": -0.07761578960344097,
          "index": "availability_60",
          "variable": "review_scores_value"
         },
         {
          "correlation": -0.08169568391034586,
          "index": "availability_90",
          "variable": "review_scores_value"
         },
         {
          "correlation": -0.10158872380631509,
          "index": "availability_365",
          "variable": "review_scores_value"
         },
         {
          "correlation": 0.03924376623571447,
          "index": "number_of_reviews",
          "variable": "review_scores_value"
         },
         {
          "correlation": -0.009467514556046178,
          "index": "number_of_reviews_ltm",
          "variable": "review_scores_value"
         },
         {
          "correlation": 0.0012873004391129336,
          "index": "number_of_reviews_l30d",
          "variable": "review_scores_value"
         },
         {
          "correlation": 0.8082334753760759,
          "index": "review_scores_rating",
          "variable": "review_scores_value"
         },
         {
          "correlation": 0.772550148931232,
          "index": "review_scores_accuracy",
          "variable": "review_scores_value"
         },
         {
          "correlation": 0.6554439532959176,
          "index": "review_scores_cleanliness",
          "variable": "review_scores_value"
         },
         {
          "correlation": 0.6194242021973715,
          "index": "review_scores_checkin",
          "variable": "review_scores_value"
         },
         {
          "correlation": 0.6933740254737819,
          "index": "review_scores_communication",
          "variable": "review_scores_value"
         },
         {
          "correlation": 0.5648627177567318,
          "index": "review_scores_location",
          "variable": "review_scores_value"
         },
         {
          "correlation": 1,
          "index": "review_scores_value",
          "variable": "review_scores_value"
         },
         {
          "correlation": -0.03401202808473702,
          "index": "calculated_host_listings_count",
          "variable": "review_scores_value"
         },
         {
          "correlation": -0.0261979988297742,
          "index": "calculated_host_listings_count_entire_homes",
          "variable": "review_scores_value"
         },
         {
          "correlation": -0.0183144608672586,
          "index": "calculated_host_listings_count_private_rooms",
          "variable": "review_scores_value"
         },
         {
          "correlation": 0.008799361612954843,
          "index": "calculated_host_listings_count_shared_rooms",
          "variable": "review_scores_value"
         },
         {
          "correlation": 0.011452158710179565,
          "index": "reviews_per_month",
          "variable": "review_scores_value"
         },
         {
          "correlation": -0.06439604602218629,
          "index": "host_id",
          "variable": "calculated_host_listings_count"
         },
         {
          "correlation": 0.040174490622729785,
          "index": "host_response_rate",
          "variable": "calculated_host_listings_count"
         },
         {
          "correlation": -0.06565472296357105,
          "index": "host_acceptance_rate",
          "variable": "calculated_host_listings_count"
         },
         {
          "correlation": 0.8610331867729746,
          "index": "host_listings_count",
          "variable": "calculated_host_listings_count"
         },
         {
          "correlation": 0.8157036397944556,
          "index": "host_total_listings_count",
          "variable": "calculated_host_listings_count"
         },
         {
          "correlation": 0.03161858218410371,
          "index": "latitude",
          "variable": "calculated_host_listings_count"
         },
         {
          "correlation": -0.11299055209767382,
          "index": "longitude",
          "variable": "calculated_host_listings_count"
         },
         {
          "correlation": -0.0815480790819476,
          "index": "accommodates",
          "variable": "calculated_host_listings_count"
         },
         {
          "correlation": 0.06558955419630619,
          "index": "bathrooms",
          "variable": "calculated_host_listings_count"
         },
         {
          "correlation": 0.08862165412553237,
          "index": "bedrooms",
          "variable": "calculated_host_listings_count"
         },
         {
          "correlation": -0.036926264725471857,
          "index": "beds",
          "variable": "calculated_host_listings_count"
         },
         {
          "correlation": 0.043363867870388546,
          "index": "price",
          "variable": "calculated_host_listings_count"
         },
         {
          "correlation": 0.020766578933086203,
          "index": "minimum_nights",
          "variable": "calculated_host_listings_count"
         },
         {
          "correlation": -0.0016260902944008075,
          "index": "maximum_nights",
          "variable": "calculated_host_listings_count"
         },
         {
          "correlation": 0.06869801950838904,
          "index": "minimum_nights_avg_ntm",
          "variable": "calculated_host_listings_count"
         },
         {
          "correlation": -0.005678588367003197,
          "index": "maximum_nights_avg_ntm",
          "variable": "calculated_host_listings_count"
         },
         {
          "correlation": -0.02450424981687166,
          "index": "availability_30",
          "variable": "calculated_host_listings_count"
         },
         {
          "correlation": -0.007791500643526792,
          "index": "availability_60",
          "variable": "calculated_host_listings_count"
         },
         {
          "correlation": 0.012582337741472356,
          "index": "availability_90",
          "variable": "calculated_host_listings_count"
         },
         {
          "correlation": 0.21400007602563265,
          "index": "availability_365",
          "variable": "calculated_host_listings_count"
         },
         {
          "correlation": -0.11969080157565068,
          "index": "number_of_reviews",
          "variable": "calculated_host_listings_count"
         },
         {
          "correlation": -0.054028889104626346,
          "index": "number_of_reviews_ltm",
          "variable": "calculated_host_listings_count"
         },
         {
          "correlation": -0.05567410035993829,
          "index": "number_of_reviews_l30d",
          "variable": "calculated_host_listings_count"
         },
         {
          "correlation": -0.001997486279269739,
          "index": "review_scores_rating",
          "variable": "calculated_host_listings_count"
         },
         {
          "correlation": 0.0026427057887446303,
          "index": "review_scores_accuracy",
          "variable": "calculated_host_listings_count"
         },
         {
          "correlation": 0.015160194834039107,
          "index": "review_scores_cleanliness",
          "variable": "calculated_host_listings_count"
         },
         {
          "correlation": 0.009167945345386558,
          "index": "review_scores_checkin",
          "variable": "calculated_host_listings_count"
         },
         {
          "correlation": -0.01756349768806491,
          "index": "review_scores_communication",
          "variable": "calculated_host_listings_count"
         },
         {
          "correlation": 0.02416663462131851,
          "index": "review_scores_location",
          "variable": "calculated_host_listings_count"
         },
         {
          "correlation": -0.03401202808473702,
          "index": "review_scores_value",
          "variable": "calculated_host_listings_count"
         },
         {
          "correlation": 1,
          "index": "calculated_host_listings_count",
          "variable": "calculated_host_listings_count"
         },
         {
          "correlation": 0.8700367744302892,
          "index": "calculated_host_listings_count_entire_homes",
          "variable": "calculated_host_listings_count"
         },
         {
          "correlation": 0.4421320462983441,
          "index": "calculated_host_listings_count_private_rooms",
          "variable": "calculated_host_listings_count"
         },
         {
          "correlation": -0.018430970189779787,
          "index": "calculated_host_listings_count_shared_rooms",
          "variable": "calculated_host_listings_count"
         },
         {
          "correlation": -0.0769054501499827,
          "index": "reviews_per_month",
          "variable": "calculated_host_listings_count"
         },
         {
          "correlation": -0.04106721586952844,
          "index": "host_id",
          "variable": "calculated_host_listings_count_entire_homes"
         },
         {
          "correlation": 0.039982171532729545,
          "index": "host_response_rate",
          "variable": "calculated_host_listings_count_entire_homes"
         },
         {
          "correlation": 0.098976367995869,
          "index": "host_acceptance_rate",
          "variable": "calculated_host_listings_count_entire_homes"
         },
         {
          "correlation": 0.9040290491078938,
          "index": "host_listings_count",
          "variable": "calculated_host_listings_count_entire_homes"
         },
         {
          "correlation": 0.7893089639667756,
          "index": "host_total_listings_count",
          "variable": "calculated_host_listings_count_entire_homes"
         },
         {
          "correlation": 0.06500889237645707,
          "index": "latitude",
          "variable": "calculated_host_listings_count_entire_homes"
         },
         {
          "correlation": -0.14583026983969374,
          "index": "longitude",
          "variable": "calculated_host_listings_count_entire_homes"
         },
         {
          "correlation": -0.012528503002233621,
          "index": "accommodates",
          "variable": "calculated_host_listings_count_entire_homes"
         },
         {
          "correlation": 0.027133033621093934,
          "index": "bathrooms",
          "variable": "calculated_host_listings_count_entire_homes"
         },
         {
          "correlation": -0.027853355644003562,
          "index": "bedrooms",
          "variable": "calculated_host_listings_count_entire_homes"
         },
         {
          "correlation": -0.010374823320849252,
          "index": "beds",
          "variable": "calculated_host_listings_count_entire_homes"
         },
         {
          "correlation": 0.07737319235371914,
          "index": "price",
          "variable": "calculated_host_listings_count_entire_homes"
         },
         {
          "correlation": 0.015351405022956774,
          "index": "minimum_nights",
          "variable": "calculated_host_listings_count_entire_homes"
         },
         {
          "correlation": -0.0011403640394843516,
          "index": "maximum_nights",
          "variable": "calculated_host_listings_count_entire_homes"
         },
         {
          "correlation": 0.052553149685092726,
          "index": "minimum_nights_avg_ntm",
          "variable": "calculated_host_listings_count_entire_homes"
         },
         {
          "correlation": -0.004509737444441057,
          "index": "maximum_nights_avg_ntm",
          "variable": "calculated_host_listings_count_entire_homes"
         },
         {
          "correlation": -0.09529832741825833,
          "index": "availability_30",
          "variable": "calculated_host_listings_count_entire_homes"
         },
         {
          "correlation": -0.07723522220897952,
          "index": "availability_60",
          "variable": "calculated_host_listings_count_entire_homes"
         },
         {
          "correlation": -0.049512799084887225,
          "index": "availability_90",
          "variable": "calculated_host_listings_count_entire_homes"
         },
         {
          "correlation": 0.1550389774076746,
          "index": "availability_365",
          "variable": "calculated_host_listings_count_entire_homes"
         },
         {
          "correlation": -0.0864150829417613,
          "index": "number_of_reviews",
          "variable": "calculated_host_listings_count_entire_homes"
         },
         {
          "correlation": -0.03919277955440996,
          "index": "number_of_reviews_ltm",
          "variable": "calculated_host_listings_count_entire_homes"
         },
         {
          "correlation": -0.039945542819427964,
          "index": "number_of_reviews_l30d",
          "variable": "calculated_host_listings_count_entire_homes"
         },
         {
          "correlation": 0.003337263285233785,
          "index": "review_scores_rating",
          "variable": "calculated_host_listings_count_entire_homes"
         },
         {
          "correlation": 0.011549258837828886,
          "index": "review_scores_accuracy",
          "variable": "calculated_host_listings_count_entire_homes"
         },
         {
          "correlation": 0.027270464062791936,
          "index": "review_scores_cleanliness",
          "variable": "calculated_host_listings_count_entire_homes"
         },
         {
          "correlation": 0.012942300308935954,
          "index": "review_scores_checkin",
          "variable": "calculated_host_listings_count_entire_homes"
         },
         {
          "correlation": -0.005414756914670331,
          "index": "review_scores_communication",
          "variable": "calculated_host_listings_count_entire_homes"
         },
         {
          "correlation": 0.026947554057953176,
          "index": "review_scores_location",
          "variable": "calculated_host_listings_count_entire_homes"
         },
         {
          "correlation": -0.0261979988297742,
          "index": "review_scores_value",
          "variable": "calculated_host_listings_count_entire_homes"
         },
         {
          "correlation": 0.8700367744302892,
          "index": "calculated_host_listings_count",
          "variable": "calculated_host_listings_count_entire_homes"
         },
         {
          "correlation": 1,
          "index": "calculated_host_listings_count_entire_homes",
          "variable": "calculated_host_listings_count_entire_homes"
         },
         {
          "correlation": -0.046803113466324694,
          "index": "calculated_host_listings_count_private_rooms",
          "variable": "calculated_host_listings_count_entire_homes"
         },
         {
          "correlation": -0.013401048527663096,
          "index": "calculated_host_listings_count_shared_rooms",
          "variable": "calculated_host_listings_count_entire_homes"
         },
         {
          "correlation": -0.056001560012075104,
          "index": "reviews_per_month",
          "variable": "calculated_host_listings_count_entire_homes"
         },
         {
          "correlation": -0.08923213907476883,
          "index": "host_id",
          "variable": "calculated_host_listings_count_private_rooms"
         },
         {
          "correlation": 0.008848829741372605,
          "index": "host_response_rate",
          "variable": "calculated_host_listings_count_private_rooms"
         },
         {
          "correlation": -0.32294224322933485,
          "index": "host_acceptance_rate",
          "variable": "calculated_host_listings_count_private_rooms"
         },
         {
          "correlation": 0.061169123907016426,
          "index": "host_listings_count",
          "variable": "calculated_host_listings_count_private_rooms"
         },
         {
          "correlation": 0.14639803064447965,
          "index": "host_total_listings_count",
          "variable": "calculated_host_listings_count_private_rooms"
         },
         {
          "correlation": -0.06567957431200104,
          "index": "latitude",
          "variable": "calculated_host_listings_count_private_rooms"
         },
         {
          "correlation": 0.04840523540057539,
          "index": "longitude",
          "variable": "calculated_host_listings_count_private_rooms"
         },
         {
          "correlation": -0.16976143763198315,
          "index": "accommodates",
          "variable": "calculated_host_listings_count_private_rooms"
         },
         {
          "correlation": 0.07743767909198654,
          "index": "bathrooms",
          "variable": "calculated_host_listings_count_private_rooms"
         },
         {
          "correlation": 0.2276182927332447,
          "index": "bedrooms",
          "variable": "calculated_host_listings_count_private_rooms"
         },
         {
          "correlation": -0.06643856066087818,
          "index": "beds",
          "variable": "calculated_host_listings_count_private_rooms"
         },
         {
          "correlation": -0.06608062178784221,
          "index": "price",
          "variable": "calculated_host_listings_count_private_rooms"
         },
         {
          "correlation": 0.03308056787600186,
          "index": "minimum_nights",
          "variable": "calculated_host_listings_count_private_rooms"
         },
         {
          "correlation": -0.0011426040479923629,
          "index": "maximum_nights",
          "variable": "calculated_host_listings_count_private_rooms"
         },
         {
          "correlation": 0.06282457216658514,
          "index": "minimum_nights_avg_ntm",
          "variable": "calculated_host_listings_count_private_rooms"
         },
         {
          "correlation": -0.002978343761811584,
          "index": "maximum_nights_avg_ntm",
          "variable": "calculated_host_listings_count_private_rooms"
         },
         {
          "correlation": 0.11385160158164812,
          "index": "availability_30",
          "variable": "calculated_host_listings_count_private_rooms"
         },
         {
          "correlation": 0.11503140124793643,
          "index": "availability_60",
          "variable": "calculated_host_listings_count_private_rooms"
         },
         {
          "correlation": 0.10595948453078945,
          "index": "availability_90",
          "variable": "calculated_host_listings_count_private_rooms"
         },
         {
          "correlation": 0.1412568461237679,
          "index": "availability_365",
          "variable": "calculated_host_listings_count_private_rooms"
         },
         {
          "correlation": -0.07933336868036461,
          "index": "number_of_reviews",
          "variable": "calculated_host_listings_count_private_rooms"
         },
         {
          "correlation": -0.035783791109488226,
          "index": "number_of_reviews_ltm",
          "variable": "calculated_host_listings_count_private_rooms"
         },
         {
          "correlation": -0.03738645327562434,
          "index": "number_of_reviews_l30d",
          "variable": "calculated_host_listings_count_private_rooms"
         },
         {
          "correlation": -0.008483618584329625,
          "index": "review_scores_rating",
          "variable": "calculated_host_listings_count_private_rooms"
         },
         {
          "correlation": -0.013196875018324587,
          "index": "review_scores_accuracy",
          "variable": "calculated_host_listings_count_private_rooms"
         },
         {
          "correlation": -0.02034259931448083,
          "index": "review_scores_cleanliness",
          "variable": "calculated_host_listings_count_private_rooms"
         },
         {
          "correlation": -0.0036360293350133927,
          "index": "review_scores_checkin",
          "variable": "calculated_host_listings_count_private_rooms"
         },
         {
          "correlation": -0.025030531886109583,
          "index": "review_scores_communication",
          "variable": "calculated_host_listings_count_private_rooms"
         },
         {
          "correlation": -0.0020751659452514777,
          "index": "review_scores_location",
          "variable": "calculated_host_listings_count_private_rooms"
         },
         {
          "correlation": -0.0183144608672586,
          "index": "review_scores_value",
          "variable": "calculated_host_listings_count_private_rooms"
         },
         {
          "correlation": 0.4421320462983441,
          "index": "calculated_host_listings_count",
          "variable": "calculated_host_listings_count_private_rooms"
         },
         {
          "correlation": -0.046803113466324694,
          "index": "calculated_host_listings_count_entire_homes",
          "variable": "calculated_host_listings_count_private_rooms"
         },
         {
          "correlation": 1,
          "index": "calculated_host_listings_count_private_rooms",
          "variable": "calculated_host_listings_count_private_rooms"
         },
         {
          "correlation": -0.012845149620373201,
          "index": "calculated_host_listings_count_shared_rooms",
          "variable": "calculated_host_listings_count_private_rooms"
         },
         {
          "correlation": -0.05066578961492468,
          "index": "reviews_per_month",
          "variable": "calculated_host_listings_count_private_rooms"
         },
         {
          "correlation": 0.007287852364086798,
          "index": "host_id",
          "variable": "calculated_host_listings_count_shared_rooms"
         },
         {
          "correlation": 0.001261683024201093,
          "index": "host_response_rate",
          "variable": "calculated_host_listings_count_shared_rooms"
         },
         {
          "correlation": -0.0010882946357155274,
          "index": "host_acceptance_rate",
          "variable": "calculated_host_listings_count_shared_rooms"
         },
         {
          "correlation": -0.015537725622844301,
          "index": "host_listings_count",
          "variable": "calculated_host_listings_count_shared_rooms"
         },
         {
          "correlation": -0.017337740137428222,
          "index": "host_total_listings_count",
          "variable": "calculated_host_listings_count_shared_rooms"
         },
         {
          "correlation": -0.003870804437206858,
          "index": "latitude",
          "variable": "calculated_host_listings_count_shared_rooms"
         },
         {
          "correlation": 0.020086327913203143,
          "index": "longitude",
          "variable": "calculated_host_listings_count_shared_rooms"
         },
         {
          "correlation": -0.030566076337181284,
          "index": "accommodates",
          "variable": "calculated_host_listings_count_shared_rooms"
         },
         {
          "correlation": -0.009958957882929784,
          "index": "bathrooms",
          "variable": "calculated_host_listings_count_shared_rooms"
         },
         {
          "correlation": -0.015783346805935957,
          "index": "bedrooms",
          "variable": "calculated_host_listings_count_shared_rooms"
         },
         {
          "correlation": -0.0025542254124343747,
          "index": "beds",
          "variable": "calculated_host_listings_count_shared_rooms"
         },
         {
          "correlation": -0.00835155999379774,
          "index": "price",
          "variable": "calculated_host_listings_count_shared_rooms"
         },
         {
          "correlation": 0.0017537286240747578,
          "index": "minimum_nights",
          "variable": "calculated_host_listings_count_shared_rooms"
         },
         {
          "correlation": -0.0003102436988380775,
          "index": "maximum_nights",
          "variable": "calculated_host_listings_count_shared_rooms"
         },
         {
          "correlation": 0.0005927761351320599,
          "index": "minimum_nights_avg_ntm",
          "variable": "calculated_host_listings_count_shared_rooms"
         },
         {
          "correlation": -0.0011932066265026326,
          "index": "maximum_nights_avg_ntm",
          "variable": "calculated_host_listings_count_shared_rooms"
         },
         {
          "correlation": 0.00469208969106122,
          "index": "availability_30",
          "variable": "calculated_host_listings_count_shared_rooms"
         },
         {
          "correlation": 0.00394181075093896,
          "index": "availability_60",
          "variable": "calculated_host_listings_count_shared_rooms"
         },
         {
          "correlation": 0.002859442273537896,
          "index": "availability_90",
          "variable": "calculated_host_listings_count_shared_rooms"
         },
         {
          "correlation": -0.009659442813864159,
          "index": "availability_365",
          "variable": "calculated_host_listings_count_shared_rooms"
         },
         {
          "correlation": 0.0011724092272897097,
          "index": "number_of_reviews",
          "variable": "calculated_host_listings_count_shared_rooms"
         },
         {
          "correlation": 0.003641628723393766,
          "index": "number_of_reviews_ltm",
          "variable": "calculated_host_listings_count_shared_rooms"
         },
         {
          "correlation": 0.002934006639458555,
          "index": "number_of_reviews_l30d",
          "variable": "calculated_host_listings_count_shared_rooms"
         },
         {
          "correlation": 0.007430152941860643,
          "index": "review_scores_rating",
          "variable": "calculated_host_listings_count_shared_rooms"
         },
         {
          "correlation": 0.005502618636569898,
          "index": "review_scores_accuracy",
          "variable": "calculated_host_listings_count_shared_rooms"
         },
         {
          "correlation": 0.0065490547435883605,
          "index": "review_scores_cleanliness",
          "variable": "calculated_host_listings_count_shared_rooms"
         },
         {
          "correlation": 0.00250732063370391,
          "index": "review_scores_checkin",
          "variable": "calculated_host_listings_count_shared_rooms"
         },
         {
          "correlation": 0.008047302816235188,
          "index": "review_scores_communication",
          "variable": "calculated_host_listings_count_shared_rooms"
         },
         {
          "correlation": -0.00118272727077386,
          "index": "review_scores_location",
          "variable": "calculated_host_listings_count_shared_rooms"
         },
         {
          "correlation": 0.008799361612954843,
          "index": "review_scores_value",
          "variable": "calculated_host_listings_count_shared_rooms"
         },
         {
          "correlation": -0.018430970189779787,
          "index": "calculated_host_listings_count",
          "variable": "calculated_host_listings_count_shared_rooms"
         },
         {
          "correlation": -0.013401048527663096,
          "index": "calculated_host_listings_count_entire_homes",
          "variable": "calculated_host_listings_count_shared_rooms"
         },
         {
          "correlation": -0.012845149620373201,
          "index": "calculated_host_listings_count_private_rooms",
          "variable": "calculated_host_listings_count_shared_rooms"
         },
         {
          "correlation": 1,
          "index": "calculated_host_listings_count_shared_rooms",
          "variable": "calculated_host_listings_count_shared_rooms"
         },
         {
          "correlation": 0.003339545363451008,
          "index": "reviews_per_month",
          "variable": "calculated_host_listings_count_shared_rooms"
         },
         {
          "correlation": 0.15133921024479197,
          "index": "host_id",
          "variable": "reviews_per_month"
         },
         {
          "correlation": 0.029942292928020538,
          "index": "host_response_rate",
          "variable": "reviews_per_month"
         },
         {
          "correlation": 0.12435197365469694,
          "index": "host_acceptance_rate",
          "variable": "reviews_per_month"
         },
         {
          "correlation": -0.0661395331430392,
          "index": "host_listings_count",
          "variable": "reviews_per_month"
         },
         {
          "correlation": -0.07030340894925434,
          "index": "host_total_listings_count",
          "variable": "reviews_per_month"
         },
         {
          "correlation": -0.044392149895387166,
          "index": "latitude",
          "variable": "reviews_per_month"
         },
         {
          "correlation": 0.0491777872750602,
          "index": "longitude",
          "variable": "reviews_per_month"
         },
         {
          "correlation": 0.0456150392760775,
          "index": "accommodates",
          "variable": "reviews_per_month"
         },
         {
          "correlation": 0.004022129281633122,
          "index": "bathrooms",
          "variable": "reviews_per_month"
         },
         {
          "correlation": -0.013394017948532025,
          "index": "bedrooms",
          "variable": "reviews_per_month"
         },
         {
          "correlation": 0.093656327569071,
          "index": "beds",
          "variable": "reviews_per_month"
         },
         {
          "correlation": 0.002367227448512565,
          "index": "price",
          "variable": "reviews_per_month"
         },
         {
          "correlation": -0.15641041330434197,
          "index": "minimum_nights",
          "variable": "reviews_per_month"
         },
         {
          "correlation": -0.0021537494158519427,
          "index": "maximum_nights",
          "variable": "reviews_per_month"
         },
         {
          "correlation": -0.15376855298811232,
          "index": "minimum_nights_avg_ntm",
          "variable": "reviews_per_month"
         },
         {
          "correlation": 0.01467387317047883,
          "index": "maximum_nights_avg_ntm",
          "variable": "reviews_per_month"
         },
         {
          "correlation": 0.12325504390325752,
          "index": "availability_30",
          "variable": "reviews_per_month"
         },
         {
          "correlation": 0.13316188107273078,
          "index": "availability_60",
          "variable": "reviews_per_month"
         },
         {
          "correlation": 0.13430065819042306,
          "index": "availability_90",
          "variable": "reviews_per_month"
         },
         {
          "correlation": 0.0914748143487165,
          "index": "availability_365",
          "variable": "reviews_per_month"
         },
         {
          "correlation": 0.6732927419615321,
          "index": "number_of_reviews",
          "variable": "reviews_per_month"
         },
         {
          "correlation": 0.8729844240828769,
          "index": "number_of_reviews_ltm",
          "variable": "reviews_per_month"
         },
         {
          "correlation": 0.8021725097341647,
          "index": "number_of_reviews_l30d",
          "variable": "reviews_per_month"
         },
         {
          "correlation": 0.0072991829449022185,
          "index": "review_scores_rating",
          "variable": "reviews_per_month"
         },
         {
          "correlation": -0.0020571734609127357,
          "index": "review_scores_accuracy",
          "variable": "reviews_per_month"
         },
         {
          "correlation": 0.04938597701335022,
          "index": "review_scores_cleanliness",
          "variable": "reviews_per_month"
         },
         {
          "correlation": -0.005012305510108291,
          "index": "review_scores_checkin",
          "variable": "reviews_per_month"
         },
         {
          "correlation": -0.0054662433375505595,
          "index": "review_scores_communication",
          "variable": "reviews_per_month"
         },
         {
          "correlation": -0.019235993418025926,
          "index": "review_scores_location",
          "variable": "reviews_per_month"
         },
         {
          "correlation": 0.011452158710179565,
          "index": "review_scores_value",
          "variable": "reviews_per_month"
         },
         {
          "correlation": -0.0769054501499827,
          "index": "calculated_host_listings_count",
          "variable": "reviews_per_month"
         },
         {
          "correlation": -0.056001560012075104,
          "index": "calculated_host_listings_count_entire_homes",
          "variable": "reviews_per_month"
         },
         {
          "correlation": -0.05066578961492468,
          "index": "calculated_host_listings_count_private_rooms",
          "variable": "reviews_per_month"
         },
         {
          "correlation": 0.003339545363451008,
          "index": "calculated_host_listings_count_shared_rooms",
          "variable": "reviews_per_month"
         },
         {
          "correlation": 1,
          "index": "reviews_per_month",
          "variable": "reviews_per_month"
         }
        ]
       },
       "encoding": {
        "color": {
         "field": "correlation",
         "scale": {
          "scheme": "blues"
         },
         "type": "quantitative"
        },
        "tooltip": [
         {
          "field": "index",
          "type": "nominal"
         },
         {
          "field": "variable",
          "type": "nominal"
         },
         {
          "field": "correlation",
          "type": "quantitative"
         }
        ],
        "x": {
         "field": "index",
         "title": "Attribute",
         "type": "nominal"
        },
        "y": {
         "field": "variable",
         "title": "Attribute",
         "type": "nominal"
        }
       },
       "height": 600,
       "mark": {
        "type": "rect"
       },
       "title": "Correlation Matrix of Numeric Attributes",
       "width": 600
      },
      "image/png": "[encoded data removed]",
      "text/plain": [
       "<VegaLite 5 object>\n",
       "\n",
       "If you see this message, it means the renderer has not been properly enabled\n",
       "for the frontend that you are using. For more information, see\n",
       "https://altair-viz.github.io/user_guide/display_frontends.html#troubleshooting\n"
      ]
     },
     "execution_count": 14,
     "metadata": {},
     "output_type": "execute_result"
    }
   ],
   "source": [
    "# Compute correlation matrix\n",
    "numerical_cols = df_cleaned.select_dtypes(include=['number']).columns.tolist()\n",
    "correlation_matrix = df_cleaned[numerical_cols].corr().reset_index().melt(id_vars=[\"index\"], var_name=\"variable\", value_name=\"correlation\")\n",
    "\n",
    "# Create Altair heatmap\n",
    "heatmap = alt.Chart(correlation_matrix).mark_rect().encode(\n",
    "    x=alt.X(\"index:N\", title=\"Attribute\"),\n",
    "    y=alt.Y(\"variable:N\", title=\"Attribute\"),\n",
    "    color=alt.Color(\"correlation:Q\", scale=alt.Scale(scheme=\"blues\")),\n",
    "    tooltip=[\"index\", \"variable\", \"correlation\"]\n",
    ").properties(\n",
    "    title=\"Correlation Matrix of Numeric Attributes\",\n",
    "    width=600,\n",
    "    height=600\n",
    ")\n",
    "\n",
    "# Display visualization\n",
    "heatmap"
   ]
  },
  {
   "cell_type": "markdown",
   "id": "61443061-5c09-445a-b91f-91acb0643c2f",
   "metadata": {},
   "source": [
    "#### Erhan \n",
    "Detailed EDA can be found in the directory: `analysis/Erhan/analysis.ipynb`. "
   ]
  },
  {
   "cell_type": "markdown",
   "id": "db49c8f9-ceba-4677-b41a-b7fbc381033a",
   "metadata": {},
   "source": [
    "#### Carol\n",
    "Detailed EDA can be found in the directory: `analysis/Carol/analysis2.ipynb`. "
   ]
  },
  {
   "cell_type": "markdown",
   "id": "5ed9f4a5-3108-4733-8fb1-33541dde84b1",
   "metadata": {},
   "source": [
    "#### Aaron \n",
    "Detailed EDA can be found in the directory: `analysis/Aaron/analysis3.ipynb`. "
   ]
  },
  {
   "cell_type": "markdown",
   "id": "a9b08513-2185-48cd-b995-6789fa3318a3",
   "metadata": {},
   "source": [
    "#### Ayuho \n",
    "Detailed EDA can be found in the directory: `analysis/Ayuho/analysis4.ipynb`. "
   ]
  },
  {
   "cell_type": "markdown",
   "id": "b9ab8dd5-ab31-46d9-9c64-605f81dd1d8c",
   "metadata": {},
   "source": [
    "## 3. Research Questions \n",
    "\n",
    "### Erhan: Pricing & Affordability Trends in NYC\n",
    "\n",
    "1. How does room type impact price variations?\n",
    "2. What is the effect of location (neighbourhood group, latitude, and longitude) on price differences?\n",
    "3. Does the host's listing count or years of hosting (host_since) influence listing prices?\n",
    "4. How do reviews per month, review scores, and the total number of reviews correlate with pricing?\n",
    "5. What role does availability over 365 days and minimum nights play in pricing strategies?\n",
    "   \n",
    "---\n",
    "\n",
    "### Carol: Guest Experience & Satisfaction\n",
    "\n",
    "1. How do listing features like the number of amenities or instant booking availability impact guest satisfaction ratings?\n",
    "2. What is the relationship between different ratings and listing prices across room types?\n",
    "3. Which amenities are most frequently associated with higher guest ratings?\n",
    "   \n",
    "---\n",
    "\n",
    "### Aaron: Location & Listing Features, Host Decision-Making, and Booking Preferences\n",
    "\n",
    "1. What role does instant bookability serve as an incentive booster for less popular neighborhoods?\n",
    "2. Is there a difference in host behaviour by location?\n",
    "3. Is it easier to be a Superhost in certain locations?\n",
    "\n",
    "---\n",
    "\n",
    "### Ayuho: Host Behaviour & Market Competitiveness\n",
    "\n",
    "1. How does host identity verification influence the success of a listing (in terms of reviews and ratings)?\n",
    "2. How do host responses (e.g. response time, acceptance rate) differ between superhosts and non-superhosts, and how does this impact listing success?\n",
    "3. How do hosts with multiple listings strategically set their pricing, and how does this impact guest satisfaction?"
   ]
  },
  {
   "cell_type": "markdown",
   "id": "698aa88f-814a-4923-bb92-543fe4d78765",
   "metadata": {},
   "source": [
    "## 4. Task Analysis\n",
    "\n",
    "### Erhan's Analysis\n",
    "\n",
    "#### 1. How does room type impact price variations?\n",
    "- **Retrieve Value**: Extract `room_type` and `price`.\n",
    "- **Characterize Distribution**: Visualize the spread of prices for different room types.\n",
    "- **Find Extremum**: Identify the most and least expensive room types.\n",
    "- **Sort**: Rank room types by average price.\n",
    "- **Visualizations:**\n",
    "  - Box plot of `room_type` vs. `price`.\n",
    "  - Bar chart of average price per `room_type`.\n",
    "\n",
    "#### 2. What is the effect of location (neighbourhood group, latitude, and longitude) on price differences?\n",
    "- **Retrieve Value**: Extract `neighbourhood_group_cleansed`, `latitude`, `longitude`, and `price`.\n",
    "- **Characterize Distribution**: Visualize price variations across different locations.\n",
    "- **Determine Range**: Identify areas with the highest and lowest price variations.\n",
    "- **Find Anomalies**: Detect outlier neighbourhoods with extreme pricing.\n",
    "- **Visualizations:**\n",
    "  - Geographic heatmap of `price` by location.\n",
    "  - Bar chart of average `price` per `neighbourhood_group_cleansed`.\n",
    "  - Scatter plot of `latitude` vs. `longitude`, coloured by `price`.\n",
    "\n",
    "#### 3. Does the host's listing count or years of hosting (host_since) influence listing prices?\n",
    "- **Retrieve Value**: Extract `host_since`, `host_listings_count`, and `price`.\n",
    "- **Compute Derived Value**: Calculate host tenure (years since `host_since`).\n",
    "- **Find Anomalies**: Identify whether long-time hosts charge significantly higher or lower prices.\n",
    "- **Correlate**: Analyze the relationship between host tenure/listing count and pricing.\n",
    "- **Visualizations:**\n",
    "  - Line chart of years of hosting vs. average price.\n",
    "  - Scatter plot of `host_listings_count` vs. `price`.\n",
    "  - Bar chart of price variations by `host_listings_count`.\n",
    "\n",
    "#### 4. How do reviews per month, review scores, and the total number of reviews correlate with pricing?\n",
    "- **Retrieve Value**: Extract `reviews_per_month`, `review_scores_rating`, `number_of_reviews`, and `price`.\n",
    "- **Characterize Distribution**: Examine how review frequency and ratings relate to pricing.\n",
    "- **Find Extremum**: Identify listings with the highest/lowest review scores and their price trends.\n",
    "- **Correlate**: Analyze the impact of reviews on pricing.\n",
    "- **Visualizations:**\n",
    "  - Binned bar chart of `reviews_per_month` vs. average `price`.\n",
    "  - Scatter plot of `review_scores_rating` vs. `price`.\n",
    "  - Correlation heatmap of reviews and pricing-related attributes.\n",
    "\n",
    "#### 5. What role does availability over 365 days and minimum nights play in pricing strategies?\n",
    "- **Retrieve Value**: Extract `availability_365`, `minimum_nights`, and `price`.\n",
    "- **Find Extremum**: Identify listings with extreme availability values and their pricing strategies.\n",
    "- **Filter**: Compare listings with low and high availability.\n",
    "- **Sort**: Rank availability and minimum night requirements by `price`.\n",
    "- **Visualizations:**\n",
    "  - Scatter plot of `availability_365` vs. `price`.\n",
    "  - Bar chart of `minimum_nights` vs. average `price`.\n",
    "  - Grouped bar chart of pricing trends for different availability levels.\n",
    "\n",
    "---\n",
    "\n",
    "### Carol's Analysis\n",
    "\n",
    "#### 1. How do listing features like the number of amenities or instant booking availability impact guest satisfaction ratings?\n",
    "- **Compute Derived Value**: Count/calculate the number of amenities for each listing.\n",
    "- **Retrieve Value**: Extract `guest_satisfaction_rating`, `number_of_amenities`, `instant_bookable`.\n",
    "- **Characterize Distribution**: Visualize satisfaction ratings for different listing features.\n",
    "- **Correlate**: Analyze the relationship between review score ratings and listing features.\n",
    "- **Sort**: Sort listings based on `number_of_amenities`.\n",
    "\n",
    "#### 2. What is the relationship between different ratings and listing prices across room types?\n",
    "- **Retrieve Value**: Extract `price`, review scores, and `room_type`.\n",
    "- **Sort**: Sort listings by `price` to observe variations across room types.\n",
    "- **Correlate**: Analyze the correlation between `price` and review scores by `room_type`.\n",
    "- **Filter**: Analyze the relationship between `price` and ratings within each `room_type`.\n",
    "- **Characterize Distribution**: Visualize ratings across different `price` ranges and `room_types`.\n",
    "\n",
    "#### 3. Which amenities are most frequently associated with higher guest ratings?\n",
    "- **Retrieve Value**: Extract `guest_satisfaction_rating` and `amenities`.\n",
    "- **Filter**: Select listings with `review_scores_rating` > 4.5.\n",
    "- **Cluster**: Group listings by `amenities` and analyze ratings.\n",
    "- **Find Extremum**: Identify the most frequently occurring amenities.\n",
    "- **Sort**: Rank amenities by occurrence in top-rated listings.\n",
    "- **Correlate**: Analyze patterns of high ratings linked to certain amenities.\n",
    "\n",
    "---\n",
    "\n",
    "### Aaron's Analysis\n",
    "\n",
    "#### 1. What role does instant bookability serve as an incentive booster for less popular neighborhoods?\n",
    "- **Retrieve Value**: Extract `neighbourhood_cleansed`, `instant_bookable`, `number_of_reviews`, and `price`.\n",
    "- **Filter**: Identify less popular neighbourhoods.\n",
    "- **Label**: Categorize neighbourhoods as popular or less popular.\n",
    "- **Calculate**: Use `number_of_reviews` to infer average booking rates.\n",
    "- **Analyze**: Compare booking rates by `instant_bookable` status.\n",
    "- **Visualize**: Display different groups.\n",
    "\n",
    "#### 2. Is there a difference in host behaviour by location?\n",
    "- **Retrieve Value**: Extract `host_identity_verified`, `calculated_host_listings_count`, `neighbourhood_cleansed`, `neighbourhood_group_cleansed`.\n",
    "- **Group**: By `neighbourhood_group_cleansed`.\n",
    "- **Aggregate**: Compute averages for `calculated_host_listings_count` and counts for `host_identity_verified`.\n",
    "- **Analyze**: Compare differences across neighbourhoods.\n",
    "- **Visualize**: Display neighbourhood-based host behaviours.\n",
    "\n",
    "#### 3. Is it easier to be a Superhost in certain locations?\n",
    "- **Retrieve Value**: Extract `host_is_superhost`, `neighbourhood_group_cleansed`, `calculated_host_listings_count`, `host_identity_verified`, `host_has_profile_pic`, `host_response_time`, `host_response_rate`, and `price`.\n",
    "- **Group**: By `host_is_superhost` and `neighbourhood_group_cleansed`.\n",
    "- **Aggregate**: Compute averages for key metrics.\n",
    "- **Analyze**: Compare Superhost vs. non-Superhost behaviour.\n",
    "- **Visualize**: Display differences.\n",
    "\n",
    "---\n",
    "\n",
    "### Ayuho's Analysis\n",
    "\n",
    "#### 1: How does host identity verification influence the success of a listing (in terms of reviews and ratings)?\n",
    "1. **Retrieve Value**: Extract `host_identity_verified`, `number_of_reviews`, `review_scores_rating`.\n",
    "2. **Filter**: Separate verified (`true`) vs. non-verified (`false`) hosts.\n",
    "3. **Characterize Distribution**: Boxplots and histograms.\n",
    "4. **Correlate**: Compare averages.\n",
    "5. **Find Extremum**: Identify anomalies.\n",
    "\n",
    "#### 2: How do host responses (e.g. response time, acceptance rate) differ between super hosts and non-super hosts, and how does this impact listing success?**\n",
    "1. **Retrieve Value**: Extract `host_is_superhost`, `host_response_time`, `host_acceptance_rate`, `number_of_reviews`, `review_scores_rating`.\n",
    "2. **Filter**: Compare Superhosts (`true`) vs. non-Superhosts (`false`).\n",
    "3. **Sort**: Categorize `host_response_time`.\n",
    "4. **Characterize Distribution**: Stacked bar chart, boxplot.\n",
    "5. **Correlate**: Analyze response and acceptance rates.\n",
    "6. **Find Extremum**: Identify extreme cases.\n",
    "\n",
    "#### 3: How do hosts with multiple listings strategically set their pricing, and how does this impact guest satisfaction?\n",
    "1. **Retrieve Value**: Extract `calculated_host_listings_count`, `price`, `review_scores_rating`.\n",
    "2. **Filter**: Group by listing count.\n",
    "3. **Compute Derived Value**: Price-to-rating ratio.\n",
    "4. **Characterize Distribution**: Bar chart and heatmaps.\n",
    "5. **Correlate**: Analyze pricing influence.\n",
    "6. **Find Extremum**: Identify extremes."
   ]
  },
  {
   "cell_type": "markdown",
   "id": "f034f708-dd3f-4dee-b09c-8e3164a49ec9",
   "metadata": {},
   "source": [
    "## 4. Task Analysis"
   ]
  }
 ],
 "metadata": {
  "kernelspec": {
   "display_name": "Python 3 (ipykernel)",
   "language": "python",
   "name": "python3"
  },
  "language_info": {
   "codemirror_mode": {
    "name": "ipython",
    "version": 3
   },
   "file_extension": ".py",
   "mimetype": "text/x-python",
   "name": "python",
   "nbconvert_exporter": "python",
   "pygments_lexer": "ipython3",
   "version": "3.12.3"
  }
 },
 "nbformat": 4,
 "nbformat_minor": 5
}
