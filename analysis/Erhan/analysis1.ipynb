{
 "cells": [
  {
   "cell_type": "markdown",
   "metadata": {},
   "source": [
    "# Erhan Asad Javed"
   ]
  },
  {
   "cell_type": "markdown",
   "metadata": {},
   "source": [
    "## Research question/interests\n",
    "\n",
    "### Emergency response\n",
    "\n",
    "Faster emergency response times are critical in reducing fatalities and mitigating long-term injuries from road accidents. This research area focuses on identifying bottlenecks in emergency services to optimize resource allocation and improve outcomes. \n",
    "\n",
    "#### Key research questions\n",
    "- How does the emergency response time correlate with the number of fatalities? \n",
    "- Are urban accidents associated with faster response times than rural ones? \n",
    "- How does traffic volume at the time of an accident affect emergency response times?\n",
    "- What role does population density play in determining emergency response times?\n"
   ]
  },
  {
   "cell_type": "markdown",
   "metadata": {},
   "source": [
    "## EDA"
   ]
  },
  {
   "cell_type": "markdown",
   "metadata": {},
   "source": [
    "### Imports"
   ]
  },
  {
   "cell_type": "code",
   "execution_count": 44,
   "metadata": {},
   "outputs": [
    {
     "data": {
      "text/plain": [
       "RendererRegistry.enable('jupyterlab')"
      ]
     },
     "execution_count": 44,
     "metadata": {},
     "output_type": "execute_result"
    }
   ],
   "source": [
    "import os\n",
    "\n",
    "import altair as alt\n",
    "import pandas as pd\n",
    "from toolz.curried import pipe\n",
    "\n",
    "# Create a new data transformer that stores the files in a directory\n",
    "def json_dir(data, data_dir='altairdata'):\n",
    "    os.makedirs(data_dir, exist_ok=True)\n",
    "    return pipe(data, alt.to_json(filename=data_dir + '/{prefix}-{hash}.{extension}') )\n",
    "\n",
    "# Register and enable the new transformer\n",
    "alt.data_transformers.register('json_dir', json_dir)\n",
    "alt.data_transformers.enable('json_dir')\n",
    "\n",
    "# Handle large data sets (default shows only 5000)\n",
    "# See here: https://altair-viz.github.io/user_guide/data_transformers.html\n",
    "alt.data_transformers.disable_max_rows()\n",
    "\n",
    "alt.renderers.enable('jupyterlab')\n"
   ]
  },
  {
   "cell_type": "markdown",
   "metadata": {},
   "source": [
    "### Loading in the data"
   ]
  },
  {
   "cell_type": "code",
   "execution_count": 45,
   "metadata": {},
   "outputs": [
    {
     "data": {
      "text/html": [
       "<div>\n",
       "<style scoped>\n",
       "    .dataframe tbody tr th:only-of-type {\n",
       "        vertical-align: middle;\n",
       "    }\n",
       "\n",
       "    .dataframe tbody tr th {\n",
       "        vertical-align: top;\n",
       "    }\n",
       "\n",
       "    .dataframe thead th {\n",
       "        text-align: right;\n",
       "    }\n",
       "</style>\n",
       "<table border=\"1\" class=\"dataframe\">\n",
       "  <thead>\n",
       "    <tr style=\"text-align: right;\">\n",
       "      <th></th>\n",
       "      <th>Country</th>\n",
       "      <th>Year</th>\n",
       "      <th>Month</th>\n",
       "      <th>Day of Week</th>\n",
       "      <th>Time of Day</th>\n",
       "      <th>Urban/Rural</th>\n",
       "      <th>Road Type</th>\n",
       "      <th>Weather Conditions</th>\n",
       "      <th>Visibility Level</th>\n",
       "      <th>Number of Vehicles Involved</th>\n",
       "      <th>...</th>\n",
       "      <th>Number of Fatalities</th>\n",
       "      <th>Emergency Response Time</th>\n",
       "      <th>Traffic Volume</th>\n",
       "      <th>Road Condition</th>\n",
       "      <th>Accident Cause</th>\n",
       "      <th>Insurance Claims</th>\n",
       "      <th>Medical Cost</th>\n",
       "      <th>Economic Loss</th>\n",
       "      <th>Region</th>\n",
       "      <th>Population Density</th>\n",
       "    </tr>\n",
       "  </thead>\n",
       "  <tbody>\n",
       "    <tr>\n",
       "      <th>0</th>\n",
       "      <td>USA</td>\n",
       "      <td>2002</td>\n",
       "      <td>October</td>\n",
       "      <td>Tuesday</td>\n",
       "      <td>Evening</td>\n",
       "      <td>Rural</td>\n",
       "      <td>Street</td>\n",
       "      <td>Windy</td>\n",
       "      <td>220.414651</td>\n",
       "      <td>1</td>\n",
       "      <td>...</td>\n",
       "      <td>2</td>\n",
       "      <td>58.625720</td>\n",
       "      <td>7412.752760</td>\n",
       "      <td>Wet</td>\n",
       "      <td>Weather</td>\n",
       "      <td>4</td>\n",
       "      <td>40499.856982</td>\n",
       "      <td>22072.878502</td>\n",
       "      <td>Europe</td>\n",
       "      <td>3866.273014</td>\n",
       "    </tr>\n",
       "    <tr>\n",
       "      <th>1</th>\n",
       "      <td>UK</td>\n",
       "      <td>2014</td>\n",
       "      <td>December</td>\n",
       "      <td>Saturday</td>\n",
       "      <td>Evening</td>\n",
       "      <td>Urban</td>\n",
       "      <td>Street</td>\n",
       "      <td>Windy</td>\n",
       "      <td>168.311358</td>\n",
       "      <td>3</td>\n",
       "      <td>...</td>\n",
       "      <td>1</td>\n",
       "      <td>58.041380</td>\n",
       "      <td>4458.628820</td>\n",
       "      <td>Snow-covered</td>\n",
       "      <td>Mechanical Failure</td>\n",
       "      <td>3</td>\n",
       "      <td>6486.600073</td>\n",
       "      <td>9534.399441</td>\n",
       "      <td>North America</td>\n",
       "      <td>2333.916224</td>\n",
       "    </tr>\n",
       "    <tr>\n",
       "      <th>2</th>\n",
       "      <td>USA</td>\n",
       "      <td>2012</td>\n",
       "      <td>July</td>\n",
       "      <td>Sunday</td>\n",
       "      <td>Afternoon</td>\n",
       "      <td>Urban</td>\n",
       "      <td>Highway</td>\n",
       "      <td>Snowy</td>\n",
       "      <td>341.286506</td>\n",
       "      <td>4</td>\n",
       "      <td>...</td>\n",
       "      <td>4</td>\n",
       "      <td>42.374452</td>\n",
       "      <td>9856.915064</td>\n",
       "      <td>Wet</td>\n",
       "      <td>Speeding</td>\n",
       "      <td>4</td>\n",
       "      <td>29164.412982</td>\n",
       "      <td>58009.145124</td>\n",
       "      <td>South America</td>\n",
       "      <td>4408.889129</td>\n",
       "    </tr>\n",
       "    <tr>\n",
       "      <th>3</th>\n",
       "      <td>UK</td>\n",
       "      <td>2017</td>\n",
       "      <td>May</td>\n",
       "      <td>Saturday</td>\n",
       "      <td>Evening</td>\n",
       "      <td>Urban</td>\n",
       "      <td>Main Road</td>\n",
       "      <td>Clear</td>\n",
       "      <td>489.384536</td>\n",
       "      <td>2</td>\n",
       "      <td>...</td>\n",
       "      <td>3</td>\n",
       "      <td>48.554014</td>\n",
       "      <td>4958.646267</td>\n",
       "      <td>Icy</td>\n",
       "      <td>Distracted Driving</td>\n",
       "      <td>3</td>\n",
       "      <td>25797.212566</td>\n",
       "      <td>20907.151302</td>\n",
       "      <td>Australia</td>\n",
       "      <td>2810.822423</td>\n",
       "    </tr>\n",
       "    <tr>\n",
       "      <th>4</th>\n",
       "      <td>Canada</td>\n",
       "      <td>2002</td>\n",
       "      <td>July</td>\n",
       "      <td>Tuesday</td>\n",
       "      <td>Afternoon</td>\n",
       "      <td>Rural</td>\n",
       "      <td>Highway</td>\n",
       "      <td>Rainy</td>\n",
       "      <td>348.344850</td>\n",
       "      <td>1</td>\n",
       "      <td>...</td>\n",
       "      <td>4</td>\n",
       "      <td>18.318250</td>\n",
       "      <td>3843.191463</td>\n",
       "      <td>Icy</td>\n",
       "      <td>Distracted Driving</td>\n",
       "      <td>8</td>\n",
       "      <td>15605.293921</td>\n",
       "      <td>13584.060759</td>\n",
       "      <td>South America</td>\n",
       "      <td>3883.645634</td>\n",
       "    </tr>\n",
       "  </tbody>\n",
       "</table>\n",
       "<p>5 rows × 30 columns</p>\n",
       "</div>"
      ],
      "text/plain": [
       "  Country  Year     Month Day of Week Time of Day Urban/Rural  Road Type  \\\n",
       "0     USA  2002   October     Tuesday     Evening       Rural     Street   \n",
       "1      UK  2014  December    Saturday     Evening       Urban     Street   \n",
       "2     USA  2012      July      Sunday   Afternoon       Urban    Highway   \n",
       "3      UK  2017       May    Saturday     Evening       Urban  Main Road   \n",
       "4  Canada  2002      July     Tuesday   Afternoon       Rural    Highway   \n",
       "\n",
       "  Weather Conditions  Visibility Level  Number of Vehicles Involved  ...  \\\n",
       "0              Windy        220.414651                            1  ...   \n",
       "1              Windy        168.311358                            3  ...   \n",
       "2              Snowy        341.286506                            4  ...   \n",
       "3              Clear        489.384536                            2  ...   \n",
       "4              Rainy        348.344850                            1  ...   \n",
       "\n",
       "   Number of Fatalities Emergency Response Time Traffic Volume  \\\n",
       "0                     2               58.625720    7412.752760   \n",
       "1                     1               58.041380    4458.628820   \n",
       "2                     4               42.374452    9856.915064   \n",
       "3                     3               48.554014    4958.646267   \n",
       "4                     4               18.318250    3843.191463   \n",
       "\n",
       "   Road Condition      Accident Cause Insurance Claims  Medical Cost  \\\n",
       "0             Wet             Weather                4  40499.856982   \n",
       "1    Snow-covered  Mechanical Failure                3   6486.600073   \n",
       "2             Wet            Speeding                4  29164.412982   \n",
       "3             Icy  Distracted Driving                3  25797.212566   \n",
       "4             Icy  Distracted Driving                8  15605.293921   \n",
       "\n",
       "   Economic Loss         Region  Population Density  \n",
       "0   22072.878502         Europe         3866.273014  \n",
       "1    9534.399441  North America         2333.916224  \n",
       "2   58009.145124  South America         4408.889129  \n",
       "3   20907.151302      Australia         2810.822423  \n",
       "4   13584.060759  South America         3883.645634  \n",
       "\n",
       "[5 rows x 30 columns]"
      ]
     },
     "execution_count": 45,
     "metadata": {},
     "output_type": "execute_result"
    }
   ],
   "source": [
    "accidents = pd.read_csv('../../data/raw/road_accident_dataset.csv')\n",
    "accidents.head()"
   ]
  },
  {
   "cell_type": "code",
   "execution_count": 46,
   "metadata": {},
   "outputs": [
    {
     "name": "stdout",
     "output_type": "stream",
     "text": [
      "<class 'pandas.core.frame.DataFrame'>\n",
      "RangeIndex: 132000 entries, 0 to 131999\n",
      "Data columns (total 30 columns):\n",
      " #   Column                       Non-Null Count   Dtype  \n",
      "---  ------                       --------------   -----  \n",
      " 0   Country                      132000 non-null  object \n",
      " 1   Year                         132000 non-null  int64  \n",
      " 2   Month                        132000 non-null  object \n",
      " 3   Day of Week                  132000 non-null  object \n",
      " 4   Time of Day                  132000 non-null  object \n",
      " 5   Urban/Rural                  132000 non-null  object \n",
      " 6   Road Type                    132000 non-null  object \n",
      " 7   Weather Conditions           132000 non-null  object \n",
      " 8   Visibility Level             132000 non-null  float64\n",
      " 9   Number of Vehicles Involved  132000 non-null  int64  \n",
      " 10  Speed Limit                  132000 non-null  int64  \n",
      " 11  Driver Age Group             132000 non-null  object \n",
      " 12  Driver Gender                132000 non-null  object \n",
      " 13  Driver Alcohol Level         132000 non-null  float64\n",
      " 14  Driver Fatigue               132000 non-null  int64  \n",
      " 15  Vehicle Condition            132000 non-null  object \n",
      " 16  Pedestrians Involved         132000 non-null  int64  \n",
      " 17  Cyclists Involved            132000 non-null  int64  \n",
      " 18  Accident Severity            132000 non-null  object \n",
      " 19  Number of Injuries           132000 non-null  int64  \n",
      " 20  Number of Fatalities         132000 non-null  int64  \n",
      " 21  Emergency Response Time      132000 non-null  float64\n",
      " 22  Traffic Volume               132000 non-null  float64\n",
      " 23  Road Condition               132000 non-null  object \n",
      " 24  Accident Cause               132000 non-null  object \n",
      " 25  Insurance Claims             132000 non-null  int64  \n",
      " 26  Medical Cost                 132000 non-null  float64\n",
      " 27  Economic Loss                132000 non-null  float64\n",
      " 28  Region                       132000 non-null  object \n",
      " 29  Population Density           132000 non-null  float64\n",
      "dtypes: float64(7), int64(9), object(14)\n",
      "memory usage: 30.2+ MB\n"
     ]
    }
   ],
   "source": [
    "accidents.info()"
   ]
  },
  {
   "cell_type": "code",
   "execution_count": 47,
   "metadata": {},
   "outputs": [
    {
     "name": "stdout",
     "output_type": "stream",
     "text": [
      "The dataset has 132000 rows and 30 columns.\n"
     ]
    }
   ],
   "source": [
    "print(f\"The dataset has {accidents.shape[0]} rows and {accidents.shape[1]} columns.\")"
   ]
  },
  {
   "cell_type": "code",
   "execution_count": 48,
   "metadata": {},
   "outputs": [
    {
     "data": {
      "application/vnd.vegalite.v5+json": {
       "$schema": "https://vega.github.io/schema/vega-lite/v5.20.1.json",
       "config": {
        "view": {
         "continuousHeight": 300,
         "continuousWidth": 300
        }
       },
       "data": {
        "format": {
         "type": "json"
        },
        "url": "altairdata/altair-data-eac2fb1c15a11f5ad2cb4ddb56e15a80.json"
       },
       "hconcat": [
        {
         "encoding": {
          "tooltip": [
           {
            "aggregate": "count",
            "type": "quantitative"
           }
          ],
          "x": {
           "bin": {
            "maxbins": 20
           },
           "field": "Emergency Response Time",
           "title": "Emergency Response Time (minutes)",
           "type": "quantitative"
          },
          "y": {
           "aggregate": "count",
           "title": "Frequency",
           "type": "quantitative"
          }
         },
         "mark": {
          "type": "bar"
         },
         "title": "Distribution of Emergency Response Time"
        },
        {
         "encoding": {
          "tooltip": [
           {
            "aggregate": "count",
            "type": "quantitative"
           }
          ],
          "x": {
           "bin": {
            "maxbins": 20
           },
           "field": "Emergency Response Time",
           "title": "Emergency Response Time (minutes)",
           "type": "quantitative"
          },
          "y": {
           "aggregate": "count",
           "scale": {
            "zero": false
           },
           "title": "Frequency",
           "type": "quantitative"
          }
         },
         "mark": {
          "type": "bar"
         },
         "title": "Distribution of Emergency Response Time (Zoomed)"
        }
       ]
      },
      "text/plain": [
       "<VegaLite 5 object>\n",
       "\n",
       "If you see this message, it means the renderer has not been properly enabled\n",
       "for the frontend that you are using. For more information, see\n",
       "https://altair-viz.github.io/user_guide/display_frontends.html#troubleshooting\n"
      ]
     },
     "execution_count": 48,
     "metadata": {},
     "output_type": "execute_result"
    }
   ],
   "source": [
    "histogram = alt.Chart(accidents).mark_bar().encode(\n",
    "    alt.X('Emergency Response Time:Q', bin=alt.BinParams(maxbins=20), title='Emergency Response Time (minutes)'),\n",
    "    alt.Y('count()', title='Frequency'),\n",
    "    tooltip=['count()']\n",
    ").properties(\n",
    "    title='Distribution of Emergency Response Time',\n",
    "    #width=600,\n",
    "    #height=400\n",
    ")\n",
    "\n",
    "histogram_zoomed = alt.Chart(accidents).mark_bar().encode(\n",
    "    alt.X('Emergency Response Time:Q', bin=alt.BinParams(maxbins=20), title='Emergency Response Time (minutes)'),\n",
    "    alt.Y('count()', title='Frequency', scale=alt.Scale(zero=False)),\n",
    "    tooltip=['count()']\n",
    ").properties(\n",
    "    title='Distribution of Emergency Response Time (Zoomed)',\n",
    "    #width=600,\n",
    "    #height=400\n",
    ")\n",
    "\n",
    "histogram | histogram_zoomed"
   ]
  },
  {
   "cell_type": "code",
   "execution_count": 49,
   "metadata": {},
   "outputs": [
    {
     "data": {
      "application/vnd.vegalite.v5+json": {
       "$schema": "https://vega.github.io/schema/vega-lite/v5.20.1.json",
       "config": {
        "view": {
         "continuousHeight": 300,
         "continuousWidth": 300
        }
       },
       "data": {
        "format": {
         "type": "json"
        },
        "url": "altairdata/altair-data-eac2fb1c15a11f5ad2cb4ddb56e15a80.json"
       },
       "hconcat": [
        {
         "encoding": {
          "tooltip": [
           {
            "aggregate": "average",
            "field": "Emergency Response Time",
            "type": "quantitative"
           }
          ],
          "x": {
           "aggregate": "average",
           "field": "Emergency Response Time",
           "type": "quantitative"
          },
          "y": {
           "field": "Weather Conditions",
           "sort": "x",
           "type": "nominal"
          }
         },
         "mark": {
          "type": "bar"
         },
         "title": "Emergency Response Time vs. Weather Conditions"
        },
        {
         "encoding": {
          "tooltip": [
           {
            "aggregate": "average",
            "field": "Emergency Response Time",
            "type": "quantitative"
           }
          ],
          "x": {
           "aggregate": "average",
           "field": "Emergency Response Time",
           "scale": {
            "zero": false
           },
           "type": "quantitative"
          },
          "y": {
           "field": "Weather Conditions",
           "sort": "x",
           "type": "nominal"
          }
         },
         "mark": {
          "type": "bar"
         },
         "title": "Emergency Response Time vs. Weather Conditions (Zoomed)"
        }
       ]
      },
      "text/plain": [
       "<VegaLite 5 object>\n",
       "\n",
       "If you see this message, it means the renderer has not been properly enabled\n",
       "for the frontend that you are using. For more information, see\n",
       "https://altair-viz.github.io/user_guide/display_frontends.html#troubleshooting\n"
      ]
     },
     "execution_count": 49,
     "metadata": {},
     "output_type": "execute_result"
    }
   ],
   "source": [
    "weather_bar_plot = alt.Chart(accidents).mark_bar().encode(\n",
    "    alt.X('average(Emergency Response Time):Q'),\n",
    "    alt.Y('Weather Conditions:N', sort='x'),\n",
    "    tooltip=['average(Emergency Response Time):Q']\n",
    ").properties(\n",
    "    title='Emergency Response Time vs. Weather Conditions',\n",
    "    #width=600,\n",
    "    #height=400\n",
    ")\n",
    "\n",
    "weather_bar_plot_zoomed = alt.Chart(accidents).mark_bar().encode(\n",
    "    alt.X('average(Emergency Response Time):Q', scale=alt.Scale(zero=False)),\n",
    "    alt.Y('Weather Conditions:N', sort='x'),\n",
    "    tooltip=['average(Emergency Response Time):Q']\n",
    ").properties(\n",
    "    title='Emergency Response Time vs. Weather Conditions (Zoomed)',\n",
    "    #width=600,\n",
    "    #height=400\n",
    ")\n",
    "\n",
    "weather_bar_plot | weather_bar_plot_zoomed"
   ]
  },
  {
   "cell_type": "code",
   "execution_count": 50,
   "metadata": {},
   "outputs": [
    {
     "data": {
      "application/vnd.vegalite.v5+json": {
       "$schema": "https://vega.github.io/schema/vega-lite/v5.20.1.json",
       "config": {
        "view": {
         "continuousHeight": 300,
         "continuousWidth": 300
        }
       },
       "data": {
        "format": {
         "type": "json"
        },
        "url": "altairdata/altair-data-eac2fb1c15a11f5ad2cb4ddb56e15a80.json"
       },
       "hconcat": [
        {
         "encoding": {
          "tooltip": [
           {
            "aggregate": "average",
            "field": "Emergency Response Time",
            "type": "quantitative"
           }
          ],
          "x": {
           "aggregate": "average",
           "field": "Emergency Response Time",
           "type": "quantitative"
          },
          "y": {
           "field": "Number of Fatalities",
           "sort": "x",
           "type": "nominal"
          }
         },
         "mark": {
          "type": "bar"
         },
         "title": "Emergency Response Time vs. Number of Fatalities"
        },
        {
         "encoding": {
          "tooltip": [
           {
            "aggregate": "average",
            "field": "Emergency Response Time",
            "type": "quantitative"
           }
          ],
          "x": {
           "aggregate": "average",
           "field": "Emergency Response Time",
           "scale": {
            "zero": false
           },
           "type": "quantitative"
          },
          "y": {
           "field": "Number of Fatalities",
           "sort": "x",
           "type": "nominal"
          }
         },
         "mark": {
          "type": "bar"
         },
         "title": "Emergency Response Time vs. Number of Fatalities"
        }
       ]
      },
      "text/plain": [
       "<VegaLite 5 object>\n",
       "\n",
       "If you see this message, it means the renderer has not been properly enabled\n",
       "for the frontend that you are using. For more information, see\n",
       "https://altair-viz.github.io/user_guide/display_frontends.html#troubleshooting\n"
      ]
     },
     "execution_count": 50,
     "metadata": {},
     "output_type": "execute_result"
    }
   ],
   "source": [
    "fatality_bar_plot = alt.Chart(accidents).mark_bar().encode(\n",
    "    alt.X('average(Emergency Response Time):Q'),\n",
    "    alt.Y('Number of Fatalities:N', sort = 'x'),\n",
    "    tooltip=['average(Emergency Response Time):Q']\n",
    ").properties(\n",
    "    title='Emergency Response Time vs. Number of Fatalities',\n",
    "    #width=600,\n",
    "    #height=400\n",
    ")\n",
    "\n",
    "fatality_bar_plot_zoomed = alt.Chart(accidents).mark_bar().encode(\n",
    "    alt.X('average(Emergency Response Time):Q', scale=alt.Scale(zero=False)),\n",
    "    alt.Y('Number of Fatalities:N', sort = 'x'),\n",
    "    tooltip=['average(Emergency Response Time):Q']\n",
    ").properties(\n",
    "    title='Emergency Response Time vs. Number of Fatalities',\n",
    "    #width=600,\n",
    "    #height=400\n",
    ")\n",
    "\n",
    "fatality_bar_plot | fatality_bar_plot_zoomed"
   ]
  },
  {
   "cell_type": "code",
   "execution_count": 51,
   "metadata": {},
   "outputs": [
    {
     "data": {
      "application/vnd.vegalite.v5+json": {
       "$schema": "https://vega.github.io/schema/vega-lite/v5.20.1.json",
       "config": {
        "view": {
         "continuousHeight": 300,
         "continuousWidth": 300
        }
       },
       "data": {
        "format": {
         "type": "json"
        },
        "url": "altairdata/altair-data-eac2fb1c15a11f5ad2cb4ddb56e15a80.json"
       },
       "hconcat": [
        {
         "encoding": {
          "tooltip": [
           {
            "aggregate": "average",
            "field": "Emergency Response Time",
            "type": "quantitative"
           }
          ],
          "x": {
           "aggregate": "average",
           "field": "Emergency Response Time",
           "type": "quantitative"
          },
          "y": {
           "field": "Urban/Rural",
           "sort": "x",
           "type": "nominal"
          }
         },
         "mark": {
          "type": "bar"
         },
         "title": "Emergency Response Time vs. Urban/Rural"
        },
        {
         "encoding": {
          "tooltip": [
           {
            "aggregate": "average",
            "field": "Emergency Response Time",
            "type": "quantitative"
           }
          ],
          "x": {
           "aggregate": "average",
           "field": "Emergency Response Time",
           "scale": {
            "zero": false
           },
           "type": "quantitative"
          },
          "y": {
           "field": "Urban/Rural",
           "sort": "x",
           "type": "nominal"
          }
         },
         "mark": {
          "type": "bar"
         },
         "title": "Emergency Response Time vs. Urban/Rural (Zoomed)"
        }
       ]
      },
      "text/plain": [
       "<VegaLite 5 object>\n",
       "\n",
       "If you see this message, it means the renderer has not been properly enabled\n",
       "for the frontend that you are using. For more information, see\n",
       "https://altair-viz.github.io/user_guide/display_frontends.html#troubleshooting\n"
      ]
     },
     "execution_count": 51,
     "metadata": {},
     "output_type": "execute_result"
    }
   ],
   "source": [
    "u_r_bar_plot = alt.Chart(accidents).mark_bar().encode(\n",
    "    alt.X('average(Emergency Response Time):Q'),\n",
    "    alt.Y('Urban/Rural:N', sort = 'x'),\n",
    "    tooltip = ['average(Emergency Response Time):Q']\n",
    ").properties(\n",
    "    title='Emergency Response Time vs. Urban/Rural',\n",
    "    #width=600,\n",
    "    #height=400\n",
    ")\n",
    "\n",
    "u_r_bar_plot_zoomed = alt.Chart(accidents).mark_bar().encode(\n",
    "    alt.X('average(Emergency Response Time):Q', scale=alt.Scale(zero=False)),\n",
    "    alt.Y('Urban/Rural:N', sort = 'x'),\n",
    "    tooltip = ['average(Emergency Response Time):Q']\n",
    ").properties(\n",
    "    title='Emergency Response Time vs. Urban/Rural (Zoomed)',\n",
    "    #width=600,\n",
    "    #height=400\n",
    ")\n",
    "\n",
    "u_r_bar_plot | u_r_bar_plot_zoomed"
   ]
  },
  {
   "cell_type": "markdown",
   "metadata": {},
   "source": [
    "## Task Analysis"
   ]
  },
  {
   "cell_type": "markdown",
   "metadata": {},
   "source": [
    "### **1. How does emergency response time correlate with the number of fatalities, and how do urban/rural settings and traffic volume influence this relationship?**\n",
    "- **Retrieve Value**: Extract `Emergency Response Time`, `Number of Fatalities`, `Urban/Rural`, and `Traffic Volume`.\n",
    "- **Filter**: Filter data by `Urban/Rural` and group `Traffic Volume` into low, medium, and high.\n",
    "- **Compute Derived Value**: Calculate correlation coefficients between response time and fatalities.\n",
    "- **Correlate**: Analyze the relationship between response time and fatalities, stratified by urban/rural and traffic volume.\n",
    "- **Characterize Distribution**: Visualize the distribution of response times and fatalities across urban/rural areas and traffic volume groups.\n",
    "- **Find Anomalies**: Identify outliers in response times or fatalities.\n",
    "\n",
    "---\n",
    "\n",
    "### **2. How do weather conditions and road type interact with emergency response times and accident severity?**\n",
    "- **Retrieve Value**: Extract `Emergency Response Time`, `Accident Severity`, `Weather Conditions`, and `Road Type`.\n",
    "- **Filter**: Filter data by `Weather Conditions` and `Road Type`.\n",
    "- **Compute Derived Value**: Calculate average response times and median accident severity for each weather-road combination.\n",
    "- **Correlate**: Analyze the relationship between weather, road type, response times, and accident severity.\n",
    "- **Characterize Distribution**: Visualize the distribution of response times and severity across weather and road types.\n",
    "- **Cluster**: Group similar weather-road combinations based on response times and severity.\n",
    "\n",
    "---\n",
    "\n",
    "### **3. How do population density and driver demographics (age group, gender) influence emergency response times and accident outcomes?**\n",
    "- **Retrieve Value**: Extract `Emergency Response Time`, `Accident Severity`, `Population Density`, `Driver Age Group`, and `Driver Gender`.\n",
    "- **Filter**: Filter data by `Population Density` (low, medium, high) and `Driver Age Group`.\n",
    "- **Compute Derived Value**: Calculate average response times and accident severity for each population density and age group.\n",
    "- **Correlate**: Analyze the relationship between population density, driver demographics, response times, and accident severity.\n",
    "- **Characterize Distribution**: Visualize the distribution of response times and severity across population density and driver demographics.\n",
    "- **Find Extremum**: Identify the age group or population density with the highest response times or severity.\n",
    "\n",
    "---\n",
    "\n",
    "### **4. What is the combined impact of traffic volume, road conditions, and time of day on emergency response times and accident severity?**\n",
    "- **Retrieve Value**: Extract `Emergency Response Time`, `Accident Severity`, `Traffic Volume`, `Road Condition`, and `Time of Day`.\n",
    "- **Filter**: Filter data by `Time of Day` and `Road Condition`.\n",
    "- **Compute Derived Value**: Calculate average response times and severity for each time-road combination.\n",
    "- **Correlate**: Analyze the relationship between traffic volume, road conditions, time of day, response times, and severity.\n",
    "- **Characterize Distribution**: Visualize the distribution of response times and severity across traffic volume, road conditions, and time of day.\n",
    "- **Cluster**: Group similar time-road-traffic combinations based on response times and severity.\n",
    "\n",
    "---\n",
    "\n",
    "### **Summary of Low-Level Tasks**\n",
    "| **Research Question**                                                                 | **Low-Level Tasks**                                                                 |\n",
    "|--------------------------------------------------------------------------------------|------------------------------------------------------------------------------------|\n",
    "| How does emergency response time correlate with fatalities, considering urban/rural and traffic volume? | Retrieve Value, Filter, Compute Derived Value, Correlate, Characterize Distribution, Find Anomalies |\n",
    "| How do weather conditions and road type interact with response times and accident severity? | Retrieve Value, Filter, Compute Derived Value, Correlate, Characterize Distribution, Cluster |\n",
    "| How do population density and driver demographics influence response times and accident outcomes? | Retrieve Value, Filter, Compute Derived Value, Correlate, Characterize Distribution, Find Extremum |\n",
    "| What is the combined impact of traffic volume, road conditions, and time of day on response times and severity? | Retrieve Value, Filter, Compute Derived Value, Correlate, Characterize Distribution, Cluster |"
   ]
  }
 ],
 "metadata": {
  "kernelspec": {
   "display_name": "cpsc330",
   "language": "python",
   "name": "python3"
  },
  "language_info": {
   "codemirror_mode": {
    "name": "ipython",
    "version": 3
   },
   "file_extension": ".py",
   "mimetype": "text/x-python",
   "name": "python",
   "nbconvert_exporter": "python",
   "pygments_lexer": "ipython3",
   "version": "3.12.0"
  },
  "orig_nbformat": 4
 },
 "nbformat": 4,
 "nbformat_minor": 2
}
