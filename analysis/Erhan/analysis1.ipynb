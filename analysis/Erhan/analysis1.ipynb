{
 "cells": [
  {
   "cell_type": "markdown",
   "metadata": {},
   "source": [
    "# Erhan Asad Javed"
   ]
  },
  {
   "cell_type": "markdown",
   "metadata": {},
   "source": [
    "## Pricing & Affordability Trends in NYC\n",
    "\n",
    "#### What factors determine the price of an Airbnb listing in NYC?\n",
    "\n",
    "\n",
    "#### Key research questions:\n",
    "- How do room type, service fee, and cancellation policy impact price?\n",
    "- What is the effect of neighbourhood group, latitude, and longitude on price variation?\n",
    "- Does construction year play a role in listing price?\n",
    "- How do reviews per month, review rate number, and number of reviews correlate with pricing?\n",
    "- What role does availability 365 and minimum nights play in pricing strategies?"
   ]
  },
  {
   "cell_type": "markdown",
   "metadata": {},
   "source": [
    "## EDA"
   ]
  },
  {
   "cell_type": "markdown",
   "metadata": {},
   "source": [
    "### Imports"
   ]
  },
  {
   "cell_type": "code",
   "execution_count": 1,
   "metadata": {},
   "outputs": [],
   "source": [
    "import os\n",
    "\n",
    "import altair as alt\n",
    "import pandas as pd\n",
    "from toolz.curried import pipe\n",
    "import numpy as np\n",
    "import sys\n",
    "\n",
    "# Create a new data transformer that stores the files in a directory\n",
    "def json_dir(data, data_dir='altairdata'):\n",
    "    os.makedirs(data_dir, exist_ok=True)\n",
    "    return pipe(data, alt.to_json(filename=data_dir + '/{prefix}-{hash}.{extension}') )\n",
    "\n",
    "# Register and enable the new transformer\n",
    "alt.data_transformers.register('json_dir', json_dir)\n",
    "alt.data_transformers.enable('json_dir')\n",
    "\n",
    "# Handle large data sets (default shows only 5000)\n",
    "# See here: https://altair-viz.github.io/user_guide/data_transformers.html\n",
    "alt.data_transformers.disable_max_rows()\n",
    "\n",
    "alt.renderers.enable('jupyterlab')\n",
    "\n",
    "sys.path.append(os.path.abspath(\"../../code\"))\n",
    "from cleaning_workflows import prepare_dataset"
   ]
  },
  {
   "cell_type": "markdown",
   "metadata": {},
   "source": [
    "### Loading in the data"
   ]
  },
  {
   "cell_type": "code",
   "execution_count": 2,
   "metadata": {},
   "outputs": [
    {
     "name": "stderr",
     "output_type": "stream",
     "text": [
      "/var/folders/xb/qx49vz8d0930c_62scc8m74w0000gn/T/ipykernel_7523/168074796.py:1: DtypeWarning: Columns (25) have mixed types. Specify dtype option on import or set low_memory=False.\n",
      "  data = pd.read_csv('../../data/raw/Airbnb_Open_Data.csv', parse_dates=['last review'])\n"
     ]
    },
    {
     "data": {
      "text/html": [
       "<div>\n",
       "<style scoped>\n",
       "    .dataframe tbody tr th:only-of-type {\n",
       "        vertical-align: middle;\n",
       "    }\n",
       "\n",
       "    .dataframe tbody tr th {\n",
       "        vertical-align: top;\n",
       "    }\n",
       "\n",
       "    .dataframe thead th {\n",
       "        text-align: right;\n",
       "    }\n",
       "</style>\n",
       "<table border=\"1\" class=\"dataframe\">\n",
       "  <thead>\n",
       "    <tr style=\"text-align: right;\">\n",
       "      <th></th>\n",
       "      <th>id</th>\n",
       "      <th>NAME</th>\n",
       "      <th>host id</th>\n",
       "      <th>host_identity_verified</th>\n",
       "      <th>host name</th>\n",
       "      <th>neighbourhood group</th>\n",
       "      <th>neighbourhood</th>\n",
       "      <th>lat</th>\n",
       "      <th>long</th>\n",
       "      <th>country</th>\n",
       "      <th>...</th>\n",
       "      <th>service fee</th>\n",
       "      <th>minimum nights</th>\n",
       "      <th>number of reviews</th>\n",
       "      <th>last review</th>\n",
       "      <th>reviews per month</th>\n",
       "      <th>review rate number</th>\n",
       "      <th>calculated host listings count</th>\n",
       "      <th>availability 365</th>\n",
       "      <th>house_rules</th>\n",
       "      <th>license</th>\n",
       "    </tr>\n",
       "  </thead>\n",
       "  <tbody>\n",
       "    <tr>\n",
       "      <th>0</th>\n",
       "      <td>1001254</td>\n",
       "      <td>Clean &amp; quiet apt home by the park</td>\n",
       "      <td>80014485718</td>\n",
       "      <td>unconfirmed</td>\n",
       "      <td>Madaline</td>\n",
       "      <td>Brooklyn</td>\n",
       "      <td>Kensington</td>\n",
       "      <td>40.64749</td>\n",
       "      <td>-73.97237</td>\n",
       "      <td>United States</td>\n",
       "      <td>...</td>\n",
       "      <td>$193</td>\n",
       "      <td>10.0</td>\n",
       "      <td>9.0</td>\n",
       "      <td>2021-10-19</td>\n",
       "      <td>0.21</td>\n",
       "      <td>4.0</td>\n",
       "      <td>6.0</td>\n",
       "      <td>286.0</td>\n",
       "      <td>Clean up and treat the home the way you'd like...</td>\n",
       "      <td>NaN</td>\n",
       "    </tr>\n",
       "    <tr>\n",
       "      <th>1</th>\n",
       "      <td>1002102</td>\n",
       "      <td>Skylit Midtown Castle</td>\n",
       "      <td>52335172823</td>\n",
       "      <td>verified</td>\n",
       "      <td>Jenna</td>\n",
       "      <td>Manhattan</td>\n",
       "      <td>Midtown</td>\n",
       "      <td>40.75362</td>\n",
       "      <td>-73.98377</td>\n",
       "      <td>United States</td>\n",
       "      <td>...</td>\n",
       "      <td>$28</td>\n",
       "      <td>30.0</td>\n",
       "      <td>45.0</td>\n",
       "      <td>2022-05-21</td>\n",
       "      <td>0.38</td>\n",
       "      <td>4.0</td>\n",
       "      <td>2.0</td>\n",
       "      <td>228.0</td>\n",
       "      <td>Pet friendly but please confirm with me if the...</td>\n",
       "      <td>NaN</td>\n",
       "    </tr>\n",
       "    <tr>\n",
       "      <th>2</th>\n",
       "      <td>1002403</td>\n",
       "      <td>THE VILLAGE OF HARLEM....NEW YORK !</td>\n",
       "      <td>78829239556</td>\n",
       "      <td>NaN</td>\n",
       "      <td>Elise</td>\n",
       "      <td>Manhattan</td>\n",
       "      <td>Harlem</td>\n",
       "      <td>40.80902</td>\n",
       "      <td>-73.94190</td>\n",
       "      <td>United States</td>\n",
       "      <td>...</td>\n",
       "      <td>$124</td>\n",
       "      <td>3.0</td>\n",
       "      <td>0.0</td>\n",
       "      <td>NaT</td>\n",
       "      <td>NaN</td>\n",
       "      <td>5.0</td>\n",
       "      <td>1.0</td>\n",
       "      <td>352.0</td>\n",
       "      <td>I encourage you to use my kitchen, cooking and...</td>\n",
       "      <td>NaN</td>\n",
       "    </tr>\n",
       "    <tr>\n",
       "      <th>3</th>\n",
       "      <td>1002755</td>\n",
       "      <td>NaN</td>\n",
       "      <td>85098326012</td>\n",
       "      <td>unconfirmed</td>\n",
       "      <td>Garry</td>\n",
       "      <td>Brooklyn</td>\n",
       "      <td>Clinton Hill</td>\n",
       "      <td>40.68514</td>\n",
       "      <td>-73.95976</td>\n",
       "      <td>United States</td>\n",
       "      <td>...</td>\n",
       "      <td>$74</td>\n",
       "      <td>30.0</td>\n",
       "      <td>270.0</td>\n",
       "      <td>2019-07-05</td>\n",
       "      <td>4.64</td>\n",
       "      <td>4.0</td>\n",
       "      <td>1.0</td>\n",
       "      <td>322.0</td>\n",
       "      <td>NaN</td>\n",
       "      <td>NaN</td>\n",
       "    </tr>\n",
       "    <tr>\n",
       "      <th>4</th>\n",
       "      <td>1003689</td>\n",
       "      <td>Entire Apt: Spacious Studio/Loft by central park</td>\n",
       "      <td>92037596077</td>\n",
       "      <td>verified</td>\n",
       "      <td>Lyndon</td>\n",
       "      <td>Manhattan</td>\n",
       "      <td>East Harlem</td>\n",
       "      <td>40.79851</td>\n",
       "      <td>-73.94399</td>\n",
       "      <td>United States</td>\n",
       "      <td>...</td>\n",
       "      <td>$41</td>\n",
       "      <td>10.0</td>\n",
       "      <td>9.0</td>\n",
       "      <td>2018-11-19</td>\n",
       "      <td>0.10</td>\n",
       "      <td>3.0</td>\n",
       "      <td>1.0</td>\n",
       "      <td>289.0</td>\n",
       "      <td>Please no smoking in the house, porch or on th...</td>\n",
       "      <td>NaN</td>\n",
       "    </tr>\n",
       "  </tbody>\n",
       "</table>\n",
       "<p>5 rows × 26 columns</p>\n",
       "</div>"
      ],
      "text/plain": [
       "        id                                              NAME      host id  \\\n",
       "0  1001254                Clean & quiet apt home by the park  80014485718   \n",
       "1  1002102                             Skylit Midtown Castle  52335172823   \n",
       "2  1002403               THE VILLAGE OF HARLEM....NEW YORK !  78829239556   \n",
       "3  1002755                                               NaN  85098326012   \n",
       "4  1003689  Entire Apt: Spacious Studio/Loft by central park  92037596077   \n",
       "\n",
       "  host_identity_verified host name neighbourhood group neighbourhood  \\\n",
       "0            unconfirmed  Madaline            Brooklyn    Kensington   \n",
       "1               verified     Jenna           Manhattan       Midtown   \n",
       "2                    NaN     Elise           Manhattan        Harlem   \n",
       "3            unconfirmed     Garry            Brooklyn  Clinton Hill   \n",
       "4               verified    Lyndon           Manhattan   East Harlem   \n",
       "\n",
       "        lat      long        country  ... service fee minimum nights  \\\n",
       "0  40.64749 -73.97237  United States  ...       $193            10.0   \n",
       "1  40.75362 -73.98377  United States  ...        $28            30.0   \n",
       "2  40.80902 -73.94190  United States  ...       $124             3.0   \n",
       "3  40.68514 -73.95976  United States  ...        $74            30.0   \n",
       "4  40.79851 -73.94399  United States  ...        $41            10.0   \n",
       "\n",
       "  number of reviews last review  reviews per month review rate number  \\\n",
       "0               9.0  2021-10-19               0.21                4.0   \n",
       "1              45.0  2022-05-21               0.38                4.0   \n",
       "2               0.0         NaT                NaN                5.0   \n",
       "3             270.0  2019-07-05               4.64                4.0   \n",
       "4               9.0  2018-11-19               0.10                3.0   \n",
       "\n",
       "  calculated host listings count  availability 365  \\\n",
       "0                            6.0             286.0   \n",
       "1                            2.0             228.0   \n",
       "2                            1.0             352.0   \n",
       "3                            1.0             322.0   \n",
       "4                            1.0             289.0   \n",
       "\n",
       "                                         house_rules license  \n",
       "0  Clean up and treat the home the way you'd like...     NaN  \n",
       "1  Pet friendly but please confirm with me if the...     NaN  \n",
       "2  I encourage you to use my kitchen, cooking and...     NaN  \n",
       "3                                                NaN     NaN  \n",
       "4  Please no smoking in the house, porch or on th...     NaN  \n",
       "\n",
       "[5 rows x 26 columns]"
      ]
     },
     "execution_count": 2,
     "metadata": {},
     "output_type": "execute_result"
    }
   ],
   "source": [
    "data = pd.read_csv('../../data/raw/Airbnb_Open_Data.csv', parse_dates=['last review'])\n",
    "data.head()"
   ]
  },
  {
   "cell_type": "code",
   "execution_count": 3,
   "metadata": {},
   "outputs": [
    {
     "name": "stderr",
     "output_type": "stream",
     "text": [
      "/opt/miniconda3/envs/cpsc330/lib/python3.12/site-packages/pandas/core/series.py:1031: RuntimeWarning: invalid value encountered in cast\n",
      "  arr = np.asarray(values, dtype=dtype)\n"
     ]
    },
    {
     "data": {
      "text/html": [
       "<div>\n",
       "<style scoped>\n",
       "    .dataframe tbody tr th:only-of-type {\n",
       "        vertical-align: middle;\n",
       "    }\n",
       "\n",
       "    .dataframe tbody tr th {\n",
       "        vertical-align: top;\n",
       "    }\n",
       "\n",
       "    .dataframe thead th {\n",
       "        text-align: right;\n",
       "    }\n",
       "</style>\n",
       "<table border=\"1\" class=\"dataframe\">\n",
       "  <thead>\n",
       "    <tr style=\"text-align: right;\">\n",
       "      <th></th>\n",
       "      <th>id</th>\n",
       "      <th>NAME</th>\n",
       "      <th>host id</th>\n",
       "      <th>host_identity_verified</th>\n",
       "      <th>host name</th>\n",
       "      <th>neighbourhood group</th>\n",
       "      <th>neighbourhood</th>\n",
       "      <th>lat</th>\n",
       "      <th>long</th>\n",
       "      <th>country</th>\n",
       "      <th>...</th>\n",
       "      <th>service fee</th>\n",
       "      <th>minimum nights</th>\n",
       "      <th>number of reviews</th>\n",
       "      <th>last review</th>\n",
       "      <th>reviews per month</th>\n",
       "      <th>review rate number</th>\n",
       "      <th>calculated host listings count</th>\n",
       "      <th>availability 365</th>\n",
       "      <th>house_rules</th>\n",
       "      <th>license</th>\n",
       "    </tr>\n",
       "  </thead>\n",
       "  <tbody>\n",
       "    <tr>\n",
       "      <th>0</th>\n",
       "      <td>1001254</td>\n",
       "      <td>Clean &amp; quiet apt home by the park</td>\n",
       "      <td>80014485718</td>\n",
       "      <td>unconfirmed</td>\n",
       "      <td>Madaline</td>\n",
       "      <td>Brooklyn</td>\n",
       "      <td>Kensington</td>\n",
       "      <td>40.64749</td>\n",
       "      <td>-73.97237</td>\n",
       "      <td>United States</td>\n",
       "      <td>...</td>\n",
       "      <td>193.0</td>\n",
       "      <td>10</td>\n",
       "      <td>9</td>\n",
       "      <td>2021-10-19</td>\n",
       "      <td>0.21</td>\n",
       "      <td>4</td>\n",
       "      <td>6.0</td>\n",
       "      <td>286.0</td>\n",
       "      <td>Clean up and treat the home the way you'd like...</td>\n",
       "      <td>Unknown</td>\n",
       "    </tr>\n",
       "    <tr>\n",
       "      <th>1</th>\n",
       "      <td>1002102</td>\n",
       "      <td>Skylit Midtown Castle</td>\n",
       "      <td>52335172823</td>\n",
       "      <td>verified</td>\n",
       "      <td>Jenna</td>\n",
       "      <td>Manhattan</td>\n",
       "      <td>Midtown</td>\n",
       "      <td>40.75362</td>\n",
       "      <td>-73.98377</td>\n",
       "      <td>United States</td>\n",
       "      <td>...</td>\n",
       "      <td>28.0</td>\n",
       "      <td>30</td>\n",
       "      <td>45</td>\n",
       "      <td>2022-05-21</td>\n",
       "      <td>0.38</td>\n",
       "      <td>4</td>\n",
       "      <td>2.0</td>\n",
       "      <td>228.0</td>\n",
       "      <td>Pet friendly but please confirm with me if the...</td>\n",
       "      <td>Unknown</td>\n",
       "    </tr>\n",
       "    <tr>\n",
       "      <th>2</th>\n",
       "      <td>1002403</td>\n",
       "      <td>THE VILLAGE OF HARLEM....NEW YORK !</td>\n",
       "      <td>78829239556</td>\n",
       "      <td>Unknown</td>\n",
       "      <td>Elise</td>\n",
       "      <td>Manhattan</td>\n",
       "      <td>Harlem</td>\n",
       "      <td>40.80902</td>\n",
       "      <td>-73.94190</td>\n",
       "      <td>United States</td>\n",
       "      <td>...</td>\n",
       "      <td>124.0</td>\n",
       "      <td>3</td>\n",
       "      <td>0</td>\n",
       "      <td>2099-01-01</td>\n",
       "      <td>-1.00</td>\n",
       "      <td>5</td>\n",
       "      <td>1.0</td>\n",
       "      <td>352.0</td>\n",
       "      <td>I encourage you to use my kitchen, cooking and...</td>\n",
       "      <td>Unknown</td>\n",
       "    </tr>\n",
       "    <tr>\n",
       "      <th>3</th>\n",
       "      <td>1002755</td>\n",
       "      <td>Unknown</td>\n",
       "      <td>85098326012</td>\n",
       "      <td>unconfirmed</td>\n",
       "      <td>Garry</td>\n",
       "      <td>Brooklyn</td>\n",
       "      <td>Clinton Hill</td>\n",
       "      <td>40.68514</td>\n",
       "      <td>-73.95976</td>\n",
       "      <td>United States</td>\n",
       "      <td>...</td>\n",
       "      <td>74.0</td>\n",
       "      <td>30</td>\n",
       "      <td>270</td>\n",
       "      <td>2019-07-05</td>\n",
       "      <td>4.64</td>\n",
       "      <td>4</td>\n",
       "      <td>1.0</td>\n",
       "      <td>322.0</td>\n",
       "      <td>Unknown</td>\n",
       "      <td>Unknown</td>\n",
       "    </tr>\n",
       "    <tr>\n",
       "      <th>4</th>\n",
       "      <td>1003689</td>\n",
       "      <td>Entire Apt: Spacious Studio/Loft by central park</td>\n",
       "      <td>92037596077</td>\n",
       "      <td>verified</td>\n",
       "      <td>Lyndon</td>\n",
       "      <td>Manhattan</td>\n",
       "      <td>East Harlem</td>\n",
       "      <td>40.79851</td>\n",
       "      <td>-73.94399</td>\n",
       "      <td>United States</td>\n",
       "      <td>...</td>\n",
       "      <td>41.0</td>\n",
       "      <td>10</td>\n",
       "      <td>9</td>\n",
       "      <td>2018-11-19</td>\n",
       "      <td>0.10</td>\n",
       "      <td>3</td>\n",
       "      <td>1.0</td>\n",
       "      <td>289.0</td>\n",
       "      <td>Please no smoking in the house, porch or on th...</td>\n",
       "      <td>Unknown</td>\n",
       "    </tr>\n",
       "  </tbody>\n",
       "</table>\n",
       "<p>5 rows × 26 columns</p>\n",
       "</div>"
      ],
      "text/plain": [
       "        id                                              NAME      host id  \\\n",
       "0  1001254                Clean & quiet apt home by the park  80014485718   \n",
       "1  1002102                             Skylit Midtown Castle  52335172823   \n",
       "2  1002403               THE VILLAGE OF HARLEM....NEW YORK !  78829239556   \n",
       "3  1002755                                           Unknown  85098326012   \n",
       "4  1003689  Entire Apt: Spacious Studio/Loft by central park  92037596077   \n",
       "\n",
       "  host_identity_verified host name neighbourhood group neighbourhood  \\\n",
       "0            unconfirmed  Madaline            Brooklyn    Kensington   \n",
       "1               verified     Jenna           Manhattan       Midtown   \n",
       "2                Unknown     Elise           Manhattan        Harlem   \n",
       "3            unconfirmed     Garry            Brooklyn  Clinton Hill   \n",
       "4               verified    Lyndon           Manhattan   East Harlem   \n",
       "\n",
       "        lat      long        country  ... service fee minimum nights  \\\n",
       "0  40.64749 -73.97237  United States  ...       193.0             10   \n",
       "1  40.75362 -73.98377  United States  ...        28.0             30   \n",
       "2  40.80902 -73.94190  United States  ...       124.0              3   \n",
       "3  40.68514 -73.95976  United States  ...        74.0             30   \n",
       "4  40.79851 -73.94399  United States  ...        41.0             10   \n",
       "\n",
       "  number of reviews last review  reviews per month  review rate number  \\\n",
       "0                 9  2021-10-19               0.21                   4   \n",
       "1                45  2022-05-21               0.38                   4   \n",
       "2                 0  2099-01-01              -1.00                   5   \n",
       "3               270  2019-07-05               4.64                   4   \n",
       "4                 9  2018-11-19               0.10                   3   \n",
       "\n",
       "   calculated host listings count  availability 365  \\\n",
       "0                             6.0             286.0   \n",
       "1                             2.0             228.0   \n",
       "2                             1.0             352.0   \n",
       "3                             1.0             322.0   \n",
       "4                             1.0             289.0   \n",
       "\n",
       "                                         house_rules  license  \n",
       "0  Clean up and treat the home the way you'd like...  Unknown  \n",
       "1  Pet friendly but please confirm with me if the...  Unknown  \n",
       "2  I encourage you to use my kitchen, cooking and...  Unknown  \n",
       "3                                            Unknown  Unknown  \n",
       "4  Please no smoking in the house, porch or on th...  Unknown  \n",
       "\n",
       "[5 rows x 26 columns]"
      ]
     },
     "execution_count": 3,
     "metadata": {},
     "output_type": "execute_result"
    }
   ],
   "source": [
    "data = prepare_dataset(data)\n",
    "data.head()"
   ]
  },
  {
   "cell_type": "code",
   "execution_count": 4,
   "metadata": {},
   "outputs": [
    {
     "name": "stdout",
     "output_type": "stream",
     "text": [
      "Dataset shape: \n",
      "(102599, 26)\n",
      "Dataset columns: \n",
      "Index(['id', 'NAME', 'host id', 'host_identity_verified', 'host name',\n",
      "       'neighbourhood group', 'neighbourhood', 'lat', 'long', 'country',\n",
      "       'country code', 'instant_bookable', 'cancellation_policy', 'room type',\n",
      "       'Construction year', 'price', 'service fee', 'minimum nights',\n",
      "       'number of reviews', 'last review', 'reviews per month',\n",
      "       'review rate number', 'calculated host listings count',\n",
      "       'availability 365', 'house_rules', 'license'],\n",
      "      dtype='object')\n",
      "<class 'pandas.core.frame.DataFrame'>\n",
      "RangeIndex: 102599 entries, 0 to 102598\n",
      "Data columns (total 26 columns):\n",
      " #   Column                          Non-Null Count   Dtype         \n",
      "---  ------                          --------------   -----         \n",
      " 0   id                              102599 non-null  int64         \n",
      " 1   NAME                            102599 non-null  object        \n",
      " 2   host id                         102599 non-null  int64         \n",
      " 3   host_identity_verified          102599 non-null  object        \n",
      " 4   host name                       102599 non-null  object        \n",
      " 5   neighbourhood group             102599 non-null  object        \n",
      " 6   neighbourhood                   102599 non-null  object        \n",
      " 7   lat                             102599 non-null  float64       \n",
      " 8   long                            102599 non-null  float64       \n",
      " 9   country                         102599 non-null  object        \n",
      " 10  country code                    102599 non-null  object        \n",
      " 11  instant_bookable                102599 non-null  object        \n",
      " 12  cancellation_policy             102599 non-null  object        \n",
      " 13  room type                       102599 non-null  object        \n",
      " 14  Construction year               102599 non-null  float64       \n",
      " 15  price                           102599 non-null  float64       \n",
      " 16  service fee                     102599 non-null  float64       \n",
      " 17  minimum nights                  102599 non-null  int16         \n",
      " 18  number of reviews               102599 non-null  int16         \n",
      " 19  last review                     102599 non-null  datetime64[ns]\n",
      " 20  reviews per month               102599 non-null  float64       \n",
      " 21  review rate number              102599 non-null  int8          \n",
      " 22  calculated host listings count  102599 non-null  float64       \n",
      " 23  availability 365                102599 non-null  float64       \n",
      " 24  house_rules                     102599 non-null  object        \n",
      " 25  license                         102599 non-null  object        \n",
      "dtypes: datetime64[ns](1), float64(8), int16(2), int64(2), int8(1), object(12)\n",
      "memory usage: 18.5+ MB\n"
     ]
    }
   ],
   "source": [
    "print(f'Dataset shape: \\n{data.shape}')\n",
    "print(f'Dataset columns: \\n{data.columns}')\n",
    "data.info()"
   ]
  },
  {
   "cell_type": "code",
   "execution_count": 5,
   "metadata": {},
   "outputs": [
    {
     "data": {
      "text/html": [
       "<div>\n",
       "<style scoped>\n",
       "    .dataframe tbody tr th:only-of-type {\n",
       "        vertical-align: middle;\n",
       "    }\n",
       "\n",
       "    .dataframe tbody tr th {\n",
       "        vertical-align: top;\n",
       "    }\n",
       "\n",
       "    .dataframe thead th {\n",
       "        text-align: right;\n",
       "    }\n",
       "</style>\n",
       "<table border=\"1\" class=\"dataframe\">\n",
       "  <thead>\n",
       "    <tr style=\"text-align: right;\">\n",
       "      <th></th>\n",
       "      <th>lat</th>\n",
       "      <th>long</th>\n",
       "      <th>Construction year</th>\n",
       "      <th>price</th>\n",
       "      <th>service fee</th>\n",
       "      <th>minimum nights</th>\n",
       "      <th>number of reviews</th>\n",
       "      <th>last review</th>\n",
       "      <th>reviews per month</th>\n",
       "      <th>review rate number</th>\n",
       "      <th>calculated host listings count</th>\n",
       "      <th>availability 365</th>\n",
       "    </tr>\n",
       "  </thead>\n",
       "  <tbody>\n",
       "    <tr>\n",
       "      <th>count</th>\n",
       "      <td>102599.000000</td>\n",
       "      <td>102599.000000</td>\n",
       "      <td>102599.000000</td>\n",
       "      <td>102599.000000</td>\n",
       "      <td>102599.000000</td>\n",
       "      <td>102599.000000</td>\n",
       "      <td>102599.000000</td>\n",
       "      <td>102599</td>\n",
       "      <td>102599.000000</td>\n",
       "      <td>102599.000000</td>\n",
       "      <td>102599.000000</td>\n",
       "      <td>102599.000000</td>\n",
       "    </tr>\n",
       "    <tr>\n",
       "      <th>mean</th>\n",
       "      <td>40.724840</td>\n",
       "      <td>-73.943956</td>\n",
       "      <td>2008.287751</td>\n",
       "      <td>623.785778</td>\n",
       "      <td>124.691586</td>\n",
       "      <td>8.103412</td>\n",
       "      <td>27.434722</td>\n",
       "      <td>2031-10-08 07:57:06.805329920</td>\n",
       "      <td>1.006600</td>\n",
       "      <td>3.268687</td>\n",
       "      <td>7.908820</td>\n",
       "      <td>140.512627</td>\n",
       "    </tr>\n",
       "    <tr>\n",
       "      <th>min</th>\n",
       "      <td>-1.000000</td>\n",
       "      <td>-74.249840</td>\n",
       "      <td>-1.000000</td>\n",
       "      <td>-1.000000</td>\n",
       "      <td>-1.000000</td>\n",
       "      <td>-1223.000000</td>\n",
       "      <td>0.000000</td>\n",
       "      <td>2012-07-11 00:00:00</td>\n",
       "      <td>-1.000000</td>\n",
       "      <td>0.000000</td>\n",
       "      <td>-1.000000</td>\n",
       "      <td>-10.000000</td>\n",
       "    </tr>\n",
       "    <tr>\n",
       "      <th>25%</th>\n",
       "      <td>40.688730</td>\n",
       "      <td>-73.982580</td>\n",
       "      <td>2007.000000</td>\n",
       "      <td>337.000000</td>\n",
       "      <td>67.000000</td>\n",
       "      <td>1.000000</td>\n",
       "      <td>1.000000</td>\n",
       "      <td>2019-01-02 00:00:00</td>\n",
       "      <td>0.090000</td>\n",
       "      <td>2.000000</td>\n",
       "      <td>1.000000</td>\n",
       "      <td>2.000000</td>\n",
       "    </tr>\n",
       "    <tr>\n",
       "      <th>50%</th>\n",
       "      <td>40.722290</td>\n",
       "      <td>-73.954440</td>\n",
       "      <td>2012.000000</td>\n",
       "      <td>623.000000</td>\n",
       "      <td>124.000000</td>\n",
       "      <td>3.000000</td>\n",
       "      <td>7.000000</td>\n",
       "      <td>2019-06-23 00:00:00</td>\n",
       "      <td>0.480000</td>\n",
       "      <td>3.000000</td>\n",
       "      <td>1.000000</td>\n",
       "      <td>95.000000</td>\n",
       "    </tr>\n",
       "    <tr>\n",
       "      <th>75%</th>\n",
       "      <td>40.762760</td>\n",
       "      <td>-73.932350</td>\n",
       "      <td>2017.000000</td>\n",
       "      <td>912.000000</td>\n",
       "      <td>182.000000</td>\n",
       "      <td>5.000000</td>\n",
       "      <td>30.000000</td>\n",
       "      <td>2022-01-02 00:00:00</td>\n",
       "      <td>1.710000</td>\n",
       "      <td>4.000000</td>\n",
       "      <td>2.000000</td>\n",
       "      <td>268.000000</td>\n",
       "    </tr>\n",
       "    <tr>\n",
       "      <th>max</th>\n",
       "      <td>40.916970</td>\n",
       "      <td>-1.000000</td>\n",
       "      <td>2022.000000</td>\n",
       "      <td>1200.000000</td>\n",
       "      <td>240.000000</td>\n",
       "      <td>5645.000000</td>\n",
       "      <td>1024.000000</td>\n",
       "      <td>2099-01-01 00:00:00</td>\n",
       "      <td>90.000000</td>\n",
       "      <td>5.000000</td>\n",
       "      <td>332.000000</td>\n",
       "      <td>3677.000000</td>\n",
       "    </tr>\n",
       "    <tr>\n",
       "      <th>std</th>\n",
       "      <td>0.372667</td>\n",
       "      <td>0.646043</td>\n",
       "      <td>92.041761</td>\n",
       "      <td>332.690937</td>\n",
       "      <td>66.554848</td>\n",
       "      <td>30.497129</td>\n",
       "      <td>49.478373</td>\n",
       "      <td>NaN</td>\n",
       "      <td>1.820937</td>\n",
       "      <td>1.295823</td>\n",
       "      <td>32.172501</td>\n",
       "      <td>135.463570</td>\n",
       "    </tr>\n",
       "  </tbody>\n",
       "</table>\n",
       "</div>"
      ],
      "text/plain": [
       "                 lat           long  Construction year          price  \\\n",
       "count  102599.000000  102599.000000      102599.000000  102599.000000   \n",
       "mean       40.724840     -73.943956        2008.287751     623.785778   \n",
       "min        -1.000000     -74.249840          -1.000000      -1.000000   \n",
       "25%        40.688730     -73.982580        2007.000000     337.000000   \n",
       "50%        40.722290     -73.954440        2012.000000     623.000000   \n",
       "75%        40.762760     -73.932350        2017.000000     912.000000   \n",
       "max        40.916970      -1.000000        2022.000000    1200.000000   \n",
       "std         0.372667       0.646043          92.041761     332.690937   \n",
       "\n",
       "         service fee  minimum nights  number of reviews  \\\n",
       "count  102599.000000   102599.000000      102599.000000   \n",
       "mean      124.691586        8.103412          27.434722   \n",
       "min        -1.000000    -1223.000000           0.000000   \n",
       "25%        67.000000        1.000000           1.000000   \n",
       "50%       124.000000        3.000000           7.000000   \n",
       "75%       182.000000        5.000000          30.000000   \n",
       "max       240.000000     5645.000000        1024.000000   \n",
       "std        66.554848       30.497129          49.478373   \n",
       "\n",
       "                         last review  reviews per month  review rate number  \\\n",
       "count                         102599      102599.000000       102599.000000   \n",
       "mean   2031-10-08 07:57:06.805329920           1.006600            3.268687   \n",
       "min              2012-07-11 00:00:00          -1.000000            0.000000   \n",
       "25%              2019-01-02 00:00:00           0.090000            2.000000   \n",
       "50%              2019-06-23 00:00:00           0.480000            3.000000   \n",
       "75%              2022-01-02 00:00:00           1.710000            4.000000   \n",
       "max              2099-01-01 00:00:00          90.000000            5.000000   \n",
       "std                              NaN           1.820937            1.295823   \n",
       "\n",
       "       calculated host listings count  availability 365  \n",
       "count                   102599.000000     102599.000000  \n",
       "mean                         7.908820        140.512627  \n",
       "min                         -1.000000        -10.000000  \n",
       "25%                          1.000000          2.000000  \n",
       "50%                          1.000000         95.000000  \n",
       "75%                          2.000000        268.000000  \n",
       "max                        332.000000       3677.000000  \n",
       "std                         32.172501        135.463570  "
      ]
     },
     "execution_count": 5,
     "metadata": {},
     "output_type": "execute_result"
    }
   ],
   "source": [
    "data.describe().drop(columns=['id', 'host id'])"
   ]
  },
  {
   "cell_type": "code",
   "execution_count": 6,
   "metadata": {},
   "outputs": [
    {
     "data": {
      "text/html": [
       "<div>\n",
       "<style scoped>\n",
       "    .dataframe tbody tr th:only-of-type {\n",
       "        vertical-align: middle;\n",
       "    }\n",
       "\n",
       "    .dataframe tbody tr th {\n",
       "        vertical-align: top;\n",
       "    }\n",
       "\n",
       "    .dataframe thead th {\n",
       "        text-align: right;\n",
       "    }\n",
       "</style>\n",
       "<table border=\"1\" class=\"dataframe\">\n",
       "  <thead>\n",
       "    <tr style=\"text-align: right;\">\n",
       "      <th></th>\n",
       "      <th>neighbourhood group</th>\n",
       "      <th>neighbourhood</th>\n",
       "      <th>country</th>\n",
       "      <th>country code</th>\n",
       "      <th>instant_bookable</th>\n",
       "      <th>cancellation_policy</th>\n",
       "      <th>room type</th>\n",
       "      <th>house_rules</th>\n",
       "      <th>license</th>\n",
       "    </tr>\n",
       "  </thead>\n",
       "  <tbody>\n",
       "    <tr>\n",
       "      <th>count</th>\n",
       "      <td>102599</td>\n",
       "      <td>102599</td>\n",
       "      <td>102599</td>\n",
       "      <td>102599</td>\n",
       "      <td>102599</td>\n",
       "      <td>102599</td>\n",
       "      <td>102599</td>\n",
       "      <td>102599</td>\n",
       "      <td>102599</td>\n",
       "    </tr>\n",
       "    <tr>\n",
       "      <th>unique</th>\n",
       "      <td>6</td>\n",
       "      <td>225</td>\n",
       "      <td>2</td>\n",
       "      <td>2</td>\n",
       "      <td>3</td>\n",
       "      <td>4</td>\n",
       "      <td>4</td>\n",
       "      <td>1977</td>\n",
       "      <td>2</td>\n",
       "    </tr>\n",
       "    <tr>\n",
       "      <th>top</th>\n",
       "      <td>Manhattan</td>\n",
       "      <td>Bedford-Stuyvesant</td>\n",
       "      <td>United States</td>\n",
       "      <td>US</td>\n",
       "      <td>False</td>\n",
       "      <td>moderate</td>\n",
       "      <td>Entire home/apt</td>\n",
       "      <td>Unknown</td>\n",
       "      <td>Unknown</td>\n",
       "    </tr>\n",
       "    <tr>\n",
       "      <th>freq</th>\n",
       "      <td>43793</td>\n",
       "      <td>7937</td>\n",
       "      <td>102067</td>\n",
       "      <td>102468</td>\n",
       "      <td>51474</td>\n",
       "      <td>34343</td>\n",
       "      <td>53701</td>\n",
       "      <td>52131</td>\n",
       "      <td>102597</td>\n",
       "    </tr>\n",
       "  </tbody>\n",
       "</table>\n",
       "</div>"
      ],
      "text/plain": [
       "       neighbourhood group       neighbourhood        country country code  \\\n",
       "count               102599              102599         102599       102599   \n",
       "unique                   6                 225              2            2   \n",
       "top              Manhattan  Bedford-Stuyvesant  United States           US   \n",
       "freq                 43793                7937         102067       102468   \n",
       "\n",
       "       instant_bookable cancellation_policy        room type house_rules  \\\n",
       "count            102599              102599           102599      102599   \n",
       "unique                3                   4                4        1977   \n",
       "top               False            moderate  Entire home/apt     Unknown   \n",
       "freq              51474               34343            53701       52131   \n",
       "\n",
       "        license  \n",
       "count    102599  \n",
       "unique        2  \n",
       "top     Unknown  \n",
       "freq     102597  "
      ]
     },
     "execution_count": 6,
     "metadata": {},
     "output_type": "execute_result"
    }
   ],
   "source": [
    "data.describe(include=['object']).drop(columns=['NAME', 'host_identity_verified', 'host name'])"
   ]
  },
  {
   "cell_type": "markdown",
   "metadata": {},
   "source": [
    "### Preliminary analysis of attributes"
   ]
  },
  {
   "cell_type": "code",
   "execution_count": 7,
   "metadata": {},
   "outputs": [
    {
     "data": {
      "text/plain": [
       "NAME\n",
       "Unknown                                   250\n",
       "Home away from home                        33\n",
       "Hillside Hotel                             30\n",
       "Water View King Bed Hotel Room             30\n",
       "New york Multi-unit building               27\n",
       "                                         ... \n",
       "CBG CtyBGd HelpsHaiti rm#1:1-4              1\n",
       "CBG Helps Haiti Room#2.5                    1\n",
       "CBG Helps Haiti Rm #2                       1\n",
       "MAISON DES SIRENES1,bohemian apartment      1\n",
       "Sunny Bedroom Across Prospect Park          1\n",
       "Name: count, Length: 61282, dtype: int64"
      ]
     },
     "execution_count": 7,
     "metadata": {},
     "output_type": "execute_result"
    }
   ],
   "source": [
    "data[\"NAME\"].value_counts()"
   ]
  },
  {
   "cell_type": "code",
   "execution_count": 8,
   "metadata": {},
   "outputs": [
    {
     "data": {
      "text/plain": [
       "neighbourhood group\n",
       "Manhattan        43793\n",
       "Brooklyn         41843\n",
       "Queens           13267\n",
       "Bronx             2712\n",
       "Staten Island      955\n",
       "Unknown             29\n",
       "Name: count, dtype: int64"
      ]
     },
     "execution_count": 8,
     "metadata": {},
     "output_type": "execute_result"
    }
   ],
   "source": [
    "data[\"neighbourhood group\"].value_counts()"
   ]
  },
  {
   "cell_type": "code",
   "execution_count": 9,
   "metadata": {},
   "outputs": [
    {
     "data": {
      "text/plain": [
       "country\n",
       "United States    102067\n",
       "Unknown             532\n",
       "Name: count, dtype: int64"
      ]
     },
     "execution_count": 9,
     "metadata": {},
     "output_type": "execute_result"
    }
   ],
   "source": [
    "data[\"country\"].value_counts()"
   ]
  },
  {
   "cell_type": "code",
   "execution_count": 10,
   "metadata": {},
   "outputs": [
    {
     "data": {
      "text/plain": [
       "instant_bookable\n",
       "False      51474\n",
       "True       51020\n",
       "Unknown      105\n",
       "Name: count, dtype: int64"
      ]
     },
     "execution_count": 10,
     "metadata": {},
     "output_type": "execute_result"
    }
   ],
   "source": [
    "data[\"instant_bookable\"].value_counts()"
   ]
  },
  {
   "cell_type": "code",
   "execution_count": 11,
   "metadata": {},
   "outputs": [
    {
     "data": {
      "text/plain": [
       "cancellation_policy\n",
       "moderate    34343\n",
       "strict      34106\n",
       "flexible    34074\n",
       "Unknown        76\n",
       "Name: count, dtype: int64"
      ]
     },
     "execution_count": 11,
     "metadata": {},
     "output_type": "execute_result"
    }
   ],
   "source": [
    "data[\"cancellation_policy\"].value_counts()"
   ]
  },
  {
   "cell_type": "code",
   "execution_count": 12,
   "metadata": {},
   "outputs": [
    {
     "data": {
      "text/plain": [
       "room type\n",
       "Entire home/apt    53701\n",
       "Private room       46556\n",
       "Shared room         2226\n",
       "Hotel room           116\n",
       "Name: count, dtype: int64"
      ]
     },
     "execution_count": 12,
     "metadata": {},
     "output_type": "execute_result"
    }
   ],
   "source": [
    "data[\"room type\"].value_counts()"
   ]
  },
  {
   "cell_type": "markdown",
   "metadata": {},
   "source": [
    "### Some basic visualizations"
   ]
  },
  {
   "cell_type": "code",
   "execution_count": 13,
   "metadata": {},
   "outputs": [
    {
     "data": {
      "application/vnd.vegalite.v5+json": {
       "$schema": "https://vega.github.io/schema/vega-lite/v5.20.1.json",
       "config": {
        "view": {
         "continuousHeight": 300,
         "continuousWidth": 300
        }
       },
       "data": {
        "format": {
         "type": "json"
        },
        "url": "altairdata/altair-data-1fd9ae5f4a076112d67dbcd75c99c581.json"
       },
       "encoding": {
        "tooltip": [
         {
          "aggregate": "count",
          "type": "quantitative"
         }
        ],
        "x": {
         "bin": {
          "maxbins": 50
         },
         "field": "price",
         "title": "Price (USD)",
         "type": "quantitative"
        },
        "y": {
         "aggregate": "count",
         "title": "Number of Listings",
         "type": "quantitative"
        }
       },
       "height": 300,
       "mark": {
        "type": "bar"
       },
       "title": "Distribution of Airbnb Listing Prices",
       "width": 500
      },
      "text/plain": [
       "<VegaLite 5 object>\n",
       "\n",
       "If you see this message, it means the renderer has not been properly enabled\n",
       "for the frontend that you are using. For more information, see\n",
       "https://altair-viz.github.io/user_guide/display_frontends.html#troubleshooting\n"
      ]
     },
     "execution_count": 13,
     "metadata": {},
     "output_type": "execute_result"
    }
   ],
   "source": [
    "price_hist = alt.Chart(data).mark_bar().encode(\n",
    "    x=alt.X('price:Q', bin=alt.BinParams(maxbins=50), title='Price (USD)'),\n",
    "    y=alt.Y('count()', title='Number of Listings'),\n",
    "    tooltip=['count()']\n",
    ").properties(\n",
    "    title=\"Distribution of Airbnb Listing Prices\",\n",
    "    width=500,\n",
    "    height=300\n",
    ")\n",
    "\n",
    "price_hist"
   ]
  },
  {
   "cell_type": "code",
   "execution_count": 14,
   "metadata": {},
   "outputs": [
    {
     "data": {
      "application/vnd.vegalite.v5+json": {
       "$schema": "https://vega.github.io/schema/vega-lite/v5.20.1.json",
       "config": {
        "view": {
         "continuousHeight": 300,
         "continuousWidth": 300
        }
       },
       "data": {
        "format": {
         "type": "json"
        },
        "url": "altairdata/altair-data-1fd9ae5f4a076112d67dbcd75c99c581.json"
       },
       "encoding": {
        "tooltip": [
         {
          "aggregate": "mean",
          "field": "price",
          "type": "quantitative"
         },
         {
          "field": "neighbourhood group",
          "type": "nominal"
         }
        ],
        "x": {
         "field": "neighbourhood group",
         "sort": "-y",
         "title": "Neighbourhood Group",
         "type": "nominal"
        },
        "y": {
         "aggregate": "mean",
         "field": "price",
         "title": "Average Price (USD)",
         "type": "quantitative"
        }
       },
       "height": 300,
       "mark": {
        "type": "bar"
       },
       "title": "Average Airbnb Price by Neighbourhood Group",
       "width": 600
      },
      "text/plain": [
       "<VegaLite 5 object>\n",
       "\n",
       "If you see this message, it means the renderer has not been properly enabled\n",
       "for the frontend that you are using. For more information, see\n",
       "https://altair-viz.github.io/user_guide/display_frontends.html#troubleshooting\n"
      ]
     },
     "execution_count": 14,
     "metadata": {},
     "output_type": "execute_result"
    }
   ],
   "source": [
    "neighbourhood_group_price = alt.Chart(data).mark_bar().encode(\n",
    "    x=alt.X('neighbourhood group:N', sort='-y', title='Neighbourhood Group'),\n",
    "    y=alt.Y('mean(price):Q', title='Average Price (USD)'),\n",
    "    tooltip=['mean(price)', 'neighbourhood group:N']\n",
    ").properties(\n",
    "    title=\"Average Airbnb Price by Neighbourhood Group\",\n",
    "    width=600,\n",
    "    height=300\n",
    ")\n",
    "\n",
    "neighbourhood_group_price"
   ]
  },
  {
   "cell_type": "code",
   "execution_count": 15,
   "metadata": {},
   "outputs": [
    {
     "data": {
      "application/vnd.vegalite.v5+json": {
       "$schema": "https://vega.github.io/schema/vega-lite/v5.20.1.json",
       "config": {
        "view": {
         "continuousHeight": 300,
         "continuousWidth": 300
        }
       },
       "data": {
        "format": {
         "type": "json"
        },
        "url": "altairdata/altair-data-1fd9ae5f4a076112d67dbcd75c99c581.json"
       },
       "encoding": {
        "color": {
         "field": "neighbourhood group",
         "type": "nominal"
        },
        "tooltip": [
         {
          "field": "neighbourhood",
          "type": "nominal"
         },
         {
          "aggregate": "mean",
          "field": "price",
          "type": "quantitative"
         },
         {
          "field": "neighbourhood group",
          "type": "nominal"
         }
        ],
        "x": {
         "field": "neighbourhood",
         "sort": "-y",
         "title": "Neighbourhood",
         "type": "nominal"
        },
        "y": {
         "aggregate": "mean",
         "field": "price",
         "title": "Average Price (USD)",
         "type": "quantitative"
        }
       },
       "height": 300,
       "mark": {
        "type": "bar"
       },
       "title": "Average Airbnb Price by Neighbourhood",
       "width": 600
      },
      "text/plain": [
       "<VegaLite 5 object>\n",
       "\n",
       "If you see this message, it means the renderer has not been properly enabled\n",
       "for the frontend that you are using. For more information, see\n",
       "https://altair-viz.github.io/user_guide/display_frontends.html#troubleshooting\n"
      ]
     },
     "execution_count": 15,
     "metadata": {},
     "output_type": "execute_result"
    }
   ],
   "source": [
    "neighbourhood_price = alt.Chart(data).mark_bar().encode(\n",
    "    x=alt.X('neighbourhood:N', sort='-y', title='Neighbourhood'),\n",
    "    y=alt.Y('mean(price):Q', title='Average Price (USD)'),\n",
    "    color='neighbourhood group:N',\n",
    "    tooltip=['neighbourhood', 'mean(price)', 'neighbourhood group:N']\n",
    ").properties(\n",
    "    title=\"Average Airbnb Price by Neighbourhood\",\n",
    "    width=600,\n",
    "    height=300\n",
    ")\n",
    "\n",
    "neighbourhood_price"
   ]
  },
  {
   "cell_type": "code",
   "execution_count": 20,
   "metadata": {},
   "outputs": [
    {
     "data": {
      "application/vnd.vegalite.v5+json": {
       "$schema": "https://vega.github.io/schema/vega-lite/v5.20.1.json",
       "config": {
        "view": {
         "continuousHeight": 300,
         "continuousWidth": 300
        }
       },
       "data": {
        "format": {
         "type": "json"
        },
        "url": "altairdata/altair-data-1fd9ae5f4a076112d67dbcd75c99c581.json"
       },
       "hconcat": [
        {
         "vconcat": [
          {
           "encoding": {
            "color": {
             "field": "room type",
             "type": "nominal"
            },
            "x": {
             "field": "price",
             "title": "Price (USD)",
             "type": "quantitative"
            },
            "y": {
             "field": "room type",
             "title": "Room Type",
             "type": "nominal"
            }
           },
           "mark": {
            "type": "boxplot"
           },
           "title": "Price Distribution by Room Type"
          },
          {
           "encoding": {
            "color": {
             "field": "cancellation_policy",
             "type": "nominal"
            },
            "x": {
             "field": "price",
             "title": "Price (USD)",
             "type": "quantitative"
            },
            "y": {
             "field": "cancellation_policy",
             "title": "Cancellation Policy",
             "type": "nominal"
            }
           },
           "mark": {
            "type": "boxplot"
           },
           "title": "Price Distribution by Cancellation Policy"
          }
         ]
        },
        {
         "encoding": {
          "color": {
           "field": "cancellation_policy",
           "title": "Cancellation Policy",
           "type": "nominal"
          },
          "tooltip": [
           {
            "field": "service fee",
            "type": "quantitative"
           },
           {
            "field": "price",
            "type": "quantitative"
           },
           {
            "field": "cancellation_policy",
            "type": "nominal"
           }
          ],
          "x": {
           "field": "service fee",
           "title": "Service Fee (USD)",
           "type": "quantitative"
          },
          "y": {
           "field": "price",
           "title": "Price (USD)",
           "type": "quantitative"
          }
         },
         "mark": {
          "opacity": 0.5,
          "size": 60,
          "type": "circle"
         },
         "title": "Price vs. Service Fee by Cancellation Policy"
        }
       ]
      },
      "text/plain": [
       "<VegaLite 5 object>\n",
       "\n",
       "If you see this message, it means the renderer has not been properly enabled\n",
       "for the frontend that you are using. For more information, see\n",
       "https://altair-viz.github.io/user_guide/display_frontends.html#troubleshooting\n"
      ]
     },
     "execution_count": 20,
     "metadata": {},
     "output_type": "execute_result"
    }
   ],
   "source": [
    "# Question 1: How do room type, service fee, and cancellation policy impact price?\n",
    "\n",
    "# Boxplot for price distribution by room type\n",
    "room_price = alt.Chart(data).mark_boxplot().encode(\n",
    "    y=alt.Y('room type:N', title='Room Type'),\n",
    "    x=alt.X('price:Q', title='Price (USD)'),\n",
    "    color='room type:N'\n",
    ").properties(title=\"Price Distribution by Room Type\")\n",
    "\n",
    "# Scatter plot for price vs service fee, colored by cancellation policy\n",
    "service_fee_price = alt.Chart(data).mark_circle(size=60, opacity=0.5).encode(\n",
    "    x=alt.X('service fee:Q', title='Service Fee (USD)'),\n",
    "    y=alt.Y('price:Q', title='Price (USD)'),\n",
    "    color=alt.Color('cancellation_policy:N', title=\"Cancellation Policy\"),\n",
    "    tooltip=['service fee', 'price', 'cancellation_policy']\n",
    ").properties(title=\"Price vs. Service Fee by Cancellation Policy\")\n",
    "\n",
    "# Boxplot for price distribution by cancellation policy\n",
    "cancellation_price = alt.Chart(data).mark_boxplot().encode(\n",
    "    y=alt.Y('cancellation_policy:N', title='Cancellation Policy'),\n",
    "    x=alt.X('price:Q', title='Price (USD)'),\n",
    "    color='cancellation_policy:N'\n",
    ").properties(title=\"Price Distribution by Cancellation Policy\")\n",
    "\n",
    "\n",
    "room_price & cancellation_price | service_fee_price"
   ]
  },
  {
   "cell_type": "code",
   "execution_count": 17,
   "metadata": {},
   "outputs": [
    {
     "data": {
      "application/vnd.vegalite.v5+json": {
       "$schema": "https://vega.github.io/schema/vega-lite/v5.20.1.json",
       "config": {
        "view": {
         "continuousHeight": 300,
         "continuousWidth": 300
        }
       },
       "hconcat": [
        {
         "data": {
          "format": {
           "type": "json"
          },
          "url": "altairdata/altair-data-1fd9ae5f4a076112d67dbcd75c99c581.json"
         },
         "encoding": {
          "color": {
           "field": "neighbourhood group",
           "type": "nominal"
          },
          "x": {
           "field": "price",
           "title": "Price (USD)",
           "type": "quantitative"
          },
          "y": {
           "field": "neighbourhood group",
           "title": "Neighbourhood Group",
           "type": "nominal"
          }
         },
         "mark": {
          "type": "boxplot"
         },
         "title": "Price Distribution by Neighbourhood Group"
        },
        {
         "data": {
          "format": {
           "type": "json"
          },
          "url": "altairdata/altair-data-cd437bebe26ee5fca69d283e9b16fcc3.json"
         },
         "encoding": {
          "color": {
           "field": "price",
           "scale": {
            "scheme": "blues"
           },
           "type": "quantitative"
          },
          "tooltip": [
           {
            "field": "lat",
            "type": "quantitative"
           },
           {
            "field": "long",
            "type": "quantitative"
           },
           {
            "field": "price",
            "type": "quantitative"
           }
          ],
          "x": {
           "field": "long",
           "scale": {
            "zero": false
           },
           "title": "Longitude",
           "type": "quantitative"
          },
          "y": {
           "field": "lat",
           "scale": {
            "zero": false
           },
           "title": "Latitude",
           "type": "quantitative"
          }
         },
         "height": 400,
         "mark": {
          "opacity": 0.5,
          "size": 60,
          "type": "circle"
         },
         "title": "Geographical Distribution of Price",
         "width": 600
        }
       ]
      },
      "text/plain": [
       "<VegaLite 5 object>\n",
       "\n",
       "If you see this message, it means the renderer has not been properly enabled\n",
       "for the frontend that you are using. For more information, see\n",
       "https://altair-viz.github.io/user_guide/display_frontends.html#troubleshooting\n"
      ]
     },
     "execution_count": 17,
     "metadata": {},
     "output_type": "execute_result"
    }
   ],
   "source": [
    "# Question 2: Effect of neighbourhood group, latitude, and longitude on price variation\n",
    "\n",
    "# Boxplot for price distribution by neighbourhood group\n",
    "neighbourhood_price = alt.Chart(data).mark_boxplot().encode(\n",
    "    y=alt.Y('neighbourhood group:N', title='Neighbourhood Group'),\n",
    "    x=alt.X('price:Q', title='Price (USD)'),\n",
    "    color='neighbourhood group:N'\n",
    ").properties(title=\"Price Distribution by Neighbourhood Group\")\n",
    "\n",
    "# Scatter plot for geographical price distribution\n",
    "filtered_data = data[(data[\"lat\"] != -1) & (data[\"long\"] != -1)].copy()\n",
    "lat_long_price = alt.Chart(filtered_data).mark_circle(size=60, opacity=0.5).encode(\n",
    "    x=alt.X('long:Q', title='Longitude', scale=alt.Scale(zero=False)),\n",
    "    y=alt.Y('lat:Q', title='Latitude', scale=alt.Scale(zero=False)),\n",
    "    color=alt.Color('price:Q', scale=alt.Scale(scheme='blues')),\n",
    "    tooltip=['lat', 'long', 'price']\n",
    ").properties(\n",
    "    title=\"Geographical Distribution of Price\",\n",
    "    width=600,\n",
    "    height=400\n",
    ")\n",
    "\n",
    "neighbourhood_price | lat_long_price"
   ]
  },
  {
   "cell_type": "code",
   "execution_count": 18,
   "metadata": {},
   "outputs": [
    {
     "data": {
      "application/vnd.vegalite.v5+json": {
       "$schema": "https://vega.github.io/schema/vega-lite/v5.20.1.json",
       "config": {
        "view": {
         "continuousHeight": 300,
         "continuousWidth": 300
        }
       },
       "data": {
        "format": {
         "type": "json"
        },
        "url": "altairdata/altair-data-1fd9ae5f4a076112d67dbcd75c99c581.json"
       },
       "hconcat": [
        {
         "encoding": {
          "x": {
           "field": "Construction year",
           "title": "Construction Year",
           "type": "ordinal"
          },
          "y": {
           "aggregate": "mean",
           "field": "price",
           "scale": {
            "zero": false
           },
           "title": "Price (USD)",
           "type": "quantitative"
          }
         },
         "mark": {
          "type": "line"
         },
         "title": "Mean Price vs. Construction Year",
         "transform": [
          {
           "filter": "(datum['Construction year'] >= 1950)"
          }
         ]
        },
        {
         "encoding": {
          "color": {
           "field": "room type",
           "title": "Room Type",
           "type": "nominal"
          },
          "tooltip": [
           {
            "field": "Construction year",
            "type": "quantitative"
           },
           {
            "aggregate": "median",
            "field": "price",
            "type": "quantitative"
           },
           {
            "field": "room type",
            "type": "nominal"
           }
          ],
          "x": {
           "field": "Construction year",
           "title": "Construction Year",
           "type": "ordinal"
          },
          "y": {
           "aggregate": "median",
           "field": "price",
           "title": "Median Price (USD)",
           "type": "quantitative"
          }
         },
         "mark": {
          "type": "line"
         },
         "title": "Median Price Trends by Construction Year (1950+)",
         "transform": [
          {
           "filter": "(datum['Construction year'] >= 1950)"
          }
         ]
        }
       ]
      },
      "text/plain": [
       "<VegaLite 5 object>\n",
       "\n",
       "If you see this message, it means the renderer has not been properly enabled\n",
       "for the frontend that you are using. For more information, see\n",
       "https://altair-viz.github.io/user_guide/display_frontends.html#troubleshooting\n"
      ]
     },
     "execution_count": 18,
     "metadata": {},
     "output_type": "execute_result"
    }
   ],
   "source": [
    "# Question 3: Does construction year play a role in listing price?\n",
    "\n",
    "# Scatter plot for price vs construction year\n",
    "construction_price = alt.Chart(data).transform_filter(\n",
    "    alt.datum[\"Construction year\"] >= 1950  # Only keep years 1950 and later\n",
    ").mark_line().encode(\n",
    "    x=alt.X('Construction year:O', title='Construction Year'),\n",
    "    y=alt.Y('mean(price):Q', title='Price (USD)', scale=alt.Scale(zero=False)),\n",
    "    #tooltip=['Construction year', 'price'],\n",
    "    #color=alt.Color('room type:N', title='Room Type')\n",
    ").properties(title=\"Mean Price vs. Construction Year\")\n",
    "\n",
    "# Line chart showing median price trends over construction years\n",
    "\n",
    "# Filter out construction years before 1950\n",
    "construction_trend = alt.Chart(data).transform_filter(\n",
    "    alt.datum[\"Construction year\"] >= 1950  # Only keep years 1950 and later\n",
    ").mark_line().encode(\n",
    "    x=alt.X('Construction year:O', title='Construction Year'),\n",
    "    y=alt.Y('median(price):Q', title='Median Price (USD)'),\n",
    "    tooltip=['Construction year', 'median(price)', 'room type:N'],\n",
    "    color=alt.Color('room type:N', title='Room Type')\n",
    ").properties(title=\"Median Price Trends by Construction Year (1950+)\")\n",
    "\n",
    "construction_price | construction_trend"
   ]
  },
  {
   "cell_type": "code",
   "execution_count": 19,
   "metadata": {},
   "outputs": [
    {
     "data": {
      "application/vnd.vegalite.v5+json": {
       "$schema": "https://vega.github.io/schema/vega-lite/v5.20.1.json",
       "config": {
        "view": {
         "continuousHeight": 300,
         "continuousWidth": 300
        }
       },
       "data": {
        "format": {
         "type": "json"
        },
        "url": "altairdata/altair-data-1fd9ae5f4a076112d67dbcd75c99c581.json"
       },
       "hconcat": [
        {
         "encoding": {
          "color": {
           "field": "review rate number",
           "title": "Review Rate",
           "type": "quantitative"
          },
          "tooltip": [
           {
            "field": "number of reviews",
            "type": "quantitative"
           },
           {
            "field": "price",
            "type": "quantitative"
           },
           {
            "field": "review rate number",
            "type": "quantitative"
           }
          ],
          "x": {
           "field": "number of reviews",
           "title": "Number of Reviews",
           "type": "quantitative"
          },
          "y": {
           "field": "price",
           "title": "Price (USD)",
           "type": "quantitative"
          }
         },
         "mark": {
          "opacity": 0.5,
          "size": 50,
          "type": "circle"
         },
         "title": "Price vs. Number of Reviews and Rating"
        },
        {
         "encoding": {
          "color": {
           "field": "room type",
           "title": "Room Type",
           "type": "nominal"
          },
          "tooltip": [
           {
            "field": "review rate number",
            "type": "quantitative"
           },
           {
            "aggregate": "mean",
            "field": "price",
            "type": "quantitative"
           }
          ],
          "x": {
           "field": "review rate number",
           "title": "Review Rating (1-5)",
           "type": "ordinal"
          },
          "y": {
           "aggregate": "mean",
           "field": "price",
           "scale": {
            "zero": false
           },
           "title": "Average Price (USD)",
           "type": "quantitative"
          }
         },
         "mark": {
          "type": "line"
         },
         "title": "Average Price by Review Rating"
        }
       ]
      },
      "text/plain": [
       "<VegaLite 5 object>\n",
       "\n",
       "If you see this message, it means the renderer has not been properly enabled\n",
       "for the frontend that you are using. For more information, see\n",
       "https://altair-viz.github.io/user_guide/display_frontends.html#troubleshooting\n"
      ]
     },
     "execution_count": 19,
     "metadata": {},
     "output_type": "execute_result"
    }
   ],
   "source": [
    "# Question 4: Reviews per month, review rate number, and number of reviews correlation with price\n",
    "\n",
    "# Scatter plot for price vs number of reviews\n",
    "reviews_price = alt.Chart(data).mark_circle(size=50, opacity=0.5).encode(\n",
    "    x=alt.X('number of reviews:Q', title='Number of Reviews'),\n",
    "    y=alt.Y('price:Q', title='Price (USD)'),\n",
    "    color=alt.Color('review rate number:Q', title='Review Rate'),\n",
    "    tooltip=['number of reviews', 'price', 'review rate number']\n",
    ").properties(title=\"Price vs. Number of Reviews and Rating\")\n",
    "\n",
    "# Line chart for average price by review rate number\n",
    "review_rate_price = alt.Chart(data).mark_line().encode(\n",
    "    x=alt.X('review rate number:O', title='Review Rating (1-5)'),\n",
    "    y=alt.Y('mean(price):Q', title='Average Price (USD)', scale=alt.Scale(zero=False)),\n",
    "    color=alt.Color('room type:N', title='Room Type'),\n",
    "    tooltip=['review rate number', 'mean(price)']\n",
    ").properties(title=\"Average Price by Review Rating\")\n",
    "\n",
    "reviews_price | review_rate_price"
   ]
  }
 ],
 "metadata": {
  "kernelspec": {
   "display_name": "cpsc330",
   "language": "python",
   "name": "python3"
  },
  "language_info": {
   "codemirror_mode": {
    "name": "ipython",
    "version": 3
   },
   "file_extension": ".py",
   "mimetype": "text/x-python",
   "name": "python",
   "nbconvert_exporter": "python",
   "pygments_lexer": "ipython3",
   "version": "3.12.0"
  }
 },
 "nbformat": 4,
 "nbformat_minor": 4
}
