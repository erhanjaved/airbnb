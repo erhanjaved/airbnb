{
 "cells": [
  {
   "cell_type": "markdown",
   "metadata": {},
   "source": [
    "# Erhan Asad Javed"
   ]
  },
  {
   "cell_type": "markdown",
   "metadata": {},
   "source": [
    "## Pricing & Affordability Trends in NYC\n",
    "\n",
    "#### What factors determine the price of an Airbnb listing in NYC?\n",
    "\n",
    "\n",
    "#### Key research questions:\n",
    "- How does room type impact price variations?\n",
    "- What is the effect of location (neighborhood group, latitude, and longitude) on price differences?\n",
    "- Does the host's listing count or years of hosting (host_since) influence listing prices?\n",
    "- How do reviews per month, review scores, and the total number of reviews correlate with pricing?\n",
    "- What role does availability over 365 days and minimum nights play in pricing strategies?"
   ]
  },
  {
   "cell_type": "markdown",
   "metadata": {},
   "source": [
    "## EDA"
   ]
  },
  {
   "cell_type": "markdown",
   "metadata": {},
   "source": [
    "### Imports"
   ]
  },
  {
   "cell_type": "code",
   "execution_count": 1,
   "metadata": {},
   "outputs": [],
   "source": [
    "import os\n",
    "\n",
    "import altair as alt\n",
    "import pandas as pd\n",
    "from toolz.curried import pipe\n",
    "import numpy as np\n",
    "import sys\n",
    "\n",
    "# Create a new data transformer that stores the files in a directory\n",
    "def json_dir(data, data_dir='altairdata'):\n",
    "    os.makedirs(data_dir, exist_ok=True)\n",
    "    return pipe(data, alt.to_json(filename=data_dir + '/{prefix}-{hash}.{extension}') )\n",
    "\n",
    "# Register and enable the new transformer\n",
    "alt.data_transformers.register('json_dir', json_dir)\n",
    "alt.data_transformers.enable('json_dir')\n",
    "\n",
    "# Handle large data sets (default shows only 5000)\n",
    "# See here: https://altair-viz.github.io/user_guide/data_transformers.html\n",
    "alt.data_transformers.disable_max_rows()\n",
    "\n",
    "alt.renderers.enable('jupyterlab')\n",
    "\n",
    "sys.path.append(os.path.abspath(\"../../code\"))\n",
    "from cleaning_workflows import prepare_dataset"
   ]
  },
  {
   "cell_type": "markdown",
   "metadata": {},
   "source": [
    "### Loading in the data"
   ]
  },
  {
   "cell_type": "code",
   "execution_count": 2,
   "metadata": {},
   "outputs": [
    {
     "data": {
      "text/html": [
       "<div>\n",
       "<style scoped>\n",
       "    .dataframe tbody tr th:only-of-type {\n",
       "        vertical-align: middle;\n",
       "    }\n",
       "\n",
       "    .dataframe tbody tr th {\n",
       "        vertical-align: top;\n",
       "    }\n",
       "\n",
       "    .dataframe thead th {\n",
       "        text-align: right;\n",
       "    }\n",
       "</style>\n",
       "<table border=\"1\" class=\"dataframe\">\n",
       "  <thead>\n",
       "    <tr style=\"text-align: right;\">\n",
       "      <th></th>\n",
       "      <th>id</th>\n",
       "      <th>listing_url</th>\n",
       "      <th>scrape_id</th>\n",
       "      <th>last_scraped</th>\n",
       "      <th>source</th>\n",
       "      <th>name</th>\n",
       "      <th>description</th>\n",
       "      <th>neighborhood_overview</th>\n",
       "      <th>picture_url</th>\n",
       "      <th>host_id</th>\n",
       "      <th>...</th>\n",
       "      <th>review_scores_communication</th>\n",
       "      <th>review_scores_location</th>\n",
       "      <th>review_scores_value</th>\n",
       "      <th>license</th>\n",
       "      <th>instant_bookable</th>\n",
       "      <th>calculated_host_listings_count</th>\n",
       "      <th>calculated_host_listings_count_entire_homes</th>\n",
       "      <th>calculated_host_listings_count_private_rooms</th>\n",
       "      <th>calculated_host_listings_count_shared_rooms</th>\n",
       "      <th>reviews_per_month</th>\n",
       "    </tr>\n",
       "  </thead>\n",
       "  <tbody>\n",
       "    <tr>\n",
       "      <th>0</th>\n",
       "      <td>39572</td>\n",
       "      <td>https://www.airbnb.com/rooms/39572</td>\n",
       "      <td>20250103033441</td>\n",
       "      <td>2025-01-03</td>\n",
       "      <td>city scrape</td>\n",
       "      <td>1 br in a 2 br apt (Midtown West)</td>\n",
       "      <td>NaN</td>\n",
       "      <td>NaN</td>\n",
       "      <td>https://a0.muscache.com/pictures/fd1bffd9-ccf8...</td>\n",
       "      <td>169927</td>\n",
       "      <td>...</td>\n",
       "      <td>5.00</td>\n",
       "      <td>4.98</td>\n",
       "      <td>4.86</td>\n",
       "      <td>NaN</td>\n",
       "      <td>f</td>\n",
       "      <td>2</td>\n",
       "      <td>1</td>\n",
       "      <td>1</td>\n",
       "      <td>0</td>\n",
       "      <td>0.25</td>\n",
       "    </tr>\n",
       "    <tr>\n",
       "      <th>1</th>\n",
       "      <td>39593</td>\n",
       "      <td>https://www.airbnb.com/rooms/39593</td>\n",
       "      <td>20250103033441</td>\n",
       "      <td>2025-01-03</td>\n",
       "      <td>city scrape</td>\n",
       "      <td>A lovely room w/ a Manhattan view</td>\n",
       "      <td>A private, furnished  large room to rent Jan/F...</td>\n",
       "      <td>Nate Silver called this super safe, clean, qui...</td>\n",
       "      <td>https://a0.muscache.com/pictures/0b9110f7-3b24...</td>\n",
       "      <td>110506</td>\n",
       "      <td>...</td>\n",
       "      <td>4.96</td>\n",
       "      <td>4.79</td>\n",
       "      <td>4.93</td>\n",
       "      <td>NaN</td>\n",
       "      <td>f</td>\n",
       "      <td>1</td>\n",
       "      <td>0</td>\n",
       "      <td>1</td>\n",
       "      <td>0</td>\n",
       "      <td>0.20</td>\n",
       "    </tr>\n",
       "    <tr>\n",
       "      <th>2</th>\n",
       "      <td>39704</td>\n",
       "      <td>https://www.airbnb.com/rooms/39704</td>\n",
       "      <td>20250103033441</td>\n",
       "      <td>2025-01-03</td>\n",
       "      <td>previous scrape</td>\n",
       "      <td>Private, Large &amp; Sunny 1BR w/W&amp;D</td>\n",
       "      <td>It's a No Brainer:&lt;br /&gt;•Terrific Space For Le...</td>\n",
       "      <td>The Neighborhood&lt;br /&gt;• Rich History &lt;br /&gt;• B...</td>\n",
       "      <td>https://a0.muscache.com/pictures/0bc4e8a4-c047...</td>\n",
       "      <td>170510</td>\n",
       "      <td>...</td>\n",
       "      <td>4.92</td>\n",
       "      <td>4.38</td>\n",
       "      <td>4.72</td>\n",
       "      <td>NaN</td>\n",
       "      <td>f</td>\n",
       "      <td>2</td>\n",
       "      <td>2</td>\n",
       "      <td>0</td>\n",
       "      <td>0</td>\n",
       "      <td>1.93</td>\n",
       "    </tr>\n",
       "    <tr>\n",
       "      <th>3</th>\n",
       "      <td>42300</td>\n",
       "      <td>https://www.airbnb.com/rooms/42300</td>\n",
       "      <td>20250103033441</td>\n",
       "      <td>2025-01-03</td>\n",
       "      <td>city scrape</td>\n",
       "      <td>Beautiful Lower East Side Loft</td>\n",
       "      <td>Architect-owned loft is a corner unit in a bea...</td>\n",
       "      <td>The apartment is in the border of Soho, LES an...</td>\n",
       "      <td>https://a0.muscache.com/pictures/0e285e13-ee14...</td>\n",
       "      <td>184755</td>\n",
       "      <td>...</td>\n",
       "      <td>4.87</td>\n",
       "      <td>4.57</td>\n",
       "      <td>4.62</td>\n",
       "      <td>NaN</td>\n",
       "      <td>f</td>\n",
       "      <td>1</td>\n",
       "      <td>1</td>\n",
       "      <td>0</td>\n",
       "      <td>0</td>\n",
       "      <td>0.40</td>\n",
       "    </tr>\n",
       "    <tr>\n",
       "      <th>4</th>\n",
       "      <td>42729</td>\n",
       "      <td>https://www.airbnb.com/rooms/42729</td>\n",
       "      <td>20250103033441</td>\n",
       "      <td>2025-01-03</td>\n",
       "      <td>city scrape</td>\n",
       "      <td>@HouseOnHenrySt - Private 2nd bedroom w/shared...</td>\n",
       "      <td>NaN</td>\n",
       "      <td>Lovely old Brooklyn neighborhood, with brick/b...</td>\n",
       "      <td>https://a0.muscache.com/pictures/925fe213-f5e1...</td>\n",
       "      <td>11481</td>\n",
       "      <td>...</td>\n",
       "      <td>4.73</td>\n",
       "      <td>4.58</td>\n",
       "      <td>4.64</td>\n",
       "      <td>NaN</td>\n",
       "      <td>f</td>\n",
       "      <td>4</td>\n",
       "      <td>1</td>\n",
       "      <td>3</td>\n",
       "      <td>0</td>\n",
       "      <td>1.26</td>\n",
       "    </tr>\n",
       "  </tbody>\n",
       "</table>\n",
       "<p>5 rows × 75 columns</p>\n",
       "</div>"
      ],
      "text/plain": [
       "      id                         listing_url       scrape_id last_scraped  \\\n",
       "0  39572  https://www.airbnb.com/rooms/39572  20250103033441   2025-01-03   \n",
       "1  39593  https://www.airbnb.com/rooms/39593  20250103033441   2025-01-03   \n",
       "2  39704  https://www.airbnb.com/rooms/39704  20250103033441   2025-01-03   \n",
       "3  42300  https://www.airbnb.com/rooms/42300  20250103033441   2025-01-03   \n",
       "4  42729  https://www.airbnb.com/rooms/42729  20250103033441   2025-01-03   \n",
       "\n",
       "            source                                               name  \\\n",
       "0      city scrape                  1 br in a 2 br apt (Midtown West)   \n",
       "1      city scrape                  A lovely room w/ a Manhattan view   \n",
       "2  previous scrape                   Private, Large & Sunny 1BR w/W&D   \n",
       "3      city scrape                     Beautiful Lower East Side Loft   \n",
       "4      city scrape  @HouseOnHenrySt - Private 2nd bedroom w/shared...   \n",
       "\n",
       "                                         description  \\\n",
       "0                                                NaN   \n",
       "1  A private, furnished  large room to rent Jan/F...   \n",
       "2  It's a No Brainer:<br />•Terrific Space For Le...   \n",
       "3  Architect-owned loft is a corner unit in a bea...   \n",
       "4                                                NaN   \n",
       "\n",
       "                               neighborhood_overview  \\\n",
       "0                                                NaN   \n",
       "1  Nate Silver called this super safe, clean, qui...   \n",
       "2  The Neighborhood<br />• Rich History <br />• B...   \n",
       "3  The apartment is in the border of Soho, LES an...   \n",
       "4  Lovely old Brooklyn neighborhood, with brick/b...   \n",
       "\n",
       "                                         picture_url  host_id  ...  \\\n",
       "0  https://a0.muscache.com/pictures/fd1bffd9-ccf8...   169927  ...   \n",
       "1  https://a0.muscache.com/pictures/0b9110f7-3b24...   110506  ...   \n",
       "2  https://a0.muscache.com/pictures/0bc4e8a4-c047...   170510  ...   \n",
       "3  https://a0.muscache.com/pictures/0e285e13-ee14...   184755  ...   \n",
       "4  https://a0.muscache.com/pictures/925fe213-f5e1...    11481  ...   \n",
       "\n",
       "  review_scores_communication review_scores_location review_scores_value  \\\n",
       "0                        5.00                   4.98                4.86   \n",
       "1                        4.96                   4.79                4.93   \n",
       "2                        4.92                   4.38                4.72   \n",
       "3                        4.87                   4.57                4.62   \n",
       "4                        4.73                   4.58                4.64   \n",
       "\n",
       "  license instant_bookable calculated_host_listings_count  \\\n",
       "0     NaN                f                              2   \n",
       "1     NaN                f                              1   \n",
       "2     NaN                f                              2   \n",
       "3     NaN                f                              1   \n",
       "4     NaN                f                              4   \n",
       "\n",
       "  calculated_host_listings_count_entire_homes  \\\n",
       "0                                           1   \n",
       "1                                           0   \n",
       "2                                           2   \n",
       "3                                           1   \n",
       "4                                           1   \n",
       "\n",
       "  calculated_host_listings_count_private_rooms  \\\n",
       "0                                            1   \n",
       "1                                            1   \n",
       "2                                            0   \n",
       "3                                            0   \n",
       "4                                            3   \n",
       "\n",
       "  calculated_host_listings_count_shared_rooms reviews_per_month  \n",
       "0                                           0              0.25  \n",
       "1                                           0              0.20  \n",
       "2                                           0              1.93  \n",
       "3                                           0              0.40  \n",
       "4                                           0              1.26  \n",
       "\n",
       "[5 rows x 75 columns]"
      ]
     },
     "execution_count": 2,
     "metadata": {},
     "output_type": "execute_result"
    }
   ],
   "source": [
    "df = pd.read_csv('../../data/raw/listings.csv', parse_dates=['first_review', 'last_review'])\n",
    "\n",
    "df.head()\n"
   ]
  },
  {
   "cell_type": "code",
   "execution_count": 3,
   "metadata": {},
   "outputs": [],
   "source": [
    "# Make a copy of the dataset\n",
    "df_cleaned = df.copy()\n",
    "\n",
    "# Drop columns with mostly missing values\n",
    "df_cleaned.drop(columns=[\"calendar_updated\", \"license\"], inplace=True, errors=\"ignore\")\n",
    "\n",
    "# Fill missing values for categorical variables\n",
    "categorical_fill_values = {\n",
    "    \"name\": \"Unknown\",\n",
    "    \"description\": \"No description available\",\n",
    "    \"neighborhood_overview\": \"No overview available\",\n",
    "    \"host_name\": \"Unknown\",\n",
    "    \"host_location\": \"Not provided\",\n",
    "    \"host_response_time\": \"No response time\",\n",
    "    \"host_is_superhost\": \"f\",\n",
    "    \"has_availability\": \"f\",\n",
    "    \"instant_bookable\": \"f\"\n",
    "}\n",
    "df_cleaned.fillna(value=categorical_fill_values, inplace=True)\n",
    "\n",
    "# Convert date columns\n",
    "date_cols = [\"host_since\", \"last_scraped\", \"first_review\", \"last_review\", \"calendar_last_scraped\"]\n",
    "for col in date_cols:\n",
    "    df_cleaned[col] = pd.to_datetime(df_cleaned[col], errors=\"coerce\")\n",
    "    df_cleaned[col] = df_cleaned[col].fillna(df_cleaned[col].mode()[0])\n",
    "\n",
    "# Convert percentage columns to numeric\n",
    "percentage_cols = [\"host_response_rate\", \"host_acceptance_rate\"]\n",
    "for col in percentage_cols:\n",
    "    df_cleaned[col] = df_cleaned[col].str.replace(\"%\", \"\", regex=True).astype(float) / 100\n",
    "    df_cleaned[col] = df_cleaned[col].fillna(df_cleaned[col].median())\n",
    "\n",
    "# Convert price column to numeric\n",
    "df_cleaned[\"price\"] = df_cleaned[\"price\"].str.replace(r\"[\\$,]\", \"\", regex=True).astype(float)\n",
    "df_cleaned[\"price\"] = df_cleaned[\"price\"].fillna(df_cleaned[\"price\"].median())\n",
    "\n",
    "# Fill missing numerical values with median\n",
    "numerical_cols = df_cleaned.select_dtypes(include=[\"number\"]).columns.tolist()\n",
    "for col in numerical_cols:\n",
    "    df_cleaned[col] = df_cleaned[col].fillna(df_cleaned[col].median())\n",
    "\n",
    "# Fill missing values in categorical columns with the most common value\n",
    "categorical_cols = df_cleaned.select_dtypes(include=['object']).columns\n",
    "df_cleaned[categorical_cols] = df_cleaned[categorical_cols].apply(lambda x: x.fillna(x.mode()[0]))\n",
    "\n",
    "# Strip leading/trailing spaces from string columns\n",
    "df_cleaned = df_cleaned.apply(lambda x: x.str.strip() if x.dtype == \"object\" else x)\n"
   ]
  },
  {
   "cell_type": "code",
   "execution_count": 4,
   "metadata": {},
   "outputs": [
    {
     "data": {
      "text/html": [
       "<div>\n",
       "<style scoped>\n",
       "    .dataframe tbody tr th:only-of-type {\n",
       "        vertical-align: middle;\n",
       "    }\n",
       "\n",
       "    .dataframe tbody tr th {\n",
       "        vertical-align: top;\n",
       "    }\n",
       "\n",
       "    .dataframe thead th {\n",
       "        text-align: right;\n",
       "    }\n",
       "</style>\n",
       "<table border=\"1\" class=\"dataframe\">\n",
       "  <thead>\n",
       "    <tr style=\"text-align: right;\">\n",
       "      <th></th>\n",
       "      <th>id</th>\n",
       "      <th>listing_url</th>\n",
       "      <th>scrape_id</th>\n",
       "      <th>last_scraped</th>\n",
       "      <th>source</th>\n",
       "      <th>name</th>\n",
       "      <th>description</th>\n",
       "      <th>neighborhood_overview</th>\n",
       "      <th>picture_url</th>\n",
       "      <th>host_id</th>\n",
       "      <th>...</th>\n",
       "      <th>review_scores_checkin</th>\n",
       "      <th>review_scores_communication</th>\n",
       "      <th>review_scores_location</th>\n",
       "      <th>review_scores_value</th>\n",
       "      <th>instant_bookable</th>\n",
       "      <th>calculated_host_listings_count</th>\n",
       "      <th>calculated_host_listings_count_entire_homes</th>\n",
       "      <th>calculated_host_listings_count_private_rooms</th>\n",
       "      <th>calculated_host_listings_count_shared_rooms</th>\n",
       "      <th>reviews_per_month</th>\n",
       "    </tr>\n",
       "  </thead>\n",
       "  <tbody>\n",
       "    <tr>\n",
       "      <th>0</th>\n",
       "      <td>39572</td>\n",
       "      <td>https://www.airbnb.com/rooms/39572</td>\n",
       "      <td>20250103033441</td>\n",
       "      <td>2025-01-03</td>\n",
       "      <td>city scrape</td>\n",
       "      <td>1 br in a 2 br apt (Midtown West)</td>\n",
       "      <td>No description available</td>\n",
       "      <td>No overview available</td>\n",
       "      <td>https://a0.muscache.com/pictures/fd1bffd9-ccf8...</td>\n",
       "      <td>169927</td>\n",
       "      <td>...</td>\n",
       "      <td>4.98</td>\n",
       "      <td>5.00</td>\n",
       "      <td>4.98</td>\n",
       "      <td>4.86</td>\n",
       "      <td>f</td>\n",
       "      <td>2</td>\n",
       "      <td>1</td>\n",
       "      <td>1</td>\n",
       "      <td>0</td>\n",
       "      <td>0.25</td>\n",
       "    </tr>\n",
       "    <tr>\n",
       "      <th>1</th>\n",
       "      <td>39593</td>\n",
       "      <td>https://www.airbnb.com/rooms/39593</td>\n",
       "      <td>20250103033441</td>\n",
       "      <td>2025-01-03</td>\n",
       "      <td>city scrape</td>\n",
       "      <td>A lovely room w/ a Manhattan view</td>\n",
       "      <td>A private, furnished  large room to rent Jan/F...</td>\n",
       "      <td>Nate Silver called this super safe, clean, qui...</td>\n",
       "      <td>https://a0.muscache.com/pictures/0b9110f7-3b24...</td>\n",
       "      <td>110506</td>\n",
       "      <td>...</td>\n",
       "      <td>4.96</td>\n",
       "      <td>4.96</td>\n",
       "      <td>4.79</td>\n",
       "      <td>4.93</td>\n",
       "      <td>f</td>\n",
       "      <td>1</td>\n",
       "      <td>0</td>\n",
       "      <td>1</td>\n",
       "      <td>0</td>\n",
       "      <td>0.20</td>\n",
       "    </tr>\n",
       "    <tr>\n",
       "      <th>2</th>\n",
       "      <td>39704</td>\n",
       "      <td>https://www.airbnb.com/rooms/39704</td>\n",
       "      <td>20250103033441</td>\n",
       "      <td>2025-01-03</td>\n",
       "      <td>previous scrape</td>\n",
       "      <td>Private, Large &amp; Sunny 1BR w/W&amp;D</td>\n",
       "      <td>It's a No Brainer:&lt;br /&gt;•Terrific Space For Le...</td>\n",
       "      <td>The Neighborhood&lt;br /&gt;• Rich History &lt;br /&gt;• B...</td>\n",
       "      <td>https://a0.muscache.com/pictures/0bc4e8a4-c047...</td>\n",
       "      <td>170510</td>\n",
       "      <td>...</td>\n",
       "      <td>4.89</td>\n",
       "      <td>4.92</td>\n",
       "      <td>4.38</td>\n",
       "      <td>4.72</td>\n",
       "      <td>f</td>\n",
       "      <td>2</td>\n",
       "      <td>2</td>\n",
       "      <td>0</td>\n",
       "      <td>0</td>\n",
       "      <td>1.93</td>\n",
       "    </tr>\n",
       "    <tr>\n",
       "      <th>3</th>\n",
       "      <td>42300</td>\n",
       "      <td>https://www.airbnb.com/rooms/42300</td>\n",
       "      <td>20250103033441</td>\n",
       "      <td>2025-01-03</td>\n",
       "      <td>city scrape</td>\n",
       "      <td>Beautiful Lower East Side Loft</td>\n",
       "      <td>Architect-owned loft is a corner unit in a bea...</td>\n",
       "      <td>The apartment is in the border of Soho, LES an...</td>\n",
       "      <td>https://a0.muscache.com/pictures/0e285e13-ee14...</td>\n",
       "      <td>184755</td>\n",
       "      <td>...</td>\n",
       "      <td>4.85</td>\n",
       "      <td>4.87</td>\n",
       "      <td>4.57</td>\n",
       "      <td>4.62</td>\n",
       "      <td>f</td>\n",
       "      <td>1</td>\n",
       "      <td>1</td>\n",
       "      <td>0</td>\n",
       "      <td>0</td>\n",
       "      <td>0.40</td>\n",
       "    </tr>\n",
       "    <tr>\n",
       "      <th>4</th>\n",
       "      <td>42729</td>\n",
       "      <td>https://www.airbnb.com/rooms/42729</td>\n",
       "      <td>20250103033441</td>\n",
       "      <td>2025-01-03</td>\n",
       "      <td>city scrape</td>\n",
       "      <td>@HouseOnHenrySt - Private 2nd bedroom w/shared...</td>\n",
       "      <td>No description available</td>\n",
       "      <td>Lovely old Brooklyn neighborhood, with brick/b...</td>\n",
       "      <td>https://a0.muscache.com/pictures/925fe213-f5e1...</td>\n",
       "      <td>11481</td>\n",
       "      <td>...</td>\n",
       "      <td>4.71</td>\n",
       "      <td>4.73</td>\n",
       "      <td>4.58</td>\n",
       "      <td>4.64</td>\n",
       "      <td>f</td>\n",
       "      <td>4</td>\n",
       "      <td>1</td>\n",
       "      <td>3</td>\n",
       "      <td>0</td>\n",
       "      <td>1.26</td>\n",
       "    </tr>\n",
       "  </tbody>\n",
       "</table>\n",
       "<p>5 rows × 73 columns</p>\n",
       "</div>"
      ],
      "text/plain": [
       "      id                         listing_url       scrape_id last_scraped  \\\n",
       "0  39572  https://www.airbnb.com/rooms/39572  20250103033441   2025-01-03   \n",
       "1  39593  https://www.airbnb.com/rooms/39593  20250103033441   2025-01-03   \n",
       "2  39704  https://www.airbnb.com/rooms/39704  20250103033441   2025-01-03   \n",
       "3  42300  https://www.airbnb.com/rooms/42300  20250103033441   2025-01-03   \n",
       "4  42729  https://www.airbnb.com/rooms/42729  20250103033441   2025-01-03   \n",
       "\n",
       "            source                                               name  \\\n",
       "0      city scrape                  1 br in a 2 br apt (Midtown West)   \n",
       "1      city scrape                  A lovely room w/ a Manhattan view   \n",
       "2  previous scrape                   Private, Large & Sunny 1BR w/W&D   \n",
       "3      city scrape                     Beautiful Lower East Side Loft   \n",
       "4      city scrape  @HouseOnHenrySt - Private 2nd bedroom w/shared...   \n",
       "\n",
       "                                         description  \\\n",
       "0                           No description available   \n",
       "1  A private, furnished  large room to rent Jan/F...   \n",
       "2  It's a No Brainer:<br />•Terrific Space For Le...   \n",
       "3  Architect-owned loft is a corner unit in a bea...   \n",
       "4                           No description available   \n",
       "\n",
       "                               neighborhood_overview  \\\n",
       "0                              No overview available   \n",
       "1  Nate Silver called this super safe, clean, qui...   \n",
       "2  The Neighborhood<br />• Rich History <br />• B...   \n",
       "3  The apartment is in the border of Soho, LES an...   \n",
       "4  Lovely old Brooklyn neighborhood, with brick/b...   \n",
       "\n",
       "                                         picture_url  host_id  ...  \\\n",
       "0  https://a0.muscache.com/pictures/fd1bffd9-ccf8...   169927  ...   \n",
       "1  https://a0.muscache.com/pictures/0b9110f7-3b24...   110506  ...   \n",
       "2  https://a0.muscache.com/pictures/0bc4e8a4-c047...   170510  ...   \n",
       "3  https://a0.muscache.com/pictures/0e285e13-ee14...   184755  ...   \n",
       "4  https://a0.muscache.com/pictures/925fe213-f5e1...    11481  ...   \n",
       "\n",
       "  review_scores_checkin review_scores_communication review_scores_location  \\\n",
       "0                  4.98                        5.00                   4.98   \n",
       "1                  4.96                        4.96                   4.79   \n",
       "2                  4.89                        4.92                   4.38   \n",
       "3                  4.85                        4.87                   4.57   \n",
       "4                  4.71                        4.73                   4.58   \n",
       "\n",
       "  review_scores_value instant_bookable calculated_host_listings_count  \\\n",
       "0                4.86                f                              2   \n",
       "1                4.93                f                              1   \n",
       "2                4.72                f                              2   \n",
       "3                4.62                f                              1   \n",
       "4                4.64                f                              4   \n",
       "\n",
       "   calculated_host_listings_count_entire_homes  \\\n",
       "0                                            1   \n",
       "1                                            0   \n",
       "2                                            2   \n",
       "3                                            1   \n",
       "4                                            1   \n",
       "\n",
       "   calculated_host_listings_count_private_rooms  \\\n",
       "0                                             1   \n",
       "1                                             1   \n",
       "2                                             0   \n",
       "3                                             0   \n",
       "4                                             3   \n",
       "\n",
       "  calculated_host_listings_count_shared_rooms reviews_per_month  \n",
       "0                                           0              0.25  \n",
       "1                                           0              0.20  \n",
       "2                                           0              1.93  \n",
       "3                                           0              0.40  \n",
       "4                                           0              1.26  \n",
       "\n",
       "[5 rows x 73 columns]"
      ]
     },
     "execution_count": 4,
     "metadata": {},
     "output_type": "execute_result"
    }
   ],
   "source": [
    "df_cleaned.head()"
   ]
  },
  {
   "cell_type": "code",
   "execution_count": 5,
   "metadata": {},
   "outputs": [
    {
     "name": "stdout",
     "output_type": "stream",
     "text": [
      "(37784, 73)\n",
      "Index(['id', 'listing_url', 'scrape_id', 'last_scraped', 'source', 'name',\n",
      "       'description', 'neighborhood_overview', 'picture_url', 'host_id',\n",
      "       'host_url', 'host_name', 'host_since', 'host_location', 'host_about',\n",
      "       'host_response_time', 'host_response_rate', 'host_acceptance_rate',\n",
      "       'host_is_superhost', 'host_thumbnail_url', 'host_picture_url',\n",
      "       'host_neighbourhood', 'host_listings_count',\n",
      "       'host_total_listings_count', 'host_verifications',\n",
      "       'host_has_profile_pic', 'host_identity_verified', 'neighbourhood',\n",
      "       'neighbourhood_cleansed', 'neighbourhood_group_cleansed', 'latitude',\n",
      "       'longitude', 'property_type', 'room_type', 'accommodates', 'bathrooms',\n",
      "       'bathrooms_text', 'bedrooms', 'beds', 'amenities', 'price',\n",
      "       'minimum_nights', 'maximum_nights', 'minimum_minimum_nights',\n",
      "       'maximum_minimum_nights', 'minimum_maximum_nights',\n",
      "       'maximum_maximum_nights', 'minimum_nights_avg_ntm',\n",
      "       'maximum_nights_avg_ntm', 'has_availability', 'availability_30',\n",
      "       'availability_60', 'availability_90', 'availability_365',\n",
      "       'calendar_last_scraped', 'number_of_reviews', 'number_of_reviews_ltm',\n",
      "       'number_of_reviews_l30d', 'first_review', 'last_review',\n",
      "       'review_scores_rating', 'review_scores_accuracy',\n",
      "       'review_scores_cleanliness', 'review_scores_checkin',\n",
      "       'review_scores_communication', 'review_scores_location',\n",
      "       'review_scores_value', 'instant_bookable',\n",
      "       'calculated_host_listings_count',\n",
      "       'calculated_host_listings_count_entire_homes',\n",
      "       'calculated_host_listings_count_private_rooms',\n",
      "       'calculated_host_listings_count_shared_rooms', 'reviews_per_month'],\n",
      "      dtype='object')\n"
     ]
    }
   ],
   "source": [
    "print(df_cleaned.shape)\n",
    "print(df_cleaned.columns)"
   ]
  },
  {
   "cell_type": "code",
   "execution_count": 6,
   "metadata": {},
   "outputs": [
    {
     "name": "stdout",
     "output_type": "stream",
     "text": [
      "<class 'pandas.core.frame.DataFrame'>\n",
      "RangeIndex: 37784 entries, 0 to 37783\n",
      "Data columns (total 73 columns):\n",
      " #   Column                                        Non-Null Count  Dtype         \n",
      "---  ------                                        --------------  -----         \n",
      " 0   id                                            37784 non-null  int64         \n",
      " 1   listing_url                                   37784 non-null  object        \n",
      " 2   scrape_id                                     37784 non-null  int64         \n",
      " 3   last_scraped                                  37784 non-null  datetime64[ns]\n",
      " 4   source                                        37784 non-null  object        \n",
      " 5   name                                          37784 non-null  object        \n",
      " 6   description                                   37784 non-null  object        \n",
      " 7   neighborhood_overview                         37784 non-null  object        \n",
      " 8   picture_url                                   37784 non-null  object        \n",
      " 9   host_id                                       37784 non-null  int64         \n",
      " 10  host_url                                      37784 non-null  object        \n",
      " 11  host_name                                     37784 non-null  object        \n",
      " 12  host_since                                    37784 non-null  datetime64[ns]\n",
      " 13  host_location                                 37784 non-null  object        \n",
      " 14  host_about                                    37784 non-null  object        \n",
      " 15  host_response_time                            37784 non-null  object        \n",
      " 16  host_response_rate                            37784 non-null  float64       \n",
      " 17  host_acceptance_rate                          37784 non-null  float64       \n",
      " 18  host_is_superhost                             37784 non-null  object        \n",
      " 19  host_thumbnail_url                            37784 non-null  object        \n",
      " 20  host_picture_url                              37784 non-null  object        \n",
      " 21  host_neighbourhood                            37784 non-null  object        \n",
      " 22  host_listings_count                           37784 non-null  float64       \n",
      " 23  host_total_listings_count                     37784 non-null  float64       \n",
      " 24  host_verifications                            37784 non-null  object        \n",
      " 25  host_has_profile_pic                          37784 non-null  object        \n",
      " 26  host_identity_verified                        37784 non-null  object        \n",
      " 27  neighbourhood                                 37784 non-null  object        \n",
      " 28  neighbourhood_cleansed                        37784 non-null  object        \n",
      " 29  neighbourhood_group_cleansed                  37784 non-null  object        \n",
      " 30  latitude                                      37784 non-null  float64       \n",
      " 31  longitude                                     37784 non-null  float64       \n",
      " 32  property_type                                 37784 non-null  object        \n",
      " 33  room_type                                     37784 non-null  object        \n",
      " 34  accommodates                                  37784 non-null  int64         \n",
      " 35  bathrooms                                     37784 non-null  float64       \n",
      " 36  bathrooms_text                                37784 non-null  object        \n",
      " 37  bedrooms                                      37784 non-null  float64       \n",
      " 38  beds                                          37784 non-null  float64       \n",
      " 39  amenities                                     37784 non-null  object        \n",
      " 40  price                                         37784 non-null  float64       \n",
      " 41  minimum_nights                                37784 non-null  int64         \n",
      " 42  maximum_nights                                37784 non-null  int64         \n",
      " 43  minimum_minimum_nights                        37784 non-null  float64       \n",
      " 44  maximum_minimum_nights                        37784 non-null  float64       \n",
      " 45  minimum_maximum_nights                        37784 non-null  float64       \n",
      " 46  maximum_maximum_nights                        37784 non-null  float64       \n",
      " 47  minimum_nights_avg_ntm                        37784 non-null  float64       \n",
      " 48  maximum_nights_avg_ntm                        37784 non-null  float64       \n",
      " 49  has_availability                              37784 non-null  object        \n",
      " 50  availability_30                               37784 non-null  int64         \n",
      " 51  availability_60                               37784 non-null  int64         \n",
      " 52  availability_90                               37784 non-null  int64         \n",
      " 53  availability_365                              37784 non-null  int64         \n",
      " 54  calendar_last_scraped                         37784 non-null  datetime64[ns]\n",
      " 55  number_of_reviews                             37784 non-null  int64         \n",
      " 56  number_of_reviews_ltm                         37784 non-null  int64         \n",
      " 57  number_of_reviews_l30d                        37784 non-null  int64         \n",
      " 58  first_review                                  37784 non-null  datetime64[ns]\n",
      " 59  last_review                                   37784 non-null  datetime64[ns]\n",
      " 60  review_scores_rating                          37784 non-null  float64       \n",
      " 61  review_scores_accuracy                        37784 non-null  float64       \n",
      " 62  review_scores_cleanliness                     37784 non-null  float64       \n",
      " 63  review_scores_checkin                         37784 non-null  float64       \n",
      " 64  review_scores_communication                   37784 non-null  float64       \n",
      " 65  review_scores_location                        37784 non-null  float64       \n",
      " 66  review_scores_value                           37784 non-null  float64       \n",
      " 67  instant_bookable                              37784 non-null  object        \n",
      " 68  calculated_host_listings_count                37784 non-null  int64         \n",
      " 69  calculated_host_listings_count_entire_homes   37784 non-null  int64         \n",
      " 70  calculated_host_listings_count_private_rooms  37784 non-null  int64         \n",
      " 71  calculated_host_listings_count_shared_rooms   37784 non-null  int64         \n",
      " 72  reviews_per_month                             37784 non-null  float64       \n",
      "dtypes: datetime64[ns](5), float64(24), int64(17), object(27)\n",
      "memory usage: 21.0+ MB\n"
     ]
    }
   ],
   "source": [
    "df_cleaned.info()"
   ]
  },
  {
   "cell_type": "code",
   "execution_count": 7,
   "metadata": {},
   "outputs": [
    {
     "data": {
      "text/plain": [
       "id                                              0\n",
       "listing_url                                     0\n",
       "scrape_id                                       0\n",
       "last_scraped                                    0\n",
       "source                                          0\n",
       "                                               ..\n",
       "calculated_host_listings_count                  0\n",
       "calculated_host_listings_count_entire_homes     0\n",
       "calculated_host_listings_count_private_rooms    0\n",
       "calculated_host_listings_count_shared_rooms     0\n",
       "reviews_per_month                               0\n",
       "Length: 73, dtype: int64"
      ]
     },
     "execution_count": 7,
     "metadata": {},
     "output_type": "execute_result"
    }
   ],
   "source": [
    "df_cleaned.isna().sum()"
   ]
  },
  {
   "cell_type": "code",
   "execution_count": 8,
   "metadata": {},
   "outputs": [
    {
     "name": "stdout",
     "output_type": "stream",
     "text": [
      "['scrape_id', 'host_response_rate', 'host_acceptance_rate', 'host_listings_count', 'host_total_listings_count', 'latitude', 'longitude', 'accommodates', 'bathrooms', 'bedrooms', 'beds', 'price', 'minimum_nights', 'maximum_nights', 'minimum_minimum_nights', 'maximum_minimum_nights', 'minimum_maximum_nights', 'maximum_maximum_nights', 'minimum_nights_avg_ntm', 'maximum_nights_avg_ntm', 'availability_30', 'availability_60', 'availability_90', 'availability_365', 'number_of_reviews', 'number_of_reviews_ltm', 'number_of_reviews_l30d', 'review_scores_rating', 'review_scores_accuracy', 'review_scores_cleanliness', 'review_scores_checkin', 'review_scores_communication', 'review_scores_location', 'review_scores_value', 'calculated_host_listings_count', 'calculated_host_listings_count_entire_homes', 'calculated_host_listings_count_private_rooms', 'calculated_host_listings_count_shared_rooms', 'reviews_per_month']\n"
     ]
    }
   ],
   "source": [
    "numerical_cols = [col for col in numerical_cols if col not in [\"id\", \"host_id\"]]\n",
    "print(numerical_cols)"
   ]
  },
  {
   "cell_type": "code",
   "execution_count": 9,
   "metadata": {},
   "outputs": [
    {
     "name": "stdout",
     "output_type": "stream",
     "text": [
      "Index(['listing_url', 'source', 'name', 'description', 'neighborhood_overview',\n",
      "       'picture_url', 'host_url', 'host_name', 'host_location', 'host_about',\n",
      "       'host_response_time', 'host_is_superhost', 'host_thumbnail_url',\n",
      "       'host_picture_url', 'host_neighbourhood', 'host_verifications',\n",
      "       'host_has_profile_pic', 'host_identity_verified', 'neighbourhood',\n",
      "       'neighbourhood_cleansed', 'neighbourhood_group_cleansed',\n",
      "       'property_type', 'room_type', 'bathrooms_text', 'amenities',\n",
      "       'has_availability', 'instant_bookable'],\n",
      "      dtype='object')\n"
     ]
    }
   ],
   "source": [
    "object_cols = df_cleaned.select_dtypes(include=['object']).columns\n",
    "print(object_cols)"
   ]
  },
  {
   "cell_type": "code",
   "execution_count": 10,
   "metadata": {},
   "outputs": [
    {
     "data": {
      "text/html": [
       "<div>\n",
       "<style scoped>\n",
       "    .dataframe tbody tr th:only-of-type {\n",
       "        vertical-align: middle;\n",
       "    }\n",
       "\n",
       "    .dataframe tbody tr th {\n",
       "        vertical-align: top;\n",
       "    }\n",
       "\n",
       "    .dataframe thead th {\n",
       "        text-align: right;\n",
       "    }\n",
       "</style>\n",
       "<table border=\"1\" class=\"dataframe\">\n",
       "  <thead>\n",
       "    <tr style=\"text-align: right;\">\n",
       "      <th></th>\n",
       "      <th>scrape_id</th>\n",
       "      <th>last_scraped</th>\n",
       "      <th>host_since</th>\n",
       "      <th>host_response_rate</th>\n",
       "      <th>host_acceptance_rate</th>\n",
       "      <th>host_listings_count</th>\n",
       "      <th>host_total_listings_count</th>\n",
       "      <th>accommodates</th>\n",
       "      <th>bathrooms</th>\n",
       "      <th>bedrooms</th>\n",
       "      <th>...</th>\n",
       "      <th>review_scores_cleanliness</th>\n",
       "      <th>review_scores_checkin</th>\n",
       "      <th>review_scores_communication</th>\n",
       "      <th>review_scores_location</th>\n",
       "      <th>review_scores_value</th>\n",
       "      <th>calculated_host_listings_count</th>\n",
       "      <th>calculated_host_listings_count_entire_homes</th>\n",
       "      <th>calculated_host_listings_count_private_rooms</th>\n",
       "      <th>calculated_host_listings_count_shared_rooms</th>\n",
       "      <th>reviews_per_month</th>\n",
       "    </tr>\n",
       "  </thead>\n",
       "  <tbody>\n",
       "    <tr>\n",
       "      <th>count</th>\n",
       "      <td>3.778400e+04</td>\n",
       "      <td>37784</td>\n",
       "      <td>37784</td>\n",
       "      <td>37784.000000</td>\n",
       "      <td>37784.000000</td>\n",
       "      <td>37784.000000</td>\n",
       "      <td>37784.000000</td>\n",
       "      <td>37784.000000</td>\n",
       "      <td>37784.000000</td>\n",
       "      <td>37784.000000</td>\n",
       "      <td>...</td>\n",
       "      <td>37784.000000</td>\n",
       "      <td>37784.000000</td>\n",
       "      <td>37784.000000</td>\n",
       "      <td>37784.000000</td>\n",
       "      <td>37784.000000</td>\n",
       "      <td>37784.000000</td>\n",
       "      <td>37784.000000</td>\n",
       "      <td>37784.000000</td>\n",
       "      <td>37784.000000</td>\n",
       "      <td>37784.000000</td>\n",
       "    </tr>\n",
       "    <tr>\n",
       "      <th>mean</th>\n",
       "      <td>2.025010e+13</td>\n",
       "      <td>2025-01-03 00:00:00</td>\n",
       "      <td>2017-03-06 09:48:26.373067776</td>\n",
       "      <td>0.952508</td>\n",
       "      <td>0.812859</td>\n",
       "      <td>263.054864</td>\n",
       "      <td>351.429229</td>\n",
       "      <td>2.754896</td>\n",
       "      <td>1.119654</td>\n",
       "      <td>1.321723</td>\n",
       "      <td>...</td>\n",
       "      <td>4.704505</td>\n",
       "      <td>4.870094</td>\n",
       "      <td>4.867555</td>\n",
       "      <td>4.775639</td>\n",
       "      <td>4.676217</td>\n",
       "      <td>71.636354</td>\n",
       "      <td>45.435555</td>\n",
       "      <td>23.985232</td>\n",
       "      <td>0.005187</td>\n",
       "      <td>0.685365</td>\n",
       "    </tr>\n",
       "    <tr>\n",
       "      <th>min</th>\n",
       "      <td>2.025010e+13</td>\n",
       "      <td>2025-01-03 00:00:00</td>\n",
       "      <td>2008-08-11 00:00:00</td>\n",
       "      <td>0.000000</td>\n",
       "      <td>0.000000</td>\n",
       "      <td>1.000000</td>\n",
       "      <td>1.000000</td>\n",
       "      <td>1.000000</td>\n",
       "      <td>0.000000</td>\n",
       "      <td>0.000000</td>\n",
       "      <td>...</td>\n",
       "      <td>0.000000</td>\n",
       "      <td>0.000000</td>\n",
       "      <td>0.000000</td>\n",
       "      <td>0.000000</td>\n",
       "      <td>0.000000</td>\n",
       "      <td>1.000000</td>\n",
       "      <td>0.000000</td>\n",
       "      <td>0.000000</td>\n",
       "      <td>0.000000</td>\n",
       "      <td>0.010000</td>\n",
       "    </tr>\n",
       "    <tr>\n",
       "      <th>25%</th>\n",
       "      <td>2.025010e+13</td>\n",
       "      <td>2025-01-03 00:00:00</td>\n",
       "      <td>2014-07-07 00:00:00</td>\n",
       "      <td>1.000000</td>\n",
       "      <td>0.840000</td>\n",
       "      <td>1.000000</td>\n",
       "      <td>1.000000</td>\n",
       "      <td>2.000000</td>\n",
       "      <td>1.000000</td>\n",
       "      <td>1.000000</td>\n",
       "      <td>...</td>\n",
       "      <td>4.690000</td>\n",
       "      <td>4.890000</td>\n",
       "      <td>4.900000</td>\n",
       "      <td>4.750000</td>\n",
       "      <td>4.670000</td>\n",
       "      <td>1.000000</td>\n",
       "      <td>0.000000</td>\n",
       "      <td>0.000000</td>\n",
       "      <td>0.000000</td>\n",
       "      <td>0.160000</td>\n",
       "    </tr>\n",
       "    <tr>\n",
       "      <th>50%</th>\n",
       "      <td>2.025010e+13</td>\n",
       "      <td>2025-01-03 00:00:00</td>\n",
       "      <td>2016-08-02 00:00:00</td>\n",
       "      <td>1.000000</td>\n",
       "      <td>0.880000</td>\n",
       "      <td>2.000000</td>\n",
       "      <td>3.000000</td>\n",
       "      <td>2.000000</td>\n",
       "      <td>1.000000</td>\n",
       "      <td>1.000000</td>\n",
       "      <td>...</td>\n",
       "      <td>4.810000</td>\n",
       "      <td>4.950000</td>\n",
       "      <td>4.960000</td>\n",
       "      <td>4.850000</td>\n",
       "      <td>4.760000</td>\n",
       "      <td>2.000000</td>\n",
       "      <td>1.000000</td>\n",
       "      <td>1.000000</td>\n",
       "      <td>0.000000</td>\n",
       "      <td>0.290000</td>\n",
       "    </tr>\n",
       "    <tr>\n",
       "      <th>75%</th>\n",
       "      <td>2.025010e+13</td>\n",
       "      <td>2025-01-03 00:00:00</td>\n",
       "      <td>2019-10-29 00:00:00</td>\n",
       "      <td>1.000000</td>\n",
       "      <td>0.950000</td>\n",
       "      <td>10.000000</td>\n",
       "      <td>15.000000</td>\n",
       "      <td>4.000000</td>\n",
       "      <td>1.000000</td>\n",
       "      <td>1.000000</td>\n",
       "      <td>...</td>\n",
       "      <td>4.910000</td>\n",
       "      <td>5.000000</td>\n",
       "      <td>5.000000</td>\n",
       "      <td>4.950000</td>\n",
       "      <td>4.850000</td>\n",
       "      <td>9.000000</td>\n",
       "      <td>2.000000</td>\n",
       "      <td>2.000000</td>\n",
       "      <td>0.000000</td>\n",
       "      <td>0.550000</td>\n",
       "    </tr>\n",
       "    <tr>\n",
       "      <th>max</th>\n",
       "      <td>2.025010e+13</td>\n",
       "      <td>2025-01-03 00:00:00</td>\n",
       "      <td>2024-12-27 00:00:00</td>\n",
       "      <td>1.000000</td>\n",
       "      <td>1.000000</td>\n",
       "      <td>5079.000000</td>\n",
       "      <td>9048.000000</td>\n",
       "      <td>16.000000</td>\n",
       "      <td>15.500000</td>\n",
       "      <td>16.000000</td>\n",
       "      <td>...</td>\n",
       "      <td>5.000000</td>\n",
       "      <td>5.000000</td>\n",
       "      <td>5.000000</td>\n",
       "      <td>5.000000</td>\n",
       "      <td>5.000000</td>\n",
       "      <td>1154.000000</td>\n",
       "      <td>1154.000000</td>\n",
       "      <td>739.000000</td>\n",
       "      <td>4.000000</td>\n",
       "      <td>116.300000</td>\n",
       "    </tr>\n",
       "    <tr>\n",
       "      <th>std</th>\n",
       "      <td>1.895728e+01</td>\n",
       "      <td>NaN</td>\n",
       "      <td>NaN</td>\n",
       "      <td>0.173547</td>\n",
       "      <td>0.232501</td>\n",
       "      <td>1000.361076</td>\n",
       "      <td>1196.815995</td>\n",
       "      <td>1.903900</td>\n",
       "      <td>0.442243</td>\n",
       "      <td>0.869987</td>\n",
       "      <td>...</td>\n",
       "      <td>0.423313</td>\n",
       "      <td>0.317409</td>\n",
       "      <td>0.345344</td>\n",
       "      <td>0.331185</td>\n",
       "      <td>0.413567</td>\n",
       "      <td>224.585038</td>\n",
       "      <td>200.899492</td>\n",
       "      <td>109.136674</td>\n",
       "      <td>0.086848</td>\n",
       "      <td>1.584030</td>\n",
       "    </tr>\n",
       "  </tbody>\n",
       "</table>\n",
       "<p>8 rows × 42 columns</p>\n",
       "</div>"
      ],
      "text/plain": [
       "          scrape_id         last_scraped                     host_since  \\\n",
       "count  3.778400e+04                37784                          37784   \n",
       "mean   2.025010e+13  2025-01-03 00:00:00  2017-03-06 09:48:26.373067776   \n",
       "min    2.025010e+13  2025-01-03 00:00:00            2008-08-11 00:00:00   \n",
       "25%    2.025010e+13  2025-01-03 00:00:00            2014-07-07 00:00:00   \n",
       "50%    2.025010e+13  2025-01-03 00:00:00            2016-08-02 00:00:00   \n",
       "75%    2.025010e+13  2025-01-03 00:00:00            2019-10-29 00:00:00   \n",
       "max    2.025010e+13  2025-01-03 00:00:00            2024-12-27 00:00:00   \n",
       "std    1.895728e+01                  NaN                            NaN   \n",
       "\n",
       "       host_response_rate  host_acceptance_rate  host_listings_count  \\\n",
       "count        37784.000000          37784.000000         37784.000000   \n",
       "mean             0.952508              0.812859           263.054864   \n",
       "min              0.000000              0.000000             1.000000   \n",
       "25%              1.000000              0.840000             1.000000   \n",
       "50%              1.000000              0.880000             2.000000   \n",
       "75%              1.000000              0.950000            10.000000   \n",
       "max              1.000000              1.000000          5079.000000   \n",
       "std              0.173547              0.232501          1000.361076   \n",
       "\n",
       "       host_total_listings_count  accommodates     bathrooms      bedrooms  \\\n",
       "count               37784.000000  37784.000000  37784.000000  37784.000000   \n",
       "mean                  351.429229      2.754896      1.119654      1.321723   \n",
       "min                     1.000000      1.000000      0.000000      0.000000   \n",
       "25%                     1.000000      2.000000      1.000000      1.000000   \n",
       "50%                     3.000000      2.000000      1.000000      1.000000   \n",
       "75%                    15.000000      4.000000      1.000000      1.000000   \n",
       "max                  9048.000000     16.000000     15.500000     16.000000   \n",
       "std                  1196.815995      1.903900      0.442243      0.869987   \n",
       "\n",
       "       ...  review_scores_cleanliness  review_scores_checkin  \\\n",
       "count  ...               37784.000000           37784.000000   \n",
       "mean   ...                   4.704505               4.870094   \n",
       "min    ...                   0.000000               0.000000   \n",
       "25%    ...                   4.690000               4.890000   \n",
       "50%    ...                   4.810000               4.950000   \n",
       "75%    ...                   4.910000               5.000000   \n",
       "max    ...                   5.000000               5.000000   \n",
       "std    ...                   0.423313               0.317409   \n",
       "\n",
       "       review_scores_communication  review_scores_location  \\\n",
       "count                 37784.000000            37784.000000   \n",
       "mean                      4.867555                4.775639   \n",
       "min                       0.000000                0.000000   \n",
       "25%                       4.900000                4.750000   \n",
       "50%                       4.960000                4.850000   \n",
       "75%                       5.000000                4.950000   \n",
       "max                       5.000000                5.000000   \n",
       "std                       0.345344                0.331185   \n",
       "\n",
       "       review_scores_value  calculated_host_listings_count  \\\n",
       "count         37784.000000                    37784.000000   \n",
       "mean              4.676217                       71.636354   \n",
       "min               0.000000                        1.000000   \n",
       "25%               4.670000                        1.000000   \n",
       "50%               4.760000                        2.000000   \n",
       "75%               4.850000                        9.000000   \n",
       "max               5.000000                     1154.000000   \n",
       "std               0.413567                      224.585038   \n",
       "\n",
       "       calculated_host_listings_count_entire_homes  \\\n",
       "count                                 37784.000000   \n",
       "mean                                     45.435555   \n",
       "min                                       0.000000   \n",
       "25%                                       0.000000   \n",
       "50%                                       1.000000   \n",
       "75%                                       2.000000   \n",
       "max                                    1154.000000   \n",
       "std                                     200.899492   \n",
       "\n",
       "       calculated_host_listings_count_private_rooms  \\\n",
       "count                                  37784.000000   \n",
       "mean                                      23.985232   \n",
       "min                                        0.000000   \n",
       "25%                                        0.000000   \n",
       "50%                                        1.000000   \n",
       "75%                                        2.000000   \n",
       "max                                      739.000000   \n",
       "std                                      109.136674   \n",
       "\n",
       "       calculated_host_listings_count_shared_rooms  reviews_per_month  \n",
       "count                                 37784.000000       37784.000000  \n",
       "mean                                      0.005187           0.685365  \n",
       "min                                       0.000000           0.010000  \n",
       "25%                                       0.000000           0.160000  \n",
       "50%                                       0.000000           0.290000  \n",
       "75%                                       0.000000           0.550000  \n",
       "max                                       4.000000         116.300000  \n",
       "std                                       0.086848           1.584030  \n",
       "\n",
       "[8 rows x 42 columns]"
      ]
     },
     "execution_count": 10,
     "metadata": {},
     "output_type": "execute_result"
    }
   ],
   "source": [
    "df_cleaned.describe().drop(columns=['id', 'latitude', 'longitude', 'host_id'])"
   ]
  },
  {
   "cell_type": "code",
   "execution_count": 11,
   "metadata": {},
   "outputs": [
    {
     "data": {
      "application/vnd.vegalite.v5+json": {
       "$schema": "https://vega.github.io/schema/vega-lite/v5.20.1.json",
       "config": {
        "view": {
         "continuousHeight": 300,
         "continuousWidth": 300
        }
       },
       "data": {
        "format": {
         "type": "json"
        },
        "url": "altairdata/altair-data-e20d028b2df2d38da3b121dde0b4cea4.json"
       },
       "encoding": {
        "color": {
         "field": "correlation",
         "scale": {
          "scheme": "blues"
         },
         "type": "quantitative"
        },
        "tooltip": [
         {
          "field": "index",
          "type": "nominal"
         },
         {
          "field": "variable",
          "type": "nominal"
         },
         {
          "field": "correlation",
          "type": "quantitative"
         }
        ],
        "x": {
         "field": "index",
         "title": "Attribute",
         "type": "nominal"
        },
        "y": {
         "field": "variable",
         "title": "Attribute",
         "type": "nominal"
        }
       },
       "height": 600,
       "mark": {
        "type": "rect"
       },
       "title": "Correlation Matrix of Numeric Attributes",
       "width": 600
      },
      "image/png": "[encoded data removed]",
      "text/plain": [
       "<VegaLite 5 object>\n",
       "\n",
       "If you see this message, it means the renderer has not been properly enabled\n",
       "for the frontend that you are using. For more information, see\n",
       "https://altair-viz.github.io/user_guide/display_frontends.html#troubleshooting\n"
      ]
     },
     "execution_count": 11,
     "metadata": {},
     "output_type": "execute_result"
    }
   ],
   "source": [
    "# Compute correlation matrix\n",
    "correlation_matrix = df_cleaned[numerical_cols].corr().reset_index().melt(id_vars=[\"index\"], var_name=\"variable\", value_name=\"correlation\")\n",
    "\n",
    "# Create Altair heatmap\n",
    "heatmap = alt.Chart(correlation_matrix).mark_rect().encode(\n",
    "    x=alt.X(\"index:N\", title=\"Attribute\"),\n",
    "    y=alt.Y(\"variable:N\", title=\"Attribute\"),\n",
    "    color=alt.Color(\"correlation:Q\", scale=alt.Scale(scheme=\"blues\")),\n",
    "    tooltip=[\"index\", \"variable\", \"correlation\"]\n",
    ").properties(\n",
    "    title=\"Correlation Matrix of Numeric Attributes\",\n",
    "    width=600,\n",
    "    height=600\n",
    ")\n",
    "\n",
    "# Display visualization\n",
    "heatmap"
   ]
  },
  {
   "cell_type": "markdown",
   "metadata": {},
   "source": [
    "#### Some basic visualizations"
   ]
  },
  {
   "cell_type": "code",
   "execution_count": 12,
   "metadata": {},
   "outputs": [
    {
     "data": {
      "application/vnd.vegalite.v5+json": {
       "$schema": "https://vega.github.io/schema/vega-lite/v5.20.1.json",
       "config": {
        "view": {
         "continuousHeight": 300,
         "continuousWidth": 300
        }
       },
       "data": {
        "format": {
         "type": "json"
        },
        "url": "altairdata/altair-data-33423bca8aafa4610a2855f420684eb6.json"
       },
       "encoding": {
        "color": {
         "field": "room_type",
         "type": "nominal"
        },
        "x": {
         "aggregate": "mean",
         "field": "price",
         "title": "Average Price (USD)",
         "type": "quantitative"
        },
        "y": {
         "field": "room_type",
         "sort": "x",
         "title": "Room Type",
         "type": "nominal"
        }
       },
       "mark": {
        "type": "bar"
       },
       "title": "Average Price by Room Type"
      },
      "text/plain": [
       "<VegaLite 5 object>\n",
       "\n",
       "If you see this message, it means the renderer has not been properly enabled\n",
       "for the frontend that you are using. For more information, see\n",
       "https://altair-viz.github.io/user_guide/display_frontends.html#troubleshooting\n"
      ]
     },
     "execution_count": 12,
     "metadata": {},
     "output_type": "execute_result"
    }
   ],
   "source": [
    "room_type_bar = alt.Chart(df_cleaned).mark_bar().encode(\n",
    "    y=alt.Y(\"room_type:N\", title=\"Room Type\", sort = \"x\"),\n",
    "    x=alt.X(\"mean(price):Q\", title=\"Average Price (USD)\"),\n",
    "    color=\"room_type:N\"\n",
    ").properties(title=\"Average Price by Room Type\")\n",
    "\n",
    "room_type_bar\n"
   ]
  },
  {
   "cell_type": "markdown",
   "metadata": {},
   "source": [
    "It seems that hotel rooms have the highest average price, followed by entire home/apt, which makes sense."
   ]
  },
  {
   "cell_type": "code",
   "execution_count": 13,
   "metadata": {},
   "outputs": [
    {
     "data": {
      "application/vnd.vegalite.v5+json": {
       "$schema": "https://vega.github.io/schema/vega-lite/v5.20.1.json",
       "config": {
        "view": {
         "continuousHeight": 300,
         "continuousWidth": 300
        }
       },
       "vconcat": [
        {
         "data": {
          "format": {
           "type": "json"
          },
          "url": "altairdata/altair-data-33423bca8aafa4610a2855f420684eb6.json"
         },
         "encoding": {
          "color": {
           "field": "neighbourhood_group_cleansed",
           "type": "nominal"
          },
          "x": {
           "aggregate": "mean",
           "field": "price",
           "title": "Average Price (USD)",
           "type": "quantitative"
          },
          "y": {
           "field": "neighbourhood_group_cleansed",
           "sort": "x",
           "title": "Neighbourhood Group",
           "type": "nominal"
          }
         },
         "mark": {
          "type": "bar"
         },
         "title": "Price Variation by Neighbourhood Group"
        },
        {
         "data": {
          "format": {
           "type": "json"
          },
          "url": "altairdata/altair-data-7f8c4c79b371fe314bbb4338d8bfa569.json"
         },
         "encoding": {
          "color": {
           "field": "neighbourhood_group_cleansed",
           "legend": {
            "title": "Neighbourhood Group"
           },
           "type": "nominal"
          },
          "tooltip": [
           {
            "field": "neighbourhood_cleansed",
            "type": "nominal"
           },
           {
            "field": "price",
            "type": "quantitative"
           }
          ],
          "x": {
           "field": "price",
           "title": "Average Price (USD)",
           "type": "quantitative"
          },
          "y": {
           "field": "neighbourhood_cleansed",
           "sort": "-x",
           "title": "Neighbourhood",
           "type": "nominal"
          }
         },
         "mark": {
          "type": "bar"
         },
         "title": "Top 20 Neighbourhoods by Average Price"
        }
       ]
      },
      "text/plain": [
       "<VegaLite 5 object>\n",
       "\n",
       "If you see this message, it means the renderer has not been properly enabled\n",
       "for the frontend that you are using. For more information, see\n",
       "https://altair-viz.github.io/user_guide/display_frontends.html#troubleshooting\n"
      ]
     },
     "execution_count": 13,
     "metadata": {},
     "output_type": "execute_result"
    }
   ],
   "source": [
    "# Latitude, Longitude and Price\n",
    "geo_bar = alt.Chart(df_cleaned).mark_bar().encode(\n",
    "    y=alt.Y(\"neighbourhood_group_cleansed:N\", title=\"Neighbourhood Group\", sort = \"x\"),\n",
    "    x=alt.X(\"mean(price):Q\", title=\"Average Price (USD)\"),\n",
    "    color=\"neighbourhood_group_cleansed:N\"\n",
    ").properties(title=\"Price Variation by Neighbourhood Group\")\n",
    "\n",
    "top_neighbourhoods = df_cleaned.groupby([\"neighbourhood_cleansed\", \"neighbourhood_group_cleansed\"])[\"price\"].mean().nlargest(20).reset_index()\n",
    "top_neighbourhoods_chart = alt.Chart(top_neighbourhoods).mark_bar().encode(\n",
    "    y=alt.Y(\"neighbourhood_cleansed:N\", title=\"Neighbourhood\", sort=\"-x\"),\n",
    "    x=alt.X(\"price:Q\", title=\"Average Price (USD)\"),\n",
    "    color=alt.Color(\"neighbourhood_group_cleansed:N\", legend=alt.Legend(title=\"Neighbourhood Group\")),\n",
    "    tooltip=[\"neighbourhood_cleansed\", \"price\"]\n",
    ").properties(title=\"Top 20 Neighbourhoods by Average Price\")\n",
    "\n",
    "geo_bar & top_neighbourhoods_chart"
   ]
  },
  {
   "cell_type": "markdown",
   "metadata": {},
   "source": [
    "On average, Manhatten seems to be the most expensive neighbourhood group to rent, which makes sense due to its central location in NYC. Many of the most expensive neighbourhoods are therefore in Manhattan. \n",
    "\n",
    "A notable observation is that two neighbourhoods in Staten Island seem to be, on average, the most expensive neighbourhoods in New York."
   ]
  },
  {
   "cell_type": "code",
   "execution_count": 14,
   "metadata": {},
   "outputs": [
    {
     "data": {
      "application/vnd.vegalite.v5+json": {
       "$schema": "https://vega.github.io/schema/vega-lite/v5.20.1.json",
       "config": {
        "view": {
         "continuousHeight": 300,
         "continuousWidth": 300
        }
       },
       "data": {
        "format": {
         "type": "json"
        },
        "url": "altairdata/altair-data-33423bca8aafa4610a2855f420684eb6.json"
       },
       "encoding": {
        "color": {
         "field": "price",
         "scale": {
          "scheme": "reds"
         },
         "type": "quantitative"
        },
        "tooltip": [
         {
          "field": "latitude",
          "type": "quantitative"
         },
         {
          "field": "longitude",
          "type": "quantitative"
         },
         {
          "field": "price",
          "type": "quantitative"
         }
        ],
        "x": {
         "field": "longitude",
         "scale": {
          "zero": false
         },
         "title": "Longitude",
         "type": "quantitative"
        },
        "y": {
         "field": "latitude",
         "scale": {
          "zero": false
         },
         "title": "Latitude",
         "type": "quantitative"
        }
       },
       "mark": {
        "opacity": 0.5,
        "size": 60,
        "type": "circle"
       },
       "title": "Geospatial Impact on Price"
      },
      "text/plain": [
       "<VegaLite 5 object>\n",
       "\n",
       "If you see this message, it means the renderer has not been properly enabled\n",
       "for the frontend that you are using. For more information, see\n",
       "https://altair-viz.github.io/user_guide/display_frontends.html#troubleshooting\n"
      ]
     },
     "execution_count": 14,
     "metadata": {},
     "output_type": "execute_result"
    }
   ],
   "source": [
    "geo_chart = alt.Chart(df_cleaned).mark_circle(size=60, opacity=0.5).encode(\n",
    "    x=alt.X(\"longitude:Q\", title=\"Longitude\", scale=alt.Scale(zero=False)),\n",
    "    y=alt.Y(\"latitude:Q\", title=\"Latitude\", scale=alt.Scale(zero=False)),\n",
    "    color=alt.Color(\"price:Q\", scale=alt.Scale(scheme=\"reds\")),\n",
    "    tooltip=[\"latitude\", \"longitude\", \"price\"]\n",
    ").properties(title=\"Geospatial Impact on Price\")\n",
    "\n",
    "geo_chart"
   ]
  },
  {
   "cell_type": "markdown",
   "metadata": {},
   "source": [
    "This map seems to resemble the layout of NYC, if compared to NYC on a map. However, the price as a colour does not seem to be helping us see any patterns. Since the most expensive neighbourhood, on average, is $600 a night, let us filter the dataset to see prices below that to understand the patterns a bit more."
   ]
  },
  {
   "cell_type": "code",
   "execution_count": 15,
   "metadata": {},
   "outputs": [
    {
     "data": {
      "application/vnd.vegalite.v5+json": {
       "$schema": "https://vega.github.io/schema/vega-lite/v5.20.1.json",
       "config": {
        "view": {
         "continuousHeight": 300,
         "continuousWidth": 300
        }
       },
       "data": {
        "format": {
         "type": "json"
        },
        "url": "altairdata/altair-data-d74e7f01ea99ccef2127617b7b5e2460.json"
       },
       "hconcat": [
        {
         "encoding": {
          "color": {
           "field": "price",
           "scale": {
            "scheme": "reds"
           },
           "type": "quantitative"
          },
          "tooltip": [
           {
            "field": "latitude",
            "type": "quantitative"
           },
           {
            "field": "longitude",
            "type": "quantitative"
           },
           {
            "field": "price",
            "type": "quantitative"
           }
          ],
          "x": {
           "field": "longitude",
           "scale": {
            "zero": false
           },
           "title": "Longitude",
           "type": "quantitative"
          },
          "y": {
           "field": "latitude",
           "scale": {
            "zero": false
           },
           "title": "Latitude",
           "type": "quantitative"
          }
         },
         "mark": {
          "opacity": 0.5,
          "size": 60,
          "type": "circle"
         },
         "title": "Geospatial Impact on Price (≤ 1000)"
        },
        {
         "encoding": {
          "color": {
           "field": "neighbourhood_group_cleansed",
           "type": "nominal"
          },
          "tooltip": [
           {
            "field": "latitude",
            "type": "quantitative"
           },
           {
            "field": "longitude",
            "type": "quantitative"
           },
           {
            "field": "neighbourhood_group_cleansed",
            "type": "nominal"
           }
          ],
          "x": {
           "field": "longitude",
           "scale": {
            "zero": false
           },
           "title": "Longitude",
           "type": "quantitative"
          },
          "y": {
           "field": "latitude",
           "scale": {
            "zero": false
           },
           "title": "Latitude",
           "type": "quantitative"
          }
         },
         "mark": {
          "opacity": 0.5,
          "size": 60,
          "type": "circle"
         },
         "title": "Map of Neighbourhood Groups"
        }
       ]
      },
      "text/plain": [
       "<VegaLite 5 object>\n",
       "\n",
       "If you see this message, it means the renderer has not been properly enabled\n",
       "for the frontend that you are using. For more information, see\n",
       "https://altair-viz.github.io/user_guide/display_frontends.html#troubleshooting\n"
      ]
     },
     "execution_count": 15,
     "metadata": {},
     "output_type": "execute_result"
    }
   ],
   "source": [
    "# Filter dataset to include prices up to 2000\n",
    "df_filtered = df_cleaned[df_cleaned[\"price\"] <= 650]\n",
    "\n",
    "# Create geospatial chart\n",
    "geo_chart2 = alt.Chart(df_filtered).mark_circle(size=60, opacity=0.5).encode(\n",
    "    x=alt.X(\"longitude:Q\", title=\"Longitude\", scale=alt.Scale(zero=False)),\n",
    "    y=alt.Y(\"latitude:Q\", title=\"Latitude\", scale=alt.Scale(zero=False)),\n",
    "    color=alt.Color(\"price:Q\", scale=alt.Scale(scheme=\"reds\")),\n",
    "    tooltip=[\"latitude\", \"longitude\", \"price\"]\n",
    ").properties(title=\"Geospatial Impact on Price (≤ 1000)\")\n",
    "\n",
    "# Create geospatial chart\n",
    "geo_chart3 = alt.Chart(df_filtered).mark_circle(size=60, opacity=0.5).encode(\n",
    "    x=alt.X(\"longitude:Q\", title=\"Longitude\", scale=alt.Scale(zero=False)),\n",
    "    y=alt.Y(\"latitude:Q\", title=\"Latitude\", scale=alt.Scale(zero=False)),\n",
    "    color=alt.Color(\"neighbourhood_group_cleansed:N\"),\n",
    "    tooltip=[\"latitude\", \"longitude\", \"neighbourhood_group_cleansed\"]\n",
    ").properties(title=\"Map of Neighbourhood Groups\")\n",
    "\n",
    "geo_chart2 | geo_chart3"
   ]
  },
  {
   "cell_type": "markdown",
   "metadata": {},
   "source": [
    "This makes a lot more sense. If compared to New York on a map, once can see that Manhattan, on average, seems to have more expensive listings. Perhaps creating a map using this data would be helpful in identifying more complex patterns in price later on."
   ]
  },
  {
   "cell_type": "code",
   "execution_count": 16,
   "metadata": {},
   "outputs": [
    {
     "data": {
      "application/vnd.vegalite.v5+json": {
       "$schema": "https://vega.github.io/schema/vega-lite/v5.20.1.json",
       "config": {
        "view": {
         "continuousHeight": 300,
         "continuousWidth": 300
        }
       },
       "data": {
        "format": {
         "type": "json"
        },
        "url": "altairdata/altair-data-33423bca8aafa4610a2855f420684eb6.json"
       },
       "encoding": {
        "color": {
         "field": "review_scores_rating",
         "type": "quantitative"
        },
        "x": {
         "bin": {
          "maxbins": 20
         },
         "field": "reviews_per_month",
         "title": "Average Reviews Per Month",
         "type": "quantitative"
        },
        "y": {
         "aggregate": "mean",
         "field": "price",
         "title": "Average Price (USD)",
         "type": "quantitative"
        }
       },
       "mark": {
        "type": "bar"
       },
       "title": "Average Reviews vs Price"
      },
      "text/plain": [
       "<VegaLite 5 object>\n",
       "\n",
       "If you see this message, it means the renderer has not been properly enabled\n",
       "for the frontend that you are using. For more information, see\n",
       "https://altair-viz.github.io/user_guide/display_frontends.html#troubleshooting\n"
      ]
     },
     "execution_count": 16,
     "metadata": {},
     "output_type": "execute_result"
    }
   ],
   "source": [
    "# Reviews correlation with pricing\n",
    "reviews_bar = alt.Chart(df_cleaned).mark_bar().encode(\n",
    "    x=alt.X(\"reviews_per_month\", title=\"Average Reviews Per Month\", bin=alt.BinParams(maxbins=20)),\n",
    "    y=alt.Y(\"mean(price):Q\", title=\"Average Price (USD)\"),\n",
    "    color=\"review_scores_rating:Q\"\n",
    ").properties(title=\"Average Reviews vs Price\")\n",
    "\n",
    "reviews_bar"
   ]
  },
  {
   "cell_type": "markdown",
   "metadata": {},
   "source": [
    "As average reviews per month increases, the average price decreases. This could be for a number of reasons. Having less reviews in one month indicates less demand, perhaps due to higher prices and unaffordability. More complicated charts could be designed to understand why this could be a pattern."
   ]
  },
  {
   "cell_type": "code",
   "execution_count": 17,
   "metadata": {},
   "outputs": [
    {
     "data": {
      "application/vnd.vegalite.v5+json": {
       "$schema": "https://vega.github.io/schema/vega-lite/v5.20.1.json",
       "config": {
        "view": {
         "continuousHeight": 300,
         "continuousWidth": 300
        }
       },
       "data": {
        "format": {
         "type": "json"
        },
        "url": "altairdata/altair-data-33423bca8aafa4610a2855f420684eb6.json"
       },
       "hconcat": [
        {
         "encoding": {
          "tooltip": [
           {
            "field": "availability_365",
            "type": "quantitative"
           },
           {
            "aggregate": "mean",
            "field": "price",
            "type": "quantitative"
           }
          ],
          "x": {
           "bin": {
            "maxbins": 20
           },
           "field": "availability_365",
           "title": "Availability (365 days)",
           "type": "ordinal"
          },
          "y": {
           "aggregate": "mean",
           "field": "price",
           "title": "Average Price (USD)",
           "type": "quantitative"
          }
         },
         "mark": {
          "type": "bar"
         },
         "title": "Availability vs Pricing Strategies"
        },
        {
         "encoding": {
          "tooltip": [
           {
            "field": "minimum_nights",
            "type": "quantitative"
           },
           {
            "aggregate": "mean",
            "field": "price",
            "type": "quantitative"
           }
          ],
          "x": {
           "bin": {
            "maxbins": 30
           },
           "field": "minimum_nights",
           "title": "Minimum Nights",
           "type": "ordinal"
          },
          "y": {
           "aggregate": "mean",
           "field": "price",
           "title": "Average Price (USD)",
           "type": "quantitative"
          }
         },
         "mark": {
          "type": "bar"
         },
         "title": "Pricing Strategies: Minimum Nights"
        }
       ]
      },
      "text/plain": [
       "<VegaLite 5 object>\n",
       "\n",
       "If you see this message, it means the renderer has not been properly enabled\n",
       "for the frontend that you are using. For more information, see\n",
       "https://altair-viz.github.io/user_guide/display_frontends.html#troubleshooting\n"
      ]
     },
     "execution_count": 17,
     "metadata": {},
     "output_type": "execute_result"
    }
   ],
   "source": [
    "availability_bar = alt.Chart(df_cleaned).mark_bar().encode(\n",
    "    x=alt.X(\"availability_365:O\", title=\"Availability (365 days)\", bin=alt.BinParams(maxbins=20)),\n",
    "    y=alt.Y(\"mean(price):Q\", title=\"Average Price (USD)\"),\n",
    "    tooltip=[\"availability_365\", \"mean(price)\"]\n",
    ").properties(title=\"Availability vs Pricing Strategies\")\n",
    "\n",
    "availability_chart = alt.Chart(df_cleaned).mark_bar().encode(\n",
    "    x=alt.X(\"minimum_nights:O\", title=\"Minimum Nights\", bin=alt.BinParams(maxbins=30)),\n",
    "    y=alt.Y(\"mean(price):Q\", title=\"Average Price (USD)\"),\n",
    "    tooltip=[\"minimum_nights\", \"mean(price):Q\"]\n",
    ").properties(title=\"Pricing Strategies: Minimum Nights\")\n",
    "\n",
    "availability_bar | availability_chart"
   ]
  },
  {
   "cell_type": "markdown",
   "metadata": {},
   "source": [
    "- For availability, we see that the price remains quite uniform regardless of the annual availability of a listing, except for 100-120 days. This may be an outlier due to data imbalance, however more evidence is required to justify this trend\n",
    "- For minimum nights, we see that 0-50 minimum night listings have the highest average price and more than 50 minimum nights have lower average prices. This makes sense as short-term rentals like hotel rooms would logically be more expensive than long-term rentals who may provide discounts to long-term renters."
   ]
  },
  {
   "cell_type": "markdown",
   "metadata": {},
   "source": [
    "# Task Analysis\n",
    "\n",
    "## Key Research Questions and Task Mapping\n",
    "\n",
    "### **1. How does room type impact price variations?**\n",
    "- **Retrieve Value**: Extract `room_type` and `price`.\n",
    "- **Characterize Distribution**: Visualize the spread of prices for different room types.\n",
    "- **Find Extremum**: Identify the most and least expensive room types.\n",
    "- **Sort**: Rank room types by average price.\n",
    "- **Visualizations:**\n",
    "  - Box plot of room type vs. price.\n",
    "  - Bar chart of average price per room type.\n",
    "\n",
    "### **2. What is the effect of location (neighborhood group, latitude, and longitude) on price differences?**\n",
    "- **Retrieve Value**: Extract `neighbourhood_group_cleansed`, `latitude`, `longitude`, and `price`.\n",
    "- **Characterize Distribution**: Visualize price variations across different locations.\n",
    "- **Determine Range**: Identify areas with the highest and lowest price variations.\n",
    "- **Find Anomalies**: Detect outlier neighborhoods with extreme pricing.\n",
    "- **Visualizations:**\n",
    "  - Geographic heatmap of price by location.\n",
    "  - Bar chart of average price per neighborhood group.\n",
    "  - Scatter plot of latitude vs. longitude colored by price.\n",
    "\n",
    "### **3. Does the host's listing count or years of hosting (host_since) influence listing prices?**\n",
    "- **Retrieve Value**: Extract `host_since`, `host_listings_count`, and `price`.\n",
    "- **Compute Derived Value**: Calculate host tenure (years since `host_since`).\n",
    "- **Find Anomalies**: Identify whether long-time hosts charge significantly higher or lower prices.\n",
    "- **Correlate**: Analyze the relationship between host tenure/listing count and pricing.\n",
    "- **Visualizations:**\n",
    "  - Line chart of years of hosting vs. average price.\n",
    "  - Scatter plot of host listing count vs. price.\n",
    "  - Bar chart of price variations by host listing count.\n",
    "\n",
    "### **4. How do reviews per month, review scores, and the total number of reviews correlate with pricing?**\n",
    "- **Retrieve Value**: Extract `reviews_per_month`, `review_scores_rating`, `number_of_reviews`, and `price`.\n",
    "- **Characterize Distribution**: Examine how review frequency and ratings relate to pricing.\n",
    "- **Find Extremum**: Identify listings with the highest/lowest review scores and their price trends.\n",
    "- **Correlate**: Analyze the impact of reviews on pricing.\n",
    "- **Visualizations:**\n",
    "  - Binned bar chart of reviews per month vs. average price.\n",
    "  - Scatter plot of review scores vs. price.\n",
    "  - Correlation heatmap of reviews and pricing-related attributes.\n",
    "\n",
    "### **5. What role does availability over 365 days and minimum nights play in pricing strategies?**\n",
    "- **Retrieve Value**: Extract `availability_365`, `minimum_nights`, and `price`.\n",
    "- **Find Extremum**: Identify listings with extreme availability values and their pricing strategies.\n",
    "- **Filter**: Compare listings with low and high availability.\n",
    "- **Sort**: Rank availability and minimum night requirements by price.\n",
    "- **Visualizations:**\n",
    "  - Scatter plot of availability_365 vs. price.\n",
    "  - Bar chart of minimum nights vs. average price.\n",
    "  - Grouped bar chart of pricing trends for different availability levels."
   ]
  }
 ],
 "metadata": {
  "kernelspec": {
   "display_name": "Python 3 (ipykernel)",
   "language": "python",
   "name": "python3"
  },
  "language_info": {
   "codemirror_mode": {
    "name": "ipython",
    "version": 3
   },
   "file_extension": ".py",
   "mimetype": "text/x-python",
   "name": "python",
   "nbconvert_exporter": "python",
   "pygments_lexer": "ipython3",
   "version": "3.12.8"
  }
 },
 "nbformat": 4,
 "nbformat_minor": 4
}
