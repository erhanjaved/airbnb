{
 "cells": [
  {
   "cell_type": "markdown",
   "metadata": {},
   "source": [
    "# Erhan Asad Javed"
   ]
  },
  {
   "cell_type": "markdown",
   "metadata": {},
   "source": [
    "## Pricing & Affordability Trends in NYC\n",
    "\n",
    "#### What factors determine the price of an Airbnb listing in NYC?\n",
    "\n",
    "\n",
    "#### Key research questions:\n",
    "- How does room type impact price variations?\n",
    "- What is the effect of location (neighborhood group, latitude, and longitude) on price differences?\n",
    "- Does the host's listing count or years of hosting (host_since) influence listing prices?\n",
    "- How do reviews per month, review scores, and the total number of reviews correlate with pricing?\n",
    "- What role does availability over 365 days and minimum nights play in pricing strategies?"
   ]
  },
  {
   "cell_type": "markdown",
   "metadata": {},
   "source": [
    "## EDA"
   ]
  },
  {
   "cell_type": "markdown",
   "metadata": {},
   "source": [
    "### Imports"
   ]
  },
  {
   "cell_type": "code",
   "execution_count": 3,
   "metadata": {},
   "outputs": [],
   "source": [
    "import os\n",
    "\n",
    "import altair as alt\n",
    "import pandas as pd\n",
    "from toolz.curried import pipe\n",
    "import numpy as np\n",
    "import sys\n",
    "\n",
    "# Create a new data transformer that stores the files in a directory\n",
    "def json_dir(data, data_dir='altairdata'):\n",
    "    os.makedirs(data_dir, exist_ok=True)\n",
    "    return pipe(data, alt.to_json(filename=data_dir + '/{prefix}-{hash}.{extension}') )\n",
    "\n",
    "# Register and enable the new transformer\n",
    "alt.data_transformers.register('json_dir', json_dir)\n",
    "alt.data_transformers.enable('json_dir')\n",
    "\n",
    "# Handle large data sets (default shows only 5000)\n",
    "# See here: https://altair-viz.github.io/user_guide/data_transformers.html\n",
    "alt.data_transformers.disable_max_rows()\n",
    "\n",
    "alt.renderers.enable('jupyterlab')\n",
    "\n",
    "sys.path.append(os.path.abspath(\"../../code\"))\n",
    "from cleaning_workflows import prepare_dataset"
   ]
  },
  {
   "cell_type": "markdown",
   "metadata": {},
   "source": [
    "### Loading in the data"
   ]
  },
  {
   "cell_type": "code",
   "execution_count": 4,
   "metadata": {},
   "outputs": [
    {
     "data": {
      "text/html": [
       "<div>\n",
       "<style scoped>\n",
       "    .dataframe tbody tr th:only-of-type {\n",
       "        vertical-align: middle;\n",
       "    }\n",
       "\n",
       "    .dataframe tbody tr th {\n",
       "        vertical-align: top;\n",
       "    }\n",
       "\n",
       "    .dataframe thead th {\n",
       "        text-align: right;\n",
       "    }\n",
       "</style>\n",
       "<table border=\"1\" class=\"dataframe\">\n",
       "  <thead>\n",
       "    <tr style=\"text-align: right;\">\n",
       "      <th></th>\n",
       "      <th>id</th>\n",
       "      <th>listing_url</th>\n",
       "      <th>scrape_id</th>\n",
       "      <th>last_scraped</th>\n",
       "      <th>source</th>\n",
       "      <th>name</th>\n",
       "      <th>description</th>\n",
       "      <th>neighborhood_overview</th>\n",
       "      <th>picture_url</th>\n",
       "      <th>host_id</th>\n",
       "      <th>...</th>\n",
       "      <th>review_scores_communication</th>\n",
       "      <th>review_scores_location</th>\n",
       "      <th>review_scores_value</th>\n",
       "      <th>license</th>\n",
       "      <th>instant_bookable</th>\n",
       "      <th>calculated_host_listings_count</th>\n",
       "      <th>calculated_host_listings_count_entire_homes</th>\n",
       "      <th>calculated_host_listings_count_private_rooms</th>\n",
       "      <th>calculated_host_listings_count_shared_rooms</th>\n",
       "      <th>reviews_per_month</th>\n",
       "    </tr>\n",
       "  </thead>\n",
       "  <tbody>\n",
       "    <tr>\n",
       "      <th>0</th>\n",
       "      <td>39572</td>\n",
       "      <td>https://www.airbnb.com/rooms/39572</td>\n",
       "      <td>20250103033441</td>\n",
       "      <td>2025-01-03</td>\n",
       "      <td>city scrape</td>\n",
       "      <td>1 br in a 2 br apt (Midtown West)</td>\n",
       "      <td>NaN</td>\n",
       "      <td>NaN</td>\n",
       "      <td>https://a0.muscache.com/pictures/fd1bffd9-ccf8...</td>\n",
       "      <td>169927</td>\n",
       "      <td>...</td>\n",
       "      <td>5.00</td>\n",
       "      <td>4.98</td>\n",
       "      <td>4.86</td>\n",
       "      <td>NaN</td>\n",
       "      <td>f</td>\n",
       "      <td>2</td>\n",
       "      <td>1</td>\n",
       "      <td>1</td>\n",
       "      <td>0</td>\n",
       "      <td>0.25</td>\n",
       "    </tr>\n",
       "    <tr>\n",
       "      <th>1</th>\n",
       "      <td>39593</td>\n",
       "      <td>https://www.airbnb.com/rooms/39593</td>\n",
       "      <td>20250103033441</td>\n",
       "      <td>2025-01-03</td>\n",
       "      <td>city scrape</td>\n",
       "      <td>A lovely room w/ a Manhattan view</td>\n",
       "      <td>A private, furnished  large room to rent Jan/F...</td>\n",
       "      <td>Nate Silver called this super safe, clean, qui...</td>\n",
       "      <td>https://a0.muscache.com/pictures/0b9110f7-3b24...</td>\n",
       "      <td>110506</td>\n",
       "      <td>...</td>\n",
       "      <td>4.96</td>\n",
       "      <td>4.79</td>\n",
       "      <td>4.93</td>\n",
       "      <td>NaN</td>\n",
       "      <td>f</td>\n",
       "      <td>1</td>\n",
       "      <td>0</td>\n",
       "      <td>1</td>\n",
       "      <td>0</td>\n",
       "      <td>0.20</td>\n",
       "    </tr>\n",
       "    <tr>\n",
       "      <th>2</th>\n",
       "      <td>39704</td>\n",
       "      <td>https://www.airbnb.com/rooms/39704</td>\n",
       "      <td>20250103033441</td>\n",
       "      <td>2025-01-03</td>\n",
       "      <td>previous scrape</td>\n",
       "      <td>Private, Large &amp; Sunny 1BR w/W&amp;D</td>\n",
       "      <td>It's a No Brainer:&lt;br /&gt;•Terrific Space For Le...</td>\n",
       "      <td>The Neighborhood&lt;br /&gt;• Rich History &lt;br /&gt;• B...</td>\n",
       "      <td>https://a0.muscache.com/pictures/0bc4e8a4-c047...</td>\n",
       "      <td>170510</td>\n",
       "      <td>...</td>\n",
       "      <td>4.92</td>\n",
       "      <td>4.38</td>\n",
       "      <td>4.72</td>\n",
       "      <td>NaN</td>\n",
       "      <td>f</td>\n",
       "      <td>2</td>\n",
       "      <td>2</td>\n",
       "      <td>0</td>\n",
       "      <td>0</td>\n",
       "      <td>1.93</td>\n",
       "    </tr>\n",
       "    <tr>\n",
       "      <th>3</th>\n",
       "      <td>42300</td>\n",
       "      <td>https://www.airbnb.com/rooms/42300</td>\n",
       "      <td>20250103033441</td>\n",
       "      <td>2025-01-03</td>\n",
       "      <td>city scrape</td>\n",
       "      <td>Beautiful Lower East Side Loft</td>\n",
       "      <td>Architect-owned loft is a corner unit in a bea...</td>\n",
       "      <td>The apartment is in the border of Soho, LES an...</td>\n",
       "      <td>https://a0.muscache.com/pictures/0e285e13-ee14...</td>\n",
       "      <td>184755</td>\n",
       "      <td>...</td>\n",
       "      <td>4.87</td>\n",
       "      <td>4.57</td>\n",
       "      <td>4.62</td>\n",
       "      <td>NaN</td>\n",
       "      <td>f</td>\n",
       "      <td>1</td>\n",
       "      <td>1</td>\n",
       "      <td>0</td>\n",
       "      <td>0</td>\n",
       "      <td>0.40</td>\n",
       "    </tr>\n",
       "    <tr>\n",
       "      <th>4</th>\n",
       "      <td>42729</td>\n",
       "      <td>https://www.airbnb.com/rooms/42729</td>\n",
       "      <td>20250103033441</td>\n",
       "      <td>2025-01-03</td>\n",
       "      <td>city scrape</td>\n",
       "      <td>@HouseOnHenrySt - Private 2nd bedroom w/shared...</td>\n",
       "      <td>NaN</td>\n",
       "      <td>Lovely old Brooklyn neighborhood, with brick/b...</td>\n",
       "      <td>https://a0.muscache.com/pictures/925fe213-f5e1...</td>\n",
       "      <td>11481</td>\n",
       "      <td>...</td>\n",
       "      <td>4.73</td>\n",
       "      <td>4.58</td>\n",
       "      <td>4.64</td>\n",
       "      <td>NaN</td>\n",
       "      <td>f</td>\n",
       "      <td>4</td>\n",
       "      <td>1</td>\n",
       "      <td>3</td>\n",
       "      <td>0</td>\n",
       "      <td>1.26</td>\n",
       "    </tr>\n",
       "  </tbody>\n",
       "</table>\n",
       "<p>5 rows × 75 columns</p>\n",
       "</div>"
      ],
      "text/plain": [
       "      id                         listing_url       scrape_id last_scraped  \\\n",
       "0  39572  https://www.airbnb.com/rooms/39572  20250103033441   2025-01-03   \n",
       "1  39593  https://www.airbnb.com/rooms/39593  20250103033441   2025-01-03   \n",
       "2  39704  https://www.airbnb.com/rooms/39704  20250103033441   2025-01-03   \n",
       "3  42300  https://www.airbnb.com/rooms/42300  20250103033441   2025-01-03   \n",
       "4  42729  https://www.airbnb.com/rooms/42729  20250103033441   2025-01-03   \n",
       "\n",
       "            source                                               name  \\\n",
       "0      city scrape                  1 br in a 2 br apt (Midtown West)   \n",
       "1      city scrape                  A lovely room w/ a Manhattan view   \n",
       "2  previous scrape                   Private, Large & Sunny 1BR w/W&D   \n",
       "3      city scrape                     Beautiful Lower East Side Loft   \n",
       "4      city scrape  @HouseOnHenrySt - Private 2nd bedroom w/shared...   \n",
       "\n",
       "                                         description  \\\n",
       "0                                                NaN   \n",
       "1  A private, furnished  large room to rent Jan/F...   \n",
       "2  It's a No Brainer:<br />•Terrific Space For Le...   \n",
       "3  Architect-owned loft is a corner unit in a bea...   \n",
       "4                                                NaN   \n",
       "\n",
       "                               neighborhood_overview  \\\n",
       "0                                                NaN   \n",
       "1  Nate Silver called this super safe, clean, qui...   \n",
       "2  The Neighborhood<br />• Rich History <br />• B...   \n",
       "3  The apartment is in the border of Soho, LES an...   \n",
       "4  Lovely old Brooklyn neighborhood, with brick/b...   \n",
       "\n",
       "                                         picture_url  host_id  ...  \\\n",
       "0  https://a0.muscache.com/pictures/fd1bffd9-ccf8...   169927  ...   \n",
       "1  https://a0.muscache.com/pictures/0b9110f7-3b24...   110506  ...   \n",
       "2  https://a0.muscache.com/pictures/0bc4e8a4-c047...   170510  ...   \n",
       "3  https://a0.muscache.com/pictures/0e285e13-ee14...   184755  ...   \n",
       "4  https://a0.muscache.com/pictures/925fe213-f5e1...    11481  ...   \n",
       "\n",
       "  review_scores_communication review_scores_location review_scores_value  \\\n",
       "0                        5.00                   4.98                4.86   \n",
       "1                        4.96                   4.79                4.93   \n",
       "2                        4.92                   4.38                4.72   \n",
       "3                        4.87                   4.57                4.62   \n",
       "4                        4.73                   4.58                4.64   \n",
       "\n",
       "  license instant_bookable calculated_host_listings_count  \\\n",
       "0     NaN                f                              2   \n",
       "1     NaN                f                              1   \n",
       "2     NaN                f                              2   \n",
       "3     NaN                f                              1   \n",
       "4     NaN                f                              4   \n",
       "\n",
       "  calculated_host_listings_count_entire_homes  \\\n",
       "0                                           1   \n",
       "1                                           0   \n",
       "2                                           2   \n",
       "3                                           1   \n",
       "4                                           1   \n",
       "\n",
       "  calculated_host_listings_count_private_rooms  \\\n",
       "0                                            1   \n",
       "1                                            1   \n",
       "2                                            0   \n",
       "3                                            0   \n",
       "4                                            3   \n",
       "\n",
       "  calculated_host_listings_count_shared_rooms reviews_per_month  \n",
       "0                                           0              0.25  \n",
       "1                                           0              0.20  \n",
       "2                                           0              1.93  \n",
       "3                                           0              0.40  \n",
       "4                                           0              1.26  \n",
       "\n",
       "[5 rows x 75 columns]"
      ]
     },
     "execution_count": 4,
     "metadata": {},
     "output_type": "execute_result"
    }
   ],
   "source": [
    "df = pd.read_csv('../../data/raw/listings.csv', parse_dates=['first_review', 'last_review'])\n",
    "\n",
    "df.head()\n"
   ]
  },
  {
   "cell_type": "code",
   "execution_count": 6,
   "metadata": {},
   "outputs": [],
   "source": [
    "df_cleaned = prepare_dataset(df)"
   ]
  },
  {
   "cell_type": "code",
   "execution_count": 7,
   "metadata": {},
   "outputs": [
    {
     "data": {
      "text/html": [
       "<div>\n",
       "<style scoped>\n",
       "    .dataframe tbody tr th:only-of-type {\n",
       "        vertical-align: middle;\n",
       "    }\n",
       "\n",
       "    .dataframe tbody tr th {\n",
       "        vertical-align: top;\n",
       "    }\n",
       "\n",
       "    .dataframe thead th {\n",
       "        text-align: right;\n",
       "    }\n",
       "</style>\n",
       "<table border=\"1\" class=\"dataframe\">\n",
       "  <thead>\n",
       "    <tr style=\"text-align: right;\">\n",
       "      <th></th>\n",
       "      <th>name</th>\n",
       "      <th>description</th>\n",
       "      <th>neighborhood_overview</th>\n",
       "      <th>host_id</th>\n",
       "      <th>host_since</th>\n",
       "      <th>host_location</th>\n",
       "      <th>host_about</th>\n",
       "      <th>host_response_time</th>\n",
       "      <th>host_response_rate</th>\n",
       "      <th>host_acceptance_rate</th>\n",
       "      <th>...</th>\n",
       "      <th>review_scores_checkin</th>\n",
       "      <th>review_scores_communication</th>\n",
       "      <th>review_scores_location</th>\n",
       "      <th>review_scores_value</th>\n",
       "      <th>instant_bookable</th>\n",
       "      <th>calculated_host_listings_count</th>\n",
       "      <th>calculated_host_listings_count_entire_homes</th>\n",
       "      <th>calculated_host_listings_count_private_rooms</th>\n",
       "      <th>calculated_host_listings_count_shared_rooms</th>\n",
       "      <th>reviews_per_month</th>\n",
       "    </tr>\n",
       "  </thead>\n",
       "  <tbody>\n",
       "    <tr>\n",
       "      <th>0</th>\n",
       "      <td>1 br in a 2 br apt (Midtown West)</td>\n",
       "      <td>No description available</td>\n",
       "      <td>No overview available</td>\n",
       "      <td>169927</td>\n",
       "      <td>2010-07-17</td>\n",
       "      <td>Saint-Aubin-sur-Scie, France</td>\n",
       "      <td>Facebook Likes:\\r\\nNew York French Geek, David...</td>\n",
       "      <td>within a day</td>\n",
       "      <td>1.00</td>\n",
       "      <td>0.88</td>\n",
       "      <td>...</td>\n",
       "      <td>4.98</td>\n",
       "      <td>5.00</td>\n",
       "      <td>4.98</td>\n",
       "      <td>4.86</td>\n",
       "      <td>f</td>\n",
       "      <td>2</td>\n",
       "      <td>1</td>\n",
       "      <td>1</td>\n",
       "      <td>0</td>\n",
       "      <td>0.25</td>\n",
       "    </tr>\n",
       "    <tr>\n",
       "      <th>1</th>\n",
       "      <td>A lovely room w/ a Manhattan view</td>\n",
       "      <td>A private, furnished  large room to rent Jan/F...</td>\n",
       "      <td>Nate Silver called this super safe, clean, qui...</td>\n",
       "      <td>110506</td>\n",
       "      <td>2010-04-18</td>\n",
       "      <td>New York, NY</td>\n",
       "      <td>I grew up in South Korea, moved to Montreal, C...</td>\n",
       "      <td>within a few hours</td>\n",
       "      <td>1.00</td>\n",
       "      <td>0.60</td>\n",
       "      <td>...</td>\n",
       "      <td>4.96</td>\n",
       "      <td>4.96</td>\n",
       "      <td>4.79</td>\n",
       "      <td>4.93</td>\n",
       "      <td>f</td>\n",
       "      <td>1</td>\n",
       "      <td>0</td>\n",
       "      <td>1</td>\n",
       "      <td>0</td>\n",
       "      <td>0.20</td>\n",
       "    </tr>\n",
       "    <tr>\n",
       "      <th>2</th>\n",
       "      <td>Private, Large &amp; Sunny 1BR w/W&amp;D</td>\n",
       "      <td>It's a No Brainer:&lt;br /&gt;•Terrific Space For Le...</td>\n",
       "      <td>The Neighborhood&lt;br /&gt;• Rich History &lt;br /&gt;• B...</td>\n",
       "      <td>170510</td>\n",
       "      <td>2010-07-18</td>\n",
       "      <td>New York, United States</td>\n",
       "      <td>I am a self employed licensed real estate brok...</td>\n",
       "      <td>No response time</td>\n",
       "      <td>1.00</td>\n",
       "      <td>0.88</td>\n",
       "      <td>...</td>\n",
       "      <td>4.89</td>\n",
       "      <td>4.92</td>\n",
       "      <td>4.38</td>\n",
       "      <td>4.72</td>\n",
       "      <td>f</td>\n",
       "      <td>2</td>\n",
       "      <td>2</td>\n",
       "      <td>0</td>\n",
       "      <td>0</td>\n",
       "      <td>1.93</td>\n",
       "    </tr>\n",
       "    <tr>\n",
       "      <th>3</th>\n",
       "      <td>Beautiful Lower East Side Loft</td>\n",
       "      <td>Architect-owned loft is a corner unit in a bea...</td>\n",
       "      <td>The apartment is in the border of Soho, LES an...</td>\n",
       "      <td>184755</td>\n",
       "      <td>2010-07-29</td>\n",
       "      <td>New York, NY</td>\n",
       "      <td>I am an architect living in NYC and have my ow...</td>\n",
       "      <td>within a day</td>\n",
       "      <td>1.00</td>\n",
       "      <td>1.00</td>\n",
       "      <td>...</td>\n",
       "      <td>4.85</td>\n",
       "      <td>4.87</td>\n",
       "      <td>4.57</td>\n",
       "      <td>4.62</td>\n",
       "      <td>f</td>\n",
       "      <td>1</td>\n",
       "      <td>1</td>\n",
       "      <td>0</td>\n",
       "      <td>0</td>\n",
       "      <td>0.40</td>\n",
       "    </tr>\n",
       "    <tr>\n",
       "      <th>4</th>\n",
       "      <td>@HouseOnHenrySt - Private 2nd bedroom w/shared...</td>\n",
       "      <td>No description available</td>\n",
       "      <td>Lovely old Brooklyn neighborhood, with brick/b...</td>\n",
       "      <td>11481</td>\n",
       "      <td>2009-03-26</td>\n",
       "      <td>New York, NY</td>\n",
       "      <td>I have been a host with Airbnb since its intro...</td>\n",
       "      <td>within a day</td>\n",
       "      <td>0.67</td>\n",
       "      <td>0.33</td>\n",
       "      <td>...</td>\n",
       "      <td>4.71</td>\n",
       "      <td>4.73</td>\n",
       "      <td>4.58</td>\n",
       "      <td>4.64</td>\n",
       "      <td>f</td>\n",
       "      <td>4</td>\n",
       "      <td>1</td>\n",
       "      <td>3</td>\n",
       "      <td>0</td>\n",
       "      <td>1.26</td>\n",
       "    </tr>\n",
       "  </tbody>\n",
       "</table>\n",
       "<p>5 rows × 57 columns</p>\n",
       "</div>"
      ],
      "text/plain": [
       "                                                name  \\\n",
       "0                  1 br in a 2 br apt (Midtown West)   \n",
       "1                  A lovely room w/ a Manhattan view   \n",
       "2                   Private, Large & Sunny 1BR w/W&D   \n",
       "3                     Beautiful Lower East Side Loft   \n",
       "4  @HouseOnHenrySt - Private 2nd bedroom w/shared...   \n",
       "\n",
       "                                         description  \\\n",
       "0                           No description available   \n",
       "1  A private, furnished  large room to rent Jan/F...   \n",
       "2  It's a No Brainer:<br />•Terrific Space For Le...   \n",
       "3  Architect-owned loft is a corner unit in a bea...   \n",
       "4                           No description available   \n",
       "\n",
       "                               neighborhood_overview  host_id host_since  \\\n",
       "0                              No overview available   169927 2010-07-17   \n",
       "1  Nate Silver called this super safe, clean, qui...   110506 2010-04-18   \n",
       "2  The Neighborhood<br />• Rich History <br />• B...   170510 2010-07-18   \n",
       "3  The apartment is in the border of Soho, LES an...   184755 2010-07-29   \n",
       "4  Lovely old Brooklyn neighborhood, with brick/b...    11481 2009-03-26   \n",
       "\n",
       "                  host_location  \\\n",
       "0  Saint-Aubin-sur-Scie, France   \n",
       "1                  New York, NY   \n",
       "2       New York, United States   \n",
       "3                  New York, NY   \n",
       "4                  New York, NY   \n",
       "\n",
       "                                          host_about  host_response_time  \\\n",
       "0  Facebook Likes:\\r\\nNew York French Geek, David...        within a day   \n",
       "1  I grew up in South Korea, moved to Montreal, C...  within a few hours   \n",
       "2  I am a self employed licensed real estate brok...    No response time   \n",
       "3  I am an architect living in NYC and have my ow...        within a day   \n",
       "4  I have been a host with Airbnb since its intro...        within a day   \n",
       "\n",
       "   host_response_rate  host_acceptance_rate  ... review_scores_checkin  \\\n",
       "0                1.00                  0.88  ...                  4.98   \n",
       "1                1.00                  0.60  ...                  4.96   \n",
       "2                1.00                  0.88  ...                  4.89   \n",
       "3                1.00                  1.00  ...                  4.85   \n",
       "4                0.67                  0.33  ...                  4.71   \n",
       "\n",
       "  review_scores_communication  review_scores_location  review_scores_value  \\\n",
       "0                        5.00                    4.98                 4.86   \n",
       "1                        4.96                    4.79                 4.93   \n",
       "2                        4.92                    4.38                 4.72   \n",
       "3                        4.87                    4.57                 4.62   \n",
       "4                        4.73                    4.58                 4.64   \n",
       "\n",
       "  instant_bookable calculated_host_listings_count  \\\n",
       "0                f                              2   \n",
       "1                f                              1   \n",
       "2                f                              2   \n",
       "3                f                              1   \n",
       "4                f                              4   \n",
       "\n",
       "  calculated_host_listings_count_entire_homes  \\\n",
       "0                                           1   \n",
       "1                                           0   \n",
       "2                                           2   \n",
       "3                                           1   \n",
       "4                                           1   \n",
       "\n",
       "  calculated_host_listings_count_private_rooms  \\\n",
       "0                                            1   \n",
       "1                                            1   \n",
       "2                                            0   \n",
       "3                                            0   \n",
       "4                                            3   \n",
       "\n",
       "  calculated_host_listings_count_shared_rooms  reviews_per_month  \n",
       "0                                           0               0.25  \n",
       "1                                           0               0.20  \n",
       "2                                           0               1.93  \n",
       "3                                           0               0.40  \n",
       "4                                           0               1.26  \n",
       "\n",
       "[5 rows x 57 columns]"
      ]
     },
     "execution_count": 7,
     "metadata": {},
     "output_type": "execute_result"
    }
   ],
   "source": [
    "df_cleaned.head()"
   ]
  },
  {
   "cell_type": "code",
   "execution_count": 8,
   "metadata": {},
   "outputs": [
    {
     "name": "stdout",
     "output_type": "stream",
     "text": [
      "(37784, 57)\n",
      "Index(['name', 'description', 'neighborhood_overview', 'host_id', 'host_since',\n",
      "       'host_location', 'host_about', 'host_response_time',\n",
      "       'host_response_rate', 'host_acceptance_rate', 'host_is_superhost',\n",
      "       'host_neighbourhood', 'host_listings_count',\n",
      "       'host_total_listings_count', 'host_verifications',\n",
      "       'host_has_profile_pic', 'host_identity_verified',\n",
      "       'neighbourhood_cleansed', 'neighbourhood_group_cleansed', 'latitude',\n",
      "       'longitude', 'property_type', 'room_type', 'accommodates', 'bathrooms',\n",
      "       'bedrooms', 'beds', 'amenities', 'price', 'minimum_nights',\n",
      "       'maximum_nights', 'minimum_nights_avg_ntm', 'maximum_nights_avg_ntm',\n",
      "       'has_availability', 'availability_30', 'availability_60',\n",
      "       'availability_90', 'availability_365', 'calendar_last_scraped',\n",
      "       'number_of_reviews', 'number_of_reviews_ltm', 'number_of_reviews_l30d',\n",
      "       'first_review', 'last_review', 'review_scores_rating',\n",
      "       'review_scores_accuracy', 'review_scores_cleanliness',\n",
      "       'review_scores_checkin', 'review_scores_communication',\n",
      "       'review_scores_location', 'review_scores_value', 'instant_bookable',\n",
      "       'calculated_host_listings_count',\n",
      "       'calculated_host_listings_count_entire_homes',\n",
      "       'calculated_host_listings_count_private_rooms',\n",
      "       'calculated_host_listings_count_shared_rooms', 'reviews_per_month'],\n",
      "      dtype='object')\n"
     ]
    }
   ],
   "source": [
    "print(df_cleaned.shape)\n",
    "print(df_cleaned.columns)"
   ]
  },
  {
   "cell_type": "code",
   "execution_count": 9,
   "metadata": {},
   "outputs": [
    {
     "name": "stdout",
     "output_type": "stream",
     "text": [
      "<class 'pandas.core.frame.DataFrame'>\n",
      "RangeIndex: 37784 entries, 0 to 37783\n",
      "Data columns (total 57 columns):\n",
      " #   Column                                        Non-Null Count  Dtype         \n",
      "---  ------                                        --------------  -----         \n",
      " 0   name                                          37784 non-null  object        \n",
      " 1   description                                   37784 non-null  object        \n",
      " 2   neighborhood_overview                         37784 non-null  object        \n",
      " 3   host_id                                       37784 non-null  int64         \n",
      " 4   host_since                                    37784 non-null  datetime64[ns]\n",
      " 5   host_location                                 37784 non-null  object        \n",
      " 6   host_about                                    37784 non-null  object        \n",
      " 7   host_response_time                            37784 non-null  object        \n",
      " 8   host_response_rate                            37784 non-null  float64       \n",
      " 9   host_acceptance_rate                          37784 non-null  float64       \n",
      " 10  host_is_superhost                             37784 non-null  object        \n",
      " 11  host_neighbourhood                            37784 non-null  object        \n",
      " 12  host_listings_count                           37784 non-null  float64       \n",
      " 13  host_total_listings_count                     37784 non-null  float64       \n",
      " 14  host_verifications                            37784 non-null  object        \n",
      " 15  host_has_profile_pic                          37784 non-null  object        \n",
      " 16  host_identity_verified                        37784 non-null  object        \n",
      " 17  neighbourhood_cleansed                        37784 non-null  object        \n",
      " 18  neighbourhood_group_cleansed                  37784 non-null  object        \n",
      " 19  latitude                                      37784 non-null  float64       \n",
      " 20  longitude                                     37784 non-null  float64       \n",
      " 21  property_type                                 37784 non-null  object        \n",
      " 22  room_type                                     37784 non-null  object        \n",
      " 23  accommodates                                  37784 non-null  int64         \n",
      " 24  bathrooms                                     37784 non-null  float64       \n",
      " 25  bedrooms                                      37784 non-null  float64       \n",
      " 26  beds                                          37784 non-null  float64       \n",
      " 27  amenities                                     37784 non-null  object        \n",
      " 28  price                                         37784 non-null  float64       \n",
      " 29  minimum_nights                                37784 non-null  int64         \n",
      " 30  maximum_nights                                37784 non-null  int64         \n",
      " 31  minimum_nights_avg_ntm                        37784 non-null  float64       \n",
      " 32  maximum_nights_avg_ntm                        37784 non-null  float64       \n",
      " 33  has_availability                              37784 non-null  object        \n",
      " 34  availability_30                               37784 non-null  int64         \n",
      " 35  availability_60                               37784 non-null  int64         \n",
      " 36  availability_90                               37784 non-null  int64         \n",
      " 37  availability_365                              37784 non-null  int64         \n",
      " 38  calendar_last_scraped                         37784 non-null  datetime64[ns]\n",
      " 39  number_of_reviews                             37784 non-null  int64         \n",
      " 40  number_of_reviews_ltm                         37784 non-null  int64         \n",
      " 41  number_of_reviews_l30d                        37784 non-null  int64         \n",
      " 42  first_review                                  37784 non-null  datetime64[ns]\n",
      " 43  last_review                                   37784 non-null  datetime64[ns]\n",
      " 44  review_scores_rating                          37784 non-null  float64       \n",
      " 45  review_scores_accuracy                        37784 non-null  float64       \n",
      " 46  review_scores_cleanliness                     37784 non-null  float64       \n",
      " 47  review_scores_checkin                         37784 non-null  float64       \n",
      " 48  review_scores_communication                   37784 non-null  float64       \n",
      " 49  review_scores_location                        37784 non-null  float64       \n",
      " 50  review_scores_value                           37784 non-null  float64       \n",
      " 51  instant_bookable                              37784 non-null  object        \n",
      " 52  calculated_host_listings_count                37784 non-null  int64         \n",
      " 53  calculated_host_listings_count_entire_homes   37784 non-null  int64         \n",
      " 54  calculated_host_listings_count_private_rooms  37784 non-null  int64         \n",
      " 55  calculated_host_listings_count_shared_rooms   37784 non-null  int64         \n",
      " 56  reviews_per_month                             37784 non-null  float64       \n",
      "dtypes: datetime64[ns](4), float64(20), int64(15), object(18)\n",
      "memory usage: 16.4+ MB\n"
     ]
    }
   ],
   "source": [
    "df_cleaned.info()"
   ]
  },
  {
   "cell_type": "code",
   "execution_count": 10,
   "metadata": {},
   "outputs": [
    {
     "data": {
      "text/plain": [
       "name                                            0\n",
       "description                                     0\n",
       "neighborhood_overview                           0\n",
       "host_id                                         0\n",
       "host_since                                      0\n",
       "host_location                                   0\n",
       "host_about                                      0\n",
       "host_response_time                              0\n",
       "host_response_rate                              0\n",
       "host_acceptance_rate                            0\n",
       "host_is_superhost                               0\n",
       "host_neighbourhood                              0\n",
       "host_listings_count                             0\n",
       "host_total_listings_count                       0\n",
       "host_verifications                              0\n",
       "host_has_profile_pic                            0\n",
       "host_identity_verified                          0\n",
       "neighbourhood_cleansed                          0\n",
       "neighbourhood_group_cleansed                    0\n",
       "latitude                                        0\n",
       "longitude                                       0\n",
       "property_type                                   0\n",
       "room_type                                       0\n",
       "accommodates                                    0\n",
       "bathrooms                                       0\n",
       "bedrooms                                        0\n",
       "beds                                            0\n",
       "amenities                                       0\n",
       "price                                           0\n",
       "minimum_nights                                  0\n",
       "maximum_nights                                  0\n",
       "minimum_nights_avg_ntm                          0\n",
       "maximum_nights_avg_ntm                          0\n",
       "has_availability                                0\n",
       "availability_30                                 0\n",
       "availability_60                                 0\n",
       "availability_90                                 0\n",
       "availability_365                                0\n",
       "calendar_last_scraped                           0\n",
       "number_of_reviews                               0\n",
       "number_of_reviews_ltm                           0\n",
       "number_of_reviews_l30d                          0\n",
       "first_review                                    0\n",
       "last_review                                     0\n",
       "review_scores_rating                            0\n",
       "review_scores_accuracy                          0\n",
       "review_scores_cleanliness                       0\n",
       "review_scores_checkin                           0\n",
       "review_scores_communication                     0\n",
       "review_scores_location                          0\n",
       "review_scores_value                             0\n",
       "instant_bookable                                0\n",
       "calculated_host_listings_count                  0\n",
       "calculated_host_listings_count_entire_homes     0\n",
       "calculated_host_listings_count_private_rooms    0\n",
       "calculated_host_listings_count_shared_rooms     0\n",
       "reviews_per_month                               0\n",
       "dtype: int64"
      ]
     },
     "execution_count": 10,
     "metadata": {},
     "output_type": "execute_result"
    }
   ],
   "source": [
    "df_cleaned.isna().sum()"
   ]
  },
  {
   "cell_type": "code",
   "execution_count": 11,
   "metadata": {},
   "outputs": [
    {
     "name": "stdout",
     "output_type": "stream",
     "text": [
      "['host_id', 'host_response_rate', 'host_acceptance_rate', 'host_listings_count', 'host_total_listings_count', 'latitude', 'longitude', 'accommodates', 'bathrooms', 'bedrooms', 'beds', 'price', 'minimum_nights', 'maximum_nights', 'minimum_nights_avg_ntm', 'maximum_nights_avg_ntm', 'availability_30', 'availability_60', 'availability_90', 'availability_365', 'number_of_reviews', 'number_of_reviews_ltm', 'number_of_reviews_l30d', 'review_scores_rating', 'review_scores_accuracy', 'review_scores_cleanliness', 'review_scores_checkin', 'review_scores_communication', 'review_scores_location', 'review_scores_value', 'calculated_host_listings_count', 'calculated_host_listings_count_entire_homes', 'calculated_host_listings_count_private_rooms', 'calculated_host_listings_count_shared_rooms', 'reviews_per_month']\n"
     ]
    }
   ],
   "source": [
    "numerical_cols = df_cleaned.select_dtypes(include=['number']).columns.tolist()\n",
    "print(numerical_cols)"
   ]
  },
  {
   "cell_type": "code",
   "execution_count": 12,
   "metadata": {},
   "outputs": [
    {
     "name": "stdout",
     "output_type": "stream",
     "text": [
      "Index(['name', 'description', 'neighborhood_overview', 'host_location',\n",
      "       'host_about', 'host_response_time', 'host_is_superhost',\n",
      "       'host_neighbourhood', 'host_verifications', 'host_has_profile_pic',\n",
      "       'host_identity_verified', 'neighbourhood_cleansed',\n",
      "       'neighbourhood_group_cleansed', 'property_type', 'room_type',\n",
      "       'amenities', 'has_availability', 'instant_bookable'],\n",
      "      dtype='object')\n"
     ]
    }
   ],
   "source": [
    "object_cols = df_cleaned.select_dtypes(include=['object']).columns\n",
    "print(object_cols)"
   ]
  },
  {
   "cell_type": "code",
   "execution_count": 13,
   "metadata": {},
   "outputs": [
    {
     "data": {
      "text/html": [
       "<div>\n",
       "<style scoped>\n",
       "    .dataframe tbody tr th:only-of-type {\n",
       "        vertical-align: middle;\n",
       "    }\n",
       "\n",
       "    .dataframe tbody tr th {\n",
       "        vertical-align: top;\n",
       "    }\n",
       "\n",
       "    .dataframe thead th {\n",
       "        text-align: right;\n",
       "    }\n",
       "</style>\n",
       "<table border=\"1\" class=\"dataframe\">\n",
       "  <thead>\n",
       "    <tr style=\"text-align: right;\">\n",
       "      <th></th>\n",
       "      <th>host_id</th>\n",
       "      <th>host_since</th>\n",
       "      <th>host_response_rate</th>\n",
       "      <th>host_acceptance_rate</th>\n",
       "      <th>host_listings_count</th>\n",
       "      <th>host_total_listings_count</th>\n",
       "      <th>latitude</th>\n",
       "      <th>longitude</th>\n",
       "      <th>accommodates</th>\n",
       "      <th>bathrooms</th>\n",
       "      <th>...</th>\n",
       "      <th>review_scores_cleanliness</th>\n",
       "      <th>review_scores_checkin</th>\n",
       "      <th>review_scores_communication</th>\n",
       "      <th>review_scores_location</th>\n",
       "      <th>review_scores_value</th>\n",
       "      <th>calculated_host_listings_count</th>\n",
       "      <th>calculated_host_listings_count_entire_homes</th>\n",
       "      <th>calculated_host_listings_count_private_rooms</th>\n",
       "      <th>calculated_host_listings_count_shared_rooms</th>\n",
       "      <th>reviews_per_month</th>\n",
       "    </tr>\n",
       "  </thead>\n",
       "  <tbody>\n",
       "    <tr>\n",
       "      <th>count</th>\n",
       "      <td>3.778400e+04</td>\n",
       "      <td>37784</td>\n",
       "      <td>37784.000000</td>\n",
       "      <td>37784.000000</td>\n",
       "      <td>37784.000000</td>\n",
       "      <td>37784.000000</td>\n",
       "      <td>37784.000000</td>\n",
       "      <td>37784.000000</td>\n",
       "      <td>37784.000000</td>\n",
       "      <td>37784.000000</td>\n",
       "      <td>...</td>\n",
       "      <td>37784.000000</td>\n",
       "      <td>37784.000000</td>\n",
       "      <td>37784.000000</td>\n",
       "      <td>37784.000000</td>\n",
       "      <td>37784.000000</td>\n",
       "      <td>37784.000000</td>\n",
       "      <td>37784.000000</td>\n",
       "      <td>37784.000000</td>\n",
       "      <td>37784.000000</td>\n",
       "      <td>37784.000000</td>\n",
       "    </tr>\n",
       "    <tr>\n",
       "      <th>mean</th>\n",
       "      <td>1.698767e+08</td>\n",
       "      <td>2017-03-06 09:48:26.373067776</td>\n",
       "      <td>0.952508</td>\n",
       "      <td>0.812859</td>\n",
       "      <td>263.054864</td>\n",
       "      <td>351.429229</td>\n",
       "      <td>40.728805</td>\n",
       "      <td>-73.947311</td>\n",
       "      <td>2.754896</td>\n",
       "      <td>1.119654</td>\n",
       "      <td>...</td>\n",
       "      <td>4.704505</td>\n",
       "      <td>4.870094</td>\n",
       "      <td>4.867555</td>\n",
       "      <td>4.775639</td>\n",
       "      <td>4.676217</td>\n",
       "      <td>71.636354</td>\n",
       "      <td>45.435555</td>\n",
       "      <td>23.985232</td>\n",
       "      <td>0.005187</td>\n",
       "      <td>0.685365</td>\n",
       "    </tr>\n",
       "    <tr>\n",
       "      <th>min</th>\n",
       "      <td>1.678000e+03</td>\n",
       "      <td>2008-08-11 00:00:00</td>\n",
       "      <td>0.000000</td>\n",
       "      <td>0.000000</td>\n",
       "      <td>1.000000</td>\n",
       "      <td>1.000000</td>\n",
       "      <td>40.500366</td>\n",
       "      <td>-74.251907</td>\n",
       "      <td>1.000000</td>\n",
       "      <td>0.000000</td>\n",
       "      <td>...</td>\n",
       "      <td>0.000000</td>\n",
       "      <td>0.000000</td>\n",
       "      <td>0.000000</td>\n",
       "      <td>0.000000</td>\n",
       "      <td>0.000000</td>\n",
       "      <td>1.000000</td>\n",
       "      <td>0.000000</td>\n",
       "      <td>0.000000</td>\n",
       "      <td>0.000000</td>\n",
       "      <td>0.010000</td>\n",
       "    </tr>\n",
       "    <tr>\n",
       "      <th>25%</th>\n",
       "      <td>1.747741e+07</td>\n",
       "      <td>2014-07-07 00:00:00</td>\n",
       "      <td>1.000000</td>\n",
       "      <td>0.840000</td>\n",
       "      <td>1.000000</td>\n",
       "      <td>1.000000</td>\n",
       "      <td>40.688662</td>\n",
       "      <td>-73.983316</td>\n",
       "      <td>2.000000</td>\n",
       "      <td>1.000000</td>\n",
       "      <td>...</td>\n",
       "      <td>4.690000</td>\n",
       "      <td>4.890000</td>\n",
       "      <td>4.900000</td>\n",
       "      <td>4.750000</td>\n",
       "      <td>4.670000</td>\n",
       "      <td>1.000000</td>\n",
       "      <td>0.000000</td>\n",
       "      <td>0.000000</td>\n",
       "      <td>0.000000</td>\n",
       "      <td>0.160000</td>\n",
       "    </tr>\n",
       "    <tr>\n",
       "      <th>50%</th>\n",
       "      <td>8.703937e+07</td>\n",
       "      <td>2016-08-02 00:00:00</td>\n",
       "      <td>1.000000</td>\n",
       "      <td>0.880000</td>\n",
       "      <td>2.000000</td>\n",
       "      <td>3.000000</td>\n",
       "      <td>40.726379</td>\n",
       "      <td>-73.954930</td>\n",
       "      <td>2.000000</td>\n",
       "      <td>1.000000</td>\n",
       "      <td>...</td>\n",
       "      <td>4.810000</td>\n",
       "      <td>4.950000</td>\n",
       "      <td>4.960000</td>\n",
       "      <td>4.850000</td>\n",
       "      <td>4.760000</td>\n",
       "      <td>2.000000</td>\n",
       "      <td>1.000000</td>\n",
       "      <td>1.000000</td>\n",
       "      <td>0.000000</td>\n",
       "      <td>0.290000</td>\n",
       "    </tr>\n",
       "    <tr>\n",
       "      <th>75%</th>\n",
       "      <td>3.052402e+08</td>\n",
       "      <td>2019-10-29 00:00:00</td>\n",
       "      <td>1.000000</td>\n",
       "      <td>0.950000</td>\n",
       "      <td>10.000000</td>\n",
       "      <td>15.000000</td>\n",
       "      <td>40.762310</td>\n",
       "      <td>-73.928196</td>\n",
       "      <td>4.000000</td>\n",
       "      <td>1.000000</td>\n",
       "      <td>...</td>\n",
       "      <td>4.910000</td>\n",
       "      <td>5.000000</td>\n",
       "      <td>5.000000</td>\n",
       "      <td>4.950000</td>\n",
       "      <td>4.850000</td>\n",
       "      <td>9.000000</td>\n",
       "      <td>2.000000</td>\n",
       "      <td>2.000000</td>\n",
       "      <td>0.000000</td>\n",
       "      <td>0.550000</td>\n",
       "    </tr>\n",
       "    <tr>\n",
       "      <th>max</th>\n",
       "      <td>6.691812e+08</td>\n",
       "      <td>2024-12-27 00:00:00</td>\n",
       "      <td>1.000000</td>\n",
       "      <td>1.000000</td>\n",
       "      <td>5079.000000</td>\n",
       "      <td>9048.000000</td>\n",
       "      <td>40.911390</td>\n",
       "      <td>-73.713650</td>\n",
       "      <td>16.000000</td>\n",
       "      <td>15.500000</td>\n",
       "      <td>...</td>\n",
       "      <td>5.000000</td>\n",
       "      <td>5.000000</td>\n",
       "      <td>5.000000</td>\n",
       "      <td>5.000000</td>\n",
       "      <td>5.000000</td>\n",
       "      <td>1154.000000</td>\n",
       "      <td>1154.000000</td>\n",
       "      <td>739.000000</td>\n",
       "      <td>4.000000</td>\n",
       "      <td>116.300000</td>\n",
       "    </tr>\n",
       "    <tr>\n",
       "      <th>std</th>\n",
       "      <td>1.850207e+08</td>\n",
       "      <td>NaN</td>\n",
       "      <td>0.173547</td>\n",
       "      <td>0.232501</td>\n",
       "      <td>1000.361076</td>\n",
       "      <td>1196.815995</td>\n",
       "      <td>0.056120</td>\n",
       "      <td>0.054543</td>\n",
       "      <td>1.903900</td>\n",
       "      <td>0.442243</td>\n",
       "      <td>...</td>\n",
       "      <td>0.423313</td>\n",
       "      <td>0.317409</td>\n",
       "      <td>0.345344</td>\n",
       "      <td>0.331185</td>\n",
       "      <td>0.413567</td>\n",
       "      <td>224.585038</td>\n",
       "      <td>200.899492</td>\n",
       "      <td>109.136674</td>\n",
       "      <td>0.086848</td>\n",
       "      <td>1.584030</td>\n",
       "    </tr>\n",
       "  </tbody>\n",
       "</table>\n",
       "<p>8 rows × 39 columns</p>\n",
       "</div>"
      ],
      "text/plain": [
       "            host_id                     host_since  host_response_rate  \\\n",
       "count  3.778400e+04                          37784        37784.000000   \n",
       "mean   1.698767e+08  2017-03-06 09:48:26.373067776            0.952508   \n",
       "min    1.678000e+03            2008-08-11 00:00:00            0.000000   \n",
       "25%    1.747741e+07            2014-07-07 00:00:00            1.000000   \n",
       "50%    8.703937e+07            2016-08-02 00:00:00            1.000000   \n",
       "75%    3.052402e+08            2019-10-29 00:00:00            1.000000   \n",
       "max    6.691812e+08            2024-12-27 00:00:00            1.000000   \n",
       "std    1.850207e+08                            NaN            0.173547   \n",
       "\n",
       "       host_acceptance_rate  host_listings_count  host_total_listings_count  \\\n",
       "count          37784.000000         37784.000000               37784.000000   \n",
       "mean               0.812859           263.054864                 351.429229   \n",
       "min                0.000000             1.000000                   1.000000   \n",
       "25%                0.840000             1.000000                   1.000000   \n",
       "50%                0.880000             2.000000                   3.000000   \n",
       "75%                0.950000            10.000000                  15.000000   \n",
       "max                1.000000          5079.000000                9048.000000   \n",
       "std                0.232501          1000.361076                1196.815995   \n",
       "\n",
       "           latitude     longitude  accommodates     bathrooms  ...  \\\n",
       "count  37784.000000  37784.000000  37784.000000  37784.000000  ...   \n",
       "mean      40.728805    -73.947311      2.754896      1.119654  ...   \n",
       "min       40.500366    -74.251907      1.000000      0.000000  ...   \n",
       "25%       40.688662    -73.983316      2.000000      1.000000  ...   \n",
       "50%       40.726379    -73.954930      2.000000      1.000000  ...   \n",
       "75%       40.762310    -73.928196      4.000000      1.000000  ...   \n",
       "max       40.911390    -73.713650     16.000000     15.500000  ...   \n",
       "std        0.056120      0.054543      1.903900      0.442243  ...   \n",
       "\n",
       "       review_scores_cleanliness  review_scores_checkin  \\\n",
       "count               37784.000000           37784.000000   \n",
       "mean                    4.704505               4.870094   \n",
       "min                     0.000000               0.000000   \n",
       "25%                     4.690000               4.890000   \n",
       "50%                     4.810000               4.950000   \n",
       "75%                     4.910000               5.000000   \n",
       "max                     5.000000               5.000000   \n",
       "std                     0.423313               0.317409   \n",
       "\n",
       "       review_scores_communication  review_scores_location  \\\n",
       "count                 37784.000000            37784.000000   \n",
       "mean                      4.867555                4.775639   \n",
       "min                       0.000000                0.000000   \n",
       "25%                       4.900000                4.750000   \n",
       "50%                       4.960000                4.850000   \n",
       "75%                       5.000000                4.950000   \n",
       "max                       5.000000                5.000000   \n",
       "std                       0.345344                0.331185   \n",
       "\n",
       "       review_scores_value  calculated_host_listings_count  \\\n",
       "count         37784.000000                    37784.000000   \n",
       "mean              4.676217                       71.636354   \n",
       "min               0.000000                        1.000000   \n",
       "25%               4.670000                        1.000000   \n",
       "50%               4.760000                        2.000000   \n",
       "75%               4.850000                        9.000000   \n",
       "max               5.000000                     1154.000000   \n",
       "std               0.413567                      224.585038   \n",
       "\n",
       "       calculated_host_listings_count_entire_homes  \\\n",
       "count                                 37784.000000   \n",
       "mean                                     45.435555   \n",
       "min                                       0.000000   \n",
       "25%                                       0.000000   \n",
       "50%                                       1.000000   \n",
       "75%                                       2.000000   \n",
       "max                                    1154.000000   \n",
       "std                                     200.899492   \n",
       "\n",
       "       calculated_host_listings_count_private_rooms  \\\n",
       "count                                  37784.000000   \n",
       "mean                                      23.985232   \n",
       "min                                        0.000000   \n",
       "25%                                        0.000000   \n",
       "50%                                        1.000000   \n",
       "75%                                        2.000000   \n",
       "max                                      739.000000   \n",
       "std                                      109.136674   \n",
       "\n",
       "       calculated_host_listings_count_shared_rooms  reviews_per_month  \n",
       "count                                 37784.000000       37784.000000  \n",
       "mean                                      0.005187           0.685365  \n",
       "min                                       0.000000           0.010000  \n",
       "25%                                       0.000000           0.160000  \n",
       "50%                                       0.000000           0.290000  \n",
       "75%                                       0.000000           0.550000  \n",
       "max                                       4.000000         116.300000  \n",
       "std                                       0.086848           1.584030  \n",
       "\n",
       "[8 rows x 39 columns]"
      ]
     },
     "execution_count": 13,
     "metadata": {},
     "output_type": "execute_result"
    }
   ],
   "source": [
    "df_cleaned.describe()"
   ]
  },
  {
   "cell_type": "code",
   "execution_count": 14,
   "metadata": {},
   "outputs": [
    {
     "data": {
      "application/vnd.vegalite.v5+json": {
       "$schema": "https://vega.github.io/schema/vega-lite/v5.20.1.json",
       "config": {
        "view": {
         "continuousHeight": 300,
         "continuousWidth": 300
        }
       },
       "data": {
        "format": {
         "type": "json"
        },
        "url": "altairdata/altair-data-9a5ba08a64e5930c66c3cc9ce1afbb5f.json"
       },
       "encoding": {
        "color": {
         "field": "correlation",
         "scale": {
          "scheme": "blues"
         },
         "type": "quantitative"
        },
        "tooltip": [
         {
          "field": "index",
          "type": "nominal"
         },
         {
          "field": "variable",
          "type": "nominal"
         },
         {
          "field": "correlation",
          "type": "quantitative"
         }
        ],
        "x": {
         "field": "index",
         "title": "Attribute",
         "type": "nominal"
        },
        "y": {
         "field": "variable",
         "title": "Attribute",
         "type": "nominal"
        }
       },
       "height": 600,
       "mark": {
        "type": "rect"
       },
       "title": "Correlation Matrix of Numeric Attributes",
       "width": 600
      },
      "text/plain": [
       "<VegaLite 5 object>\n",
       "\n",
       "If you see this message, it means the renderer has not been properly enabled\n",
       "for the frontend that you are using. For more information, see\n",
       "https://altair-viz.github.io/user_guide/display_frontends.html#troubleshooting\n"
      ]
     },
     "execution_count": 14,
     "metadata": {},
     "output_type": "execute_result"
    }
   ],
   "source": [
    "# Compute correlation matrix\n",
    "correlation_matrix = df_cleaned[numerical_cols].corr().reset_index().melt(id_vars=[\"index\"], var_name=\"variable\", value_name=\"correlation\")\n",
    "\n",
    "# Create Altair heatmap\n",
    "heatmap = alt.Chart(correlation_matrix).mark_rect().encode(\n",
    "    x=alt.X(\"index:N\", title=\"Attribute\"),\n",
    "    y=alt.Y(\"variable:N\", title=\"Attribute\"),\n",
    "    color=alt.Color(\"correlation:Q\", scale=alt.Scale(scheme=\"blues\")),\n",
    "    tooltip=[\"index\", \"variable\", \"correlation\"]\n",
    ").properties(\n",
    "    title=\"Correlation Matrix of Numeric Attributes\",\n",
    "    width=600,\n",
    "    height=600\n",
    ")\n",
    "\n",
    "# Display visualization\n",
    "heatmap"
   ]
  },
  {
   "cell_type": "markdown",
   "metadata": {},
   "source": [
    "#### Some basic visualizations"
   ]
  },
  {
   "cell_type": "code",
   "execution_count": 15,
   "metadata": {},
   "outputs": [
    {
     "data": {
      "application/vnd.vegalite.v5+json": {
       "$schema": "https://vega.github.io/schema/vega-lite/v5.20.1.json",
       "config": {
        "view": {
         "continuousHeight": 300,
         "continuousWidth": 300
        }
       },
       "data": {
        "format": {
         "type": "json"
        },
        "url": "altairdata/altair-data-778af7bb546f3c37558392c896c23c02.json"
       },
       "encoding": {
        "color": {
         "field": "room_type",
         "type": "nominal"
        },
        "x": {
         "aggregate": "mean",
         "field": "price",
         "title": "Average Price (USD)",
         "type": "quantitative"
        },
        "y": {
         "field": "room_type",
         "sort": "x",
         "title": "Room Type",
         "type": "nominal"
        }
       },
       "mark": {
        "type": "bar"
       },
       "title": "Average Price by Room Type"
      },
      "text/plain": [
       "<VegaLite 5 object>\n",
       "\n",
       "If you see this message, it means the renderer has not been properly enabled\n",
       "for the frontend that you are using. For more information, see\n",
       "https://altair-viz.github.io/user_guide/display_frontends.html#troubleshooting\n"
      ]
     },
     "execution_count": 15,
     "metadata": {},
     "output_type": "execute_result"
    }
   ],
   "source": [
    "room_type_bar = alt.Chart(df_cleaned).mark_bar().encode(\n",
    "    y=alt.Y(\"room_type:N\", title=\"Room Type\", sort = \"x\"),\n",
    "    x=alt.X(\"mean(price):Q\", title=\"Average Price (USD)\"),\n",
    "    color=\"room_type:N\"\n",
    ").properties(title=\"Average Price by Room Type\")\n",
    "\n",
    "room_type_bar\n"
   ]
  },
  {
   "cell_type": "markdown",
   "metadata": {},
   "source": [
    "It seems that hotel rooms have the highest average price, followed by entire home/apt, which makes sense."
   ]
  },
  {
   "cell_type": "code",
   "execution_count": 16,
   "metadata": {},
   "outputs": [
    {
     "data": {
      "application/vnd.vegalite.v5+json": {
       "$schema": "https://vega.github.io/schema/vega-lite/v5.20.1.json",
       "config": {
        "view": {
         "continuousHeight": 300,
         "continuousWidth": 300
        }
       },
       "vconcat": [
        {
         "data": {
          "format": {
           "type": "json"
          },
          "url": "altairdata/altair-data-778af7bb546f3c37558392c896c23c02.json"
         },
         "encoding": {
          "color": {
           "field": "neighbourhood_group_cleansed",
           "type": "nominal"
          },
          "x": {
           "aggregate": "mean",
           "field": "price",
           "title": "Average Price (USD)",
           "type": "quantitative"
          },
          "y": {
           "field": "neighbourhood_group_cleansed",
           "sort": "x",
           "title": "Neighbourhood Group",
           "type": "nominal"
          }
         },
         "mark": {
          "type": "bar"
         },
         "title": "Price Variation by Neighbourhood Group"
        },
        {
         "data": {
          "format": {
           "type": "json"
          },
          "url": "altairdata/altair-data-7f8c4c79b371fe314bbb4338d8bfa569.json"
         },
         "encoding": {
          "color": {
           "field": "neighbourhood_group_cleansed",
           "legend": {
            "title": "Neighbourhood Group"
           },
           "type": "nominal"
          },
          "tooltip": [
           {
            "field": "neighbourhood_cleansed",
            "type": "nominal"
           },
           {
            "field": "price",
            "type": "quantitative"
           }
          ],
          "x": {
           "field": "price",
           "title": "Average Price (USD)",
           "type": "quantitative"
          },
          "y": {
           "field": "neighbourhood_cleansed",
           "sort": "-x",
           "title": "Neighbourhood",
           "type": "nominal"
          }
         },
         "mark": {
          "type": "bar"
         },
         "title": "Top 20 Neighbourhoods by Average Price"
        }
       ]
      },
      "text/plain": [
       "<VegaLite 5 object>\n",
       "\n",
       "If you see this message, it means the renderer has not been properly enabled\n",
       "for the frontend that you are using. For more information, see\n",
       "https://altair-viz.github.io/user_guide/display_frontends.html#troubleshooting\n"
      ]
     },
     "execution_count": 16,
     "metadata": {},
     "output_type": "execute_result"
    }
   ],
   "source": [
    "# Latitude, Longitude and Price\n",
    "geo_bar = alt.Chart(df_cleaned).mark_bar().encode(\n",
    "    y=alt.Y(\"neighbourhood_group_cleansed:N\", title=\"Neighbourhood Group\", sort = \"x\"),\n",
    "    x=alt.X(\"mean(price):Q\", title=\"Average Price (USD)\"),\n",
    "    color=\"neighbourhood_group_cleansed:N\"\n",
    ").properties(title=\"Price Variation by Neighbourhood Group\")\n",
    "\n",
    "top_neighbourhoods = df_cleaned.groupby([\"neighbourhood_cleansed\", \"neighbourhood_group_cleansed\"])[\"price\"].mean().nlargest(20).reset_index()\n",
    "top_neighbourhoods_chart = alt.Chart(top_neighbourhoods).mark_bar().encode(\n",
    "    y=alt.Y(\"neighbourhood_cleansed:N\", title=\"Neighbourhood\", sort=\"-x\"),\n",
    "    x=alt.X(\"price:Q\", title=\"Average Price (USD)\"),\n",
    "    color=alt.Color(\"neighbourhood_group_cleansed:N\", legend=alt.Legend(title=\"Neighbourhood Group\")),\n",
    "    tooltip=[\"neighbourhood_cleansed\", \"price\"]\n",
    ").properties(title=\"Top 20 Neighbourhoods by Average Price\")\n",
    "\n",
    "geo_bar & top_neighbourhoods_chart"
   ]
  },
  {
   "cell_type": "markdown",
   "metadata": {},
   "source": [
    "On average, Manhatten seems to be the most expensive neighbourhood group to rent, which makes sense due to its central location in NYC. Many of the most expensive neighbourhoods are therefore in Manhattan. \n",
    "\n",
    "A notable observation is that two neighbourhoods in Staten Island seem to be, on average, the most expensive neighbourhoods in New York."
   ]
  },
  {
   "cell_type": "code",
   "execution_count": 17,
   "metadata": {},
   "outputs": [
    {
     "data": {
      "application/vnd.vegalite.v5+json": {
       "$schema": "https://vega.github.io/schema/vega-lite/v5.20.1.json",
       "config": {
        "view": {
         "continuousHeight": 300,
         "continuousWidth": 300
        }
       },
       "data": {
        "format": {
         "type": "json"
        },
        "url": "altairdata/altair-data-778af7bb546f3c37558392c896c23c02.json"
       },
       "encoding": {
        "color": {
         "field": "price",
         "scale": {
          "scheme": "reds"
         },
         "type": "quantitative"
        },
        "tooltip": [
         {
          "field": "latitude",
          "type": "quantitative"
         },
         {
          "field": "longitude",
          "type": "quantitative"
         },
         {
          "field": "price",
          "type": "quantitative"
         }
        ],
        "x": {
         "field": "longitude",
         "scale": {
          "zero": false
         },
         "title": "Longitude",
         "type": "quantitative"
        },
        "y": {
         "field": "latitude",
         "scale": {
          "zero": false
         },
         "title": "Latitude",
         "type": "quantitative"
        }
       },
       "mark": {
        "opacity": 0.5,
        "size": 60,
        "type": "circle"
       },
       "title": "Geospatial Impact on Price"
      },
      "text/plain": [
       "<VegaLite 5 object>\n",
       "\n",
       "If you see this message, it means the renderer has not been properly enabled\n",
       "for the frontend that you are using. For more information, see\n",
       "https://altair-viz.github.io/user_guide/display_frontends.html#troubleshooting\n"
      ]
     },
     "execution_count": 17,
     "metadata": {},
     "output_type": "execute_result"
    }
   ],
   "source": [
    "geo_chart = alt.Chart(df_cleaned).mark_circle(size=60, opacity=0.5).encode(\n",
    "    x=alt.X(\"longitude:Q\", title=\"Longitude\", scale=alt.Scale(zero=False)),\n",
    "    y=alt.Y(\"latitude:Q\", title=\"Latitude\", scale=alt.Scale(zero=False)),\n",
    "    color=alt.Color(\"price:Q\", scale=alt.Scale(scheme=\"reds\")),\n",
    "    tooltip=[\"latitude\", \"longitude\", \"price\"]\n",
    ").properties(title=\"Geospatial Impact on Price\")\n",
    "\n",
    "geo_chart"
   ]
  },
  {
   "cell_type": "markdown",
   "metadata": {},
   "source": [
    "This map seems to resemble the layout of NYC, if compared to NYC on a map. However, the price as a colour does not seem to be helping us see any patterns. Since the most expensive neighbourhood, on average, is $600 a night, let us filter the dataset to see prices below that to understand the patterns a bit more."
   ]
  },
  {
   "cell_type": "code",
   "execution_count": 18,
   "metadata": {},
   "outputs": [
    {
     "data": {
      "application/vnd.vegalite.v5+json": {
       "$schema": "https://vega.github.io/schema/vega-lite/v5.20.1.json",
       "config": {
        "view": {
         "continuousHeight": 300,
         "continuousWidth": 300
        }
       },
       "data": {
        "format": {
         "type": "json"
        },
        "url": "altairdata/altair-data-1c2c32ccf06bb21eb76662a4586f8149.json"
       },
       "hconcat": [
        {
         "encoding": {
          "color": {
           "field": "price",
           "scale": {
            "scheme": "reds"
           },
           "type": "quantitative"
          },
          "tooltip": [
           {
            "field": "latitude",
            "type": "quantitative"
           },
           {
            "field": "longitude",
            "type": "quantitative"
           },
           {
            "field": "price",
            "type": "quantitative"
           }
          ],
          "x": {
           "field": "longitude",
           "scale": {
            "zero": false
           },
           "title": "Longitude",
           "type": "quantitative"
          },
          "y": {
           "field": "latitude",
           "scale": {
            "zero": false
           },
           "title": "Latitude",
           "type": "quantitative"
          }
         },
         "mark": {
          "opacity": 0.5,
          "size": 60,
          "type": "circle"
         },
         "title": "Geospatial Impact on Price (≤ 1000)"
        },
        {
         "encoding": {
          "color": {
           "field": "neighbourhood_group_cleansed",
           "type": "nominal"
          },
          "tooltip": [
           {
            "field": "latitude",
            "type": "quantitative"
           },
           {
            "field": "longitude",
            "type": "quantitative"
           },
           {
            "field": "neighbourhood_group_cleansed",
            "type": "nominal"
           }
          ],
          "x": {
           "field": "longitude",
           "scale": {
            "zero": false
           },
           "title": "Longitude",
           "type": "quantitative"
          },
          "y": {
           "field": "latitude",
           "scale": {
            "zero": false
           },
           "title": "Latitude",
           "type": "quantitative"
          }
         },
         "mark": {
          "opacity": 0.5,
          "size": 60,
          "type": "circle"
         },
         "title": "Map of Neighbourhood Groups"
        }
       ]
      },
      "text/plain": [
       "<VegaLite 5 object>\n",
       "\n",
       "If you see this message, it means the renderer has not been properly enabled\n",
       "for the frontend that you are using. For more information, see\n",
       "https://altair-viz.github.io/user_guide/display_frontends.html#troubleshooting\n"
      ]
     },
     "execution_count": 18,
     "metadata": {},
     "output_type": "execute_result"
    }
   ],
   "source": [
    "# Filter dataset to include prices up to 2000\n",
    "df_filtered = df_cleaned[df_cleaned[\"price\"] <= 650]\n",
    "\n",
    "# Create geospatial chart\n",
    "geo_chart2 = alt.Chart(df_filtered).mark_circle(size=60, opacity=0.5).encode(\n",
    "    x=alt.X(\"longitude:Q\", title=\"Longitude\", scale=alt.Scale(zero=False)),\n",
    "    y=alt.Y(\"latitude:Q\", title=\"Latitude\", scale=alt.Scale(zero=False)),\n",
    "    color=alt.Color(\"price:Q\", scale=alt.Scale(scheme=\"reds\")),\n",
    "    tooltip=[\"latitude\", \"longitude\", \"price\"]\n",
    ").properties(title=\"Geospatial Impact on Price (≤ 1000)\")\n",
    "\n",
    "# Create geospatial chart\n",
    "geo_chart3 = alt.Chart(df_filtered).mark_circle(size=60, opacity=0.5).encode(\n",
    "    x=alt.X(\"longitude:Q\", title=\"Longitude\", scale=alt.Scale(zero=False)),\n",
    "    y=alt.Y(\"latitude:Q\", title=\"Latitude\", scale=alt.Scale(zero=False)),\n",
    "    color=alt.Color(\"neighbourhood_group_cleansed:N\"),\n",
    "    tooltip=[\"latitude\", \"longitude\", \"neighbourhood_group_cleansed\"]\n",
    ").properties(title=\"Map of Neighbourhood Groups\")\n",
    "\n",
    "geo_chart2 | geo_chart3"
   ]
  },
  {
   "cell_type": "markdown",
   "metadata": {},
   "source": [
    "This makes a lot more sense. If compared to New York on a map, once can see that Manhattan, on average, seems to have more expensive listings. Perhaps creating a map using this data would be helpful in identifying more complex patterns in price later on."
   ]
  },
  {
   "cell_type": "code",
   "execution_count": 19,
   "metadata": {},
   "outputs": [
    {
     "data": {
      "application/vnd.vegalite.v5+json": {
       "$schema": "https://vega.github.io/schema/vega-lite/v5.20.1.json",
       "config": {
        "view": {
         "continuousHeight": 300,
         "continuousWidth": 300
        }
       },
       "data": {
        "format": {
         "type": "json"
        },
        "url": "altairdata/altair-data-778af7bb546f3c37558392c896c23c02.json"
       },
       "encoding": {
        "color": {
         "field": "review_scores_rating",
         "type": "quantitative"
        },
        "x": {
         "bin": {
          "maxbins": 20
         },
         "field": "reviews_per_month",
         "title": "Average Reviews Per Month",
         "type": "quantitative"
        },
        "y": {
         "aggregate": "mean",
         "field": "price",
         "title": "Average Price (USD)",
         "type": "quantitative"
        }
       },
       "mark": {
        "type": "bar"
       },
       "title": "Average Reviews vs Price"
      },
      "text/plain": [
       "<VegaLite 5 object>\n",
       "\n",
       "If you see this message, it means the renderer has not been properly enabled\n",
       "for the frontend that you are using. For more information, see\n",
       "https://altair-viz.github.io/user_guide/display_frontends.html#troubleshooting\n"
      ]
     },
     "execution_count": 19,
     "metadata": {},
     "output_type": "execute_result"
    }
   ],
   "source": [
    "# Reviews correlation with pricing\n",
    "reviews_bar = alt.Chart(df_cleaned).mark_bar().encode(\n",
    "    x=alt.X(\"reviews_per_month\", title=\"Average Reviews Per Month\", bin=alt.BinParams(maxbins=20)),\n",
    "    y=alt.Y(\"mean(price):Q\", title=\"Average Price (USD)\"),\n",
    "    color=\"review_scores_rating:Q\"\n",
    ").properties(title=\"Average Reviews vs Price\")\n",
    "\n",
    "reviews_bar"
   ]
  },
  {
   "cell_type": "markdown",
   "metadata": {},
   "source": [
    "As average reviews per month increases, the average price decreases. This could be for a number of reasons. Having less reviews in one month indicates less demand, perhaps due to higher prices and unaffordability. More complicated charts could be designed to understand why this could be a pattern."
   ]
  },
  {
   "cell_type": "code",
   "execution_count": 20,
   "metadata": {},
   "outputs": [
    {
     "data": {
      "application/vnd.vegalite.v5+json": {
       "$schema": "https://vega.github.io/schema/vega-lite/v5.20.1.json",
       "config": {
        "view": {
         "continuousHeight": 300,
         "continuousWidth": 300
        }
       },
       "data": {
        "format": {
         "type": "json"
        },
        "url": "altairdata/altair-data-778af7bb546f3c37558392c896c23c02.json"
       },
       "hconcat": [
        {
         "encoding": {
          "tooltip": [
           {
            "field": "availability_365",
            "type": "quantitative"
           },
           {
            "aggregate": "mean",
            "field": "price",
            "type": "quantitative"
           }
          ],
          "x": {
           "bin": {
            "maxbins": 20
           },
           "field": "availability_365",
           "title": "Availability (365 days)",
           "type": "ordinal"
          },
          "y": {
           "aggregate": "mean",
           "field": "price",
           "title": "Average Price (USD)",
           "type": "quantitative"
          }
         },
         "mark": {
          "type": "bar"
         },
         "title": "Availability vs Pricing Strategies"
        },
        {
         "encoding": {
          "tooltip": [
           {
            "field": "minimum_nights",
            "type": "quantitative"
           },
           {
            "aggregate": "mean",
            "field": "price",
            "type": "quantitative"
           }
          ],
          "x": {
           "bin": {
            "maxbins": 30
           },
           "field": "minimum_nights",
           "title": "Minimum Nights",
           "type": "ordinal"
          },
          "y": {
           "aggregate": "mean",
           "field": "price",
           "title": "Average Price (USD)",
           "type": "quantitative"
          }
         },
         "mark": {
          "type": "bar"
         },
         "title": "Pricing Strategies: Minimum Nights"
        }
       ]
      },
      "text/plain": [
       "<VegaLite 5 object>\n",
       "\n",
       "If you see this message, it means the renderer has not been properly enabled\n",
       "for the frontend that you are using. For more information, see\n",
       "https://altair-viz.github.io/user_guide/display_frontends.html#troubleshooting\n"
      ]
     },
     "execution_count": 20,
     "metadata": {},
     "output_type": "execute_result"
    }
   ],
   "source": [
    "availability_bar = alt.Chart(df_cleaned).mark_bar().encode(\n",
    "    x=alt.X(\"availability_365:O\", title=\"Availability (365 days)\", bin=alt.BinParams(maxbins=20)),\n",
    "    y=alt.Y(\"mean(price):Q\", title=\"Average Price (USD)\"),\n",
    "    tooltip=[\"availability_365\", \"mean(price)\"]\n",
    ").properties(title=\"Availability vs Pricing Strategies\")\n",
    "\n",
    "availability_chart = alt.Chart(df_cleaned).mark_bar().encode(\n",
    "    x=alt.X(\"minimum_nights:O\", title=\"Minimum Nights\", bin=alt.BinParams(maxbins=30)),\n",
    "    y=alt.Y(\"mean(price):Q\", title=\"Average Price (USD)\"),\n",
    "    tooltip=[\"minimum_nights\", \"mean(price):Q\"]\n",
    ").properties(title=\"Pricing Strategies: Minimum Nights\")\n",
    "\n",
    "availability_bar | availability_chart"
   ]
  },
  {
   "cell_type": "markdown",
   "metadata": {},
   "source": [
    "- For availability, we see that the price remains quite uniform regardless of the annual availability of a listing, except for 100-120 days. This may be an outlier due to data imbalance, however more evidence is required to justify this trend\n",
    "- For minimum nights, we see that 0-50 minimum night listings have the highest average price and more than 50 minimum nights have lower average prices. This makes sense as short-term rentals like hotel rooms would logically be more expensive than long-term rentals who may provide discounts to long-term renters."
   ]
  },
  {
   "cell_type": "markdown",
   "metadata": {},
   "source": [
    "# Task Analysis\n",
    "\n",
    "## Key Research Questions and Task Mapping\n",
    "\n",
    "### **1. How does room type impact price variations?**\n",
    "- **Retrieve Value**: Extract `room_type` and `price`.\n",
    "- **Characterize Distribution**: Visualize the spread of prices for different room types.\n",
    "- **Find Extremum**: Identify the most and least expensive room types.\n",
    "- **Sort**: Rank room types by average price.\n",
    "- **Visualizations:**\n",
    "  - Box plot of room type vs. price.\n",
    "  - Bar chart of average price per room type.\n",
    "\n",
    "### **2. What is the effect of location (neighborhood group, latitude, and longitude) on price differences?**\n",
    "- **Retrieve Value**: Extract `neighbourhood_group_cleansed`, `latitude`, `longitude`, and `price`.\n",
    "- **Characterize Distribution**: Visualize price variations across different locations.\n",
    "- **Determine Range**: Identify areas with the highest and lowest price variations.\n",
    "- **Find Anomalies**: Detect outlier neighborhoods with extreme pricing.\n",
    "- **Visualizations:**\n",
    "  - Geographic heatmap of price by location.\n",
    "  - Bar chart of average price per neighborhood group.\n",
    "  - Scatter plot of latitude vs. longitude colored by price.\n",
    "\n",
    "### **3. Does the host's listing count or years of hosting (host_since) influence listing prices?**\n",
    "- **Retrieve Value**: Extract `host_since`, `host_listings_count`, and `price`.\n",
    "- **Compute Derived Value**: Calculate host tenure (years since `host_since`).\n",
    "- **Find Anomalies**: Identify whether long-time hosts charge significantly higher or lower prices.\n",
    "- **Correlate**: Analyze the relationship between host tenure/listing count and pricing.\n",
    "- **Visualizations:**\n",
    "  - Line chart of years of hosting vs. average price.\n",
    "  - Scatter plot of host listing count vs. price.\n",
    "  - Bar chart of price variations by host listing count.\n",
    "\n",
    "### **4. How do reviews per month, review scores, and the total number of reviews correlate with pricing?**\n",
    "- **Retrieve Value**: Extract `reviews_per_month`, `review_scores_rating`, `number_of_reviews`, and `price`.\n",
    "- **Characterize Distribution**: Examine how review frequency and ratings relate to pricing.\n",
    "- **Find Extremum**: Identify listings with the highest/lowest review scores and their price trends.\n",
    "- **Correlate**: Analyze the impact of reviews on pricing.\n",
    "- **Visualizations:**\n",
    "  - Binned bar chart of reviews per month vs. average price.\n",
    "  - Scatter plot of review scores vs. price.\n",
    "  - Correlation heatmap of reviews and pricing-related attributes.\n",
    "\n",
    "### **5. What role does availability over 365 days and minimum nights play in pricing strategies?**\n",
    "- **Retrieve Value**: Extract `availability_365`, `minimum_nights`, and `price`.\n",
    "- **Find Extremum**: Identify listings with extreme availability values and their pricing strategies.\n",
    "- **Filter**: Compare listings with low and high availability.\n",
    "- **Sort**: Rank availability and minimum night requirements by price.\n",
    "- **Visualizations:**\n",
    "  - Scatter plot of availability_365 vs. price.\n",
    "  - Bar chart of minimum nights vs. average price.\n",
    "  - Grouped bar chart of pricing trends for different availability levels."
   ]
  }
 ],
 "metadata": {
  "kernelspec": {
   "display_name": "cpsc330",
   "language": "python",
   "name": "python3"
  },
  "language_info": {
   "codemirror_mode": {
    "name": "ipython",
    "version": 3
   },
   "file_extension": ".py",
   "mimetype": "text/x-python",
   "name": "python",
   "nbconvert_exporter": "python",
   "pygments_lexer": "ipython3",
   "version": "3.12.0"
  }
 },
 "nbformat": 4,
 "nbformat_minor": 4
}
